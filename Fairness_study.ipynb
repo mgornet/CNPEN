{
 "cells": [
  {
   "cell_type": "markdown",
   "metadata": {
    "id": "cq6PdPGN4DJu"
   },
   "source": [
    "# Triplet Loss with Faces -- Fairness Study"
   ]
  },
  {
   "cell_type": "markdown",
   "metadata": {},
   "source": [
    "## Initialization"
   ]
  },
  {
   "cell_type": "code",
   "execution_count": 1,
   "metadata": {
    "id": "2r4GrySt26Q-",
    "outputId": "4890c780-31f1-4532-d4a7-64f7412ea780",
    "tags": []
   },
   "outputs": [],
   "source": [
    "# !pip install torch"
   ]
  },
  {
   "cell_type": "code",
   "execution_count": 2,
   "metadata": {
    "id": "elsPIhAzrPL-",
    "outputId": "486d7b03-5889-4c28-c71e-b1e169f7e026",
    "tags": []
   },
   "outputs": [],
   "source": [
    "# !pip install mat73"
   ]
  },
  {
   "cell_type": "code",
   "execution_count": 3,
   "metadata": {
    "id": "FyTWhJXMpRex",
    "outputId": "dcfa38a7-4bd7-4b6b-e6b4-d96298974042",
    "tags": []
   },
   "outputs": [],
   "source": [
    "# !pip install wandb -qqq\n",
    "# import wandb"
   ]
  },
  {
   "cell_type": "code",
   "execution_count": 4,
   "metadata": {
    "id": "N2ZqMDMrKeFi",
    "outputId": "6ddb3d01-83e5-4bb2-a378-54748c3c742c",
    "tags": []
   },
   "outputs": [],
   "source": [
    "# !git clone https://github.com/mgornet/CNPEN"
   ]
  },
  {
   "cell_type": "markdown",
   "metadata": {
    "id": "MW_MVwhYwRiH"
   },
   "source": [
    "### Check device"
   ]
  },
  {
   "cell_type": "code",
   "execution_count": 5,
   "metadata": {
    "id": "zruTnsd7wTz6",
    "outputId": "66c9d4a5-2768-45b6-d901-16ab0b7d9081",
    "tags": []
   },
   "outputs": [
    {
     "name": "stdout",
     "output_type": "stream",
     "text": [
      "Tue Nov 22 13:06:19 2022       \n",
      "+-----------------------------------------------------------------------------+\n",
      "| NVIDIA-SMI 510.85.02    Driver Version: 510.85.02    CUDA Version: 11.6     |\n",
      "|-------------------------------+----------------------+----------------------+\n",
      "| GPU  Name        Persistence-M| Bus-Id        Disp.A | Volatile Uncorr. ECC |\n",
      "| Fan  Temp  Perf  Pwr:Usage/Cap|         Memory-Usage | GPU-Util  Compute M. |\n",
      "|                               |                      |               MIG M. |\n",
      "|===============================+======================+======================|\n",
      "|   0  NVIDIA RTX A400...  Off  | 00000000:01:00.0  On |                  N/A |\n",
      "| N/A   59C    P8    21W /  N/A |    545MiB /  8192MiB |      5%      Default |\n",
      "|                               |                      |                  N/A |\n",
      "+-------------------------------+----------------------+----------------------+\n",
      "                                                                               \n",
      "+-----------------------------------------------------------------------------+\n",
      "| Processes:                                                                  |\n",
      "|  GPU   GI   CI        PID   Type   Process name                  GPU Memory |\n",
      "|        ID   ID                                                   Usage      |\n",
      "|=============================================================================|\n",
      "|    0   N/A  N/A      1756      G   /usr/lib/xorg/Xorg                 65MiB |\n",
      "|    0   N/A  N/A      2625      G   /usr/lib/xorg/Xorg                217MiB |\n",
      "|    0   N/A  N/A      2754      G   /usr/bin/gnome-shell               56MiB |\n",
      "|    0   N/A  N/A      6474      G   ...411073793531784828,131072      194MiB |\n",
      "+-----------------------------------------------------------------------------+\n"
     ]
    }
   ],
   "source": [
    "!nvidia-smi"
   ]
  },
  {
   "cell_type": "markdown",
   "metadata": {
    "id": "IJK8gGmS4dsb"
   },
   "source": [
    "### Import Librairies"
   ]
  },
  {
   "cell_type": "code",
   "execution_count": 6,
   "metadata": {
    "id": "JyM1GtzC2_zh",
    "tags": []
   },
   "outputs": [],
   "source": [
    "import numpy as np\n",
    "import random\n",
    "import matplotlib.pyplot as plt\n",
    "from tqdm.notebook import tqdm\n",
    "from time import perf_counter\n",
    "from typing import Callable\n",
    "import itertools\n",
    "import mat73\n",
    "import pandas as pd\n",
    "import re\n",
    "\n",
    "import sys\n",
    "import os\n",
    "import tarfile\n",
    "\n",
    "from sklearn.datasets import load_digits\n",
    "from sklearn.model_selection import train_test_split\n",
    "\n",
    "import torch\n",
    "from torch import nn, optim\n",
    "import torch.nn.functional as F\n",
    "\n",
    "from torch.utils.data import DataLoader, Dataset\n",
    "from torchvision import datasets, transforms\n",
    "\n",
    "import os.path as op\n",
    "try:\n",
    "    from urllib.request import urlretrieve\n",
    "except ImportError:  # Python 2 compat\n",
    "    from urllib import urlretrieve\n",
    "    \n",
    "from sklearn.metrics import confusion_matrix, auc, roc_curve, \\\n",
    "precision_recall_curve, accuracy_score, f1_score\n",
    "from sklearn.linear_model import LogisticRegression\n",
    "from scipy import optimize\n",
    "\n",
    "import wandb"
   ]
  },
  {
   "cell_type": "code",
   "execution_count": 7,
   "metadata": {
    "id": "ix4Yn3BoLNfx",
    "outputId": "7947880c-ab47-4393-c5d6-be37199febe6",
    "tags": []
   },
   "outputs": [
    {
     "name": "stdout",
     "output_type": "stream",
     "text": [
      "/home/mgornet/Bureau/Code/CNPEN/files\n"
     ]
    }
   ],
   "source": [
    "%cd ./files/\n",
    "\n",
    "from triplet import TripletGenerator, TripletLearner, TripletLoss, TripletLossRaw, \\\n",
    "distance, distance_vectors\n",
    "from builder import create_dataframe, from_tensor_to_numpy, from_numpy_to_tensor, extend_dataframe\n",
    "from prints import print_img, print_img_from_path, print_img_from_id, \\\n",
    "print_img_from_classid, print_from_gen, print_from_gen2, print_pair, print_hist_loss, \\\n",
    "print_hist_dist, print_hist_dist_zoom, print_img_category, \\\n",
    "print_roc, print_logistic_regression, print_prec_recall\n",
    "from test_train_loops import training, testing, adaptative_train, compute_distances\n",
    "from classification import authentification_img, predict, triplet_acc,\\\n",
    "build_df_fairness, triplet_acc_fairness, bootstrap, bootstrap_by_pairs, build_threshold #triplet_acc_for_bootstrap"
   ]
  },
  {
   "cell_type": "code",
   "execution_count": 8,
   "metadata": {
    "id": "dNWBFp1aLev5",
    "outputId": "780215a4-2505-447d-86e6-385dd44f016e",
    "tags": []
   },
   "outputs": [
    {
     "name": "stdout",
     "output_type": "stream",
     "text": [
      "/home/mgornet/Bureau/Code/CNPEN/files\n"
     ]
    }
   ],
   "source": [
    "!pwd"
   ]
  },
  {
   "cell_type": "code",
   "execution_count": 9,
   "metadata": {},
   "outputs": [],
   "source": [
    "study = 'sampling'\n",
    "if study not in ['sampling','augmentation', 'normalization', 'depth', 'margin', 'lr', 'threshold']:\n",
    "    print(\"The study name is incorrect, please select between: sampling, normalization, augmentation, depth, margin, lr, threshold\")"
   ]
  },
  {
   "cell_type": "code",
   "execution_count": 10,
   "metadata": {},
   "outputs": [
    {
     "name": "stdout",
     "output_type": "stream",
     "text": [
      "Seeds set for fairness phase\n"
     ]
    }
   ],
   "source": [
    "seed = 121\n",
    "random.seed(seed)\n",
    "np.random.seed(seed)\n",
    "torch.manual_seed(seed)\n",
    "torch.cuda.manual_seed(seed)\n",
    "torch.backends.cudnn.deterministic = True\n",
    "print ('Seeds set for fairness phase')"
   ]
  },
  {
   "cell_type": "markdown",
   "metadata": {
    "id": "Hp8S6_Nu4muA"
   },
   "source": [
    "## Generate Data"
   ]
  },
  {
   "cell_type": "markdown",
   "metadata": {},
   "source": [
    "### Create dataframe"
   ]
  },
  {
   "cell_type": "code",
   "execution_count": 11,
   "metadata": {
    "id": "0HQV0dwQiLvS",
    "outputId": "343cfafa-cadf-4554-f5a1-90e52f96afca",
    "tags": []
   },
   "outputs": [],
   "source": [
    "URL = \"http://vis-www.cs.umass.edu/lfw/lfw-deepfunneled.tgz\"\n",
    "FILENAME = \"lfw-deepfunneled.tgz\"\n",
    "\n",
    "if not op.exists(FILENAME):\n",
    "    print('Downloading %s to %s...' % (URL, FILENAME))\n",
    "    urlretrieve(URL, FILENAME)\n",
    "\n",
    "if not op.exists(\"lfw\"):\n",
    "    print('Extracting image files...')\n",
    "    tar = tarfile.open(\"lfw-deepfunneled.tgz\")\n",
    "    tar.extractall(\"lfw\")\n",
    "    tar.close()"
   ]
  },
  {
   "cell_type": "code",
   "execution_count": 12,
   "metadata": {
    "id": "jtFwuCt4iSgy",
    "tags": []
   },
   "outputs": [],
   "source": [
    "PATH = \"lfw/lfw-deepfunneled/\""
   ]
  },
  {
   "cell_type": "code",
   "execution_count": 13,
   "metadata": {
    "id": "pW3OOgQXOLa-",
    "outputId": "8cb4ccff-40ca-44aa-b9f0-3e7244731cfe",
    "tags": []
   },
   "outputs": [
    {
     "name": "stdout",
     "output_type": "stream",
     "text": [
      "Number of individuals:  5749\n",
      "Number of total images:  13233\n",
      "images weigh  0.57 GB\n",
      "DataFrame creation: 1.3 min\n"
     ]
    }
   ],
   "source": [
    "tic = perf_counter()\n",
    "df_init, all_imgs = create_dataframe()\n",
    "toc = perf_counter()\n",
    "print(f\"DataFrame creation: {((toc - tic)/60):.1f} min\")"
   ]
  },
  {
   "cell_type": "code",
   "execution_count": 14,
   "metadata": {
    "tags": []
   },
   "outputs": [
    {
     "name": "stdout",
     "output_type": "stream",
     "text": [
      "DataFrame extention: 0.1 min\n"
     ]
    }
   ],
   "source": [
    "tic = perf_counter()\n",
    "df = extend_dataframe(df_init)\n",
    "toc = perf_counter()\n",
    "print(f\"DataFrame extention: {((toc - tic)/60):.1f} min\")"
   ]
  },
  {
   "cell_type": "markdown",
   "metadata": {
    "id": "gjPcX2sdTQz4"
   },
   "source": [
    "### Build sets, generators and network"
   ]
  },
  {
   "cell_type": "code",
   "execution_count": 15,
   "metadata": {
    "id": "9YhsU5iYDx0c",
    "outputId": "fe319f34-b66f-4601-d05c-25dabcaa1656",
    "tags": []
   },
   "outputs": [
    {
     "name": "stdout",
     "output_type": "stream",
     "text": [
      "Number of individuals:  5749\n"
     ]
    }
   ],
   "source": [
    "num_classes = len(df.Classid.unique())\n",
    "print(\"Number of individuals: \", num_classes)"
   ]
  },
  {
   "cell_type": "code",
   "execution_count": 16,
   "metadata": {
    "id": "SX80fCGkn702",
    "tags": []
   },
   "outputs": [],
   "source": [
    "indiv_min = df.Classid.min()\n",
    "split_train_valid = int(num_classes * 0.75)\n",
    "split_train_test = int(num_classes * 0.8)\n",
    "indiv_max = df.Classid.max()"
   ]
  },
  {
   "cell_type": "code",
   "execution_count": 17,
   "metadata": {
    "id": "1rHLE3kHcCyp",
    "outputId": "5291153a-b4d0-4bf5-d690-25979aafaeee",
    "tags": []
   },
   "outputs": [],
   "source": [
    "df_train = df[df.Classid<split_train_valid]\n",
    "df_valid = df[(df.Classid>=split_train_valid)]#&(df.Classid<split_train_test)]\n",
    "# df_test = df[df.Classid>=split_train_test]\n",
    "df_test = df_valid"
   ]
  },
  {
   "cell_type": "code",
   "execution_count": 18,
   "metadata": {
    "id": "otF4YNywkl2O",
    "tags": []
   },
   "outputs": [],
   "source": [
    "BATCH_SIZE = 128 # 128\n",
    "BATCH_VALID_SIZE = 59 #128 #8\n",
    "BATCH_TEST_SIZE = 59 #128 #32"
   ]
  },
  {
   "cell_type": "code",
   "execution_count": 19,
   "metadata": {
    "id": "IhO6Pj2q3tnM",
    "tags": []
   },
   "outputs": [],
   "source": [
    "device = torch.device(\"cuda:0\" if torch.cuda.is_available() else \"cpu\")\n",
    "margin = 0.2\n",
    "# criterion = TripletLoss(margin)\n",
    "# criterion_test = TripletLossRaw(margin)"
   ]
  },
  {
   "cell_type": "markdown",
   "metadata": {
    "id": "iSBWwAmCx-0b"
   },
   "source": [
    "### Load Model"
   ]
  },
  {
   "cell_type": "code",
   "execution_count": 20,
   "metadata": {
    "id": "vEb1cNtrx9lD",
    "tags": []
   },
   "outputs": [
    {
     "data": {
      "application/vnd.jupyter.widget-view+json": {
       "model_id": "",
       "version_major": 2,
       "version_minor": 0
      },
      "text/plain": [
       "Processing:   0%|          | 0/70 [00:00<?, ?it/s]"
      ]
     },
     "metadata": {},
     "output_type": "display_data"
    },
    {
     "name": "stdout",
     "output_type": "stream",
     "text": [
      "Threshold with logistic regression: 0.8188939470098427\n"
     ]
    },
    {
     "data": {
      "application/vnd.jupyter.widget-view+json": {
       "model_id": "",
       "version_major": 2,
       "version_minor": 0
      },
      "text/plain": [
       "Epoch:   0%|          | 0/100 [00:00<?, ?it/s]"
      ]
     },
     "metadata": {},
     "output_type": "display_data"
    },
    {
     "name": "stdout",
     "output_type": "stream",
     "text": [
      "DataFrame creation for base model: 0.9 min\n"
     ]
    }
   ],
   "source": [
    "# Load pretrained model\n",
    "\n",
    "model = TripletLearner(base_channels=32)\n",
    "model.load_state_dict(torch.load(\"../models/in_article/base_600.pth\",map_location=torch.device('cpu'))) #../models/in_article/base_model\n",
    "model = model.to(device)\n",
    "model.eval()\n",
    "\n",
    "gen = TripletGenerator(df_test, all_imgs, BATCH_TEST_SIZE, device, model, margin, return_id=True)\n",
    "threshold  = build_threshold(df_valid, all_imgs, device, model, margin, BATCH_VALID_SIZE, True)\n",
    "# threshold = 0.81\n",
    "tic = perf_counter()\n",
    "df_fairness = build_df_fairness(all_imgs, df_test, gen, 100, device, model, threshold) #20\n",
    "toc = perf_counter()\n",
    "print(f\"DataFrame creation for base model: {((toc - tic)/60):.1f} min\")"
   ]
  },
  {
   "cell_type": "markdown",
   "metadata": {},
   "source": [
    "### Look at general stats"
   ]
  },
  {
   "cell_type": "code",
   "execution_count": 21,
   "metadata": {
    "tags": []
   },
   "outputs": [
    {
     "name": "stdout",
     "output_type": "stream",
     "text": [
      "Same identity - mean distance:  0.41062342889921527\n",
      "Same identity - std distance:  0.3182634921076271\n",
      "Same identity - percentiles:  [0.07538106 0.18372968 0.32657677 0.54138064 1.07304049]\n",
      "\n",
      "\n",
      "Different identities - mean distance:  1.7830244032719305\n",
      "Different identities - std distance:  1.046626464909062\n",
      "Different identities - percentiles:  [0.43529592 1.00918069 1.58684838 2.35388315 3.79953626]\n",
      "\n",
      "\n",
      "Mean accuracy:  0.8680629539951574\n",
      "Bootstrapping mean accuracy:  [0.86610169 0.8672155  0.86801453 0.86881356 0.86991525]\n",
      "\n",
      "\n",
      "Triplet accuracy:  0.936319612590799\n"
     ]
    }
   ],
   "source": [
    "print(\"Same identity - mean distance: \", df_fairness[df_fairness.y_true==1].Distance.mean())\n",
    "print(\"Same identity - std distance: \", df_fairness[df_fairness.y_true==1].Distance.std())\n",
    "print(\"Same identity - percentiles: \", np.percentile(df_fairness[df_fairness.y_true==1]['Distance'], [5,25,50,75,95]))\n",
    "print(\"\\n\")\n",
    "print(\"Different identities - mean distance: \", df_fairness[df_fairness.y_true==0].Distance.mean())\n",
    "print(\"Different identities - std distance: \", df_fairness[df_fairness.y_true==0].Distance.std())\n",
    "print(\"Different identities - percentiles: \", np.percentile(df_fairness[df_fairness.y_true==0]['Distance'], [5,25,50,75,95]))\n",
    "print(\"\\n\")\n",
    "print(\"Mean accuracy: \", df_fairness['correct_predict'].mean())\n",
    "print(\"Bootstrapping mean accuracy: \", bootstrap(df_fairness, agg_func=lambda df: df['correct_predict'].mean()))\n",
    "print(\"\\n\")\n",
    "print(\"Triplet accuracy: \", triplet_acc_fairness(df_fairness))"
   ]
  },
  {
   "cell_type": "code",
   "execution_count": 22,
   "metadata": {
    "tags": []
   },
   "outputs": [
    {
     "data": {
      "image/png": "[encoded data removed]",
      "text/plain": [
       "<Figure size 600x300 with 1 Axes>"
      ]
     },
     "metadata": {
      "needs_background": "light"
     },
     "output_type": "display_data"
    }
   ],
   "source": [
    "pos_dist = df_fairness[df_fairness.y_true==1]['Distance']\n",
    "neg_dist = df_fairness[df_fairness.y_true==0]['Distance']\n",
    "print_hist_dist_zoom(pos_dist, neg_dist, zoom=5.)"
   ]
  },
  {
   "cell_type": "code",
   "execution_count": 23,
   "metadata": {
    "tags": []
   },
   "outputs": [],
   "source": [
    "X = -np.array(df_fairness.Distance)\n",
    "y = np.array(df_fairness.y_true)\n",
    "y_pred = np.array(df_fairness.y_pred)"
   ]
  },
  {
   "cell_type": "code",
   "execution_count": 24,
   "metadata": {
    "tags": []
   },
   "outputs": [],
   "source": [
    "fpr_dist, tpr_dist, thresholds_dist = roc_curve(y, X)\n",
    "roc_auc_dist = auc(fpr_dist,tpr_dist)\n",
    "\n",
    "precision_dist, recall_dist, thresholds_recall_dist = precision_recall_curve(y, X)\n",
    "auc_s_dist = auc(recall_dist, precision_dist)"
   ]
  },
  {
   "cell_type": "code",
   "execution_count": 25,
   "metadata": {
    "tags": []
   },
   "outputs": [
    {
     "data": {
      "image/png": "[encoded data removed]",
      "text/plain": [
       "<Figure size 432x288 with 1 Axes>"
      ]
     },
     "metadata": {
      "needs_background": "light"
     },
     "output_type": "display_data"
    },
    {
     "data": {
      "image/png": "[encoded data removed]",
      "text/plain": [
       "<Figure size 432x288 with 1 Axes>"
      ]
     },
     "metadata": {
      "needs_background": "light"
     },
     "output_type": "display_data"
    }
   ],
   "source": [
    "print_roc(fpr_dist, tpr_dist, roc_auc_dist)\n",
    "print_prec_recall(precision_dist, recall_dist, auc_s_dist)"
   ]
  },
  {
   "cell_type": "code",
   "execution_count": 26,
   "metadata": {
    "tags": []
   },
   "outputs": [],
   "source": [
    "tn,fp,fn,tp = confusion_matrix(y, y_pred).ravel()\n",
    "\n",
    "TPR = tp/(tp+fp)\n",
    "FPR = fp/(tp+fp)\n",
    "TNR = tn/(tn+fn)\n",
    "FNR = fn/(tn+fn)"
   ]
  },
  {
   "cell_type": "code",
   "execution_count": 27,
   "metadata": {
    "tags": []
   },
   "outputs": [
    {
     "name": "stdout",
     "output_type": "stream",
     "text": [
      "Confusion Matrix Total\n",
      "[[34214  7086]\n",
      " [ 3812 37488]]\n",
      "\n",
      " Accuracy score: 0.8680629539951574\n",
      "\n",
      " f1 score: 0.8730931364557375 \n",
      "\n",
      "TPR:  0.8410284022075649\n",
      "FPR:  0.15897159779243505\n",
      "TNR:  0.8997528007153001\n",
      "FNR:  0.10024719928469994\n"
     ]
    }
   ],
   "source": [
    "print(\"Confusion Matrix Total\")\n",
    "print(confusion_matrix(y, y_pred))\n",
    "\n",
    "print(\"\\n\",\"Accuracy score:\",accuracy_score(y, y_pred))\n",
    " \n",
    "print(\"\\n\", \"f1 score:\", f1_score(y, y_pred), \"\\n\")\n",
    "\n",
    "print('TPR: ', TPR)\n",
    "print('FPR: ', FPR)\n",
    "print('TNR: ', TNR)\n",
    "print('FNR: ', FNR)"
   ]
  },
  {
   "cell_type": "markdown",
   "metadata": {},
   "source": [
    "### Stats in subgroups"
   ]
  },
  {
   "cell_type": "code",
   "execution_count": null,
   "metadata": {},
   "outputs": [],
   "source": [
    "if study == 'sampling':\n",
    "    \n",
    "    model_randomsample = TripletLearner(base_channels=32)\n",
    "    model_randomsample.load_state_dict(torch.load(\"../models/in_article/random_sample_600.pth\",map_location=torch.device('cpu')))\n",
    "    model_randomsample = model_randomsample.to(device)\n",
    "    model_randomsample.eval()\n",
    "    \n",
    "    gen_randomsample = TripletGenerator(df_test, all_imgs, BATCH_TEST_SIZE, device, model_randomsample, 0.2, return_id=True)\n",
    "    threshold_randomsample  = build_threshold(df_valid, all_imgs, device, model_randomsample, 0.2, BATCH_VALID_SIZE, True)\n",
    "    tic = perf_counter()\n",
    "    df_fairness_randomsample = build_df_fairness(all_imgs, df_test, gen_randomsample, 20, device, model_randomsample, threshold_randomsample)\n",
    "    toc = perf_counter()\n",
    "    print(f\"DataFrame creation for model random sampling: {((toc - tic)/60):.1f} min\")\n",
    "\n",
    "elif study == 'normalization':\n",
    "    \n",
    "    model_normalized = TripletLearner(base_channels=32)\n",
    "    model_normalized.load_state_dict(torch.load(\"../models/in_article/normalized_600.pth\",map_location=torch.device('cpu')))\n",
    "    model_normalized = model_normalized.to(device)\n",
    "    model_normalized.eval()\n",
    "    \n",
    "    gen_normalized = TripletGenerator(df_test, all_imgs, BATCH_TEST_SIZE, device, model_normalized, 0.2, return_id=True)\n",
    "    threshold_normalized  = build_threshold(df_valid, all_imgs, device, model_normalized, 0.2, BATCH_VALID_SIZE, True)\n",
    "    tic = perf_counter()\n",
    "    df_fairness_normalized = build_df_fairness(all_imgs, df_test, gen_normalized, 20, device, model_normalized, threshold_normalized)\n",
    "    toc = perf_counter()\n",
    "    print(f\"DataFrame creation for model random sampling: {((toc - tic)/60):.1f} min\")\n",
    "    \n",
    "elif study == 'augmentation':\n",
    "    model_no_augment = TripletLearner(base_channels=32)\n",
    "    model_no_augment.load_state_dict(torch.load(\"../models/in_article/no_augment_600.pth\",map_location=torch.device('cpu')))\n",
    "    model_no_augment = model_no_augment.to(device)\n",
    "    model_no_augment.eval()\n",
    "    \n",
    "    gen_no_augment = TripletGenerator(df_test, all_imgs, BATCH_TEST_SIZE, device, model_no_augment, 0.2, return_id=True)\n",
    "    threshold_no_augment  = build_threshold(df_valid, all_imgs, device, model_no_augment, 0.2, BATCH_VALID_SIZE, True)\n",
    "    tic = perf_counter()\n",
    "    df_fairness_no_augment = build_df_fairness(all_imgs, df_test, gen_no_augment, 20, device, model_no_augment, threshold_no_augment)\n",
    "    toc = perf_counter()\n",
    "    print(f\"DataFrame creation for model no augmentation: {((toc - tic)/60):.1f} min\")\n",
    "    \n",
    "    model_high_zoom = TripletLearner(base_channels=32)\n",
    "    model_high_zoom.load_state_dict(torch.load(\"../models/in_article/high_zoom_600.pth\",map_location=torch.device('cpu')))\n",
    "    model_high_zoom = model_high_zoom.to(device)\n",
    "    model_high_zoom.eval()\n",
    "    \n",
    "    gen_high_zoom = TripletGenerator(df_test, all_imgs, BATCH_TEST_SIZE, device, model_high_zoom, 0.2, return_id=True)\n",
    "    threshold_high_zoom  = build_threshold(df_valid, all_imgs, device, model_high_zoom, 0.2, BATCH_VALID_SIZE, True)\n",
    "    tic = perf_counter()\n",
    "    df_fairness_high_zoom = build_df_fairness(all_imgs, df_test, gen_high_zoom, 20, device, model_high_zoom, threshold_high_zoom)\n",
    "    toc = perf_counter()\n",
    "    print(f\"DataFrame creation for model high zoom: {((toc - tic)/60):.1f} min\")\n",
    "    \n",
    "    model_deformation_double = TripletLearner(base_channels=32)\n",
    "    model_deformation_double.load_state_dict(torch.load(\"../models/in_article/deformation_double_600.pth\",map_location=torch.device('cpu')))\n",
    "    model_deformation_double = model_deformation_double.to(device)\n",
    "    model_deformation_double.eval()\n",
    "    \n",
    "    gen_deformation_double = TripletGenerator(df_test, all_imgs, BATCH_TEST_SIZE, device, model_deformation_double, 0.2, return_id=True)\n",
    "    threshold_deformation_double  = build_threshold(df_valid, all_imgs, device, model_deformation_double, 0.2, BATCH_VALID_SIZE, True)\n",
    "    tic = perf_counter()\n",
    "    df_fairness_deformation_double = build_df_fairness(all_imgs, df_test, gen_deformation_double, 20, device, model_deformation_double, threshold_deformation_double)\n",
    "    toc = perf_counter()\n",
    "    print(f\"DataFrame creation for model high deformation: {((toc - tic)/60):.1f} min\")\n",
    "    \n",
    "    model_jitter_double = TripletLearner(base_channels=32)\n",
    "    model_jitter_double.load_state_dict(torch.load(\"../models/in_article/jitter_double_600.pth\",map_location=torch.device('cpu')))\n",
    "    model_jitter_double = model_jitter_double.to(device)\n",
    "    model_jitter_double.eval()\n",
    "    \n",
    "    gen_jitter_double = TripletGenerator(df_test, all_imgs, BATCH_TEST_SIZE, device, model_jitter_double, 0.2, return_id=True)\n",
    "    threshold_jitter_double  = build_threshold(df_valid, all_imgs, device, model_jitter_double, 0.2, BATCH_VALID_SIZE, True)\n",
    "    tic = perf_counter()\n",
    "    df_fairness_jitter_double = build_df_fairness(all_imgs, df_test, gen_jitter_double, 20, device, model_jitter_double, threshold_jitter_double)\n",
    "    toc = perf_counter()\n",
    "    print(f\"DataFrame creation for model high color jitter: {((toc - tic)/60):.1f} min\")\n",
    "    \n",
    "    model_high_rotation = TripletLearner(base_channels=32)\n",
    "    model_high_rotation.load_state_dict(torch.load(\"../models/in_article/high_rotation_600.pth\",map_location=torch.device('cpu')))\n",
    "    model_high_rotation = model_high_rotation.to(device)\n",
    "    model_high_rotation.eval()\n",
    "    \n",
    "    gen_high_rotation = TripletGenerator(df_test, all_imgs, BATCH_TEST_SIZE, device, model_high_rotation, 0.2, return_id=True)\n",
    "    threshold_high_rotation  = build_threshold(df_valid, all_imgs, device, model_high_rotation, 0.2, BATCH_VALID_SIZE, True)\n",
    "    tic = perf_counter()\n",
    "    df_fairness_high_rotation = build_df_fairness(all_imgs, df_test, gen_high_rotation, 20, device, model_high_rotation, threshold_high_rotation)\n",
    "    toc = perf_counter()\n",
    "    print(f\"DataFrame creation for model high rotation: {((toc - tic)/60):.1f} min\")\n",
    "    \n",
    "    \n",
    "elif study == 'depth':\n",
    "    model_depth16 = TripletLearner(base_channels=16)\n",
    "    model_depth16.load_state_dict(torch.load(\"../models/in_article/depth16_600.pth\",map_location=torch.device('cpu')))\n",
    "    model_depth16 = model_depth16.to(device)\n",
    "    model_depth16.eval()\n",
    "    \n",
    "    gen_depth16 = TripletGenerator(df_test, all_imgs, BATCH_TEST_SIZE, device, model_depth16, 0.2, return_id=True)\n",
    "    threshold_depth16  = build_threshold(df_valid, all_imgs, device, model_depth16, 0.2, BATCH_VALID_SIZE, True)\n",
    "    tic = perf_counter()\n",
    "    df_fairness_depth16 = build_df_fairness(all_imgs, df_test, gen_depth16, 20, device, model_depth16, threshold_depth16)\n",
    "    toc = perf_counter()\n",
    "    print(f\"DataFrame creation for model depth 16: {((toc - tic)/60):.1f} min\")\n",
    "    \n",
    "    model_depth64 = TripletLearner(base_channels=64)\n",
    "    model_depth64.load_state_dict(torch.load(\"../models/in_article/depth64_600.pth\",map_location=torch.device('cpu')))\n",
    "    model_depth64 = model_depth64.to(device)\n",
    "    model_depth64.eval()\n",
    "    \n",
    "    gen_depth64 = TripletGenerator(df_test, all_imgs, BATCH_TEST_SIZE, device, model_depth64, 0.2, return_id=True)\n",
    "    threshold_depth64  = build_threshold(df_valid, all_imgs, device, model_depth64, 0.2, BATCH_VALID_SIZE, True)\n",
    "    tic = perf_counter()\n",
    "    df_fairness_depth64 = build_df_fairness(all_imgs, df_test, gen_depth64, 20, device, model_depth64, threshold_depth64)\n",
    "    toc = perf_counter()\n",
    "    print(f\"DataFrame creation for model depth 64: {((toc - tic)/60):.1f} min\")\n",
    "\n",
    "elif study == 'margin':\n",
    "    \n",
    "    model_margin01 = TripletLearner(base_channels=32)\n",
    "    model_margin01.load_state_dict(torch.load(\"../models/in_article/margin01_600.pth\",map_location=torch.device('cpu')))\n",
    "    model_margin01 = model_margin01.to(device)\n",
    "    model_margin01.eval()\n",
    "    \n",
    "    gen_margin01 = TripletGenerator(df_test, all_imgs, BATCH_TEST_SIZE, device, model_margin01, 0.1, return_id=True)\n",
    "    threshold_margin01  = build_threshold(df_valid, all_imgs, device, model_margin01, 0.1, BATCH_VALID_SIZE, True)\n",
    "    tic = perf_counter()\n",
    "    df_fairness_margin01 = build_df_fairness(all_imgs, df_test, gen_margin01, 20, device, model_margin01, threshold_margin01)\n",
    "    toc = perf_counter()\n",
    "    print(f\"DataFrame creation for model margin 0.1: {((toc - tic)/60):.1f} min\")\n",
    "    \n",
    "    model_margin05 = TripletLearner(base_channels=32)\n",
    "    model_margin05.load_state_dict(torch.load(\"../models/in_article/margin05_600.pth\",map_location=torch.device('cpu')))\n",
    "    model_margin05 = model_margin05.to(device)\n",
    "    model_margin05.eval()\n",
    "    \n",
    "    gen_margin05 = TripletGenerator(df_test, all_imgs, BATCH_TEST_SIZE, device, model_margin05, 0.5, return_id=True)\n",
    "    threshold_margin05  = build_threshold(df_valid, all_imgs, device, model_margin05, 0.5, BATCH_VALID_SIZE, True)\n",
    "    tic = perf_counter()\n",
    "    df_fairness_margin05 = build_df_fairness(all_imgs, df_test, gen_margin05, 20, device, model_margin05, threshold_margin05)\n",
    "    toc = perf_counter()\n",
    "    print(f\"DataFrame creation for model margin 0.5: {((toc - tic)/60):.1f} min\")\n",
    "\n",
    "    model_margin1 = TripletLearner(base_channels=32)\n",
    "    model_margin1.load_state_dict(torch.load(\"../models/in_article/margin1_600.pth\",map_location=torch.device('cpu')))\n",
    "    model_margin1 = model_margin1.to(device)\n",
    "    model_margin1.eval()\n",
    "    \n",
    "    gen_margin1 = TripletGenerator(df_test, all_imgs, BATCH_TEST_SIZE, device, model_margin1, 1., return_id=True)\n",
    "    threshold_margin1  = build_threshold(df_valid, all_imgs, device, model_margin1, 1., BATCH_VALID_SIZE, True)\n",
    "    tic = perf_counter()\n",
    "    df_fairness_margin1 = build_df_fairness(all_imgs, df_test, gen_margin1, 20, device, model_margin1, threshold_margin1)\n",
    "    toc = perf_counter()\n",
    "    print(f\"DataFrame creation for model margin 1: {((toc - tic)/60):.1f} min\")\n",
    "    \n",
    "elif study == 'lr':\n",
    "    model_lr3 = TripletLearner(base_channels=32)\n",
    "    model_lr3.load_state_dict(torch.load(\"../models/in_article/lr3_600.pth\",map_location=torch.device('cpu')))\n",
    "    model_lr3 = model_lr3.to(device)\n",
    "    model_lr3.eval()\n",
    "    \n",
    "    gen_lr3 = TripletGenerator(df_test, all_imgs, BATCH_TEST_SIZE, device, model_lr3, 0.2, return_id=True)\n",
    "    threshold_lr3  = build_threshold(df_valid, all_imgs, device, model_lr3, 0.2, BATCH_VALID_SIZE, True)\n",
    "    tic = perf_counter()\n",
    "    df_fairness_lr3 = build_df_fairness(all_imgs, df_test, gen_lr3, 20, device, model_lr3, threshold_lr3)\n",
    "    toc = perf_counter()\n",
    "    print(f\"DataFrame creation for model lr 10-3: {((toc - tic)/60):.1f} min\")\n",
    "    \n",
    "    model_lr4 = TripletLearner(base_channels=32)\n",
    "    model_lr4.load_state_dict(torch.load(\"../models/in_article/lr4_600.pth\",map_location=torch.device('cpu')))\n",
    "    model_lr4 = model_lr4.to(device)\n",
    "    model_lr4.eval()\n",
    "    \n",
    "    gen_lr4 = TripletGenerator(df_test, all_imgs, BATCH_TEST_SIZE, device, model_lr4, 0.2, return_id=True)\n",
    "    threshold_lr4  = build_threshold(df_valid, all_imgs, device, model_lr4, 0.2, BATCH_VALID_SIZE, True)\n",
    "    tic = perf_counter()\n",
    "    df_fairness_lr4 = build_df_fairness(all_imgs, df_test, gen_lr4, 20, device, model_lr4, threshold_lr4)\n",
    "    toc = perf_counter()\n",
    "    print(f\"DataFrame creation for model lr 10-3: {((toc - tic)/60):.1f} min\")\n",
    "    \n",
    "    model_lrschedule100 = TripletLearner(base_channels=32)\n",
    "    model_lrschedule100.load_state_dict(torch.load(\"../models/in_article/lrschedule100_600.pth\",map_location=torch.device('cpu')))\n",
    "    model_lrschedule100 = model_lrschedule100.to(device)\n",
    "    model_lrschedule100.eval()\n",
    "    \n",
    "    gen_lrschedule100 = TripletGenerator(df_test, all_imgs, BATCH_TEST_SIZE, device, model_lrschedule100, 0.2, return_id=True)\n",
    "    threshold_lrschedule100  = build_threshold(df_valid, all_imgs, device, model_lrschedule100, 0.2, BATCH_VALID_SIZE, True)\n",
    "    tic = perf_counter()\n",
    "    df_fairness_lrschedule100 = build_df_fairness(all_imgs, df_test, gen_lrschedule100, 20, device, model_lrschedule100, threshold_lrschedule100)\n",
    "    toc = perf_counter()\n",
    "    print(f\"DataFrame creation for model lr 10-3: {((toc - tic)/60):.1f} min\")\n",
    "    \n",
    "    model_lrschedule300 = TripletLearner(base_channels=32)\n",
    "    model_lrschedule300.load_state_dict(torch.load(\"../models/in_article/lrschedule300_600.pth\",map_location=torch.device('cpu')))\n",
    "    model_lrschedule300 = model_lrschedule300.to(device)\n",
    "    model_lrschedule300.eval()\n",
    "    \n",
    "    gen_lrschedule300 = TripletGenerator(df_test, all_imgs, BATCH_TEST_SIZE, device, model_lrschedule300, 0.2, return_id=True)\n",
    "    threshold_lrschedule300  = build_threshold(df_valid, all_imgs, device, model_lrschedule300, 0.2, BATCH_VALID_SIZE, True)\n",
    "    tic = perf_counter()\n",
    "    df_fairness_lrschedule300 = build_df_fairness(all_imgs, df_test, gen_lrschedule300, 20, device, model_lrschedule300, threshold_lrschedule300)\n",
    "    toc = perf_counter()\n",
    "    print(f\"DataFrame creation for model lr 10-3: {((toc - tic)/60):.1f} min\")\n",
    "    \n",
    "elif study == 'threshold':\n",
    "    model_lowthrd = TripletLearner(base_channels=32)\n",
    "    model_lowthrd.load_state_dict(torch.load(\"../models/in_article/base_600.pth\",map_location=torch.device('cpu'))) #../models/in_article/base_model\n",
    "    model_lowthrd = model_lowthrd.to(device)\n",
    "    model_lowthrd.eval()\n",
    "\n",
    "    gen_lowthrd = TripletGenerator(df_test, all_imgs, BATCH_TEST_SIZE, device, model_lowthrd, margin, return_id=True)\n",
    "    threshold_lowthrd  = 0.48\n",
    "    tic = perf_counter()\n",
    "    df_fairness_lowthrd = build_df_fairness(all_imgs, df_test, gen_lowthrd, 20, device, model_lowthrd, threshold_lowthrd) #20\n",
    "    toc = perf_counter()\n",
    "    print(f\"DataFrame creation for model low threshold: {((toc - tic)/60):.1f} min\")\n",
    "    \n",
    "    model_highthrd = TripletLearner(base_channels=32)\n",
    "    model_highthrd.load_state_dict(torch.load(\"../models/in_article/base_600.pth\",map_location=torch.device('cpu'))) #../models/in_article/base_model\n",
    "    model_highthrd = model_highthrd.to(device)\n",
    "    model_highthrd.eval()\n",
    "\n",
    "    gen_highthrd = TripletGenerator(df_test, all_imgs, BATCH_TEST_SIZE, device, model_highthrd, margin, return_id=True)\n",
    "    threshold_highthrd  = 1.15\n",
    "    tic = perf_counter()\n",
    "    df_fairness_highthrd = build_df_fairness(all_imgs, df_test, gen_highthrd, 20, device, model_highthrd, threshold_highthrd) #20\n",
    "    toc = perf_counter()\n",
    "    print(f\"DataFrame creation for model high threshold: {((toc - tic)/60):.1f} min\")"
   ]
  },
  {
   "cell_type": "markdown",
   "metadata": {},
   "source": [
    "#### White Male vs Non White Male"
   ]
  },
  {
   "cell_type": "code",
   "execution_count": null,
   "metadata": {
    "tags": []
   },
   "outputs": [],
   "source": [
    "pos_dist = df_fairness[(df_fairness.y_true==1) & (df_fairness.AB_WhiteMale==1)]['Distance']\n",
    "neg_dist = df_fairness[(df_fairness.y_true==0) & (df_fairness.AB_WhiteMale==1)]['Distance']\n",
    "print_hist_dist_zoom(pos_dist, neg_dist, zoom=5.)"
   ]
  },
  {
   "cell_type": "code",
   "execution_count": null,
   "metadata": {
    "tags": []
   },
   "outputs": [],
   "source": [
    "pos_dist = df_fairness[(df_fairness.y_true==1) & (df_fairness.AB_NoWhiteMale==1)]['Distance']\n",
    "neg_dist = df_fairness[(df_fairness.y_true==0) & (df_fairness.AB_NoWhiteMale==1)]['Distance']\n",
    "print_hist_dist_zoom(pos_dist, neg_dist, zoom=5.)"
   ]
  },
  {
   "cell_type": "code",
   "execution_count": null,
   "metadata": {
    "tags": []
   },
   "outputs": [],
   "source": [
    "pos_dist = df_fairness[(df_fairness.y_true==1) & (df_fairness.AB_WhiteMale==0)]['Distance']\n",
    "neg_dist = df_fairness[(df_fairness.y_true==0) & (df_fairness.AB_WhiteMale==0)]['Distance']\n",
    "print_hist_dist_zoom(pos_dist, neg_dist, zoom=5.)"
   ]
  },
  {
   "cell_type": "code",
   "execution_count": null,
   "metadata": {
    "tags": []
   },
   "outputs": [],
   "source": [
    "y_AB_WhiteMale = np.array(df_fairness[df_fairness['AB_WhiteMale']==1].y_true)\n",
    "y_pred_AB_WhiteMale = np.array(df_fairness[df_fairness['AB_WhiteMale']==1].y_pred)\n",
    "\n",
    "tn_AB_WhiteMale,fp_AB_WhiteMale,fn_AB_WhiteMale,tp_AB_WhiteMale = confusion_matrix(y_AB_WhiteMale, y_pred_AB_WhiteMale).ravel()\n",
    "\n",
    "TPR_AB_WhiteMale = tp_AB_WhiteMale/(tp_AB_WhiteMale+fp_AB_WhiteMale)\n",
    "FPR_AB_WhiteMale = fp_AB_WhiteMale/(tp_AB_WhiteMale+fp_AB_WhiteMale)\n",
    "TNR_AB_WhiteMale = tn_AB_WhiteMale/(tn_AB_WhiteMale+fn_AB_WhiteMale)\n",
    "FNR_AB_WhiteMale = fn_AB_WhiteMale/(tn_AB_WhiteMale+fn_AB_WhiteMale)\n",
    "\n",
    "y_AB_NoWhiteMale = np.array(df_fairness[df_fairness['AB_NoWhiteMale']==1].y_true)\n",
    "y_pred_AB_NoWhiteMale = np.array(df_fairness[df_fairness['AB_NoWhiteMale']==1].y_pred)\n",
    "\n",
    "tn_AB_NoWhiteMale,fp_AB_NoWhiteMale,fn_AB_NoWhiteMale,tp_AB_NoWhiteMale = confusion_matrix(y_AB_NoWhiteMale, y_pred_AB_NoWhiteMale).ravel()\n",
    "\n",
    "TPR_AB_NoWhiteMale = tp_AB_NoWhiteMale/(tp_AB_NoWhiteMale+fp_AB_NoWhiteMale)\n",
    "FPR_AB_NoWhiteMale = fp_AB_NoWhiteMale/(tp_AB_NoWhiteMale+fp_AB_NoWhiteMale)\n",
    "TNR_AB_NoWhiteMale = tn_AB_NoWhiteMale/(tn_AB_NoWhiteMale+fn_AB_NoWhiteMale)\n",
    "FNR_AB_NoWhiteMale = fn_AB_NoWhiteMale/(tn_AB_NoWhiteMale+fn_AB_NoWhiteMale)\n",
    "\n",
    "y_AoB_NoWhiteMale = np.array(df_fairness[df_fairness['AB_WhiteMale']==0].y_true)\n",
    "y_pred_AoB_NoWhiteMale = np.array(df_fairness[df_fairness['AB_WhiteMale']==0].y_pred)\n",
    "\n",
    "tn_AoB_NoWhiteMale,fp_AoB_NoWhiteMale,fn_AoB_NoWhiteMale,tp_AoB_NoWhiteMale = confusion_matrix(y_AoB_NoWhiteMale, y_pred_AoB_NoWhiteMale).ravel()\n",
    "\n",
    "TPR_AoB_NoWhiteMale = tp_AoB_NoWhiteMale/(tp_AoB_NoWhiteMale+fp_AoB_NoWhiteMale)\n",
    "FPR_AoB_NoWhiteMale = fp_AoB_NoWhiteMale/(tp_AoB_NoWhiteMale+fp_AoB_NoWhiteMale)\n",
    "TNR_AoB_NoWhiteMale = tn_AoB_NoWhiteMale/(tn_AoB_NoWhiteMale+fn_AoB_NoWhiteMale)\n",
    "FNR_AoB_NoWhiteMale = fn_AoB_NoWhiteMale/(tn_AoB_NoWhiteMale+fn_AoB_NoWhiteMale)"
   ]
  },
  {
   "cell_type": "code",
   "execution_count": null,
   "metadata": {
    "tags": []
   },
   "outputs": [],
   "source": [
    "print(\"A and B White Male - mean accuracy: \", df_fairness[df_fairness['AB_WhiteMale']==1]['correct_predict'].mean())\n",
    "print(\"A and B White Male - bootstrapping mean accuracy: \", bootstrap(df_fairness[df_fairness['AB_WhiteMale']==1], agg_func=lambda df: df['correct_predict'].mean()))\n",
    "print(\"A and B White Male - triplet accuracy: \", triplet_acc_fairness(df_fairness[df_fairness['AB_WhiteMale']==1]))\n",
    "print(\"A and B White Male - f1 score:\", f1_score(y_AB_WhiteMale, y_pred_AB_WhiteMale))\n",
    "print(\"\\n\")\n",
    "print(\"A and B Non White Male - mean accuracy: \", df_fairness[df_fairness['AB_NoWhiteMale']==1]['correct_predict'].mean())\n",
    "print(\"A and B Non White Male - bootstrapping mean accuracy: \", bootstrap(df_fairness[df_fairness['AB_NoWhiteMale']==1], agg_func=lambda df: df['correct_predict'].mean()))\n",
    "print(\"A and B Non White Male - triplet accuracy: \", triplet_acc_fairness(df_fairness[df_fairness['AB_NoWhiteMale']==1]))\n",
    "print(\"A and B Non White Male - f1 score:\", f1_score(y_AB_NoWhiteMale, y_pred_AB_NoWhiteMale))\n",
    "print(\"\\n\")\n",
    "print(\"A or B Non White Male - mean accuracy: \", df_fairness[df_fairness['AB_WhiteMale']==0]['correct_predict'].mean())\n",
    "print(\"A or B Non White Male - bootstrapping mean accuracy: \", bootstrap(df_fairness[df_fairness['AB_WhiteMale']==0], agg_func=lambda df: df['correct_predict'].mean()))\n",
    "print(\"A or B Non White Male - triplet accuracy: \", triplet_acc_fairness(df_fairness[df_fairness['AB_WhiteMale']==0]))\n",
    "print(\"A or B Non White Male - f1 score:\", f1_score(y_AoB_NoWhiteMale, y_pred_AoB_NoWhiteMale))"
   ]
  },
  {
   "cell_type": "code",
   "execution_count": null,
   "metadata": {
    "tags": []
   },
   "outputs": [],
   "source": [
    "print(\"A and B White Male - Confusion Matrix\")\n",
    "print(confusion_matrix(y_AB_WhiteMale, y_pred_AB_WhiteMale))\n",
    "print(\"\\n\")\n",
    "print('A and B White Male - TPR: ', TPR_AB_WhiteMale)\n",
    "print('A and B White Male - FPR: ', FPR_AB_WhiteMale)\n",
    "print('A and B White Male - TNR: ', TNR_AB_WhiteMale)\n",
    "print('A and B White Male - FNR: ', FNR_AB_WhiteMale)"
   ]
  },
  {
   "cell_type": "code",
   "execution_count": null,
   "metadata": {
    "tags": []
   },
   "outputs": [],
   "source": [
    "print(\"A and B Non White Male - Confusion Matrix\")\n",
    "print(confusion_matrix(y_AB_NoWhiteMale, y_pred_AB_NoWhiteMale))\n",
    "print(\"\\n\")\n",
    "print('A and B Non White Male - TPR: ', TPR_AB_NoWhiteMale)\n",
    "print('A and B Non White Male - FPR: ', FPR_AB_NoWhiteMale)\n",
    "print('A and B Non White Male - TNR: ', TNR_AB_NoWhiteMale)\n",
    "print('A and B Non White Male - FNR: ', FNR_AB_NoWhiteMale)"
   ]
  },
  {
   "cell_type": "code",
   "execution_count": null,
   "metadata": {
    "tags": []
   },
   "outputs": [],
   "source": [
    "print(\"A or B Non White Male - Confusion Matrix\")\n",
    "print(confusion_matrix(y_AoB_NoWhiteMale, y_pred_AoB_NoWhiteMale))\n",
    "print(\"\\n\")\n",
    "print('A or B Non White Male - TPR: ', TPR_AoB_NoWhiteMale)\n",
    "print('A or B Non White Male - FPR: ', FPR_AoB_NoWhiteMale)\n",
    "print('A or B Non White Male - TNR: ', TNR_AoB_NoWhiteMale)\n",
    "print('A or B Non White Male - FNR: ', FNR_AoB_NoWhiteMale)"
   ]
  },
  {
   "cell_type": "markdown",
   "metadata": {},
   "source": [
    "#### Male vs Non Male and White vs Non White"
   ]
  },
  {
   "cell_type": "code",
   "execution_count": null,
   "metadata": {
    "tags": []
   },
   "outputs": [],
   "source": [
    "pos_dist = df_fairness[(df_fairness.y_true==1) & (df_fairness['A_Male']==1)&(df_fairness['B_Male']==1)]['Distance']\n",
    "neg_dist = df_fairness[(df_fairness.y_true==0) & (df_fairness['A_Male']==1)&(df_fairness['B_Male']==1)]['Distance']\n",
    "print_hist_dist_zoom(pos_dist, neg_dist, zoom=5.)"
   ]
  },
  {
   "cell_type": "code",
   "execution_count": null,
   "metadata": {
    "tags": []
   },
   "outputs": [],
   "source": [
    "pos_dist = df_fairness[(df_fairness.y_true==1) & (df_fairness['A_Male']==0)&(df_fairness['B_Male']==0)]['Distance']\n",
    "neg_dist = df_fairness[(df_fairness.y_true==0) & (df_fairness['A_Male']==0)&(df_fairness['B_Male']==0)]['Distance']\n",
    "print_hist_dist_zoom(pos_dist, neg_dist, zoom=5.)"
   ]
  },
  {
   "cell_type": "code",
   "execution_count": null,
   "metadata": {
    "tags": []
   },
   "outputs": [],
   "source": [
    "pos_dist = df_fairness[(df_fairness.y_true==1) & (df_fairness['A_White']==1)&(df_fairness['B_White']==1)]['Distance']\n",
    "neg_dist = df_fairness[(df_fairness.y_true==0) & (df_fairness['A_White']==1)&(df_fairness['B_White']==1)]['Distance']\n",
    "print_hist_dist_zoom(pos_dist, neg_dist, zoom=5.)"
   ]
  },
  {
   "cell_type": "code",
   "execution_count": null,
   "metadata": {
    "tags": []
   },
   "outputs": [],
   "source": [
    "pos_dist = df_fairness[(df_fairness.y_true==1) & (df_fairness['A_White']==0)&(df_fairness['B_White']==0)]['Distance']\n",
    "neg_dist = df_fairness[(df_fairness.y_true==0) & (df_fairness['A_White']==0)&(df_fairness['B_White']==0)]['Distance']\n",
    "print_hist_dist_zoom(pos_dist, neg_dist, zoom=5.)"
   ]
  },
  {
   "cell_type": "code",
   "execution_count": null,
   "metadata": {
    "tags": []
   },
   "outputs": [],
   "source": [
    "y_AB_Male = np.array(df_fairness[(df_fairness['A_Male']==1)&(df_fairness['B_Male']==1)].y_true)\n",
    "y_pred_AB_Male = np.array(df_fairness[(df_fairness['A_Male']==1)&(df_fairness['B_Male']==1)].y_pred)\n",
    "\n",
    "tn_AB_Male,fp_AB_Male,fn_AB_Male,tp_AB_Male = confusion_matrix(y_AB_Male, y_pred_AB_Male).ravel()\n",
    "\n",
    "TPR_AB_Male = tp_AB_Male/(tp_AB_Male+fp_AB_Male)\n",
    "FPR_AB_Male = fp_AB_Male/(tp_AB_Male+fp_AB_Male)\n",
    "TNR_AB_Male = tn_AB_Male/(tn_AB_Male+fn_AB_Male)\n",
    "FNR_AB_Male = fn_AB_Male/(tn_AB_Male+fn_AB_Male)\n",
    "\n",
    "y_AB_NoMale = np.array(df_fairness[(df_fairness['A_Male']==0)&(df_fairness['B_Male']==0)].y_true)\n",
    "y_pred_AB_NoMale = np.array(df_fairness[(df_fairness['A_Male']==0)&(df_fairness['B_Male']==0)].y_pred)\n",
    "\n",
    "tn_AB_NoMale,fp_AB_NoMale,fn_AB_NoMale,tp_AB_NoMale = confusion_matrix(y_AB_NoMale, y_pred_AB_NoMale).ravel()\n",
    "\n",
    "TPR_AB_NoMale = tp_AB_NoMale/(tp_AB_NoMale+fp_AB_NoMale)\n",
    "FPR_AB_NoMale = fp_AB_NoMale/(tp_AB_NoMale+fp_AB_NoMale)\n",
    "TNR_AB_NoMale = tn_AB_NoMale/(tn_AB_NoMale+fn_AB_NoMale)\n",
    "FNR_AB_NoMale = fn_AB_NoMale/(tn_AB_NoMale+fn_AB_NoMale)"
   ]
  },
  {
   "cell_type": "code",
   "execution_count": null,
   "metadata": {
    "tags": []
   },
   "outputs": [],
   "source": [
    "print(\"A and B Male - mean accuracy: \", df_fairness[(df_fairness['A_Male']==1)&(df_fairness['B_Male']==1)]['correct_predict'].mean())\n",
    "print(\"A and B Male - bootstrapping mean accuracy: \", bootstrap(df_fairness[(df_fairness['A_Male']==1)&(df_fairness['B_Male']==1)], agg_func=lambda df: df['correct_predict'].mean()))\n",
    "print(\"A and B Male - triplet accuracy: \", triplet_acc_fairness(df_fairness[(df_fairness['A_Male']==1)&(df_fairness['B_Male']==1)]))\n",
    "print(\"A and B Male - f1 score:\", f1_score(y_AB_Male, y_pred_AB_Male))\n",
    "print(\"A and B Male - Confusion Matrix\")\n",
    "print(confusion_matrix(y_AB_Male, y_pred_AB_Male))\n",
    "print('A and B Male - TPR: ', TPR_AB_Male)\n",
    "print('A and B Male - FPR: ', FPR_AB_Male)\n",
    "print('A and B Male - TNR: ', TNR_AB_Male)\n",
    "print('A and B Male - FNR: ', FNR_AB_Male)\n",
    "print(\"\\n\")\n",
    "print(\"A and B Non Male - mean accuracy: \", df_fairness[(df_fairness['A_Male']==0)&(df_fairness['B_Male']==0)]['correct_predict'].mean())\n",
    "print(\"A and B Non Male - bootstrapping mean accuracy: \", bootstrap(df_fairness[(df_fairness['A_Male']==0)&(df_fairness['B_Male']==0)], agg_func=lambda df: df['correct_predict'].mean()))\n",
    "print(\"A and B Non Male - triplet accuracy: \", triplet_acc_fairness(df_fairness[(df_fairness['A_Male']==0)&(df_fairness['B_Male']==0)]))\n",
    "print(\"A and B Non Male - f1 score:\", f1_score(y_AB_NoMale, y_pred_AB_NoMale))\n",
    "print(\"A and B Non Male - Confusion Matrix\")\n",
    "print(confusion_matrix(y_AB_NoMale, y_pred_AB_NoMale))\n",
    "print('A and B Non Male - TPR: ', TPR_AB_NoMale)\n",
    "print('A and B Non Male - FPR: ', FPR_AB_NoMale)\n",
    "print('A and B Non Male - TNR: ', TNR_AB_NoMale)\n",
    "print('A and B Non Male - FNR: ', FNR_AB_NoMale)"
   ]
  },
  {
   "cell_type": "code",
   "execution_count": null,
   "metadata": {
    "tags": []
   },
   "outputs": [],
   "source": [
    "y_AB_White = np.array(df_fairness[(df_fairness['A_White']==1)&(df_fairness['B_White']==1)].y_true)\n",
    "y_pred_AB_White = np.array(df_fairness[(df_fairness['A_White']==1)&(df_fairness['B_White']==1)].y_pred)\n",
    "\n",
    "tn_AB_White,fp_AB_White,fn_AB_White,tp_AB_White = confusion_matrix(y_AB_White, y_pred_AB_White).ravel()\n",
    "\n",
    "TPR_AB_White = tp_AB_White/(tp_AB_White+fp_AB_White)\n",
    "FPR_AB_White = fp_AB_White/(tp_AB_White+fp_AB_White)\n",
    "TNR_AB_White = tn_AB_White/(tn_AB_White+fn_AB_White)\n",
    "FNR_AB_White = fn_AB_White/(tn_AB_White+fn_AB_White)\n",
    "\n",
    "y_AB_NoWhite = np.array(df_fairness[(df_fairness['A_White']==0)&(df_fairness['B_White']==0)].y_true)\n",
    "y_pred_AB_NoWhite = np.array(df_fairness[(df_fairness['A_White']==0)&(df_fairness['B_White']==0)].y_pred)\n",
    "\n",
    "tn_AB_NoWhite,fp_AB_NoWhite,fn_AB_NoWhite,tp_AB_NoWhite = confusion_matrix(y_AB_NoWhite, y_pred_AB_NoWhite).ravel()\n",
    "\n",
    "TPR_AB_NoWhite = tp_AB_NoWhite/(tp_AB_NoWhite+fp_AB_NoWhite)\n",
    "FPR_AB_NoWhite = fp_AB_NoWhite/(tp_AB_NoWhite+fp_AB_NoWhite)\n",
    "TNR_AB_NoWhite = tn_AB_NoWhite/(tn_AB_NoWhite+fn_AB_NoWhite)\n",
    "FNR_AB_NoWhite = fn_AB_NoWhite/(tn_AB_NoWhite+fn_AB_NoWhite)"
   ]
  },
  {
   "cell_type": "code",
   "execution_count": null,
   "metadata": {
    "tags": []
   },
   "outputs": [],
   "source": [
    "print(\"A and B White - mean accuracy: \", df_fairness[(df_fairness['A_White']==1)&(df_fairness['B_White']==1)]['correct_predict'].mean())\n",
    "print(\"A and B White - bootstrapping mean accuracy: \", bootstrap(df_fairness[(df_fairness['A_White']==1)&(df_fairness['B_White']==1)], agg_func=lambda df: df['correct_predict'].mean()))\n",
    "print(\"A and B White - triplet accuracy: \", triplet_acc_fairness(df_fairness[(df_fairness['A_White']==1)&(df_fairness['B_White']==1)]))\n",
    "print(\"A and B White - f1 score:\", f1_score(y_AB_White, y_pred_AB_White))\n",
    "print(\"A and B White - Confusion Matrix\")\n",
    "print(confusion_matrix(y_AB_White, y_pred_AB_White))\n",
    "print('A and B White - TPR: ', TPR_AB_White)\n",
    "print('A and B White - FPR: ', FPR_AB_White)\n",
    "print('A and B White - TNR: ', TNR_AB_White)\n",
    "print('A and B White - FNR: ', FNR_AB_White)\n",
    "print(\"\\n\")\n",
    "print(\"A and B Non White - mean accuracy: \", df_fairness[(df_fairness['A_White']==0)&(df_fairness['B_White']==0)]['correct_predict'].mean())\n",
    "print(\"A and B Non White - bootstrapping mean accuracy: \", bootstrap(df_fairness[(df_fairness['A_White']==0)&(df_fairness['B_White']==0)], agg_func=lambda df: df['correct_predict'].mean()))\n",
    "print(\"A and B Non White - triplet accuracy: \", triplet_acc_fairness(df_fairness[(df_fairness['A_White']==0)&(df_fairness['B_White']==0)]))\n",
    "print(\"A and B Non White - f1 score:\", f1_score(y_AB_NoWhite, y_pred_AB_NoWhite))\n",
    "print(\"A and B Non White - Confusion Matrix\")\n",
    "print(confusion_matrix(y_AB_NoWhite, y_pred_AB_NoWhite))\n",
    "print('A and B Non White - TPR: ', TPR_AB_NoWhite)\n",
    "print('A and B Non White - FPR: ', FPR_AB_NoWhite)\n",
    "print('A and B Non White - TNR: ', TNR_AB_NoWhite)\n",
    "print('A and B Non White - FNR: ', FNR_AB_NoWhite)"
   ]
  },
  {
   "cell_type": "markdown",
   "metadata": {},
   "source": [
    "### Other categories"
   ]
  },
  {
   "cell_type": "markdown",
   "metadata": {},
   "source": [
    "#### Supposed races"
   ]
  },
  {
   "cell_type": "code",
   "execution_count": null,
   "metadata": {
    "tags": []
   },
   "outputs": [],
   "source": [
    "y_AB_Black = np.array(df_fairness[(df_fairness['A_Black']==1)&(df_fairness['B_Black']==1)].y_true)\n",
    "y_pred_AB_Black = np.array(df_fairness[(df_fairness['A_Black']==1)&(df_fairness['B_Black']==1)].y_pred)\n",
    "\n",
    "tn_AB_Black,fp_AB_Black,fn_AB_Black,tp_AB_Black = confusion_matrix(y_AB_Black, y_pred_AB_Black).ravel()\n",
    "\n",
    "TPR_AB_Black = tp_AB_Black/(tp_AB_Black+fp_AB_Black)\n",
    "FPR_AB_Black = fp_AB_Black/(tp_AB_Black+fp_AB_Black)\n",
    "TNR_AB_Black = tn_AB_Black/(tn_AB_Black+fn_AB_Black)\n",
    "FNR_AB_Black = fn_AB_Black/(tn_AB_Black+fn_AB_Black)\n",
    "\n",
    "y_AB_Asian = np.array(df_fairness[(df_fairness['A_Asian']==1)&(df_fairness['B_Asian']==1)].y_true)\n",
    "y_pred_AB_Asian = np.array(df_fairness[(df_fairness['A_Asian']==1)&(df_fairness['B_Asian']==1)].y_pred)\n",
    "\n",
    "tn_AB_Asian,fp_AB_Asian,fn_AB_Asian,tp_AB_Asian = confusion_matrix(y_AB_Asian, y_pred_AB_Asian).ravel()\n",
    "\n",
    "TPR_AB_Asian = tp_AB_Asian/(tp_AB_Asian+fp_AB_Asian)\n",
    "FPR_AB_Asian = fp_AB_Asian/(tp_AB_Asian+fp_AB_Asian)\n",
    "TNR_AB_Asian = tn_AB_Asian/(tn_AB_Asian+fn_AB_Asian)\n",
    "FNR_AB_Asian = fn_AB_Asian/(tn_AB_Asian+fn_AB_Asian)\n",
    "\n",
    "y_AB_Indian = np.array(df_fairness[(df_fairness['A_Indian']==1)&(df_fairness['B_Indian']==1)].y_true)\n",
    "y_pred_AB_Indian = np.array(df_fairness[(df_fairness['A_Indian']==1)&(df_fairness['B_Indian']==1)].y_pred)\n",
    "\n",
    "tn_AB_Indian,fp_AB_Indian,fn_AB_Indian,tp_AB_Indian = confusion_matrix(y_AB_Indian, y_pred_AB_Indian).ravel()\n",
    "\n",
    "TPR_AB_Indian = tp_AB_Indian/(tp_AB_Indian+fp_AB_Indian)\n",
    "FPR_AB_Indian = fp_AB_Indian/(tp_AB_Indian+fp_AB_Indian)\n",
    "TNR_AB_Indian = tn_AB_Indian/(tn_AB_Indian+fn_AB_Indian)\n",
    "FNR_AB_Indian = fn_AB_Indian/(tn_AB_Indian+fn_AB_Indian)"
   ]
  },
  {
   "cell_type": "code",
   "execution_count": null,
   "metadata": {
    "tags": []
   },
   "outputs": [],
   "source": [
    "print(\"A and B White - mean accuracy: \", df_fairness[(df_fairness['A_White']==1)&(df_fairness['B_White']==1)]['correct_predict'].mean())\n",
    "print(\"A and B White - bootstrapping mean accuracy: \", bootstrap(df_fairness[(df_fairness['A_White']==1)&(df_fairness['B_White']==1)], agg_func=lambda df: df['correct_predict'].mean()))\n",
    "print(\"A and B White - triplet accuracy: \", triplet_acc_fairness(df_fairness[(df_fairness['A_White']==1)&(df_fairness['B_White']==1)]))\n",
    "print(\"A and B White - f1 score:\", f1_score(y_AB_White, y_pred_AB_White))\n",
    "print(\"A and B White - Confusion Matrix\")\n",
    "print(confusion_matrix(y_AB_White, y_pred_AB_White))\n",
    "print('A and B White - TPR: ', TPR_AB_White)\n",
    "print('A and B White - FPR: ', FPR_AB_White)\n",
    "print('A and B White - TNR: ', TNR_AB_White)\n",
    "print('A and B White - FNR: ', FNR_AB_White)\n",
    "print(\"\\n\")\n",
    "print(\"A and B Black - mean accuracy: \", df_fairness[(df_fairness['A_Black']==1)&(df_fairness['B_Black']==1)]['correct_predict'].mean())\n",
    "print(\"A and B Black - bootstrapping mean accuracy: \", bootstrap(df_fairness[(df_fairness['A_Black']==1)&(df_fairness['B_Black']==1)], agg_func=lambda df: df['correct_predict'].mean()))\n",
    "print(\"A and B Black - triplet accuracy: \", triplet_acc_fairness(df_fairness[(df_fairness['A_Black']==1)&(df_fairness['B_Black']==1)]))\n",
    "print(\"A and B Black - f1 score:\", f1_score(y_AB_Black, y_pred_AB_Black))\n",
    "print(\"A and B Black - Confusion Matrix\")\n",
    "print(confusion_matrix(y_AB_Black, y_pred_AB_Black))\n",
    "print('A and B Black - TPR: ', TPR_AB_Black)\n",
    "print('A and B Black - FPR: ', FPR_AB_Black)\n",
    "print('A and B Black - TNR: ', TNR_AB_Black)\n",
    "print('A and B Black - FNR: ', FNR_AB_Black)\n",
    "print(\"\\n\")\n",
    "print(\"A and B Asian - mean accuracy: \", df_fairness[(df_fairness['A_Asian']==1)&(df_fairness['B_Asian']==1)]['correct_predict'].mean())\n",
    "print(\"A and B Asian - bootstrapping mean accuracy: \", bootstrap(df_fairness[(df_fairness['A_Asian']==1)&(df_fairness['B_Asian']==1)], agg_func=lambda df: df['correct_predict'].mean()))\n",
    "print(\"A and B Asian - triplet accuracy: \", triplet_acc_fairness(df_fairness[(df_fairness['A_Asian']==1)&(df_fairness['B_Asian']==1)]))\n",
    "print(\"A and B Asian - f1 score:\", f1_score(y_AB_Asian, y_pred_AB_Asian))\n",
    "print(\"A and B Asian - Confusion Matrix\")\n",
    "print(confusion_matrix(y_AB_Asian, y_pred_AB_Asian))\n",
    "print('A and B Asian - TPR: ', TPR_AB_Asian)\n",
    "print('A and B Asian - FPR: ', FPR_AB_Asian)\n",
    "print('A and B Asian - TNR: ', TNR_AB_Asian)\n",
    "print('A and B Asian - FNR: ', FNR_AB_Asian)\n",
    "print(\"\\n\")\n",
    "print(\"A and B Indian - mean accuracy: \", df_fairness[(df_fairness['A_Indian']==1)&(df_fairness['B_Indian']==1)]['correct_predict'].mean())\n",
    "print(\"A and B Indian - bootstrapping mean accuracy: \", bootstrap(df_fairness[(df_fairness['A_Indian']==1)&(df_fairness['B_Indian']==1)], agg_func=lambda df: df['correct_predict'].mean()))\n",
    "print(\"A and B Indian - triplet accuracy: \", triplet_acc_fairness(df_fairness[(df_fairness['A_Indian']==1)&(df_fairness['B_Indian']==1)]))\n",
    "print(\"A and B Indian - f1 score:\", f1_score(y_AB_Indian, y_pred_AB_Indian))\n",
    "print(\"A and B Indian - Confusion Matrix\")\n",
    "print(confusion_matrix(y_AB_Indian, y_pred_AB_Indian))\n",
    "print('A and B Indian - TPR: ', TPR_AB_Indian)\n",
    "print('A and B Indian - FPR: ', FPR_AB_Indian)\n",
    "print('A and B Indian - TNR: ', TNR_AB_Indian)\n",
    "print('A and B Indian - FNR: ', FNR_AB_Indian)"
   ]
  },
  {
   "cell_type": "markdown",
   "metadata": {},
   "source": [
    "#### Youth vs Senior"
   ]
  },
  {
   "cell_type": "code",
   "execution_count": null,
   "metadata": {
    "tags": []
   },
   "outputs": [],
   "source": [
    "y_AB_Youth = np.array(df_fairness[(df_fairness['A_Youth']==1)&(df_fairness['B_Youth']==1)].y_true)\n",
    "y_pred_AB_Youth = np.array(df_fairness[(df_fairness['A_Youth']==1)&(df_fairness['B_Youth']==1)].y_pred)\n",
    "\n",
    "tn_AB_Youth,fp_AB_Youth,fn_AB_Youth,tp_AB_Youth = confusion_matrix(y_AB_Youth, y_pred_AB_Youth).ravel()\n",
    "\n",
    "TPR_AB_Youth = tp_AB_Youth/(tp_AB_Youth+fp_AB_Youth)\n",
    "FPR_AB_Youth = fp_AB_Youth/(tp_AB_Youth+fp_AB_Youth)\n",
    "TNR_AB_Youth = tn_AB_Youth/(tn_AB_Youth+fn_AB_Youth)\n",
    "FNR_AB_Youth = fn_AB_Youth/(tn_AB_Youth+fn_AB_Youth)\n",
    "\n",
    "y_AB_Senior = np.array(df_fairness[(df_fairness['A_Senior']==1)&(df_fairness['B_Senior']==1)].y_true)\n",
    "y_pred_AB_Senior = np.array(df_fairness[(df_fairness['A_Senior']==1)&(df_fairness['B_Senior']==1)].y_pred)\n",
    "\n",
    "tn_AB_Senior,fp_AB_Senior,fn_AB_Senior,tp_AB_Senior = confusion_matrix(y_AB_Senior, y_pred_AB_Senior).ravel()\n",
    "\n",
    "TPR_AB_Senior = tp_AB_Senior/(tp_AB_Senior+fp_AB_Senior)\n",
    "FPR_AB_Senior = fp_AB_Senior/(tp_AB_Senior+fp_AB_Senior)\n",
    "TNR_AB_Senior = tn_AB_Senior/(tn_AB_Senior+fn_AB_Senior)\n",
    "FNR_AB_Senior = fn_AB_Senior/(tn_AB_Senior+fn_AB_Senior)"
   ]
  },
  {
   "cell_type": "code",
   "execution_count": null,
   "metadata": {
    "tags": []
   },
   "outputs": [],
   "source": [
    "print(\"A and B Youth - mean accuracy: \", df_fairness[(df_fairness['A_Youth']==1)&(df_fairness['B_Youth']==1)]['correct_predict'].mean())\n",
    "print(\"A and B Youth - bootstrapping mean accuracy: \", bootstrap(df_fairness[(df_fairness['A_Youth']==1)&(df_fairness['B_Youth']==1)], agg_func=lambda df: df['correct_predict'].mean()))\n",
    "print(\"A and B Youth - triplet accuracy: \", triplet_acc_fairness(df_fairness[(df_fairness['A_Youth']==1)&(df_fairness['B_Youth']==1)]))\n",
    "print(\"A and B Youth - f1 score:\", f1_score(y_AB_Youth, y_pred_AB_Youth))\n",
    "print(\"A and B Youth - Confusion Matrix\")\n",
    "print(confusion_matrix(y_AB_Youth, y_pred_AB_Youth))\n",
    "print('A and B Youth - TPR: ', TPR_AB_Youth)\n",
    "print('A and B Youth - FPR: ', FPR_AB_Youth)\n",
    "print('A and B Youth - TNR: ', TNR_AB_Youth)\n",
    "print('A and B Youth - FNR: ', FNR_AB_Youth)\n",
    "print(\"\\n\")\n",
    "print(\"A and B Senior - mean accuracy: \", df_fairness[(df_fairness['A_Senior']==1)&(df_fairness['B_Senior']==1)]['correct_predict'].mean())\n",
    "print(\"A and B Senior - bootstrapping mean accuracy: \", bootstrap(df_fairness[(df_fairness['A_Senior']==1)&(df_fairness['B_Senior']==1)], agg_func=lambda df: df['correct_predict'].mean()))\n",
    "print(\"A and B Senior - triplet accuracy: \", triplet_acc_fairness(df_fairness[(df_fairness['A_Senior']==1)&(df_fairness['B_Senior']==1)]))\n",
    "print(\"A and B Senior - f1 score:\", f1_score(y_AB_Senior, y_pred_AB_Senior))\n",
    "print(\"A and B Senior - Confusion Matrix\")\n",
    "print(confusion_matrix(y_AB_Senior, y_pred_AB_Senior))\n",
    "print('A and B Senior - TPR: ', TPR_AB_Senior)\n",
    "print('A and B Senior - FPR: ', FPR_AB_Senior)\n",
    "print('A and B Senior - TNR: ', TNR_AB_Senior)\n",
    "print('A and B Senior - FNR: ', FNR_AB_Senior)"
   ]
  },
  {
   "cell_type": "markdown",
   "metadata": {},
   "source": [
    "#### Accessories"
   ]
  },
  {
   "cell_type": "code",
   "execution_count": null,
   "metadata": {
    "tags": []
   },
   "outputs": [],
   "source": [
    "y_AB_Sunglasses = np.array(df_fairness[(df_fairness['A_Sunglasses']==1)&(df_fairness['B_Sunglasses']==1)].y_true)\n",
    "y_pred_AB_Sunglasses = np.array(df_fairness[(df_fairness['A_Sunglasses']==1)&(df_fairness['B_Sunglasses']==1)].y_pred)\n",
    "\n",
    "tn_AB_Sunglasses,fp_AB_Sunglasses,fn_AB_Sunglasses,tp_AB_Sunglasses = confusion_matrix(y_AB_Sunglasses, y_pred_AB_Sunglasses).ravel()\n",
    "\n",
    "TPR_AB_Sunglasses = tp_AB_Sunglasses/(tp_AB_Sunglasses+fp_AB_Sunglasses)\n",
    "FPR_AB_Sunglasses = fp_AB_Sunglasses/(tp_AB_Sunglasses+fp_AB_Sunglasses)\n",
    "TNR_AB_Sunglasses = tn_AB_Sunglasses/(tn_AB_Sunglasses+fn_AB_Sunglasses)\n",
    "FNR_AB_Sunglasses = fn_AB_Sunglasses/(tn_AB_Sunglasses+fn_AB_Sunglasses)\n",
    "\n",
    "y_AB_NoSunglasses = np.array(df_fairness[(df_fairness['A_Sunglasses']==0)&(df_fairness['B_Sunglasses']==0)].y_true)\n",
    "y_pred_AB_NoSunglasses = np.array(df_fairness[(df_fairness['A_Sunglasses']==0)&(df_fairness['B_Sunglasses']==0)].y_pred)\n",
    "\n",
    "tn_AB_NoSunglasses,fp_AB_NoSunglasses,fn_AB_NoSunglasses,tp_AB_NoSunglasses = confusion_matrix(y_AB_NoSunglasses, y_pred_AB_NoSunglasses).ravel()\n",
    "\n",
    "TPR_AB_NoSunglasses = tp_AB_NoSunglasses/(tp_AB_NoSunglasses+fp_AB_NoSunglasses)\n",
    "FPR_AB_NoSunglasses = fp_AB_NoSunglasses/(tp_AB_NoSunglasses+fp_AB_NoSunglasses)\n",
    "TNR_AB_NoSunglasses = tn_AB_NoSunglasses/(tn_AB_NoSunglasses+fn_AB_NoSunglasses)\n",
    "FNR_AB_NoSunglasses = fn_AB_NoSunglasses/(tn_AB_NoSunglasses+fn_AB_NoSunglasses)"
   ]
  },
  {
   "cell_type": "code",
   "execution_count": null,
   "metadata": {
    "tags": []
   },
   "outputs": [],
   "source": [
    "print(\"A and B Sunglasses - mean accuracy: \", df_fairness[(df_fairness['A_Sunglasses']==1)&(df_fairness['B_Sunglasses']==1)]['correct_predict'].mean())\n",
    "print(\"A and B Sunglasses - bootstrapping mean accuracy: \", bootstrap(df_fairness[(df_fairness['A_Sunglasses']==1)&(df_fairness['B_Sunglasses']==1)], agg_func=lambda df: df['correct_predict'].mean(), num_bootstraps=10000))\n",
    "print(\"A and B Sunglasses - triplet accuracy: \", triplet_acc_fairness(df_fairness[(df_fairness['A_Sunglasses']==1)&(df_fairness['B_Sunglasses']==1)]))\n",
    "print(\"A and B Sunglasses - f1 score:\", f1_score(y_AB_Sunglasses, y_pred_AB_Sunglasses))\n",
    "print(\"A and B Sunglasses - Confusion Matrix\")\n",
    "print(confusion_matrix(y_AB_Sunglasses, y_pred_AB_Sunglasses))\n",
    "print('A and B Sunglasses - TPR: ', TPR_AB_Sunglasses)\n",
    "print('A and B Sunglasses - FPR: ', FPR_AB_Sunglasses)\n",
    "print('A and B Sunglasses - TNR: ', TNR_AB_Sunglasses)\n",
    "print('A and B Sunglasses - FNR: ', FNR_AB_Sunglasses)\n",
    "print(\"\\n\")\n",
    "print(\"A and B Non Sunglasses - mean accuracy: \", df_fairness[(df_fairness['A_Sunglasses']==0)&(df_fairness['B_Sunglasses']==0)]['correct_predict'].mean())\n",
    "print(\"A and B Non Sunglasses - bootstrapping mean accuracy: \", bootstrap(df_fairness[(df_fairness['A_Sunglasses']==0)&(df_fairness['B_Sunglasses']==0)], agg_func=lambda df: df['correct_predict'].mean(), num_bootstraps=10000))\n",
    "print(\"A and B Non Sunglasses - triplet accuracy: \", triplet_acc_fairness(df_fairness[(df_fairness['A_Sunglasses']==0)&(df_fairness['B_Sunglasses']==0)]))\n",
    "print(\"A and B Non Sunglasses - f1 score:\", f1_score(y_AB_NoSunglasses, y_pred_AB_NoSunglasses))\n",
    "print(\"A and B Non Sunglasses - Confusion Matrix\")\n",
    "print(confusion_matrix(y_AB_NoSunglasses, y_pred_AB_NoSunglasses))\n",
    "print('A and B Non Sunglasses - TPR: ', TPR_AB_NoSunglasses)\n",
    "print('A and B Non Sunglasses - FPR: ', FPR_AB_NoSunglasses)\n",
    "print('A and B Non Sunglasses - TNR: ', TNR_AB_NoSunglasses)\n",
    "print('A and B Non Sunglasses - FNR: ', FNR_AB_NoSunglasses)"
   ]
  },
  {
   "cell_type": "markdown",
   "metadata": {},
   "source": [
    "#### More bootstrapping"
   ]
  },
  {
   "cell_type": "code",
   "execution_count": null,
   "metadata": {
    "tags": []
   },
   "outputs": [],
   "source": [
    "b,a,c = np.round_(bootstrap(df_fairness[df_fairness['AB_WhiteMale']==1], \\\n",
    "    agg_func=lambda df: df['correct_predict'].mean(), num_bootstraps=10000, percentiles=[5,50,95]), 3)\n",
    "\n",
    "print(f\"A and B White Male - accuracy: {a} (90% CI: {b}-{c})\")\n",
    "\n",
    "b,a,c = np.round_(bootstrap_by_pairs(df_fairness[df_fairness['AB_WhiteMale']==1], \\\n",
    "    agg_func=lambda df: triplet_acc_fairness(df), num_bootstraps=100, percentiles=[5,50,95]), 3)\n",
    "\n",
    "print(f\"A and B White Male - triplet accuracy: {a} (90% CI: {b}-{c})\")\n",
    "\n",
    "b,a,c = np.round_(bootstrap(df_fairness[df_fairness['AB_WhiteMale']==1], \\\n",
    "    agg_func=lambda df: df[(df['y_pred']==1)&(df['y_true']==0)]['id_A'].count()/df[df['y_pred']==1]['id_A'].count(), \\\n",
    "    num_bootstraps=10000, percentiles=[5,50,95]),3)\n",
    "\n",
    "print(f\"A and B White Male - FPR: {a} (90% CI: {b}-{c})\")\n",
    "\n",
    "b,a,c = np.round_(bootstrap(df_fairness[df_fairness['AB_WhiteMale']==1], \\\n",
    "    agg_func=lambda df: df[(df['y_pred']==0)&(df['y_true']==1)]['id_A'].count()/df[df['y_pred']==0]['id_A'].count(), \\\n",
    "    num_bootstraps=10000, percentiles=[5,50,95]),3)\n",
    "\n",
    "print(f\"A and B White Male - FNR: {a} (90% CI: {b}-{c})\")\n",
    "\n",
    "print(\"\\n\")\n",
    "\n",
    "b,a,c = np.round_(bootstrap(df_fairness[df_fairness['AB_NoWhiteMale']==1], \\\n",
    "    agg_func=lambda df: df['correct_predict'].mean(), num_bootstraps=10000, percentiles=[5,50,95]),3)\n",
    "\n",
    "print(f\"A and B Non White Male - accuracy: {a} (90% CI: {b}-{c})\")\n",
    "\n",
    "b,a,c = np.round_(bootstrap_by_pairs(df_fairness[df_fairness['AB_NoWhiteMale']==1], \\\n",
    "    agg_func=lambda df: triplet_acc_fairness(df), num_bootstraps=100, percentiles=[5,50,95]), 3)\n",
    "\n",
    "print(f\"A and B Non White Male - triplet accuracy: {a} (90% CI: {b}-{c})\")\n",
    "\n",
    "b,a,c = np.round_(bootstrap(df_fairness[df_fairness['AB_NoWhiteMale']==1], \\\n",
    "    agg_func=lambda df: df[(df['y_pred']==1)&(df['y_true']==0)]['id_A'].count()/df[df['y_pred']==1]['id_A'].count(), \\\n",
    "    num_bootstraps=10000, percentiles=[5,50,95]),3)\n",
    " \n",
    "print(f\"A and B Non White Male - FPR: {a} (90% CI: {b}-{c})\")\n",
    "\n",
    "b,a,c = np.round_(bootstrap(df_fairness[df_fairness['AB_NoWhiteMale']==1], \\\n",
    "    agg_func=lambda df: df[(df['y_pred']==0)&(df['y_true']==1)]['id_A'].count()/df[df['y_pred']==0]['id_A'].count(), \\\n",
    "    num_bootstraps=10000, percentiles=[5,50,95]),3)\n",
    "\n",
    "print(f\"A and B Non White Male - FNR: {a} (90% CI: {b}-{c})\")"
   ]
  },
  {
   "cell_type": "code",
   "execution_count": null,
   "metadata": {
    "tags": []
   },
   "outputs": [],
   "source": [
    "b,a,c = np.round_(bootstrap(df_fairness[(df_fairness['A_Male']==1)&(df_fairness['B_Male']==1)], \\\n",
    "    agg_func=lambda df: df['correct_predict'].mean(), num_bootstraps=10000, percentiles=[5,50,95]), 3)\n",
    "\n",
    "print(f\"A and B Male - accuracy: {a} (90% CI: {b}-{c})\")\n",
    "\n",
    "b,a,c = np.round_(bootstrap_by_pairs(df_fairness[(df_fairness['A_Male']==1)&(df_fairness['B_Male']==1)], \\\n",
    "    agg_func=lambda df: triplet_acc_fairness(df), num_bootstraps=100, percentiles=[5,50,95]), 3)\n",
    "\n",
    "print(f\"A and B Male - triplet accuracy: {a} (90% CI: {b}-{c})\")\n",
    "\n",
    "b,a,c = np.round_(bootstrap(df_fairness[(df_fairness['A_Male']==1)&(df_fairness['B_Male']==1)], \\\n",
    "    agg_func=lambda df: df[(df['y_pred']==1)&(df['y_true']==0)]['id_A'].count()/df[df['y_pred']==1]['id_A'].count(), \\\n",
    "    num_bootstraps=10000, percentiles=[5,50,95]),3)\n",
    "\n",
    "print(f\"A and B Male - FPR: {a} (90% CI: {b}-{c})\")\n",
    "\n",
    "b,a,c = np.round_(bootstrap(df_fairness[(df_fairness['A_Male']==1)&(df_fairness['B_Male']==1)], \\\n",
    "    agg_func=lambda df: df[(df['y_pred']==0)&(df['y_true']==1)]['id_A'].count()/df[df['y_pred']==0]['id_A'].count(), \\\n",
    "    num_bootstraps=10000, percentiles=[5,50,95]),3)\n",
    "\n",
    "print(f\"A and B Male - FNR: {a} (90% CI: {b}-{c})\")\n",
    "\n",
    "print(\"\\n\")\n",
    "\n",
    "b,a,c = np.round_(bootstrap(df_fairness[(df_fairness['A_Male']==0)&(df_fairness['B_Male']==0)], \\\n",
    "    agg_func=lambda df: df['correct_predict'].mean(), num_bootstraps=10000, percentiles=[5,50,95]),3)\n",
    "\n",
    "print(f\"A and B Non Male - accuracy: {a} (90% CI: {b}-{c})\")\n",
    "\n",
    "b,a,c = np.round_(bootstrap_by_pairs(df_fairness[(df_fairness['A_Male']==0)&(df_fairness['B_Male']==0)], \\\n",
    "    agg_func=lambda df: triplet_acc_fairness(df), num_bootstraps=100, percentiles=[5,50,95]), 3)\n",
    "\n",
    "print(f\"A and B Non Male - triplet accuracy: {a} (90% CI: {b}-{c})\")\n",
    "\n",
    "b,a,c = np.round_(bootstrap(df_fairness[(df_fairness['A_Male']==0)&(df_fairness['B_Male']==0)], \\\n",
    "    agg_func=lambda df: df[(df['y_pred']==1)&(df['y_true']==0)]['id_A'].count()/df[df['y_pred']==1]['id_A'].count(), \\\n",
    "    num_bootstraps=10000, percentiles=[5,50,95]),3)\n",
    "\n",
    "print(f\"A and B Non Male - FPR: {a} (90% CI: {b}-{c})\")\n",
    "\n",
    "b,a,c = np.round_(bootstrap(df_fairness[(df_fairness['A_Male']==0)&(df_fairness['B_Male']==0)], \\\n",
    "    agg_func=lambda df: df[(df['y_pred']==0)&(df['y_true']==1)]['id_A'].count()/df[df['y_pred']==0]['id_A'].count(), \\\n",
    "    num_bootstraps=10000, percentiles=[5,50,95]),3)\n",
    "\n",
    "print(f\"A and B Non Male - FNR: {a} (90% CI: {b}-{c})\")"
   ]
  },
  {
   "cell_type": "code",
   "execution_count": null,
   "metadata": {
    "tags": []
   },
   "outputs": [],
   "source": [
    "b,a,c = np.round_(bootstrap(df_fairness[(df_fairness['A_White']==1)&(df_fairness['B_White']==1)], \\\n",
    "    agg_func=lambda df: df['correct_predict'].mean(), num_bootstraps=10000, percentiles=[5,50,95]), 3)\n",
    "\n",
    "print(f\"A and B White - accuracy: {a} (90% CI: {b}-{c})\")\n",
    "\n",
    "b,a,c = np.round_(bootstrap_by_pairs(df_fairness[(df_fairness['A_White']==1)&(df_fairness['B_White']==1)], \\\n",
    "    agg_func=lambda df: triplet_acc_fairness(df), num_bootstraps=100, percentiles=[5,50,95]), 3)\n",
    "\n",
    "print(f\"A and B White - triplet accuracy: {a} (90% CI: {b}-{c})\")\n",
    "\n",
    "b,a,c = np.round_(bootstrap(df_fairness[(df_fairness['A_White']==1)&(df_fairness['B_White']==1)], \\\n",
    "    agg_func=lambda df: df[(df['y_pred']==1)&(df['y_true']==0)]['id_A'].count()/df[df['y_pred']==1]['id_A'].count(), \\\n",
    "    num_bootstraps=10000, percentiles=[5,50,95]),3)\n",
    "\n",
    "print(f\"A and B White - FPR: {a} (90% CI: {b}-{c})\")\n",
    "\n",
    "b,a,c = np.round_(bootstrap(df_fairness[(df_fairness['A_White']==1)&(df_fairness['B_White']==1)], \\\n",
    "    agg_func=lambda df: df[(df['y_pred']==0)&(df['y_true']==1)]['id_A'].count()/df[df['y_pred']==0]['id_A'].count(), \\\n",
    "    num_bootstraps=10000, percentiles=[5,50,95]),3)\n",
    "\n",
    "print(f\"A and B White - FNR: {a} (90% CI: {b}-{c})\")\n",
    "\n",
    "print(\"\\n\")\n",
    "\n",
    "b,a,c = np.round_(bootstrap(df_fairness[(df_fairness['A_White']==0)&(df_fairness['B_White']==0)], \\\n",
    "    agg_func=lambda df: df['correct_predict'].mean(), num_bootstraps=10000, percentiles=[5,50,95]),3)\n",
    "\n",
    "print(f\"A and B Non White - accuracy: {a} (90% CI: {b}-{c})\")\n",
    "\n",
    "b,a,c = np.round_(bootstrap_by_pairs(df_fairness[(df_fairness['A_White']==0)&(df_fairness['B_White']==0)], \\\n",
    "    agg_func=lambda df: triplet_acc_fairness(df), num_bootstraps=100, percentiles=[5,50,95]), 3)\n",
    "\n",
    "print(f\"A and B Non White - triplet accuracy: {a} (90% CI: {b}-{c})\")\n",
    "\n",
    "b,a,c = np.round_(bootstrap(df_fairness[(df_fairness['A_White']==0)&(df_fairness['B_White']==0)], \\\n",
    "    agg_func=lambda df: df[(df['y_pred']==1)&(df['y_true']==0)]['id_A'].count()/df[df['y_pred']==1]['id_A'].count(), \\\n",
    "    num_bootstraps=10000, percentiles=[5,50,95]),3)\n",
    "\n",
    "print(f\"A and B Non White - FPR: {a} (90% CI: {b}-{c})\")\n",
    "\n",
    "b,a,c = np.round_(bootstrap(df_fairness[(df_fairness['A_White']==0)&(df_fairness['B_White']==0)], \\\n",
    "    agg_func=lambda df: df[(df['y_pred']==0)&(df['y_true']==1)]['id_A'].count()/df[df['y_pred']==0]['id_A'].count(), \\\n",
    "    num_bootstraps=10000, percentiles=[5,50,95]),3)\n",
    "\n",
    "print(f\"A and B Non White - FNR: {a} (90% CI: {b}-{c})\")"
   ]
  },
  {
   "cell_type": "code",
   "execution_count": null,
   "metadata": {
    "tags": []
   },
   "outputs": [],
   "source": [
    "print(\"A and B White - mean accuracy: \", np.round_(bootstrap(df_fairness[(df_fairness['A_White']==1)&(df_fairness['B_White']==1)], \\\n",
    "    agg_func=lambda df: df['correct_predict'].mean(), num_bootstraps=10000, percentiles=[5,50,95]), 3))\n",
    "print(\"A and B White - triplet accuracy: \", np.round_(bootstrap_by_pairs(df_fairness[(df_fairness['A_White']==1)&(df_fairness['B_White']==1)], \\\n",
    "    agg_func=lambda df: triplet_acc_fairness(df), num_bootstraps=100, percentiles=[5,50,95]), 3))\n",
    "print(\"A and B White - FPR: \", np.round_(bootstrap(df_fairness[(df_fairness['A_White']==1)&(df_fairness['B_White']==1)], \\\n",
    "    agg_func=lambda df: df[(df['y_pred']==1)&(df['y_true']==0)]['id_A'].count()/df[df['y_pred']==1]['id_A'].count(), \\\n",
    "    num_bootstraps=10000, percentiles=[5,50,95]),3))\n",
    "print(\"A and B White - FNR: \", np.round_(bootstrap(df_fairness[(df_fairness['A_White']==1)&(df_fairness['B_White']==1)], \\\n",
    "    agg_func=lambda df: df[(df['y_pred']==0)&(df['y_true']==1)]['id_A'].count()/df[df['y_pred']==0]['id_A'].count(), \\\n",
    "    num_bootstraps=10000, percentiles=[5,50,95]),3))\n",
    "print(\"\\n\")\n",
    "print(\"A and B Black - mean accuracy: \", np.round_(bootstrap(df_fairness[(df_fairness['A_Black']==1)&(df_fairness['B_Black']==1)], \\\n",
    "    agg_func=lambda df: df['correct_predict'].mean(), num_bootstraps=10000, percentiles=[5,50,95]),3))\n",
    "print(\"A and B Black - triplet accuracy: \", np.round_(bootstrap_by_pairs(df_fairness[(df_fairness['A_Black']==1)&(df_fairness['B_Black']==1)], \\\n",
    "    agg_func=lambda df: triplet_acc_fairness(df), num_bootstraps=100, percentiles=[5,50,95]), 3))\n",
    "print(\"A and B Black - FPR: \", np.round_(bootstrap(df_fairness[(df_fairness['A_Black']==1)&(df_fairness['B_Black']==1)], \\\n",
    "    agg_func=lambda df: df[(df['y_pred']==1)&(df['y_true']==0)]['id_A'].count()/df[df['y_pred']==1]['id_A'].count(), \\\n",
    "    num_bootstraps=10000, percentiles=[5,50,95]),3))\n",
    "print(\"A and B Black - FNR: \", np.round_(bootstrap(df_fairness[(df_fairness['A_Black']==1)&(df_fairness['B_Black']==1)], \\\n",
    "    agg_func=lambda df: df[(df['y_pred']==0)&(df['y_true']==1)]['id_A'].count()/df[df['y_pred']==0]['id_A'].count(), \\\n",
    "    num_bootstraps=10000, percentiles=[5,50,95]),3))\n",
    "print(\"\\n\")\n",
    "print(\"A and B Asian - mean accuracy: \", np.round_(bootstrap(df_fairness[(df_fairness['A_Asian']==1)&(df_fairness['B_Asian']==1)], \\\n",
    "    agg_func=lambda df: df['correct_predict'].mean(), num_bootstraps=10000, percentiles=[5,50,95]), 3))\n",
    "print(\"A and B Asian - triplet accuracy: \", np.round_(bootstrap_by_pairs(df_fairness[(df_fairness['A_Asian']==1)&(df_fairness['B_Asian']==1)], \\\n",
    "    agg_func=lambda df: triplet_acc_fairness(df), num_bootstraps=100, percentiles=[5,50,95]), 3))\n",
    "print(\"A and B Asian - FPR: \", np.round_(bootstrap(df_fairness[(df_fairness['A_Asian']==1)&(df_fairness['B_Asian']==1)], \\\n",
    "    agg_func=lambda df: df[(df['y_pred']==1)&(df['y_true']==0)]['id_A'].count()/df[df['y_pred']==1]['id_A'].count(), \\\n",
    "    num_bootstraps=10000, percentiles=[5,50,95]),3))\n",
    "print(\"A and B Asian - FNR: \", np.round_(bootstrap(df_fairness[(df_fairness['A_Asian']==1)&(df_fairness['B_Asian']==1)], \\\n",
    "    agg_func=lambda df: df[(df['y_pred']==0)&(df['y_true']==1)]['id_A'].count()/df[df['y_pred']==0]['id_A'].count(), \\\n",
    "    num_bootstraps=10000, percentiles=[5,50,95]),3))\n",
    "print(\"\\n\")\n",
    "print(\"A and B Indian - mean accuracy: \", np.round_(bootstrap(df_fairness[(df_fairness['A_Indian']==1)&(df_fairness['B_Indian']==1)], \\\n",
    "    agg_func=lambda df: df['correct_predict'].mean(), num_bootstraps=10000, percentiles=[5,50,95]),3))\n",
    "print(\"A and B Indian - triplet accuracy: \", np.round_(bootstrap_by_pairs(df_fairness[(df_fairness['A_Indian']==1)&(df_fairness['B_Indian']==1)], \\\n",
    "    agg_func=lambda df: triplet_acc_fairness(df), num_bootstraps=100, percentiles=[5,50,95]), 3))\n",
    "print(\"A and B Indian - FPR: \", np.round_(bootstrap(df_fairness[(df_fairness['A_Indian']==1)&(df_fairness['B_Indian']==1)], \\\n",
    "    agg_func=lambda df: df[(df['y_pred']==1)&(df['y_true']==0)]['id_A'].count()/df[df['y_pred']==1]['id_A'].count(), \\\n",
    "    num_bootstraps=10000, percentiles=[5,50,95]),3))\n",
    "print(\"A and B Indian - FNR: \", np.round_(bootstrap(df_fairness[(df_fairness['A_Indian']==1)&(df_fairness['B_Indian']==1)], \\\n",
    "    agg_func=lambda df: df[(df['y_pred']==0)&(df['y_true']==1)]['id_A'].count()/df[df['y_pred']==0]['id_A'].count(), \\\n",
    "    num_bootstraps=10000, percentiles=[5,50,95]),3))"
   ]
  },
  {
   "cell_type": "code",
   "execution_count": null,
   "metadata": {
    "tags": []
   },
   "outputs": [],
   "source": [
    "print(\"A and B Youth - mean accuracy: \", np.round_(bootstrap(df_fairness[(df_fairness['A_Youth']==1)&(df_fairness['B_Youth']==1)], \\\n",
    "    agg_func=lambda df: df['correct_predict'].mean(), num_bootstraps=10000, percentiles=[5,50,95]), 3))\n",
    "print(\"A and B Youth - triplet accuracy: \", np.round_(bootstrap_by_pairs(df_fairness[(df_fairness['A_Youth']==1)&(df_fairness['B_Youth']==1)], \\\n",
    "    agg_func=lambda df: triplet_acc_fairness(df), num_bootstraps=100, percentiles=[5,50,95]), 3))\n",
    "print(\"A and B Youth - FPR: \", np.round_(bootstrap(df_fairness[(df_fairness['A_Youth']==1)&(df_fairness['B_Youth']==1)], \\\n",
    "    agg_func=lambda df: df[(df['y_pred']==1)&(df['y_true']==0)]['id_A'].count()/df[df['y_pred']==1]['id_A'].count(), \\\n",
    "    num_bootstraps=10000, percentiles=[5,50,95]),3))\n",
    "print(\"A and B Youth - FNR: \", np.round_(bootstrap(df_fairness[(df_fairness['A_Youth']==1)&(df_fairness['B_Youth']==1)], \\\n",
    "    agg_func=lambda df: df[(df['y_pred']==0)&(df['y_true']==1)]['id_A'].count()/df[df['y_pred']==0]['id_A'].count(), \\\n",
    "    num_bootstraps=10000, percentiles=[5,50,95]),3))\n",
    "print(\"\\n\")\n",
    "print(\"A and B Senior - mean accuracy: \", np.round_(bootstrap(df_fairness[(df_fairness['A_Senior']==1)&(df_fairness['B_Senior']==1)], \\\n",
    "    agg_func=lambda df: df['correct_predict'].mean(), num_bootstraps=10000, percentiles=[5,50,95]),3))\n",
    "print(\"A and B Senior - triplet accuracy: \", np.round_(bootstrap_by_pairs(df_fairness[(df_fairness['A_Senior']==1)&(df_fairness['B_Senior']==1)], \\\n",
    "    agg_func=lambda df: triplet_acc_fairness(df), num_bootstraps=100, percentiles=[5,50,95]), 3))\n",
    "print(\"A and B Senior - FPR: \", np.round_(bootstrap(df_fairness[(df_fairness['A_Senior']==1)&(df_fairness['B_Senior']==1)], \\\n",
    "    agg_func=lambda df: df[(df['y_pred']==1)&(df['y_true']==0)]['id_A'].count()/df[df['y_pred']==1]['id_A'].count(), \\\n",
    "    num_bootstraps=10000, percentiles=[5,50,95]),3))\n",
    "print(\"A and B Senior - FNR: \", np.round_(bootstrap(df_fairness[(df_fairness['A_Senior']==1)&(df_fairness['B_Senior']==1)], \\\n",
    "    agg_func=lambda df: df[(df['y_pred']==0)&(df['y_true']==1)]['id_A'].count()/df[df['y_pred']==0]['id_A'].count(), \\\n",
    "    num_bootstraps=10000, percentiles=[5,50,95]),3))"
   ]
  },
  {
   "cell_type": "code",
   "execution_count": null,
   "metadata": {
    "tags": []
   },
   "outputs": [],
   "source": [
    "print(\"A and B Sunglasses - mean accuracy: \", np.round_(bootstrap(df_fairness[(df_fairness['A_Sunglasses']==1)&(df_fairness['B_Sunglasses']==1)], \\\n",
    "    agg_func=lambda df: df['correct_predict'].mean(), num_bootstraps=10000, percentiles=[5,50,95]), 3))\n",
    "print(\"A and B Sunglasses - triplet accuracy: \", np.round_(bootstrap_by_pairs(df_fairness[(df_fairness['A_Sunglasses']==1)&(df_fairness['B_Sunglasses']==1)], \\\n",
    "    agg_func=lambda df: triplet_acc_fairness(df), num_bootstraps=100, percentiles=[5,50,95]), 3))\n",
    "print(\"A and B Sunglasses - FPR: \", np.round_(bootstrap(df_fairness[(df_fairness['A_Sunglasses']==1)&(df_fairness['B_Sunglasses']==1)], \\\n",
    "    agg_func=lambda df: df[(df['y_pred']==1)&(df['y_true']==0)]['id_A'].count()/df[df['y_pred']==1]['id_A'].count(), \\\n",
    "    num_bootstraps=10000, percentiles=[5,50,95]),3))\n",
    "print(\"A and B Sunglasses - FNR: \", np.round_(bootstrap(df_fairness[(df_fairness['A_Sunglasses']==1)&(df_fairness['B_Sunglasses']==1)], \\\n",
    "    agg_func=lambda df: df[(df['y_pred']==0)&(df['y_true']==1)]['id_A'].count()/df[df['y_pred']==0]['id_A'].count(), \\\n",
    "    num_bootstraps=10000, percentiles=[5,50,95]),3))\n",
    "print(\"\\n\")\n",
    "print(\"A and B Non Sunglasses - mean accuracy: \", np.round_(bootstrap(df_fairness[(df_fairness['A_Sunglasses']==0)&(df_fairness['B_Sunglasses']==0)], \\\n",
    "    agg_func=lambda df: df['correct_predict'].mean(), num_bootstraps=10000, percentiles=[5,50,95]),3))\n",
    "print(\"A and B Non Sunglasses - triplet accuracy: \", np.round_(bootstrap_by_pairs(df_fairness[(df_fairness['A_Sunglasses']==0)&(df_fairness['B_Sunglasses']==0)], \\\n",
    "    agg_func=lambda df: triplet_acc_fairness(df), num_bootstraps=100, percentiles=[5,50,95]), 3))\n",
    "print(\"A and B Non Sunglasses - FPR: \", np.round_(bootstrap(df_fairness[(df_fairness['A_Sunglasses']==0)&(df_fairness['B_Sunglasses']==0)], \\\n",
    "    agg_func=lambda df: df[(df['y_pred']==1)&(df['y_true']==0)]['id_A'].count()/df[df['y_pred']==1]['id_A'].count(), \\\n",
    "    num_bootstraps=10000, percentiles=[5,50,95]),3))\n",
    "print(\"A and B Non Sunglasses - FNR: \", np.round_(bootstrap(df_fairness[(df_fairness['A_Sunglasses']==0)&(df_fairness['B_Sunglasses']==0)], \\\n",
    "    agg_func=lambda df: df[(df['y_pred']==0)&(df['y_true']==1)]['id_A'].count()/df[df['y_pred']==0]['id_A'].count(), \\\n",
    "    num_bootstraps=10000, percentiles=[5,50,95]),3))"
   ]
  },
  {
   "cell_type": "markdown",
   "metadata": {},
   "source": [
    "### PLOTS"
   ]
  },
  {
   "cell_type": "code",
   "execution_count": null,
   "metadata": {},
   "outputs": [],
   "source": [
    "def results(df_fairness, analysis):\n",
    "    \n",
    "    a_list = []\n",
    "    b_list = []\n",
    "    c_list = []\n",
    "    \n",
    "    # Male vs Non Male\n",
    "    if analysis == \"gender\":\n",
    "\n",
    "        b,a,c = np.round_(bootstrap(df_fairness[(df_fairness['A_Male']==1)&(df_fairness['B_Male']==1)], \\\n",
    "            agg_func=lambda df: df['correct_predict'].mean(), num_bootstraps=1000, percentiles=[5,50,95]), 3)\n",
    "        a_list.append(a)\n",
    "        b_list.append(b)\n",
    "        c_list.append(c)\n",
    "        print(f\"Male - accuracy: {a} ({b}-{c})\")\n",
    "        b,a,c = np.round_(bootstrap_by_pairs(df_fairness[(df_fairness['A_Male']==1)&(df_fairness['B_Male']==1)], \\\n",
    "            agg_func=lambda df: triplet_acc_fairness(df), num_bootstraps=1000, percentiles=[5,50,95]), 3)\n",
    "        a_list.append(a)\n",
    "        b_list.append(b)\n",
    "        c_list.append(c)\n",
    "        print(f\"Male - triplet accuracy: {a} ({b}-{c})\")\n",
    "        b,a,c = np.round_(bootstrap(df_fairness[(df_fairness['A_Male']==1)&(df_fairness['B_Male']==1)], \\\n",
    "            agg_func=lambda df: df[(df['y_pred']==1)&(df['y_true']==0)]['id_A'].count()/df[df['y_pred']==1]['id_A'].count(), \\\n",
    "            num_bootstraps=1000, percentiles=[5,50,95]),3)\n",
    "        a_list.append(a)\n",
    "        b_list.append(b)\n",
    "        c_list.append(c)\n",
    "        print(f\"Male - FPR: {a} ({b}-{c})\")\n",
    "        b,a,c = np.round_(bootstrap(df_fairness[(df_fairness['A_Male']==1)&(df_fairness['B_Male']==1)], \\\n",
    "            agg_func=lambda df: df[(df['y_pred']==0)&(df['y_true']==1)]['id_A'].count()/df[df['y_pred']==0]['id_A'].count(), \\\n",
    "            num_bootstraps=1000, percentiles=[5,50,95]),3)\n",
    "        a_list.append(a)\n",
    "        b_list.append(b)\n",
    "        c_list.append(c)\n",
    "        print(f\"Male - FNR: {a} ({b}-{c})\")\n",
    "        print(\"\\n\")\n",
    "        b,a,c = np.round_(bootstrap(df_fairness[(df_fairness['A_Male']==0)&(df_fairness['B_Male']==0)], \\\n",
    "            agg_func=lambda df: df['correct_predict'].mean(), num_bootstraps=1000, percentiles=[5,50,95]),3)\n",
    "        a_list.append(a)\n",
    "        b_list.append(b)\n",
    "        c_list.append(c)\n",
    "        print(f\"Non Male - accuracy: {a} ({b}-{c})\")\n",
    "        b,a,c = np.round_(bootstrap_by_pairs(df_fairness[(df_fairness['A_Male']==0)&(df_fairness['B_Male']==0)], \\\n",
    "            agg_func=lambda df: triplet_acc_fairness(df), num_bootstraps=1000, percentiles=[5,50,95]), 3)\n",
    "        a_list.append(a)\n",
    "        b_list.append(b)\n",
    "        c_list.append(c)\n",
    "        print(f\"Non Male - triplet accuracy: {a} ({b}-{c})\")\n",
    "        b,a,c = np.round_(bootstrap(df_fairness[(df_fairness['A_Male']==0)&(df_fairness['B_Male']==0)], \\\n",
    "            agg_func=lambda df: df[(df['y_pred']==1)&(df['y_true']==0)]['id_A'].count()/df[df['y_pred']==1]['id_A'].count(), \\\n",
    "            num_bootstraps=1000, percentiles=[5,50,95]),3)\n",
    "        a_list.append(a)\n",
    "        b_list.append(b)\n",
    "        c_list.append(c)\n",
    "        print(f\"Non Male - FPR: {a} ({b}-{c})\")\n",
    "        b,a,c = np.round_(bootstrap(df_fairness[(df_fairness['A_Male']==0)&(df_fairness['B_Male']==0)], \\\n",
    "            agg_func=lambda df: df[(df['y_pred']==0)&(df['y_true']==1)]['id_A'].count()/df[df['y_pred']==0]['id_A'].count(), \\\n",
    "            num_bootstraps=1000, percentiles=[5,50,95]),3)\n",
    "        a_list.append(a)\n",
    "        b_list.append(b)\n",
    "        c_list.append(c)\n",
    "        print(f\"Non Male - FNR: {a} ({b}-{c})\")\n",
    "        print(\"\\n\")\n",
    "        \n",
    "    elif analysis == \"color\":\n",
    "        \n",
    "        b,a,c = np.round_(bootstrap(df_fairness[(df_fairness['A_White']==1)&(df_fairness['B_White']==1)], \\\n",
    "            agg_func=lambda df: df['correct_predict'].mean(), num_bootstraps=1000, percentiles=[5,50,95]), 3)\n",
    "        a_list.append(a)\n",
    "        b_list.append(b)\n",
    "        c_list.append(c)\n",
    "        print(f\"White - accuracy: {a} ({b}-{c})\")\n",
    "        b,a,c = np.round_(bootstrap_by_pairs(df_fairness[(df_fairness['A_White']==1)&(df_fairness['B_White']==1)], \\\n",
    "            agg_func=lambda df: triplet_acc_fairness(df), num_bootstraps=1000, percentiles=[5,50,95]), 3)\n",
    "        a_list.append(a)\n",
    "        b_list.append(b)\n",
    "        c_list.append(c)\n",
    "        print(f\"White - triplet accuracy: {a} ({b}-{c})\")\n",
    "        b,a,c = np.round_(bootstrap(df_fairness[(df_fairness['A_White']==1)&(df_fairness['B_White']==1)], \\\n",
    "            agg_func=lambda df: df[(df['y_pred']==1)&(df['y_true']==0)]['id_A'].count()/df[df['y_pred']==1]['id_A'].count(), \\\n",
    "            num_bootstraps=1000, percentiles=[5,50,95]),3)\n",
    "        a_list.append(a)\n",
    "        b_list.append(b)\n",
    "        c_list.append(c)\n",
    "        print(f\"White - FPR: {a} ({b}-{c})\")\n",
    "        b,a,c = np.round_(bootstrap(df_fairness[(df_fairness['A_White']==1)&(df_fairness['B_White']==1)], \\\n",
    "            agg_func=lambda df: df[(df['y_pred']==0)&(df['y_true']==1)]['id_A'].count()/df[df['y_pred']==0]['id_A'].count(), \\\n",
    "            num_bootstraps=1000, percentiles=[5,50,95]),3)\n",
    "        a_list.append(a)\n",
    "        b_list.append(b)\n",
    "        c_list.append(c)\n",
    "        print(f\"White - FNR: {a} ({b}-{c})\")\n",
    "        print(\"\\n\")\n",
    "        b,a,c = np.round_(bootstrap(df_fairness[(df_fairness['A_White']==0)&(df_fairness['B_White']==0)], \\\n",
    "            agg_func=lambda df: df['correct_predict'].mean(), num_bootstraps=1000, percentiles=[5,50,95]), 3)\n",
    "        a_list.append(a)\n",
    "        b_list.append(b)\n",
    "        c_list.append(c)\n",
    "        print(f\"Non-White - accuracy: {a} ({b}-{c})\")\n",
    "        b,a,c = np.round_(bootstrap_by_pairs(df_fairness[(df_fairness['A_White']==0)&(df_fairness['B_White']==0)], \\\n",
    "            agg_func=lambda df: triplet_acc_fairness(df), num_bootstraps=1000, percentiles=[5,50,95]), 3)\n",
    "        a_list.append(a)\n",
    "        b_list.append(b)\n",
    "        c_list.append(c)\n",
    "        print(f\"Non-White - triplet accuracy: {a} ({b}-{c})\")\n",
    "        b,a,c = np.round_(bootstrap(df_fairness[(df_fairness['A_White']==0)&(df_fairness['B_White']==0)], \\\n",
    "            agg_func=lambda df: df[(df['y_pred']==1)&(df['y_true']==0)]['id_A'].count()/df[df['y_pred']==1]['id_A'].count(), \\\n",
    "            num_bootstraps=1000, percentiles=[5,50,95]),3)\n",
    "        a_list.append(a)\n",
    "        b_list.append(b)\n",
    "        c_list.append(c)\n",
    "        print(f\"Non-White - FPR: {a} ({b}-{c})\")\n",
    "        b,a,c = np.round_(bootstrap(df_fairness[(df_fairness['A_White']==0)&(df_fairness['B_White']==0)], \\\n",
    "            agg_func=lambda df: df[(df['y_pred']==0)&(df['y_true']==1)]['id_A'].count()/df[df['y_pred']==0]['id_A'].count(), \\\n",
    "            num_bootstraps=1000, percentiles=[5,50,95]),3)\n",
    "        a_list.append(a)\n",
    "        b_list.append(b)\n",
    "        c_list.append(c)\n",
    "        print(f\"Non-White - FNR: {a} ({b}-{c})\")\n",
    "        print(\"\\n\")\n",
    "        b,a,c = np.round_(bootstrap(df_fairness[(df_fairness['A_Black']==1)&(df_fairness['B_Black']==1)], \\\n",
    "            agg_func=lambda df: df['correct_predict'].mean(), num_bootstraps=1000, percentiles=[5,50,95]),3)\n",
    "        a_list.append(a)\n",
    "        b_list.append(b)\n",
    "        c_list.append(c)\n",
    "        print(f\"Black - accuracy: {a} ({b}-{c})\")\n",
    "        b,a,c = np.round_(bootstrap_by_pairs(df_fairness[(df_fairness['A_Black']==1)&(df_fairness['B_Black']==1)], \\\n",
    "            agg_func=lambda df: triplet_acc_fairness(df), num_bootstraps=1000, percentiles=[5,50,95]), 3)\n",
    "        a_list.append(a)\n",
    "        b_list.append(b)\n",
    "        c_list.append(c)\n",
    "        print(f\"Black - triplet accuracy: {a} ({b}-{c})\")\n",
    "        b,a,c = np.round_(bootstrap(df_fairness[(df_fairness['A_Black']==1)&(df_fairness['B_Black']==1)], \\\n",
    "            agg_func=lambda df: df[(df['y_pred']==1)&(df['y_true']==0)]['id_A'].count()/df[df['y_pred']==1]['id_A'].count(), \\\n",
    "            num_bootstraps=1000, percentiles=[5,50,95]),3)\n",
    "        a_list.append(a)\n",
    "        b_list.append(b)\n",
    "        c_list.append(c)\n",
    "        print(f\"Black - FPR: {a} ({b}-{c})\")\n",
    "        b,a,c = np.round_(bootstrap(df_fairness[(df_fairness['A_Black']==1)&(df_fairness['B_Black']==1)], \\\n",
    "            agg_func=lambda df: df[(df['y_pred']==0)&(df['y_true']==1)]['id_A'].count()/df[df['y_pred']==0]['id_A'].count(), \\\n",
    "            num_bootstraps=1000, percentiles=[5,50,95]),3)\n",
    "        a_list.append(a)\n",
    "        b_list.append(b)\n",
    "        c_list.append(c)\n",
    "        print(f\"Black - FNR: {a} ({b}-{c})\")\n",
    "        print(\"\\n\")\n",
    "        \n",
    "    elif analysis == \"intersectional\":\n",
    "    \n",
    "        b,a,c = np.round_(bootstrap(df_fairness[df_fairness['AB_WhiteMale']==1], \\\n",
    "        agg_func=lambda df: df['correct_predict'].mean(), num_bootstraps=1000, percentiles=[5,50,95]), 3)\n",
    "        a_list.append(a)\n",
    "        b_list.append(b)\n",
    "        c_list.append(c)\n",
    "        print(f\"White Male - accuracy: {a} ({b}-{c})\")\n",
    "        b,a,c = np.round_(bootstrap_by_pairs(df_fairness[df_fairness['AB_WhiteMale']==1], \\\n",
    "            agg_func=lambda df: triplet_acc_fairness(df), num_bootstraps=1000, percentiles=[5,50,95]), 3)\n",
    "        a_list.append(a)\n",
    "        b_list.append(b)\n",
    "        c_list.append(c)\n",
    "        print(f\"White Male - triplet accuracy: {a} ({b}-{c})\")\n",
    "        b,a,c = np.round_(bootstrap(df_fairness[df_fairness['AB_WhiteMale']==1], \\\n",
    "            agg_func=lambda df: df[(df['y_pred']==1)&(df['y_true']==0)]['id_A'].count()/df[df['y_pred']==1]['id_A'].count(), \\\n",
    "            num_bootstraps=1000, percentiles=[5,50,95]),3)\n",
    "        a_list.append(a)\n",
    "        b_list.append(b)\n",
    "        c_list.append(c)\n",
    "        print(f\"White Male - FPR: {a} ({b}-{c})\")\n",
    "        b,a,c = np.round_(bootstrap(df_fairness[df_fairness['AB_WhiteMale']==1], \\\n",
    "            agg_func=lambda df: df[(df['y_pred']==0)&(df['y_true']==1)]['id_A'].count()/df[df['y_pred']==0]['id_A'].count(), \\\n",
    "            num_bootstraps=1000, percentiles=[5,50,95]),3)\n",
    "        a_list.append(a)\n",
    "        b_list.append(b)\n",
    "        c_list.append(c)\n",
    "        print(f\"White Male - FNR: {a} ({b}-{c})\")\n",
    "        print(\"\\n\")\n",
    "        b,a,c = np.round_(bootstrap(df_fairness[df_fairness['AB_NoWhiteMale']==1], \\\n",
    "            agg_func=lambda df: df['correct_predict'].mean(), num_bootstraps=1000, percentiles=[5,50,95]),3)\n",
    "        a_list.append(a)\n",
    "        b_list.append(b)\n",
    "        c_list.append(c)\n",
    "        print(f\"Non-White Female - accuracy: {a} ({b}-{c})\")\n",
    "        b,a,c = np.round_(bootstrap_by_pairs(df_fairness[df_fairness['AB_NoWhiteMale']==1], \\\n",
    "            agg_func=lambda df: triplet_acc_fairness(df), num_bootstraps=1000, percentiles=[5,50,95]), 3)\n",
    "        a_list.append(a)\n",
    "        b_list.append(b)\n",
    "        c_list.append(c)\n",
    "        print(f\"Non-White Female - triplet accuracy: {a} ({b}-{c})\")\n",
    "        b,a,c = np.round_(bootstrap(df_fairness[df_fairness['AB_NoWhiteMale']==1], \\\n",
    "            agg_func=lambda df: df[(df['y_pred']==1)&(df['y_true']==0)]['id_A'].count()/df[df['y_pred']==1]['id_A'].count(), \\\n",
    "            num_bootstraps=1000, percentiles=[5,50,95]),3)\n",
    "        a_list.append(a)\n",
    "        b_list.append(b)\n",
    "        c_list.append(c)\n",
    "        print(f\"Non-White Female - FPR: {a} ({b}-{c})\")\n",
    "        b,a,c = np.round_(bootstrap(df_fairness[df_fairness['AB_NoWhiteMale']==1], \\\n",
    "            agg_func=lambda df: df[(df['y_pred']==0)&(df['y_true']==1)]['id_A'].count()/df[df['y_pred']==0]['id_A'].count(), \\\n",
    "            num_bootstraps=1000, percentiles=[5,50,95]),3)\n",
    "        a_list.append(a)\n",
    "        b_list.append(b)\n",
    "        c_list.append(c)\n",
    "        print(f\"Non-White Female - FNR: {a} ({b}-{c})\")\n",
    "        print(\"\\n\")\n",
    "        b,a,c = np.round_(bootstrap(df_fairness[(df_fairness['A_Black']==1)&(df_fairness['B_Black']==1)&(df_fairness['A_Male']==0)&(df_fairness['B_Male']==0)], \\\n",
    "            agg_func=lambda df: df['correct_predict'].mean(), num_bootstraps=1000, percentiles=[5,50,95]),3)\n",
    "        a_list.append(a)\n",
    "        b_list.append(b)\n",
    "        c_list.append(c)\n",
    "        print(f\"Black Female - accuracy: {a} ({b}-{c})\")\n",
    "        b,a,c = np.round_(bootstrap_by_pairs(df_fairness[(df_fairness['A_Black']==1)&(df_fairness['B_Black']==1)&(df_fairness['A_Male']==0)&(df_fairness['B_Male']==0)], \\\n",
    "            agg_func=lambda df: triplet_acc_fairness(df), num_bootstraps=1000, percentiles=[5,50,95]), 3)\n",
    "        a_list.append(a)\n",
    "        b_list.append(b)\n",
    "        c_list.append(c)\n",
    "        print(f\"Black Female - triplet accuracy: {a} ({b}-{c})\")\n",
    "        b,a,c = np.round_(bootstrap(df_fairness[(df_fairness['A_Black']==1)&(df_fairness['B_Black']==1)&(df_fairness['A_Male']==0)&(df_fairness['B_Male']==0)], \\\n",
    "            agg_func=lambda df: df[(df['y_pred']==1)&(df['y_true']==0)]['id_A'].count()/df[df['y_pred']==1]['id_A'].count(), \\\n",
    "            num_bootstraps=1000, percentiles=[5,50,95]),3)\n",
    "        a_list.append(a)\n",
    "        b_list.append(b)\n",
    "        c_list.append(c)\n",
    "        print(f\"Black Female - FPR: {a} ({b}-{c})\")\n",
    "        b,a,c = np.round_(bootstrap(df_fairness[(df_fairness['A_Black']==1)&(df_fairness['B_Black']==1)&(df_fairness['A_Male']==0)&(df_fairness['B_Male']==0)], \\\n",
    "            agg_func=lambda df: df[(df['y_pred']==0)&(df['y_true']==1)]['id_A'].count()/df[df['y_pred']==0]['id_A'].count(), \\\n",
    "            num_bootstraps=1000, percentiles=[5,50,95]),3)\n",
    "        a_list.append(a)\n",
    "        b_list.append(b)\n",
    "        c_list.append(c)\n",
    "        print(f\"Black Female - FNR: {a} ({b}-{c})\")\n",
    "        print(\"\\n\")\n",
    "\n",
    "        \n",
    "    else:\n",
    "        print(\"Please select a correct analysis\")\n",
    "        \n",
    "    return a_list, b_list, c_list"
   ]
  },
  {
   "cell_type": "code",
   "execution_count": null,
   "metadata": {},
   "outputs": [],
   "source": [
    "def compute_x(nb_model,nb_analysis,delta):\n",
    "    metric_x = range(nb_model)\n",
    "    nb_ligne = nb_analysis//2\n",
    "    milieu = nb_analysis%2\n",
    "    plus_metric_x = [x+ i * delta for i in range(-nb_ligne, nb_ligne+1) for x in metric_x]\n",
    "    if milieu == 0:\n",
    "        for x in metric_x :\n",
    "            plus_metric_x.remove(x)\n",
    "    plus_metric_x.sort()\n",
    "    return plus_metric_x"
   ]
  },
  {
   "cell_type": "code",
   "execution_count": null,
   "metadata": {},
   "outputs": [],
   "source": [
    "print(\"\\n\") \n",
    "\n",
    "\n",
    "print(\"------------------------------------------------\")\n",
    "print(\"GENDER ANALYSIS\")\n",
    "print(\"------------------------------------------------\")\n",
    "print(\"\\n\")\n",
    "\n",
    "if study == 'sampling':\n",
    "    print(\"Base sampling\")\n",
    "    a_gender_base, b_gender_base, c_gender_base = results(df_fairness_base, \"gender\")\n",
    "    print(\"Random sampling\")\n",
    "    results(df_fairness_randomsample, \"gender\")\n",
    "    \n",
    "elif study == 'normalization':\n",
    "    print(\"Base\")\n",
    "    a_gender_base, b_gender_base, c_gender_base = results(df_fairness_base, \"gender\")\n",
    "    print(\"Normalized\")\n",
    "    results(df_fairness_normalized, \"gender\")\n",
    "    \n",
    "elif study == 'augmentation':\n",
    "    print(\"Base augmentation\")\n",
    "    a_gender_base, b_gender_base, c_gender_base = results(df_fairness_base, \"gender\")\n",
    "    print(\"No augmentation\")\n",
    "    results(df_fairness_no_augment, \"gender\")\n",
    "    print(\"High zoom\")\n",
    "    results(df_fairness_high_zoom, \"gender\")\n",
    "    print(\"High deformation\")\n",
    "    results(df_fairness_deformation_double, \"gender\")\n",
    "    print(\"High color jitter\")\n",
    "    results(df_fairness_jitter_double, \"gender\")\n",
    "    print(\"High rotation\")\n",
    "    results(df_fairness_high_rotation, \"gender\")\n",
    "    \n",
    "elif study == 'depth':\n",
    "    print(\"Depth 16\")\n",
    "    a_gender_depth16, b_gender_depth16, c_gender_depth16 = results(df_fairness_depth16, \"gender\")\n",
    "    print(\"Depth 32\")\n",
    "    a_gender_base, b_gender_base, c_gender_base = results(df_fairness_base, \"gender\")\n",
    "    print(\"Depth 64\")\n",
    "    results(df_fairness_depth64, \"gender\")\n",
    "\n",
    "elif study == 'margin':\n",
    "\n",
    "    print(\"Margin 1\")\n",
    "    results(df_fairness_margin1, \"gender\")\n",
    "    print(\"Margin 0.5\")\n",
    "    results(df_fairness_margin05, \"gender\")\n",
    "    print(\"Margin 0.2\")\n",
    "    a_gender_base, b_gender_base, c_gender_base = results(df_fairness_base, \"gender\")\n",
    "    print(\"Margin 0.1\")\n",
    "    results(df_fairness_margin01, \"gender\")\n",
    "    \n",
    "elif study == 'lr':\n",
    "    print(\"lr 5.10-4, scheduler starting at epoch 200\")\n",
    "    a_gender_base, b_gender_base, c_gender_base = results(df_fairness_base, \"gender\")\n",
    "    print(\"lr 10-3\")\n",
    "    results(df_fairness_lr3, \"gender\")\n",
    "    print(\"lr 10-4\")\n",
    "    results(df_fairness_lr4, \"gender\")\n",
    "    print(\"lr scheduler starting at epoch 100\")\n",
    "    results(df_fairness_lrschedule100, \"gender\")\n",
    "    print(\"lr scheduler starting at epoch 300\")\n",
    "    results(df_fairness_lrschedule300, \"gender\")\n",
    "\n",
    "elif study == 'threshold':\n",
    "    print(\"Low threshold\")\n",
    "    results(df_fairness_lowthrd, \"gender\")\n",
    "    print(\"Automatic threshold\")\n",
    "    a_gender_base, b_gender_base, c_gender_base = results(df_fairness_base, \"gender\")\n",
    "    print(\"High threshold\")\n",
    "    results(df_fairness_highthrd, \"gender\")\n",
    "\n",
    "                                                \n",
    "print(\"------------------------------------------------\")\n",
    "print(\"SKIN COLOR ANALYSIS\")\n",
    "print(\"------------------------------------------------\")\n",
    "print(\"\\n\")                                               \n",
    "\n",
    "if study == 'sampling':\n",
    "    print(\"Base sampling\")\n",
    "    results(df_fairness_base, \"color\")\n",
    "    print(\"Random sampling\")\n",
    "    results(df_fairness_randomsample, \"color\")\n",
    "    \n",
    "elif study == 'normalization':\n",
    "    print(\"Base\")\n",
    "    results(df_fairness_base, \"color\")\n",
    "    print(\"Normalized\")\n",
    "    results(df_fairness_normalized, \"color\")\n",
    "    \n",
    "elif study == 'augmentation':\n",
    "    print(\"Base augmentation\")\n",
    "    results(df_fairness_base, \"color\")\n",
    "    print(\"No augmentation\")\n",
    "    results(df_fairness_no_augment, \"color\")\n",
    "    print(\"High zoom\")\n",
    "    results(df_fairness_high_zoom, \"color\")\n",
    "    print(\"High deformation\")\n",
    "    results(df_fairness_deformation_double, \"color\")\n",
    "    print(\"High color jitter\")\n",
    "    results(df_fairness_jitter_double, \"color\")\n",
    "    print(\"High rotation\")\n",
    "    results(df_fairness_high_rotation, \"color\")\n",
    "    \n",
    "elif study == 'depth':\n",
    "    print(\"Depth 16\")\n",
    "    results(df_fairness_depth16, \"color\")\n",
    "    print(\"Depth 32\")\n",
    "    results(df_fairness_base, \"color\")\n",
    "    print(\"Depth 64\")\n",
    "    results(df_fairness_depth64, \"color\")\n",
    "\n",
    "elif study == 'margin':\n",
    "    print(\"Margin 1\")\n",
    "    results(df_fairness_margin1, \"color\")\n",
    "    print(\"Margin 0.5\")\n",
    "    results(df_fairness_margin05, \"color\")\n",
    "    print(\"Margin 0.2\")\n",
    "    results(df_fairness_base, \"color\")\n",
    "    print(\"Margin 0.1\")\n",
    "    results(df_fairness_margin01, \"color\")\n",
    "    \n",
    "elif study == 'lr':\n",
    "    print(\"lr 5.10-4, scheduler starting at epoch 200\")\n",
    "    results(df_fairness_base, \"color\")\n",
    "    print(\"lr 10-3\")\n",
    "    results(df_fairness_lr3, \"color\")\n",
    "    print(\"lr 10-4\")\n",
    "    results(df_fairness_lr4, \"color\")\n",
    "    print(\"lr scheduler starting at epoch 100\")\n",
    "    results(df_fairness_lrschedule100, \"color\")\n",
    "    print(\"lr scheduler starting at epoch 300\")\n",
    "    results(df_fairness_lrschedule300, \"color\")\n",
    "\n",
    "elif study == 'threshold':\n",
    "    print(\"Low threshold\")\n",
    "    results(df_fairness_lowthrd, \"color\")\n",
    "    print(\"Automatic threshold\")\n",
    "    results(df_fairness_base, \"color\")\n",
    "    print(\"High threshold\")\n",
    "    results(df_fairness_highthrd, \"color\")\n",
    "\n",
    "\n",
    "print(\"------------------------------------------------\")\n",
    "print(\"INTERSECTIONAL ANALYSIS\")\n",
    "print(\"------------------------------------------------\")\n",
    "print(\"\\n\")\n",
    "\n",
    "if study == 'sampling':\n",
    "    print(\"Base sampling\")\n",
    "    results(df_fairness_base, \"intersectional\")\n",
    "    print(\"Random sampling\")\n",
    "    results(df_fairness_randomsample, \"intersectional\")\n",
    "    \n",
    "elif study == 'normalization':\n",
    "    print(\"Base\")\n",
    "    results(df_fairness_base, \"intersectional\")\n",
    "    print(\"Normalized\")\n",
    "    results(df_fairness_normalized, \"intersectional\")\n",
    "    \n",
    "elif study == 'augmentation':\n",
    "    print(\"Base augmentation\")\n",
    "    results(df_fairness_base, \"intersectional\")\n",
    "    print(\"No augmentation\")\n",
    "    results(df_fairness_no_augment, \"intersectional\")\n",
    "    print(\"High zoom\")\n",
    "    results(df_fairness_high_zoom, \"intersectional\")\n",
    "    print(\"High deformation\")\n",
    "    results(df_fairness_deformation_double, \"intersectional\")\n",
    "    print(\"High color jitter\")\n",
    "    results(df_fairness_jitter_double, \"intersectional\")\n",
    "    print(\"High rotation\")\n",
    "    results(df_fairness_high_rotation, \"intersectional\")\n",
    "    \n",
    "elif study == 'depth':\n",
    "    print(\"Depth 16\")\n",
    "    results(df_fairness_depth16, \"intersectional\")\n",
    "    print(\"Depth 32\")\n",
    "    results(df_fairness_base, \"intersectional\")\n",
    "    print(\"Depth 64\")\n",
    "    results(df_fairness_depth64, \"intersectional\")\n",
    "                                                \n",
    "elif study == 'margin':\n",
    "    print(\"Margin 1\")\n",
    "    results(df_fairness_margin1, \"intersectional\")\n",
    "    print(\"Margin 0.5\")\n",
    "    results(df_fairness_margin05, \"intersectional\")\n",
    "    print(\"Margin 0.2\")\n",
    "    results(df_fairness_base, \"intersectional\")\n",
    "    print(\"Margin 0.1\")\n",
    "    results(df_fairness_margin01, \"intersectional\")\n",
    "    \n",
    "elif study == 'lr':\n",
    "    print(\"lr 5.10-4, scheduler starting at epoch 200\")\n",
    "    results(df_fairness_base, \"intersectional\")\n",
    "    print(\"lr 10-3\")\n",
    "    results(df_fairness_lr3, \"intersectional\")\n",
    "    print(\"lr 10-4\")\n",
    "    results(df_fairness_lr4, \"intersectional\")\n",
    "    print(\"lr scheduler starting at epoch 100\")\n",
    "    results(df_fairness_lrschedule100, \"intersectional\")\n",
    "    print(\"lr scheduler starting at epoch 300\")\n",
    "    results(df_fairness_lrschedule300, \"intersectional\")\n",
    "\n",
    "elif study == 'threshold':\n",
    "    print(\"Low threshold\")\n",
    "    results(df_fairness_lowthrd, \"intersectional\")\n",
    "    print(\"Automatic threshold\")\n",
    "    results(df_fairness_base, \"intersectional\")\n",
    "    print(\"High threshold\")\n",
    "    results(df_fairness_highthrd, \"intersectional\")"
   ]
  },
  {
   "cell_type": "code",
   "execution_count": null,
   "metadata": {},
   "outputs": [],
   "source": [
    "print(\"Base sampling\")\n",
    "a_gender_base, b_gender_base, c_gender_base = results(df_fairness_base, \"gender\")\n",
    "print(\"Random sampling\")\n",
    "a_gender_random, b_gender_random, c_gender_random = results(df_fairness_randomsample, \"gender\")"
   ]
  },
  {
   "cell_type": "code",
   "execution_count": null,
   "metadata": {},
   "outputs": [],
   "source": [
    "x = compute_x(2,2,0.2)\n",
    "x_ticks = ['base male', 'base female','random male','random female']\n",
    "\n",
    "plot1 = [a_gender_base[0], a_gender_base[4], a_gender_random[0], a_gender_random[4]]\n",
    "plot2 = [a_gender_base[1], a_gender_base[5], a_gender_random[1], a_gender_random[5]]\n",
    "plot3 = [a_gender_base[2], a_gender_base[6], a_gender_random[2], a_gender_random[6]]\n",
    "plot4 = [a_gender_base[3], a_gender_base[7], a_gender_random[3], a_gender_random[7]]"
   ]
  },
  {
   "cell_type": "code",
   "execution_count": null,
   "metadata": {},
   "outputs": [],
   "source": [
    "fig, axs = plt.subplots(4, figsize=(12, 15))\n",
    "\n",
    "axs[0].plot(x, plot1, '.', color='red')\n",
    "axs[0].vlines(x[0], ymin=b_gender_base[0], ymax=c_gender_base[0], color='red')\n",
    "axs[0].vlines(x[1], ymin=b_gender_base[4], ymax=c_gender_base[4], color='red')\n",
    "axs[0].vlines(x[2], ymin=b_gender_random[0], ymax=c_gender_random[0], color='red')\n",
    "axs[0].vlines(x[3], ymin=b_gender_random[4], ymax=c_gender_random[4], color='red')\n",
    "axs[0].grid()\n",
    "axs[0].set_title('Accuracy')\n",
    "axs[0].set_xticks(x,x_ticks)\n",
    "\n",
    "axs[1].plot(x, plot2, '.', color='red')\n",
    "axs[1].vlines(x[0], ymin=b_gender_base[1], ymax=c_gender_base[1], color='red')\n",
    "axs[1].vlines(x[1], ymin=b_gender_base[5], ymax=c_gender_base[5], color='red')\n",
    "axs[1].vlines(x[2], ymin=b_gender_random[1], ymax=c_gender_random[1], color='red')\n",
    "axs[1].vlines(x[3], ymin=b_gender_random[5], ymax=c_gender_random[5], color='red')\n",
    "axs[1].grid()\n",
    "axs[1].set_title('TLR')\n",
    "axs[1].set_xticks(x,x_ticks)\n",
    "\n",
    "axs[2].plot(x, plot3, '.', color='red')\n",
    "axs[2].vlines(x[0], ymin=b_gender_base[2], ymax=c_gender_base[2], color='red')\n",
    "axs[2].vlines(x[1], ymin=b_gender_base[6], ymax=c_gender_base[6], color='red')\n",
    "axs[2].vlines(x[2], ymin=b_gender_random[2], ymax=c_gender_random[2], color='red')\n",
    "axs[2].vlines(x[3], ymin=b_gender_random[6], ymax=c_gender_random[6], color='red')\n",
    "axs[2].grid()\n",
    "axs[2].set_title('FMR')\n",
    "axs[2].set_xticks(x,x_ticks)\n",
    "\n",
    "axs[3].plot(x, plot4, '.', color='red')\n",
    "axs[3].vlines(x[0], ymin=b_gender_base[3], ymax=c_gender_base[3], color='red')\n",
    "axs[3].vlines(x[1], ymin=b_gender_base[7], ymax=c_gender_base[7], color='red')\n",
    "axs[3].vlines(x[2], ymin=b_gender_random[3], ymax=c_gender_random[3], color='red')\n",
    "axs[3].vlines(x[3], ymin=b_gender_random[7], ymax=c_gender_random[7], color='red')\n",
    "axs[3].grid()\n",
    "axs[3].set_title('FNMR')\n",
    "axs[3].set_xticks(x,x_ticks)\n",
    "\n",
    "plt.show()"
   ]
  },
  {
   "cell_type": "code",
   "execution_count": null,
   "metadata": {},
   "outputs": [],
   "source": [
    "print(\"Base sampling\")\n",
    "a_color_base, b_color_base, c_color_base = results(df_fairness_base, \"color\")\n",
    "print(\"Random sampling\")\n",
    "a_color_random, b_color_random, c_color_random = results(df_fairness_randomsample, \"color\")"
   ]
  },
  {
   "cell_type": "code",
   "execution_count": null,
   "metadata": {},
   "outputs": [],
   "source": [
    "x = compute_x(2,3,0.2)\n",
    "x_ticks = ['base white', 'base non-white', 'base black', 'random white','random non-white', 'random black']\n",
    "\n",
    "plot1 = [a_color_base[0], a_color_base[4], a_color_base[8], a_color_random[0], a_color_random[4], a_color_random[8]]\n",
    "plot2 = [a_color_base[1], a_color_base[5], a_color_base[9], a_color_random[1], a_color_random[5], a_color_random[9]]\n",
    "plot3 = [a_color_base[2], a_color_base[6], a_color_base[10], a_color_random[2], a_color_random[6], a_color_random[10]]\n",
    "plot4 = [a_color_base[3], a_color_base[7], a_color_base[11], a_color_random[3], a_color_random[7], a_color_random[11]]"
   ]
  },
  {
   "cell_type": "code",
   "execution_count": null,
   "metadata": {},
   "outputs": [],
   "source": [
    "fig, axs = plt.subplots(4, figsize=(12, 15))\n",
    "\n",
    "axs[0].plot(x, plot1, '.', color='red')\n",
    "axs[0].vlines(x[0], ymin=b_color_base[0], ymax=c_color_base[0], color='red')\n",
    "axs[0].vlines(x[1], ymin=b_color_base[4], ymax=c_color_base[4], color='red')\n",
    "axs[0].vlines(x[2], ymin=b_color_base[8], ymax=c_color_base[8], color='red')\n",
    "axs[0].vlines(x[3], ymin=b_color_random[0], ymax=c_color_random[0], color='red')\n",
    "axs[0].vlines(x[4], ymin=b_color_random[4], ymax=c_color_random[4], color='red')\n",
    "axs[0].vlines(x[5], ymin=b_color_random[8], ymax=c_color_random[8], color='red')\n",
    "axs[0].grid()\n",
    "axs[0].set_title('Accuracy')\n",
    "axs[0].set_xticks(x,x_ticks)\n",
    "\n",
    "axs[1].plot(x, plot2, '.', color='red')\n",
    "axs[1].vlines(x[0], ymin=b_color_base[1], ymax=c_color_base[1], color='red')\n",
    "axs[1].vlines(x[1], ymin=b_color_base[5], ymax=c_color_base[5], color='red')\n",
    "axs[1].vlines(x[2], ymin=b_color_base[9], ymax=c_color_base[9], color='red')\n",
    "axs[1].vlines(x[3], ymin=b_color_random[1], ymax=c_color_random[1], color='red')\n",
    "axs[1].vlines(x[4], ymin=b_color_random[5], ymax=c_color_random[5], color='red')\n",
    "axs[1].vlines(x[5], ymin=b_color_random[9], ymax=c_color_random[9], color='red')\n",
    "axs[1].grid()\n",
    "axs[1].set_title('TLR')\n",
    "axs[1].set_xticks(x,x_ticks)\n",
    "\n",
    "axs[2].plot(x, plot3, '.', color='red')\n",
    "axs[2].vlines(x[0], ymin=b_color_base[2], ymax=c_color_base[2], color='red')\n",
    "axs[2].vlines(x[1], ymin=b_color_base[6], ymax=c_color_base[6], color='red')\n",
    "axs[2].vlines(x[2], ymin=b_color_base[10], ymax=c_color_base[10], color='red')\n",
    "axs[2].vlines(x[3], ymin=b_color_random[2], ymax=c_color_random[2], color='red')\n",
    "axs[2].vlines(x[4], ymin=b_color_random[6], ymax=c_color_random[6], color='red')\n",
    "axs[2].vlines(x[5], ymin=b_color_random[10], ymax=c_color_random[10], color='red')\n",
    "axs[2].grid()\n",
    "axs[2].set_title('FMR')\n",
    "axs[2].set_xticks(x,x_ticks)\n",
    "\n",
    "axs[3].plot(x, plot4, '.', color='red')\n",
    "axs[3].vlines(x[0], ymin=b_color_base[3], ymax=c_color_base[3], color='red')\n",
    "axs[3].vlines(x[1], ymin=b_color_base[7], ymax=c_color_base[7], color='red')\n",
    "axs[3].vlines(x[2], ymin=b_color_base[11], ymax=c_color_base[11], color='red')\n",
    "axs[3].vlines(x[3], ymin=b_color_random[3], ymax=c_color_random[3], color='red')\n",
    "axs[3].vlines(x[4], ymin=b_color_random[7], ymax=c_color_random[7], color='red')\n",
    "axs[3].vlines(x[5], ymin=b_color_random[11], ymax=c_color_random[11], color='red')\n",
    "axs[3].grid()\n",
    "axs[3].set_title('FNMR')\n",
    "axs[3].set_xticks(x,x_ticks)\n",
    "\n",
    "plt.show()"
   ]
  },
  {
   "cell_type": "code",
   "execution_count": null,
   "metadata": {},
   "outputs": [],
   "source": [
    "print(\"Base sampling\")\n",
    "a_intersectional_base, b_intersectional_base, c_intersectional_base = results(df_fairness_base, \"intersectional\")\n",
    "print(\"Random sampling\")\n",
    "a_intersectional_random, b_intersectional_random, c_intersectional_random = results(df_fairness_randomsample, \"intersectional\")"
   ]
  },
  {
   "cell_type": "code",
   "execution_count": null,
   "metadata": {},
   "outputs": [],
   "source": [
    "x = compute_x(2,3,0.2)\n",
    "x_ticks = ['base white male', 'base non-white female', 'base black female', 'random white male','random non-white female', 'random black female']\n",
    "\n",
    "plot1 = [a_intersectional_base[0], a_intersectional_base[4], a_intersectional_base[8], a_intersectional_random[0], a_intersectional_random[4], a_intersectional_random[8]]\n",
    "plot2 = [a_intersectional_base[1], a_intersectional_base[5], a_intersectional_base[9], a_intersectional_random[1], a_intersectional_random[5], a_intersectional_random[9]]\n",
    "plot3 = [a_intersectional_base[2], a_intersectional_base[6], a_intersectional_base[10], a_intersectional_random[2], a_intersectional_random[6], a_intersectional_random[10]]\n",
    "plot4 = [a_intersectional_base[3], a_intersectional_base[7], a_intersectional_base[11], a_intersectional_random[3], a_intersectional_random[7], a_intersectional_random[11]]"
   ]
  },
  {
   "cell_type": "code",
   "execution_count": null,
   "metadata": {},
   "outputs": [],
   "source": [
    "fig, axs = plt.subplots(4, figsize=(15, 15))\n",
    "\n",
    "axs[0].plot(x, plot1, '.', color='red')\n",
    "axs[0].vlines(x[0], ymin=b_intersectional_base[0], ymax=c_intersectional_base[0], color='red')\n",
    "axs[0].vlines(x[1], ymin=b_intersectional_base[4], ymax=c_intersectional_base[4], color='red')\n",
    "axs[0].vlines(x[2], ymin=b_intersectional_base[8], ymax=c_intersectional_base[8], color='red')\n",
    "axs[0].vlines(x[3], ymin=b_intersectional_random[0], ymax=c_intersectional_random[0], color='red')\n",
    "axs[0].vlines(x[4], ymin=b_intersectional_random[4], ymax=c_intersectional_random[4], color='red')\n",
    "axs[0].vlines(x[5], ymin=b_intersectional_random[8], ymax=c_intersectional_random[8], color='red')\n",
    "axs[0].grid()\n",
    "axs[0].set_title('Accuracy')\n",
    "axs[0].set_xticks(x,x_ticks)\n",
    "\n",
    "axs[1].plot(x, plot2, '.', color='red')\n",
    "axs[1].vlines(x[0], ymin=b_intersectional_base[1], ymax=c_intersectional_base[1], color='red')\n",
    "axs[1].vlines(x[1], ymin=b_intersectional_base[5], ymax=c_intersectional_base[5], color='red')\n",
    "axs[1].vlines(x[2], ymin=b_intersectional_base[9], ymax=c_intersectional_base[9], color='red')\n",
    "axs[1].vlines(x[3], ymin=b_intersectional_random[1], ymax=c_intersectional_random[1], color='red')\n",
    "axs[1].vlines(x[4], ymin=b_intersectional_random[5], ymax=c_intersectional_random[5], color='red')\n",
    "axs[1].vlines(x[5], ymin=b_intersectional_random[9], ymax=c_intersectional_random[9], color='red')\n",
    "axs[1].grid()\n",
    "axs[1].set_title('TLR')\n",
    "axs[1].set_xticks(x,x_ticks)\n",
    "\n",
    "axs[2].plot(x, plot3, '.', color='red')\n",
    "axs[2].vlines(x[0], ymin=b_intersectional_base[2], ymax=c_intersectional_base[2], color='red')\n",
    "axs[2].vlines(x[1], ymin=b_intersectional_base[6], ymax=c_intersectional_base[6], color='red')\n",
    "axs[2].vlines(x[2], ymin=b_intersectional_base[10], ymax=c_intersectional_base[10], color='red')\n",
    "axs[2].vlines(x[3], ymin=b_intersectional_random[2], ymax=c_intersectional_random[2], color='red')\n",
    "axs[2].vlines(x[4], ymin=b_intersectional_random[6], ymax=c_intersectional_random[6], color='red')\n",
    "axs[2].vlines(x[5], ymin=b_intersectional_random[10], ymax=c_intersectional_random[10], color='red')\n",
    "axs[2].grid()\n",
    "axs[2].set_title('FMR')\n",
    "axs[2].set_xticks(x,x_ticks)\n",
    "\n",
    "axs[3].plot(x, plot4, '.', color='red')\n",
    "axs[3].vlines(x[0], ymin=b_intersectional_base[3], ymax=c_intersectional_base[3], color='red')\n",
    "axs[3].vlines(x[1], ymin=b_intersectional_base[7], ymax=c_intersectional_base[7], color='red')\n",
    "axs[3].vlines(x[2], ymin=b_intersectional_base[11], ymax=c_intersectional_base[11], color='red')\n",
    "axs[3].vlines(x[3], ymin=b_intersectional_random[3], ymax=c_intersectional_random[3], color='red')\n",
    "axs[3].vlines(x[4], ymin=b_intersectional_random[7], ymax=c_intersectional_random[7], color='red')\n",
    "axs[3].vlines(x[5], ymin=b_intersectional_random[11], ymax=c_intersectional_random[11], color='red')\n",
    "axs[3].grid()\n",
    "axs[3].set_title('FNMR')\n",
    "axs[3].set_xticks(x,x_ticks)\n",
    "\n",
    "plt.show()"
   ]
  },
  {
   "cell_type": "code",
   "execution_count": null,
   "metadata": {},
   "outputs": [],
   "source": []
  }
 ],
 "metadata": {
  "kernelspec": {
   "display_name": "Python 3 (ipykernel)",
   "language": "python",
   "name": "python3"
  },
  "language_info": {
   "codemirror_mode": {
    "name": "ipython",
    "version": 3
   },
   "file_extension": ".py",
   "mimetype": "text/x-python",
   "name": "python",
   "nbconvert_exporter": "python",
   "pygments_lexer": "ipython3",
   "version": "3.9.12"
  }
 },
 "nbformat": 4,
 "nbformat_minor": 4
}

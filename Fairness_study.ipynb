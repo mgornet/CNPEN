{
 "cells": [
  {
   "cell_type": "markdown",
   "metadata": {
    "id": "cq6PdPGN4DJu"
   },
   "source": [
    "# Triplet Loss with Faces -- Fairness Study"
   ]
  },
  {
   "cell_type": "markdown",
   "metadata": {},
   "source": [
    "## Initialization"
   ]
  },
  {
   "cell_type": "code",
   "execution_count": null,
   "metadata": {
    "execution": {
     "iopub.execute_input": "2021-09-13T12:18:46.655146Z",
     "iopub.status.busy": "2021-09-13T12:18:46.65472Z",
     "iopub.status.idle": "2021-09-13T12:18:55.236674Z",
     "shell.execute_reply": "2021-09-13T12:18:55.235534Z",
     "shell.execute_reply.started": "2021-09-13T12:18:46.655057Z"
    },
    "id": "2r4GrySt26Q-",
    "outputId": "4890c780-31f1-4532-d4a7-64f7412ea780"
   },
   "outputs": [],
   "source": [
    "!pip install torch"
   ]
  },
  {
   "cell_type": "code",
   "execution_count": null,
   "metadata": {
    "execution": {
     "iopub.execute_input": "2021-09-13T12:18:55.24095Z",
     "iopub.status.busy": "2021-09-13T12:18:55.240614Z",
     "iopub.status.idle": "2021-09-13T12:19:02.993342Z",
     "shell.execute_reply": "2021-09-13T12:19:02.992166Z",
     "shell.execute_reply.started": "2021-09-13T12:18:55.240913Z"
    },
    "id": "elsPIhAzrPL-",
    "outputId": "486d7b03-5889-4c28-c71e-b1e169f7e026"
   },
   "outputs": [],
   "source": [
    "!pip install mat73"
   ]
  },
  {
   "cell_type": "code",
   "execution_count": null,
   "metadata": {
    "execution": {
     "iopub.execute_input": "2021-09-13T12:19:02.996331Z",
     "iopub.status.busy": "2021-09-13T12:19:02.995873Z",
     "iopub.status.idle": "2021-09-13T12:19:10.773184Z",
     "shell.execute_reply": "2021-09-13T12:19:10.77203Z",
     "shell.execute_reply.started": "2021-09-13T12:19:02.996281Z"
    },
    "id": "FyTWhJXMpRex",
    "outputId": "dcfa38a7-4bd7-4b6b-e6b4-d96298974042"
   },
   "outputs": [],
   "source": [
    "!pip install wandb -qqq\n",
    "import wandb"
   ]
  },
  {
   "cell_type": "code",
   "execution_count": null,
   "metadata": {
    "execution": {
     "iopub.execute_input": "2021-09-13T12:19:10.775328Z",
     "iopub.status.busy": "2021-09-13T12:19:10.775039Z",
     "iopub.status.idle": "2021-09-13T12:19:29.794126Z",
     "shell.execute_reply": "2021-09-13T12:19:29.792845Z",
     "shell.execute_reply.started": "2021-09-13T12:19:10.775295Z"
    },
    "id": "N2ZqMDMrKeFi",
    "outputId": "6ddb3d01-83e5-4bb2-a378-54748c3c742c"
   },
   "outputs": [],
   "source": [
    "!git clone https://github.com/mgornet/CNPEN"
   ]
  },
  {
   "cell_type": "markdown",
   "metadata": {
    "id": "MW_MVwhYwRiH"
   },
   "source": [
    "### Check device"
   ]
  },
  {
   "cell_type": "code",
   "execution_count": null,
   "metadata": {
    "execution": {
     "iopub.execute_input": "2021-09-13T12:19:29.796042Z",
     "iopub.status.busy": "2021-09-13T12:19:29.795714Z",
     "iopub.status.idle": "2021-09-13T12:19:30.537766Z",
     "shell.execute_reply": "2021-09-13T12:19:30.53671Z",
     "shell.execute_reply.started": "2021-09-13T12:19:29.796006Z"
    },
    "id": "zruTnsd7wTz6",
    "outputId": "66c9d4a5-2768-45b6-d901-16ab0b7d9081"
   },
   "outputs": [],
   "source": [
    "!nvidia-smi"
   ]
  },
  {
   "cell_type": "markdown",
   "metadata": {
    "id": "IJK8gGmS4dsb"
   },
   "source": [
    "### Import Librairies"
   ]
  },
  {
   "cell_type": "code",
   "execution_count": null,
   "metadata": {
    "execution": {
     "iopub.execute_input": "2021-09-13T12:19:30.53948Z",
     "iopub.status.busy": "2021-09-13T12:19:30.539176Z",
     "iopub.status.idle": "2021-09-13T12:19:32.990443Z",
     "shell.execute_reply": "2021-09-13T12:19:32.989639Z",
     "shell.execute_reply.started": "2021-09-13T12:19:30.539448Z"
    },
    "id": "JyM1GtzC2_zh"
   },
   "outputs": [],
   "source": [
    "import numpy as np\n",
    "import random\n",
    "import matplotlib.pyplot as plt\n",
    "from tqdm.notebook import tqdm\n",
    "from time import perf_counter\n",
    "from typing import Callable\n",
    "import itertools\n",
    "import mat73\n",
    "import pandas as pd\n",
    "import re\n",
    "\n",
    "import sys\n",
    "import os\n",
    "import tarfile\n",
    "\n",
    "from sklearn.datasets import load_digits\n",
    "from sklearn.model_selection import train_test_split\n",
    "\n",
    "import torch\n",
    "from torch import nn, optim\n",
    "import torch.nn.functional as F\n",
    "\n",
    "from torch.utils.data import DataLoader, Dataset\n",
    "from torchvision import datasets, transforms\n",
    "\n",
    "import os.path as op\n",
    "try:\n",
    "    from urllib.request import urlretrieve\n",
    "except ImportError:  # Python 2 compat\n",
    "    from urllib import urlretrieve\n",
    "    \n",
    "from sklearn.metrics import confusion_matrix, auc, roc_curve, \\\n",
    "precision_recall_curve, accuracy_score, f1_score\n",
    "from sklearn.linear_model import LogisticRegression\n",
    "from scipy import optimize"
   ]
  },
  {
   "cell_type": "code",
   "execution_count": null,
   "metadata": {
    "execution": {
     "iopub.execute_input": "2021-09-13T12:19:32.991926Z",
     "iopub.status.busy": "2021-09-13T12:19:32.991507Z",
     "iopub.status.idle": "2021-09-13T12:19:33.464817Z",
     "shell.execute_reply": "2021-09-13T12:19:33.463812Z",
     "shell.execute_reply.started": "2021-09-13T12:19:32.991896Z"
    },
    "id": "ix4Yn3BoLNfx",
    "outputId": "7947880c-ab47-4393-c5d6-be37199febe6"
   },
   "outputs": [],
   "source": [
    "%cd ./CNPEN/files/\n",
    "\n",
    "from triplet import TripletGenerator, TripletLearner, TripletLoss, TripletLossRaw, \\\n",
    "distance, distance_vectors\n",
    "from builder import create_dataframe, from_tensor_to_numpy, from_numpy_to_tensor, extend_dataframe\n",
    "from prints import print_img, print_img_from_path, print_img_from_id, \\\n",
    "print_img_from_classid, print_from_gen, print_from_gen2, print_pair, print_hist_loss, \\\n",
    "print_hist_dist, print_hist_dist_zoom, print_img_category, \\\n",
    "print_roc, print_logistic_regression, print_prec_recall\n",
    "from test_train_loops import training, testing, adaptative_train, compute_distances\n",
    "from classification import authentification_img, predict, triplet_acc,\\\n",
    "build_df_fairness, triplet_acc_fairness, bootstrap"
   ]
  },
  {
   "cell_type": "code",
   "execution_count": null,
   "metadata": {
    "execution": {
     "iopub.execute_input": "2021-09-13T12:19:33.46758Z",
     "iopub.status.busy": "2021-09-13T12:19:33.467252Z",
     "iopub.status.idle": "2021-09-13T12:19:34.20259Z",
     "shell.execute_reply": "2021-09-13T12:19:34.201439Z",
     "shell.execute_reply.started": "2021-09-13T12:19:33.467522Z"
    },
    "id": "dNWBFp1aLev5",
    "outputId": "780215a4-2505-447d-86e6-385dd44f016e"
   },
   "outputs": [],
   "source": [
    "!pwd"
   ]
  },
  {
   "cell_type": "markdown",
   "metadata": {
    "id": "Hp8S6_Nu4muA"
   },
   "source": [
    "## Generate Data"
   ]
  },
  {
   "cell_type": "markdown",
   "metadata": {},
   "source": [
    "### Create dataframe"
   ]
  },
  {
   "cell_type": "code",
   "execution_count": null,
   "metadata": {
    "execution": {
     "iopub.execute_input": "2021-09-13T12:19:34.2076Z",
     "iopub.status.busy": "2021-09-13T12:19:34.207236Z",
     "iopub.status.idle": "2021-09-13T12:19:43.03697Z",
     "shell.execute_reply": "2021-09-13T12:19:43.035869Z",
     "shell.execute_reply.started": "2021-09-13T12:19:34.207562Z"
    },
    "id": "0HQV0dwQiLvS",
    "outputId": "343cfafa-cadf-4554-f5a1-90e52f96afca"
   },
   "outputs": [],
   "source": [
    "URL = \"http://vis-www.cs.umass.edu/lfw/lfw-deepfunneled.tgz\"\n",
    "FILENAME = \"lfw-deepfunneled.tgz\"\n",
    "\n",
    "if not op.exists(FILENAME):\n",
    "    print('Downloading %s to %s...' % (URL, FILENAME))\n",
    "    urlretrieve(URL, FILENAME)\n",
    "\n",
    "if not op.exists(\"lfw\"):\n",
    "    print('Extracting image files...')\n",
    "    tar = tarfile.open(\"lfw-deepfunneled.tgz\")\n",
    "    tar.extractall(\"lfw\")\n",
    "    tar.close()"
   ]
  },
  {
   "cell_type": "code",
   "execution_count": null,
   "metadata": {
    "execution": {
     "iopub.execute_input": "2021-09-13T12:19:43.039925Z",
     "iopub.status.busy": "2021-09-13T12:19:43.039654Z",
     "iopub.status.idle": "2021-09-13T12:19:43.044246Z",
     "shell.execute_reply": "2021-09-13T12:19:43.043568Z",
     "shell.execute_reply.started": "2021-09-13T12:19:43.039899Z"
    },
    "id": "jtFwuCt4iSgy"
   },
   "outputs": [],
   "source": [
    "PATH = \"lfw/lfw-deepfunneled/\""
   ]
  },
  {
   "cell_type": "code",
   "execution_count": null,
   "metadata": {
    "execution": {
     "iopub.execute_input": "2021-09-13T12:19:43.045725Z",
     "iopub.status.busy": "2021-09-13T12:19:43.045296Z",
     "iopub.status.idle": "2021-09-13T12:22:20.338288Z",
     "shell.execute_reply": "2021-09-13T12:22:20.337282Z",
     "shell.execute_reply.started": "2021-09-13T12:19:43.045682Z"
    },
    "id": "pW3OOgQXOLa-",
    "outputId": "8cb4ccff-40ca-44aa-b9f0-3e7244731cfe"
   },
   "outputs": [],
   "source": [
    "tic = perf_counter()\n",
    "df_init, all_imgs = create_dataframe()\n",
    "toc = perf_counter()\n",
    "print(f\"DataFrame creation: {((toc - tic)/60):.1f} min\")"
   ]
  },
  {
   "cell_type": "code",
   "execution_count": null,
   "metadata": {
    "execution": {
     "iopub.execute_input": "2021-09-13T12:22:20.339969Z",
     "iopub.status.busy": "2021-09-13T12:22:20.339611Z",
     "iopub.status.idle": "2021-09-13T12:22:33.694909Z",
     "shell.execute_reply": "2021-09-13T12:22:33.693324Z",
     "shell.execute_reply.started": "2021-09-13T12:22:20.339922Z"
    }
   },
   "outputs": [],
   "source": [
    "tic = perf_counter()\n",
    "df = extend_dataframe(df_init)\n",
    "toc = perf_counter()\n",
    "print(f\"DataFrame extention: {((toc - tic)/60):.1f} min\")"
   ]
  },
  {
   "cell_type": "markdown",
   "metadata": {
    "id": "gjPcX2sdTQz4"
   },
   "source": [
    "### Build sets, generators and network"
   ]
  },
  {
   "cell_type": "code",
   "execution_count": null,
   "metadata": {
    "execution": {
     "iopub.execute_input": "2021-09-13T12:22:33.696421Z",
     "iopub.status.busy": "2021-09-13T12:22:33.696138Z",
     "iopub.status.idle": "2021-09-13T12:22:33.703792Z",
     "shell.execute_reply": "2021-09-13T12:22:33.702441Z",
     "shell.execute_reply.started": "2021-09-13T12:22:33.696394Z"
    },
    "id": "9YhsU5iYDx0c",
    "outputId": "fe319f34-b66f-4601-d05c-25dabcaa1656"
   },
   "outputs": [],
   "source": [
    "num_classes = len(df.Classid.unique())\n",
    "print(\"Number of individuals: \", num_classes)"
   ]
  },
  {
   "cell_type": "code",
   "execution_count": null,
   "metadata": {
    "execution": {
     "iopub.execute_input": "2021-09-13T12:22:33.705801Z",
     "iopub.status.busy": "2021-09-13T12:22:33.705388Z",
     "iopub.status.idle": "2021-09-13T12:22:33.71351Z",
     "shell.execute_reply": "2021-09-13T12:22:33.712466Z",
     "shell.execute_reply.started": "2021-09-13T12:22:33.705758Z"
    },
    "id": "SX80fCGkn702"
   },
   "outputs": [],
   "source": [
    "indiv_min = df.Classid.min()\n",
    "split_train_valid = int(num_classes * 0.75)\n",
    "split_train_test = int(num_classes * 0.8)\n",
    "indiv_max = df.Classid.max()"
   ]
  },
  {
   "cell_type": "code",
   "execution_count": null,
   "metadata": {
    "execution": {
     "iopub.execute_input": "2021-09-13T12:22:33.715412Z",
     "iopub.status.busy": "2021-09-13T12:22:33.714995Z",
     "iopub.status.idle": "2021-09-13T12:22:33.726266Z",
     "shell.execute_reply": "2021-09-13T12:22:33.725179Z",
     "shell.execute_reply.started": "2021-09-13T12:22:33.715378Z"
    },
    "id": "1rHLE3kHcCyp",
    "outputId": "5291153a-b4d0-4bf5-d690-25979aafaeee"
   },
   "outputs": [],
   "source": [
    "print(f\"Train set from indiv {indiv_min} to {split_train_valid-1}\")\n",
    "print(f\"Valid set from indiv {split_train_valid} to {split_train_test-1}\")\n",
    "print(f\"Test set from indiv {split_train_test} to {indiv_max}\")"
   ]
  },
  {
   "cell_type": "code",
   "execution_count": null,
   "metadata": {
    "execution": {
     "iopub.execute_input": "2021-09-13T12:22:33.728115Z",
     "iopub.status.busy": "2021-09-13T12:22:33.727823Z",
     "iopub.status.idle": "2021-09-13T12:22:33.760836Z",
     "shell.execute_reply": "2021-09-13T12:22:33.759816Z",
     "shell.execute_reply.started": "2021-09-13T12:22:33.728086Z"
    },
    "id": "P0vpXVlscwOA"
   },
   "outputs": [],
   "source": [
    "df_train = df[df.Classid<split_train_valid]\n",
    "df_valid = df[(df.Classid>=split_train_valid)&(df.Classid<split_train_test)]\n",
    "df_test = df[df.Classid>=split_train_test]"
   ]
  },
  {
   "cell_type": "code",
   "execution_count": null,
   "metadata": {
    "execution": {
     "iopub.execute_input": "2021-09-13T12:22:33.762665Z",
     "iopub.status.busy": "2021-09-13T12:22:33.762328Z",
     "iopub.status.idle": "2021-09-13T12:22:33.770105Z",
     "shell.execute_reply": "2021-09-13T12:22:33.769073Z",
     "shell.execute_reply.started": "2021-09-13T12:22:33.762634Z"
    },
    "id": "6y6Lmu7UTQz6",
    "outputId": "28af2b3b-e25e-4e31-d548-10f4f98de50e"
   },
   "outputs": [],
   "source": [
    "print(\"Number of training images: \", len(df_train))\n",
    "print(\"Number of validation images: \", len(df_valid))\n",
    "print(\"Number of testing images: \", len(df_test))\n",
    "print(\"Number of total images: \", len(df_train)+len(df_valid)+len(df_test))\n",
    "print(\"len original: \", len(df))"
   ]
  },
  {
   "cell_type": "code",
   "execution_count": null,
   "metadata": {
    "execution": {
     "iopub.execute_input": "2021-09-13T12:22:33.771813Z",
     "iopub.status.busy": "2021-09-13T12:22:33.771403Z",
     "iopub.status.idle": "2021-09-13T12:22:33.78589Z",
     "shell.execute_reply": "2021-09-13T12:22:33.784745Z",
     "shell.execute_reply.started": "2021-09-13T12:22:33.771781Z"
    },
    "id": "LeMZhCJtTQz6",
    "outputId": "a253f6dc-6c2e-4ae6-d2f3-5be83a67603d"
   },
   "outputs": [],
   "source": [
    "print(\"Number of individuals in the training set: \", len(df_train.Classid.unique()))\n",
    "print(\"Number of individuals in the validation set: \", len(df_valid.Classid.unique()))\n",
    "print(\"Number of individuals in the testing set: \", len(df_test.Classid.unique()))"
   ]
  },
  {
   "cell_type": "code",
   "execution_count": null,
   "metadata": {
    "execution": {
     "iopub.execute_input": "2021-09-13T12:22:33.787555Z",
     "iopub.status.busy": "2021-09-13T12:22:33.787125Z",
     "iopub.status.idle": "2021-09-13T12:22:33.802595Z",
     "shell.execute_reply": "2021-09-13T12:22:33.801779Z",
     "shell.execute_reply.started": "2021-09-13T12:22:33.787493Z"
    },
    "id": "44sct3lGTQz7",
    "outputId": "f430af11-01cd-4696-eedf-f9e66aca0a4e"
   },
   "outputs": [],
   "source": [
    "value_count = df_train.Classid.value_counts()\n",
    "print(\"Number of individuals with more than one image in the training set: \", len(value_count[value_count.values>1]))\n",
    "value_count = df_valid.Classid.value_counts()\n",
    "print(\"Number of individuals with more than one image in the validation set: \", len(value_count[value_count.values>1]))\n",
    "value_count = df_test.Classid.value_counts()\n",
    "print(\"Number of individuals with more than one image in the testing set: \", len(value_count[value_count.values>1]))"
   ]
  },
  {
   "cell_type": "code",
   "execution_count": null,
   "metadata": {
    "execution": {
     "iopub.execute_input": "2021-09-13T12:22:33.804153Z",
     "iopub.status.busy": "2021-09-13T12:22:33.803619Z",
     "iopub.status.idle": "2021-09-13T12:22:33.852761Z",
     "shell.execute_reply": "2021-09-13T12:22:33.851659Z",
     "shell.execute_reply.started": "2021-09-13T12:22:33.804122Z"
    },
    "id": "nkVW9HZq9K9e",
    "outputId": "cd5adc42-7ad9-468a-8aee-9039c7cc30d9"
   },
   "outputs": [],
   "source": [
    "df_valid.head()"
   ]
  },
  {
   "cell_type": "code",
   "execution_count": null,
   "metadata": {
    "execution": {
     "iopub.execute_input": "2021-09-13T12:22:33.854476Z",
     "iopub.status.busy": "2021-09-13T12:22:33.854134Z",
     "iopub.status.idle": "2021-09-13T12:22:33.858664Z",
     "shell.execute_reply": "2021-09-13T12:22:33.857901Z",
     "shell.execute_reply.started": "2021-09-13T12:22:33.854443Z"
    },
    "id": "otF4YNywkl2O"
   },
   "outputs": [],
   "source": [
    "BATCH_SIZE = 128 # 128\n",
    "BATCH_VALID_SIZE = 128 #128 #8\n",
    "BATCH_TEST_SIZE = 128 #128 #32"
   ]
  },
  {
   "cell_type": "code",
   "execution_count": null,
   "metadata": {
    "execution": {
     "iopub.execute_input": "2021-09-13T12:22:33.860292Z",
     "iopub.status.busy": "2021-09-13T12:22:33.859911Z",
     "iopub.status.idle": "2021-09-13T12:22:33.872505Z",
     "shell.execute_reply": "2021-09-13T12:22:33.871692Z",
     "shell.execute_reply.started": "2021-09-13T12:22:33.86024Z"
    },
    "id": "IhO6Pj2q3tnM"
   },
   "outputs": [],
   "source": [
    "device = torch.device(\"cuda:0\" if torch.cuda.is_available() else \"cpu\")\n",
    "margin = 0.2\n",
    "criterion = TripletLoss(margin)\n",
    "criterion_test = TripletLossRaw(margin)"
   ]
  },
  {
   "cell_type": "markdown",
   "metadata": {
    "id": "iSBWwAmCx-0b"
   },
   "source": [
    "### Load Model"
   ]
  },
  {
   "cell_type": "code",
   "execution_count": null,
   "metadata": {
    "execution": {
     "iopub.execute_input": "2021-09-13T12:22:33.877127Z",
     "iopub.status.busy": "2021-09-13T12:22:33.876807Z",
     "iopub.status.idle": "2021-09-13T12:22:33.956654Z",
     "shell.execute_reply": "2021-09-13T12:22:33.955423Z",
     "shell.execute_reply.started": "2021-09-13T12:22:33.877097Z"
    },
    "id": "vEb1cNtrx9lD"
   },
   "outputs": [],
   "source": [
    "# Load pretrained model\n",
    "\n",
    "model = TripletLearner(base_channels=32)\n",
    "model.load_state_dict(torch.load(\"./models/without_jitter_and_p.pth\",map_location=torch.device('cpu')))\n",
    "model = model.to(device)\n",
    "model.eval()"
   ]
  },
  {
   "cell_type": "markdown",
   "metadata": {},
   "source": [
    "### Determine THRESHOLD"
   ]
  },
  {
   "cell_type": "code",
   "execution_count": null,
   "metadata": {
    "execution": {
     "iopub.execute_input": "2021-09-13T12:22:33.959797Z",
     "iopub.status.busy": "2021-09-13T12:22:33.95933Z",
     "iopub.status.idle": "2021-09-13T12:22:43.079021Z",
     "shell.execute_reply": "2021-09-13T12:22:43.077907Z",
     "shell.execute_reply.started": "2021-09-13T12:22:33.959751Z"
    }
   },
   "outputs": [],
   "source": [
    "# Build THRESHOLD (for details, see the notebook \"determine_threshold\")\n",
    "\n",
    "gen = TripletGenerator(df_valid, all_imgs, BATCH_VALID_SIZE, device, model, margin)\n",
    "loader = DataLoader(gen, batch_size=None, shuffle=True)\n",
    "\n",
    "list_loader = []\n",
    "for _ in range(10):\n",
    "    list_loader.extend(list(loader))\n",
    "\n",
    "pos_dist, neg_dist, _ = compute_distances(list_loader, device, model) #loader\n",
    "\n",
    "y_pos = [1 for _ in range(len(pos_dist))]\n",
    "y_neg = [0 for _ in range(len(neg_dist))]\n",
    "\n",
    "y = y_pos + y_neg\n",
    "X = pos_dist + neg_dist\n",
    "Xmoins = np.array(X)*(-1)\n",
    "Xlogistic = np.array(Xmoins).reshape(-1,1)\n",
    "\n",
    "clf = LogisticRegression(random_state=0).fit(Xlogistic, y)\n",
    "\n",
    "THRESHOLD = (clf.intercept_/clf.coef_)[0,0]\n",
    "print(\"THRESHOLD with logistic regression:\", THRESHOLD)"
   ]
  },
  {
   "cell_type": "markdown",
   "metadata": {},
   "source": [
    "## Fairness study"
   ]
  },
  {
   "cell_type": "markdown",
   "metadata": {},
   "source": [
    "### Build data fairness"
   ]
  },
  {
   "cell_type": "code",
   "execution_count": null,
   "metadata": {
    "execution": {
     "iopub.execute_input": "2021-09-13T12:22:43.080736Z",
     "iopub.status.busy": "2021-09-13T12:22:43.08036Z",
     "iopub.status.idle": "2021-09-13T12:22:43.089346Z",
     "shell.execute_reply": "2021-09-13T12:22:43.088211Z",
     "shell.execute_reply.started": "2021-09-13T12:22:43.0807Z"
    }
   },
   "outputs": [],
   "source": [
    "gen = TripletGenerator(df_test, all_imgs, BATCH_TEST_SIZE, device, model, margin, return_id=True)"
   ]
  },
  {
   "cell_type": "code",
   "execution_count": null,
   "metadata": {
    "execution": {
     "iopub.execute_input": "2021-09-13T12:22:43.090886Z",
     "iopub.status.busy": "2021-09-13T12:22:43.090578Z",
     "iopub.status.idle": "2021-09-13T12:23:42.665715Z",
     "shell.execute_reply": "2021-09-13T12:23:42.664716Z",
     "shell.execute_reply.started": "2021-09-13T12:22:43.090859Z"
    }
   },
   "outputs": [],
   "source": [
    "tic = perf_counter()\n",
    "df_fairness = build_df_fairness(all_imgs, df_test, gen, 20, device, model, THRESHOLD)\n",
    "toc = perf_counter()\n",
    "print(f\"DataFrame creation: {((toc - tic)/60):.1f} min\")"
   ]
  },
  {
   "cell_type": "code",
   "execution_count": null,
   "metadata": {
    "execution": {
     "iopub.execute_input": "2021-09-13T12:23:42.667283Z",
     "iopub.status.busy": "2021-09-13T12:23:42.666979Z",
     "iopub.status.idle": "2021-09-13T12:23:42.70123Z",
     "shell.execute_reply": "2021-09-13T12:23:42.700276Z",
     "shell.execute_reply.started": "2021-09-13T12:23:42.667252Z"
    }
   },
   "outputs": [],
   "source": [
    "df_fairness"
   ]
  },
  {
   "cell_type": "code",
   "execution_count": null,
   "metadata": {
    "execution": {
     "iopub.execute_input": "2021-09-13T12:23:42.702925Z",
     "iopub.status.busy": "2021-09-13T12:23:42.702608Z",
     "iopub.status.idle": "2021-09-13T12:23:42.770907Z",
     "shell.execute_reply": "2021-09-13T12:23:42.769789Z",
     "shell.execute_reply.started": "2021-09-13T12:23:42.702895Z"
    }
   },
   "outputs": [],
   "source": [
    "df_fairness.describe()"
   ]
  },
  {
   "cell_type": "markdown",
   "metadata": {},
   "source": [
    "### Look at general stats"
   ]
  },
  {
   "cell_type": "code",
   "execution_count": null,
   "metadata": {
    "execution": {
     "iopub.execute_input": "2021-09-13T12:23:42.772568Z",
     "iopub.status.busy": "2021-09-13T12:23:42.772271Z",
     "iopub.status.idle": "2021-09-13T12:23:45.332672Z",
     "shell.execute_reply": "2021-09-13T12:23:45.331638Z",
     "shell.execute_reply.started": "2021-09-13T12:23:42.77254Z"
    }
   },
   "outputs": [],
   "source": [
    "print(\"Same identity - mean distance: \", df_fairness[df_fairness.y_true==1].Distance.mean())\n",
    "print(\"Same identity - std distance: \", df_fairness[df_fairness.y_true==1].Distance.std())\n",
    "print(\"Same identity - percentiles: \", np.percentile(df_fairness[df_fairness.y_true==1]['Distance'], [5,25,50,75,95]))\n",
    "print(\"\\n\")\n",
    "print(\"Different identities - mean distance: \", df_fairness[df_fairness.y_true==0].Distance.mean())\n",
    "print(\"Different identities - std distance: \", df_fairness[df_fairness.y_true==0].Distance.std())\n",
    "print(\"Different identities - percentiles: \", np.percentile(df_fairness[df_fairness.y_true==0]['Distance'], [5,25,50,75,95]))\n",
    "print(\"\\n\")\n",
    "print(\"Mean accuracy: \", df_fairness['correct_predict'].mean())\n",
    "print(\"Bootstrapping mean accuracy: \", bootstrap(df_fairness, agg_func=lambda df: df['correct_predict'].mean()))\n",
    "print(\"\\n\")\n",
    "print(\"Triplet accuracy: \", triplet_acc_fairness(df_fairness))"
   ]
  },
  {
   "cell_type": "code",
   "execution_count": null,
   "metadata": {
    "execution": {
     "iopub.execute_input": "2021-09-13T12:23:45.334262Z",
     "iopub.status.busy": "2021-09-13T12:23:45.333958Z",
     "iopub.status.idle": "2021-09-13T12:23:45.916713Z",
     "shell.execute_reply": "2021-09-13T12:23:45.915718Z",
     "shell.execute_reply.started": "2021-09-13T12:23:45.334222Z"
    }
   },
   "outputs": [],
   "source": [
    "pos_dist = df_fairness[df_fairness.y_true==1]['Distance']\n",
    "neg_dist = df_fairness[df_fairness.y_true==0]['Distance']\n",
    "print_hist_dist_zoom(pos_dist, neg_dist, zoom=5.)"
   ]
  },
  {
   "cell_type": "code",
   "execution_count": null,
   "metadata": {
    "execution": {
     "iopub.execute_input": "2021-09-13T12:23:45.918731Z",
     "iopub.status.busy": "2021-09-13T12:23:45.918292Z",
     "iopub.status.idle": "2021-09-13T12:23:45.92433Z",
     "shell.execute_reply": "2021-09-13T12:23:45.923427Z",
     "shell.execute_reply.started": "2021-09-13T12:23:45.918685Z"
    }
   },
   "outputs": [],
   "source": [
    "X = -np.array(df_fairness.Distance)\n",
    "y = np.array(df_fairness.y_true)\n",
    "y_pred = np.array(df_fairness.y_pred)"
   ]
  },
  {
   "cell_type": "code",
   "execution_count": null,
   "metadata": {
    "execution": {
     "iopub.execute_input": "2021-09-13T12:23:45.926031Z",
     "iopub.status.busy": "2021-09-13T12:23:45.925713Z",
     "iopub.status.idle": "2021-09-13T12:23:45.941253Z",
     "shell.execute_reply": "2021-09-13T12:23:45.940261Z",
     "shell.execute_reply.started": "2021-09-13T12:23:45.926001Z"
    }
   },
   "outputs": [],
   "source": [
    "fpr_dist, tpr_dist, thresholds_dist = roc_curve(y, X)\n",
    "roc_auc_dist = auc(fpr_dist,tpr_dist)\n",
    "\n",
    "precision_dist, recall_dist, thresholds_recall_dist = precision_recall_curve(y, X)\n",
    "auc_s_dist = auc(recall_dist, precision_dist)"
   ]
  },
  {
   "cell_type": "code",
   "execution_count": null,
   "metadata": {
    "execution": {
     "iopub.execute_input": "2021-09-13T12:23:45.942953Z",
     "iopub.status.busy": "2021-09-13T12:23:45.942652Z",
     "iopub.status.idle": "2021-09-13T12:23:46.269186Z",
     "shell.execute_reply": "2021-09-13T12:23:46.268224Z",
     "shell.execute_reply.started": "2021-09-13T12:23:45.942924Z"
    }
   },
   "outputs": [],
   "source": [
    "print_roc(fpr_dist, tpr_dist, roc_auc_dist)\n",
    "print_prec_recall(precision_dist, recall_dist, auc_s_dist)"
   ]
  },
  {
   "cell_type": "code",
   "execution_count": null,
   "metadata": {
    "execution": {
     "iopub.execute_input": "2021-09-13T12:23:46.27079Z",
     "iopub.status.busy": "2021-09-13T12:23:46.270491Z",
     "iopub.status.idle": "2021-09-13T12:23:46.293433Z",
     "shell.execute_reply": "2021-09-13T12:23:46.292427Z",
     "shell.execute_reply.started": "2021-09-13T12:23:46.270762Z"
    }
   },
   "outputs": [],
   "source": [
    "tp,fp,fn,tn = confusion_matrix(y, y_pred).ravel()\n",
    "\n",
    "TPR = tp/(tp+fp)\n",
    "FPR = fp/(tp+fp)\n",
    "TNR = tn/(tn+fn)\n",
    "FNR = fn/(tn+fn)"
   ]
  },
  {
   "cell_type": "code",
   "execution_count": null,
   "metadata": {
    "execution": {
     "iopub.execute_input": "2021-09-13T12:23:46.294958Z",
     "iopub.status.busy": "2021-09-13T12:23:46.294659Z",
     "iopub.status.idle": "2021-09-13T12:23:46.325238Z",
     "shell.execute_reply": "2021-09-13T12:23:46.32421Z",
     "shell.execute_reply.started": "2021-09-13T12:23:46.29493Z"
    }
   },
   "outputs": [],
   "source": [
    "print(\"Confusion Matrix Total\")\n",
    "print(confusion_matrix(y, y_pred))\n",
    "\n",
    "print(\"\\n\",\"Accuracy score:\",accuracy_score(y, y_pred))\n",
    " \n",
    "print(\"\\n\", \"f1 score:\", f1_score(y, y_pred), \"\\n\")\n",
    "\n",
    "print('TPR: ', TPR)\n",
    "print('FPR: ', FPR)\n",
    "print('TNR: ', TNR)\n",
    "print('FNR: ', FNR)"
   ]
  },
  {
   "cell_type": "markdown",
   "metadata": {},
   "source": [
    "### Stats in subgroups"
   ]
  },
  {
   "cell_type": "markdown",
   "metadata": {},
   "source": [
    "#### White Male vs Non White Male"
   ]
  },
  {
   "cell_type": "code",
   "execution_count": null,
   "metadata": {
    "execution": {
     "iopub.execute_input": "2021-09-13T12:23:46.327216Z",
     "iopub.status.busy": "2021-09-13T12:23:46.326771Z",
     "iopub.status.idle": "2021-09-13T12:23:46.917956Z",
     "shell.execute_reply": "2021-09-13T12:23:46.91723Z",
     "shell.execute_reply.started": "2021-09-13T12:23:46.327171Z"
    }
   },
   "outputs": [],
   "source": [
    "pos_dist = df_fairness[(df_fairness.y_true==1) & (df_fairness.AB_WhiteMale==1)]['Distance']\n",
    "neg_dist = df_fairness[(df_fairness.y_true==0) & (df_fairness.AB_WhiteMale==1)]['Distance']\n",
    "print_hist_dist_zoom(pos_dist, neg_dist, zoom=5.)"
   ]
  },
  {
   "cell_type": "code",
   "execution_count": null,
   "metadata": {
    "execution": {
     "iopub.execute_input": "2021-09-13T12:23:46.919113Z",
     "iopub.status.busy": "2021-09-13T12:23:46.91886Z",
     "iopub.status.idle": "2021-09-13T12:23:47.472007Z",
     "shell.execute_reply": "2021-09-13T12:23:47.471251Z",
     "shell.execute_reply.started": "2021-09-13T12:23:46.919088Z"
    }
   },
   "outputs": [],
   "source": [
    "pos_dist = df_fairness[(df_fairness.y_true==1) & (df_fairness.AB_NoWhiteMale==1)]['Distance']\n",
    "neg_dist = df_fairness[(df_fairness.y_true==0) & (df_fairness.AB_NoWhiteMale==1)]['Distance']\n",
    "print_hist_dist_zoom(pos_dist, neg_dist, zoom=5.)"
   ]
  },
  {
   "cell_type": "code",
   "execution_count": null,
   "metadata": {
    "execution": {
     "iopub.execute_input": "2021-09-13T12:23:47.473408Z",
     "iopub.status.busy": "2021-09-13T12:23:47.473013Z",
     "iopub.status.idle": "2021-09-13T12:23:48.020497Z",
     "shell.execute_reply": "2021-09-13T12:23:48.019765Z",
     "shell.execute_reply.started": "2021-09-13T12:23:47.473378Z"
    }
   },
   "outputs": [],
   "source": [
    "pos_dist = df_fairness[(df_fairness.y_true==1) & (df_fairness.AB_WhiteMale==0)]['Distance']\n",
    "neg_dist = df_fairness[(df_fairness.y_true==0) & (df_fairness.AB_WhiteMale==0)]['Distance']\n",
    "print_hist_dist_zoom(pos_dist, neg_dist, zoom=5.)"
   ]
  },
  {
   "cell_type": "code",
   "execution_count": null,
   "metadata": {
    "execution": {
     "iopub.execute_input": "2021-09-13T12:23:48.021905Z",
     "iopub.status.busy": "2021-09-13T12:23:48.021498Z",
     "iopub.status.idle": "2021-09-13T12:23:48.059287Z",
     "shell.execute_reply": "2021-09-13T12:23:48.058458Z",
     "shell.execute_reply.started": "2021-09-13T12:23:48.021876Z"
    }
   },
   "outputs": [],
   "source": [
    "y_AB_WhiteMale = np.array(df_fairness[df_fairness['AB_WhiteMale']==1].y_true)\n",
    "y_pred_AB_WhiteMale = np.array(df_fairness[df_fairness['AB_WhiteMale']==1].y_pred)\n",
    "\n",
    "tp_AB_WhiteMale,fp_AB_WhiteMale,fn_AB_WhiteMale,tn_AB_WhiteMale = confusion_matrix(y_AB_WhiteMale, y_pred_AB_WhiteMale).ravel()\n",
    "\n",
    "TPR_AB_WhiteMale = tp_AB_WhiteMale/(tp_AB_WhiteMale+fp_AB_WhiteMale)\n",
    "FPR_AB_WhiteMale = fp_AB_WhiteMale/(tp_AB_WhiteMale+fp_AB_WhiteMale)\n",
    "TNR_AB_WhiteMale = tn_AB_WhiteMale/(tn_AB_WhiteMale+fn_AB_WhiteMale)\n",
    "FNR_AB_WhiteMale = fn_AB_WhiteMale/(tn_AB_WhiteMale+fn_AB_WhiteMale)\n",
    "\n",
    "y_AB_NoWhiteMale = np.array(df_fairness[df_fairness['AB_NoWhiteMale']==1].y_true)\n",
    "y_pred_AB_NoWhiteMale = np.array(df_fairness[df_fairness['AB_NoWhiteMale']==1].y_pred)\n",
    "\n",
    "tp_AB_NoWhiteMale,fp_AB_NoWhiteMale,fn_AB_NoWhiteMale,tn_AB_NoWhiteMale = confusion_matrix(y_AB_NoWhiteMale, y_pred_AB_NoWhiteMale).ravel()\n",
    "\n",
    "TPR_AB_NoWhiteMale = tp_AB_NoWhiteMale/(tp_AB_NoWhiteMale+fp_AB_NoWhiteMale)\n",
    "FPR_AB_NoWhiteMale = fp_AB_NoWhiteMale/(tp_AB_NoWhiteMale+fp_AB_NoWhiteMale)\n",
    "TNR_AB_NoWhiteMale = tn_AB_NoWhiteMale/(tn_AB_NoWhiteMale+fn_AB_NoWhiteMale)\n",
    "FNR_AB_NoWhiteMale = fn_AB_NoWhiteMale/(tn_AB_NoWhiteMale+fn_AB_NoWhiteMale)\n",
    "\n",
    "y_AoB_NoWhiteMale = np.array(df_fairness[df_fairness['AB_WhiteMale']==0].y_true)\n",
    "y_pred_AoB_NoWhiteMale = np.array(df_fairness[df_fairness['AB_WhiteMale']==0].y_pred)\n",
    "\n",
    "tp_AoB_NoWhiteMale,fp_AoB_NoWhiteMale,fn_AoB_NoWhiteMale,tn_AoB_NoWhiteMale = confusion_matrix(y_AoB_NoWhiteMale, y_pred_AoB_NoWhiteMale).ravel()\n",
    "\n",
    "TPR_AoB_NoWhiteMale = tp_AoB_NoWhiteMale/(tp_AoB_NoWhiteMale+fp_AoB_NoWhiteMale)\n",
    "FPR_AoB_NoWhiteMale = fp_AoB_NoWhiteMale/(tp_AoB_NoWhiteMale+fp_AoB_NoWhiteMale)\n",
    "TNR_AoB_NoWhiteMale = tn_AoB_NoWhiteMale/(tn_AoB_NoWhiteMale+fn_AoB_NoWhiteMale)\n",
    "FNR_AoB_NoWhiteMale = fn_AoB_NoWhiteMale/(tn_AoB_NoWhiteMale+fn_AoB_NoWhiteMale)"
   ]
  },
  {
   "cell_type": "code",
   "execution_count": null,
   "metadata": {
    "execution": {
     "iopub.execute_input": "2021-09-13T12:23:48.060829Z",
     "iopub.status.busy": "2021-09-13T12:23:48.06039Z",
     "iopub.status.idle": "2021-09-13T12:23:52.15982Z",
     "shell.execute_reply": "2021-09-13T12:23:52.158861Z",
     "shell.execute_reply.started": "2021-09-13T12:23:48.060798Z"
    }
   },
   "outputs": [],
   "source": [
    "print(\"A and B White Male - mean accuracy: \", df_fairness[df_fairness['AB_WhiteMale']==1]['correct_predict'].mean())\n",
    "print(\"A and B White Male - bootstrapping mean accuracy: \", bootstrap(df_fairness[df_fairness['AB_WhiteMale']==1], agg_func=lambda df: df['correct_predict'].mean()))\n",
    "print(\"A and B White Male - triplet accuracy: \", triplet_acc_fairness(df_fairness[df_fairness['AB_WhiteMale']==1]))\n",
    "print(\"A and B White Male - f1 score:\", f1_score(y_AB_WhiteMale, y_pred_AB_WhiteMale))\n",
    "print(\"\\n\")\n",
    "print(\"A and B Non White Male - mean accuracy: \", df_fairness[df_fairness['AB_NoWhiteMale']==1]['correct_predict'].mean())\n",
    "print(\"A and B Non White Male - bootstrapping mean accuracy: \", bootstrap(df_fairness[df_fairness['AB_NoWhiteMale']==1], agg_func=lambda df: df['correct_predict'].mean()))\n",
    "print(\"A and B Non White Male - triplet accuracy: \", triplet_acc_fairness(df_fairness[df_fairness['AB_NoWhiteMale']==1]))\n",
    "print(\"A and B Non White Male - f1 score:\", f1_score(y_AB_NoWhiteMale, y_pred_AB_NoWhiteMale))\n",
    "print(\"\\n\")\n",
    "print(\"A or B Non White Male - mean accuracy: \", df_fairness[df_fairness['AB_WhiteMale']==0]['correct_predict'].mean())\n",
    "print(\"A or B Non White Male - bootstrapping mean accuracy: \", bootstrap(df_fairness[df_fairness['AB_WhiteMale']==0], agg_func=lambda df: df['correct_predict'].mean()))\n",
    "print(\"A or B Non White Male - triplet accuracy: \", triplet_acc_fairness(df_fairness[df_fairness['AB_WhiteMale']==0]))\n",
    "print(\"A or B Non White Male - f1 score:\", f1_score(y_AoB_NoWhiteMale, y_pred_AoB_NoWhiteMale))"
   ]
  },
  {
   "cell_type": "code",
   "execution_count": null,
   "metadata": {
    "execution": {
     "iopub.execute_input": "2021-09-13T12:23:52.161744Z",
     "iopub.status.busy": "2021-09-13T12:23:52.161341Z",
     "iopub.status.idle": "2021-09-13T12:23:52.178168Z",
     "shell.execute_reply": "2021-09-13T12:23:52.177271Z",
     "shell.execute_reply.started": "2021-09-13T12:23:52.161711Z"
    }
   },
   "outputs": [],
   "source": [
    "print(\"A and B White Male - Confusion Matrix\")\n",
    "print(confusion_matrix(y_AB_WhiteMale, y_pred_AB_WhiteMale))\n",
    "print(\"\\n\")\n",
    "print('A and B White Male - TPR: ', TPR_AB_WhiteMale)\n",
    "print('A and B White Male - FPR: ', FPR_AB_WhiteMale)\n",
    "print('A and B White Male - TNR: ', TNR_AB_WhiteMale)\n",
    "print('A and B White Male - FNR: ', FNR_AB_WhiteMale)"
   ]
  },
  {
   "cell_type": "code",
   "execution_count": null,
   "metadata": {
    "execution": {
     "iopub.execute_input": "2021-09-13T12:23:52.1796Z",
     "iopub.status.busy": "2021-09-13T12:23:52.179307Z",
     "iopub.status.idle": "2021-09-13T12:23:52.193642Z",
     "shell.execute_reply": "2021-09-13T12:23:52.192398Z",
     "shell.execute_reply.started": "2021-09-13T12:23:52.179572Z"
    }
   },
   "outputs": [],
   "source": [
    "print(\"A and B Non White Male - Confusion Matrix\")\n",
    "print(confusion_matrix(y_AB_NoWhiteMale, y_pred_AB_NoWhiteMale))\n",
    "print(\"\\n\")\n",
    "print('A and B Non White Male - TPR: ', TPR_AB_NoWhiteMale)\n",
    "print('A and B Non White Male - FPR: ', FPR_AB_NoWhiteMale)\n",
    "print('A and B Non White Male - TNR: ', TNR_AB_NoWhiteMale)\n",
    "print('A and B Non White Male - FNR: ', FNR_AB_NoWhiteMale)"
   ]
  },
  {
   "cell_type": "code",
   "execution_count": null,
   "metadata": {
    "execution": {
     "iopub.execute_input": "2021-09-13T12:23:52.195479Z",
     "iopub.status.busy": "2021-09-13T12:23:52.195166Z",
     "iopub.status.idle": "2021-09-13T12:23:52.212964Z",
     "shell.execute_reply": "2021-09-13T12:23:52.212005Z",
     "shell.execute_reply.started": "2021-09-13T12:23:52.195448Z"
    }
   },
   "outputs": [],
   "source": [
    "print(\"A or B Non White Male - Confusion Matrix\")\n",
    "print(confusion_matrix(y_AoB_NoWhiteMale, y_pred_AoB_NoWhiteMale))\n",
    "print(\"\\n\")\n",
    "print('A or B Non White Male - TPR: ', TPR_AoB_NoWhiteMale)\n",
    "print('A or B Non White Male - FPR: ', FPR_AoB_NoWhiteMale)\n",
    "print('A or B Non White Male - TNR: ', TNR_AoB_NoWhiteMale)\n",
    "print('A or B Non White Male - FNR: ', FNR_AoB_NoWhiteMale)"
   ]
  },
  {
   "cell_type": "markdown",
   "metadata": {},
   "source": [
    "#### Male vs Non Male and White vs Non White"
   ]
  },
  {
   "cell_type": "code",
   "execution_count": null,
   "metadata": {
    "execution": {
     "iopub.execute_input": "2021-09-13T12:23:52.214438Z",
     "iopub.status.busy": "2021-09-13T12:23:52.214159Z",
     "iopub.status.idle": "2021-09-13T12:23:52.93871Z",
     "shell.execute_reply": "2021-09-13T12:23:52.937701Z",
     "shell.execute_reply.started": "2021-09-13T12:23:52.214404Z"
    }
   },
   "outputs": [],
   "source": [
    "pos_dist = df_fairness[(df_fairness.y_true==1) & (df_fairness['A_Male']==1)&(df_fairness['B_Male']==1)]['Distance']\n",
    "neg_dist = df_fairness[(df_fairness.y_true==0) & (df_fairness['A_Male']==1)&(df_fairness['B_Male']==1)]['Distance']\n",
    "print_hist_dist_zoom(pos_dist, neg_dist, zoom=5.)"
   ]
  },
  {
   "cell_type": "code",
   "execution_count": null,
   "metadata": {
    "execution": {
     "iopub.execute_input": "2021-09-13T12:23:52.940302Z",
     "iopub.status.busy": "2021-09-13T12:23:52.939999Z",
     "iopub.status.idle": "2021-09-13T12:23:53.504854Z",
     "shell.execute_reply": "2021-09-13T12:23:53.504031Z",
     "shell.execute_reply.started": "2021-09-13T12:23:52.94027Z"
    }
   },
   "outputs": [],
   "source": [
    "pos_dist = df_fairness[(df_fairness.y_true==1) & (df_fairness['A_Male']==0)&(df_fairness['B_Male']==0)]['Distance']\n",
    "neg_dist = df_fairness[(df_fairness.y_true==0) & (df_fairness['A_Male']==0)&(df_fairness['B_Male']==0)]['Distance']\n",
    "print_hist_dist_zoom(pos_dist, neg_dist, zoom=5.)"
   ]
  },
  {
   "cell_type": "code",
   "execution_count": null,
   "metadata": {
    "execution": {
     "iopub.execute_input": "2021-09-13T12:23:53.506477Z",
     "iopub.status.busy": "2021-09-13T12:23:53.506013Z",
     "iopub.status.idle": "2021-09-13T12:23:54.062088Z",
     "shell.execute_reply": "2021-09-13T12:23:54.061406Z",
     "shell.execute_reply.started": "2021-09-13T12:23:53.506429Z"
    }
   },
   "outputs": [],
   "source": [
    "pos_dist = df_fairness[(df_fairness.y_true==1) & (df_fairness['A_White']==1)&(df_fairness['B_White']==1)]['Distance']\n",
    "neg_dist = df_fairness[(df_fairness.y_true==0) & (df_fairness['A_White']==1)&(df_fairness['B_White']==1)]['Distance']\n",
    "print_hist_dist_zoom(pos_dist, neg_dist, zoom=5.)"
   ]
  },
  {
   "cell_type": "code",
   "execution_count": null,
   "metadata": {
    "execution": {
     "iopub.execute_input": "2021-09-13T12:23:54.063469Z",
     "iopub.status.busy": "2021-09-13T12:23:54.063077Z",
     "iopub.status.idle": "2021-09-13T12:23:54.616821Z",
     "shell.execute_reply": "2021-09-13T12:23:54.615923Z",
     "shell.execute_reply.started": "2021-09-13T12:23:54.063439Z"
    }
   },
   "outputs": [],
   "source": [
    "pos_dist = df_fairness[(df_fairness.y_true==1) & (df_fairness['A_White']==0)&(df_fairness['B_White']==0)]['Distance']\n",
    "neg_dist = df_fairness[(df_fairness.y_true==0) & (df_fairness['A_White']==0)&(df_fairness['B_White']==0)]['Distance']\n",
    "print_hist_dist_zoom(pos_dist, neg_dist, zoom=5.)"
   ]
  },
  {
   "cell_type": "code",
   "execution_count": null,
   "metadata": {
    "execution": {
     "iopub.execute_input": "2021-09-13T12:23:54.618329Z",
     "iopub.status.busy": "2021-09-13T12:23:54.618049Z",
     "iopub.status.idle": "2021-09-13T12:23:54.651799Z",
     "shell.execute_reply": "2021-09-13T12:23:54.650899Z",
     "shell.execute_reply.started": "2021-09-13T12:23:54.618302Z"
    }
   },
   "outputs": [],
   "source": [
    "y_AB_Male = np.array(df_fairness[(df_fairness['A_Male']==1)&(df_fairness['B_Male']==1)].y_true)\n",
    "y_pred_AB_Male = np.array(df_fairness[(df_fairness['A_Male']==1)&(df_fairness['B_Male']==1)].y_pred)\n",
    "\n",
    "tp_AB_Male,fp_AB_Male,fn_AB_Male,tn_AB_Male = confusion_matrix(y_AB_Male, y_pred_AB_Male).ravel()\n",
    "\n",
    "TPR_AB_Male = tp_AB_Male/(tp_AB_Male+fp_AB_Male)\n",
    "FPR_AB_Male = fp_AB_Male/(tp_AB_Male+fp_AB_Male)\n",
    "TNR_AB_Male = tn_AB_Male/(tn_AB_Male+fn_AB_Male)\n",
    "FNR_AB_Male = fn_AB_Male/(tn_AB_Male+fn_AB_Male)\n",
    "\n",
    "y_AB_NoMale = np.array(df_fairness[(df_fairness['A_Male']==0)&(df_fairness['B_Male']==0)].y_true)\n",
    "y_pred_AB_NoMale = np.array(df_fairness[(df_fairness['A_Male']==0)&(df_fairness['B_Male']==0)].y_pred)\n",
    "\n",
    "tp_AB_NoMale,fp_AB_NoMale,fn_AB_NoMale,tn_AB_NoMale = confusion_matrix(y_AB_NoMale, y_pred_AB_NoMale).ravel()\n",
    "\n",
    "TPR_AB_NoMale = tp_AB_NoMale/(tp_AB_NoMale+fp_AB_NoMale)\n",
    "FPR_AB_NoMale = fp_AB_NoMale/(tp_AB_NoMale+fp_AB_NoMale)\n",
    "TNR_AB_NoMale = tn_AB_NoMale/(tn_AB_NoMale+fn_AB_NoMale)\n",
    "FNR_AB_NoMale = fn_AB_NoMale/(tn_AB_NoMale+fn_AB_NoMale)"
   ]
  },
  {
   "cell_type": "code",
   "execution_count": null,
   "metadata": {
    "execution": {
     "iopub.execute_input": "2021-09-13T12:23:54.653233Z",
     "iopub.status.busy": "2021-09-13T12:23:54.652946Z",
     "iopub.status.idle": "2021-09-13T12:23:57.182838Z",
     "shell.execute_reply": "2021-09-13T12:23:57.181703Z",
     "shell.execute_reply.started": "2021-09-13T12:23:54.653205Z"
    }
   },
   "outputs": [],
   "source": [
    "print(\"A and B Male - mean accuracy: \", df_fairness[(df_fairness['A_Male']==1)&(df_fairness['B_Male']==1)]['correct_predict'].mean())\n",
    "print(\"A and B Male - bootstrapping mean accuracy: \", bootstrap(df_fairness[(df_fairness['A_Male']==1)&(df_fairness['B_Male']==1)], agg_func=lambda df: df['correct_predict'].mean()))\n",
    "print(\"A and B Male - triplet accuracy: \", triplet_acc_fairness(df_fairness[(df_fairness['A_Male']==1)&(df_fairness['B_Male']==1)]))\n",
    "print(\"A and B Male - f1 score:\", f1_score(y_AB_Male, y_pred_AB_Male))\n",
    "print(\"A and B Male - Confusion Matrix\")\n",
    "print(confusion_matrix(y_AB_Male, y_pred_AB_Male))\n",
    "print('A and B Male - TPR: ', TPR_AB_Male)\n",
    "print('A and B Male - FPR: ', FPR_AB_Male)\n",
    "print('A and B Male - TNR: ', TNR_AB_Male)\n",
    "print('A and B Male - FNR: ', FNR_AB_Male)\n",
    "print(\"\\n\")\n",
    "print(\"A and B Non Male - mean accuracy: \", df_fairness[(df_fairness['A_Male']==0)&(df_fairness['B_Male']==0)]['correct_predict'].mean())\n",
    "print(\"A and B Non Male - bootstrapping mean accuracy: \", bootstrap(df_fairness[(df_fairness['A_Male']==0)&(df_fairness['B_Male']==0)], agg_func=lambda df: df['correct_predict'].mean()))\n",
    "print(\"A and B Non Male - triplet accuracy: \", triplet_acc_fairness(df_fairness[(df_fairness['A_Male']==0)&(df_fairness['B_Male']==0)]))\n",
    "print(\"A and B Non Male - f1 score:\", f1_score(y_AB_NoMale, y_pred_AB_NoMale))\n",
    "print(\"A and B Non Male - Confusion Matrix\")\n",
    "print(confusion_matrix(y_AB_NoMale, y_pred_AB_NoMale))\n",
    "print('A and B Non Male - TPR: ', TPR_AB_NoMale)\n",
    "print('A and B Non Male - FPR: ', FPR_AB_NoMale)\n",
    "print('A and B Non Male - TNR: ', TNR_AB_NoMale)\n",
    "print('A and B Non Male - FNR: ', FNR_AB_NoMale)"
   ]
  },
  {
   "cell_type": "markdown",
   "metadata": {},
   "source": [
    "### Look at images"
   ]
  },
  {
   "cell_type": "code",
   "execution_count": null,
   "metadata": {
    "execution": {
     "iopub.execute_input": "2021-09-13T12:23:57.184651Z",
     "iopub.status.busy": "2021-09-13T12:23:57.184289Z",
     "iopub.status.idle": "2021-09-13T12:23:57.191141Z",
     "shell.execute_reply": "2021-09-13T12:23:57.190171Z",
     "shell.execute_reply.started": "2021-09-13T12:23:57.184617Z"
    }
   },
   "outputs": [],
   "source": [
    "my_img = all_imgs[df_fairness[df_fairness.A_Male==0].id_A.iloc[3]]"
   ]
  },
  {
   "cell_type": "raw",
   "metadata": {
    "execution": {
     "iopub.execute_input": "2021-08-19T13:49:19.040856Z",
     "iopub.status.busy": "2021-08-19T13:49:19.040494Z",
     "iopub.status.idle": "2021-08-19T13:49:19.124764Z",
     "shell.execute_reply": "2021-08-19T13:49:19.12386Z",
     "shell.execute_reply.started": "2021-08-19T13:49:19.040826Z"
    }
   },
   "source": [
    "print_img(from_tensor_to_numpy(my_img)/255)"
   ]
  },
  {
   "cell_type": "code",
   "execution_count": null,
   "metadata": {
    "execution": {
     "iopub.execute_input": "2021-09-13T12:23:57.193056Z",
     "iopub.status.busy": "2021-09-13T12:23:57.192606Z",
     "iopub.status.idle": "2021-09-13T12:23:57.242645Z",
     "shell.execute_reply": "2021-09-13T12:23:57.241652Z",
     "shell.execute_reply.started": "2021-09-13T12:23:57.192997Z"
    }
   },
   "outputs": [],
   "source": [
    "my_img = all_imgs[list(df_fairness[df_fairness.A_Male==0].id_A)]"
   ]
  },
  {
   "cell_type": "code",
   "execution_count": null,
   "metadata": {
    "execution": {
     "iopub.execute_input": "2021-09-13T12:23:57.24428Z",
     "iopub.status.busy": "2021-09-13T12:23:57.243976Z",
     "iopub.status.idle": "2021-09-13T12:23:57.249345Z",
     "shell.execute_reply": "2021-09-13T12:23:57.248357Z",
     "shell.execute_reply.started": "2021-09-13T12:23:57.244242Z"
    }
   },
   "outputs": [],
   "source": [
    "print(len(my_img))"
   ]
  },
  {
   "cell_type": "code",
   "execution_count": null,
   "metadata": {
    "execution": {
     "iopub.execute_input": "2021-09-13T12:23:57.251202Z",
     "iopub.status.busy": "2021-09-13T12:23:57.250821Z",
     "iopub.status.idle": "2021-09-13T12:23:57.94249Z",
     "shell.execute_reply": "2021-09-13T12:23:57.941543Z",
     "shell.execute_reply.started": "2021-09-13T12:23:57.251168Z"
    }
   },
   "outputs": [],
   "source": [
    "for k in range(10):\n",
    "    print_img(from_tensor_to_numpy(my_img[k])/255)"
   ]
  },
  {
   "cell_type": "code",
   "execution_count": null,
   "metadata": {},
   "outputs": [],
   "source": []
  }
 ],
 "metadata": {
  "kernelspec": {
   "display_name": "Python 3 (ipykernel)",
   "language": "python",
   "name": "python3"
  },
  "language_info": {
   "codemirror_mode": {
    "name": "ipython",
    "version": 3
   },
   "file_extension": ".py",
   "mimetype": "text/x-python",
   "name": "python",
   "nbconvert_exporter": "python",
   "pygments_lexer": "ipython3",
   "version": "3.9.12"
  }
 },
 "nbformat": 4,
 "nbformat_minor": 4
}

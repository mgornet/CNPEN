{
 "cells": [
  {
   "cell_type": "markdown",
   "metadata": {
    "id": "cq6PdPGN4DJu"
   },
   "source": [
    "# Triplet Loss with Faces -- Fairness Study"
   ]
  },
  {
   "cell_type": "markdown",
   "metadata": {},
   "source": [
    "## Initialization"
   ]
  },
  {
   "cell_type": "code",
   "execution_count": 1,
   "metadata": {
    "id": "2r4GrySt26Q-",
    "outputId": "4890c780-31f1-4532-d4a7-64f7412ea780",
    "tags": []
   },
   "outputs": [],
   "source": [
    "# !pip install torch"
   ]
  },
  {
   "cell_type": "code",
   "execution_count": 2,
   "metadata": {
    "id": "elsPIhAzrPL-",
    "outputId": "486d7b03-5889-4c28-c71e-b1e169f7e026",
    "tags": []
   },
   "outputs": [],
   "source": [
    "# !pip install mat73"
   ]
  },
  {
   "cell_type": "code",
   "execution_count": 3,
   "metadata": {
    "id": "FyTWhJXMpRex",
    "outputId": "dcfa38a7-4bd7-4b6b-e6b4-d96298974042",
    "tags": []
   },
   "outputs": [],
   "source": [
    "# !pip install wandb -qqq\n",
    "# import wandb"
   ]
  },
  {
   "cell_type": "code",
   "execution_count": 4,
   "metadata": {
    "id": "N2ZqMDMrKeFi",
    "outputId": "6ddb3d01-83e5-4bb2-a378-54748c3c742c",
    "tags": []
   },
   "outputs": [],
   "source": [
    "# !git clone https://github.com/mgornet/CNPEN"
   ]
  },
  {
   "cell_type": "markdown",
   "metadata": {
    "id": "MW_MVwhYwRiH"
   },
   "source": [
    "### Check device"
   ]
  },
  {
   "cell_type": "code",
   "execution_count": 5,
   "metadata": {
    "id": "zruTnsd7wTz6",
    "outputId": "66c9d4a5-2768-45b6-d901-16ab0b7d9081",
    "tags": []
   },
   "outputs": [
    {
     "name": "stdout",
     "output_type": "stream",
     "text": [
      "Tue Jun 21 14:56:56 2022       \n",
      "+-----------------------------------------------------------------------------+\n",
      "| NVIDIA-SMI 510.47.03    Driver Version: 510.47.03    CUDA Version: 11.6     |\n",
      "|-------------------------------+----------------------+----------------------+\n",
      "| GPU  Name        Persistence-M| Bus-Id        Disp.A | Volatile Uncorr. ECC |\n",
      "| Fan  Temp  Perf  Pwr:Usage/Cap|         Memory-Usage | GPU-Util  Compute M. |\n",
      "|                               |                      |               MIG M. |\n",
      "|===============================+======================+======================|\n",
      "|   0  NVIDIA RTX A400...  On   | 00000000:01:00.0  On |                  N/A |\n",
      "| N/A   60C    P8    21W /  N/A |     75MiB /  8192MiB |     12%      Default |\n",
      "|                               |                      |                  N/A |\n",
      "+-------------------------------+----------------------+----------------------+\n",
      "                                                                               \n",
      "+-----------------------------------------------------------------------------+\n",
      "| Processes:                                                                  |\n",
      "|  GPU   GI   CI        PID   Type   Process name                  GPU Memory |\n",
      "|        ID   ID                                                   Usage      |\n",
      "|=============================================================================|\n",
      "|    0   N/A  N/A      1672      G   /usr/lib/xorg/Xorg                  4MiB |\n",
      "|    0   N/A  N/A      2481      G   /usr/lib/xorg/Xorg                 69MiB |\n",
      "+-----------------------------------------------------------------------------+\n"
     ]
    }
   ],
   "source": [
    "!nvidia-smi"
   ]
  },
  {
   "cell_type": "markdown",
   "metadata": {
    "id": "IJK8gGmS4dsb"
   },
   "source": [
    "### Import Librairies"
   ]
  },
  {
   "cell_type": "code",
   "execution_count": 1,
   "metadata": {
    "id": "JyM1GtzC2_zh",
    "tags": []
   },
   "outputs": [],
   "source": [
    "import numpy as np\n",
    "import random\n",
    "import matplotlib.pyplot as plt\n",
    "from tqdm.notebook import tqdm\n",
    "from time import perf_counter\n",
    "from typing import Callable\n",
    "import itertools\n",
    "import mat73\n",
    "import pandas as pd\n",
    "import re\n",
    "\n",
    "import sys\n",
    "import os\n",
    "import tarfile\n",
    "\n",
    "from sklearn.datasets import load_digits\n",
    "from sklearn.model_selection import train_test_split\n",
    "\n",
    "import torch\n",
    "from torch import nn, optim\n",
    "import torch.nn.functional as F\n",
    "\n",
    "from torch.utils.data import DataLoader, Dataset\n",
    "from torchvision import datasets, transforms\n",
    "\n",
    "import os.path as op\n",
    "try:\n",
    "    from urllib.request import urlretrieve\n",
    "except ImportError:  # Python 2 compat\n",
    "    from urllib import urlretrieve\n",
    "    \n",
    "from sklearn.metrics import confusion_matrix, auc, roc_curve, \\\n",
    "precision_recall_curve, accuracy_score, f1_score\n",
    "from sklearn.linear_model import LogisticRegression\n",
    "from scipy import optimize\n",
    "\n",
    "import wandb"
   ]
  },
  {
   "cell_type": "code",
   "execution_count": 2,
   "metadata": {
    "id": "ix4Yn3BoLNfx",
    "outputId": "7947880c-ab47-4393-c5d6-be37199febe6",
    "tags": []
   },
   "outputs": [
    {
     "name": "stdout",
     "output_type": "stream",
     "text": [
      "/home/mgornet/Bureau/Code/CNPEN/files\n"
     ]
    }
   ],
   "source": [
    "%cd ./files/\n",
    "\n",
    "from triplet import TripletGenerator, TripletLearner, TripletLoss, TripletLossRaw, \\\n",
    "distance, distance_vectors\n",
    "from builder import create_dataframe, from_tensor_to_numpy, from_numpy_to_tensor, extend_dataframe\n",
    "from prints import print_img, print_img_from_path, print_img_from_id, \\\n",
    "print_img_from_classid, print_from_gen, print_from_gen2, print_pair, print_hist_loss, \\\n",
    "print_hist_dist, print_hist_dist_zoom, print_img_category, \\\n",
    "print_roc, print_logistic_regression, print_prec_recall\n",
    "from test_train_loops import training, testing, adaptative_train, compute_distances\n",
    "from classification import authentification_img, predict, triplet_acc,\\\n",
    "build_df_fairness, triplet_acc_fairness, bootstrap, bootstrap_by_pairs #triplet_acc_for_bootstrap"
   ]
  },
  {
   "cell_type": "code",
   "execution_count": 3,
   "metadata": {
    "id": "dNWBFp1aLev5",
    "outputId": "780215a4-2505-447d-86e6-385dd44f016e",
    "tags": []
   },
   "outputs": [
    {
     "name": "stdout",
     "output_type": "stream",
     "text": [
      "/home/mgornet/Bureau/Code/CNPEN/files\n"
     ]
    }
   ],
   "source": [
    "!pwd"
   ]
  },
  {
   "cell_type": "markdown",
   "metadata": {
    "id": "Hp8S6_Nu4muA"
   },
   "source": [
    "## Generate Data"
   ]
  },
  {
   "cell_type": "markdown",
   "metadata": {},
   "source": [
    "### Create dataframe"
   ]
  },
  {
   "cell_type": "code",
   "execution_count": 4,
   "metadata": {
    "id": "0HQV0dwQiLvS",
    "outputId": "343cfafa-cadf-4554-f5a1-90e52f96afca",
    "tags": []
   },
   "outputs": [],
   "source": [
    "URL = \"http://vis-www.cs.umass.edu/lfw/lfw-deepfunneled.tgz\"\n",
    "FILENAME = \"lfw-deepfunneled.tgz\"\n",
    "\n",
    "if not op.exists(FILENAME):\n",
    "    print('Downloading %s to %s...' % (URL, FILENAME))\n",
    "    urlretrieve(URL, FILENAME)\n",
    "\n",
    "if not op.exists(\"lfw\"):\n",
    "    print('Extracting image files...')\n",
    "    tar = tarfile.open(\"lfw-deepfunneled.tgz\")\n",
    "    tar.extractall(\"lfw\")\n",
    "    tar.close()"
   ]
  },
  {
   "cell_type": "code",
   "execution_count": 5,
   "metadata": {
    "id": "jtFwuCt4iSgy",
    "tags": []
   },
   "outputs": [],
   "source": [
    "PATH = \"lfw/lfw-deepfunneled/\""
   ]
  },
  {
   "cell_type": "code",
   "execution_count": 6,
   "metadata": {
    "id": "pW3OOgQXOLa-",
    "outputId": "8cb4ccff-40ca-44aa-b9f0-3e7244731cfe",
    "tags": []
   },
   "outputs": [
    {
     "name": "stdout",
     "output_type": "stream",
     "text": [
      "Number of individuals:  5749\n",
      "Number of total images:  13233\n",
      "images weigh  0.57 GB\n",
      "DataFrame creation: 0.8 min\n"
     ]
    }
   ],
   "source": [
    "tic = perf_counter()\n",
    "df_init, all_imgs = create_dataframe()\n",
    "toc = perf_counter()\n",
    "print(f\"DataFrame creation: {((toc - tic)/60):.1f} min\")"
   ]
  },
  {
   "cell_type": "code",
   "execution_count": 7,
   "metadata": {
    "tags": []
   },
   "outputs": [
    {
     "name": "stdout",
     "output_type": "stream",
     "text": [
      "DataFrame extention: 0.1 min\n"
     ]
    }
   ],
   "source": [
    "tic = perf_counter()\n",
    "df = extend_dataframe(df_init)\n",
    "toc = perf_counter()\n",
    "print(f\"DataFrame extention: {((toc - tic)/60):.1f} min\")"
   ]
  },
  {
   "cell_type": "markdown",
   "metadata": {
    "id": "gjPcX2sdTQz4"
   },
   "source": [
    "### Build sets, generators and network"
   ]
  },
  {
   "cell_type": "code",
   "execution_count": 8,
   "metadata": {
    "id": "9YhsU5iYDx0c",
    "outputId": "fe319f34-b66f-4601-d05c-25dabcaa1656",
    "tags": []
   },
   "outputs": [
    {
     "name": "stdout",
     "output_type": "stream",
     "text": [
      "Number of individuals:  5749\n"
     ]
    }
   ],
   "source": [
    "num_classes = len(df.Classid.unique())\n",
    "print(\"Number of individuals: \", num_classes)"
   ]
  },
  {
   "cell_type": "code",
   "execution_count": 9,
   "metadata": {
    "id": "SX80fCGkn702",
    "tags": []
   },
   "outputs": [],
   "source": [
    "indiv_min = df.Classid.min()\n",
    "split_train_valid = int(num_classes * 0.75)\n",
    "split_train_test = int(num_classes * 0.8)\n",
    "indiv_max = df.Classid.max()"
   ]
  },
  {
   "cell_type": "code",
   "execution_count": 10,
   "metadata": {
    "id": "1rHLE3kHcCyp",
    "outputId": "5291153a-b4d0-4bf5-d690-25979aafaeee",
    "tags": []
   },
   "outputs": [
    {
     "name": "stdout",
     "output_type": "stream",
     "text": [
      "Train set from indiv 0 to 4310\n",
      "Valid set from indiv 4311 to 4598\n",
      "Test set from indiv 4599 to 5748\n"
     ]
    }
   ],
   "source": [
    "print(f\"Train set from indiv {indiv_min} to {split_train_valid-1}\")\n",
    "print(f\"Valid set from indiv {split_train_valid} to {split_train_test-1}\")\n",
    "print(f\"Test set from indiv {split_train_test} to {indiv_max}\")"
   ]
  },
  {
   "cell_type": "code",
   "execution_count": 11,
   "metadata": {
    "id": "P0vpXVlscwOA",
    "tags": []
   },
   "outputs": [],
   "source": [
    "df_train = df[df.Classid<split_train_valid]\n",
    "df_valid = df[(df.Classid>=split_train_valid)&(df.Classid<split_train_test)]\n",
    "df_test = df[df.Classid>=split_train_test]"
   ]
  },
  {
   "cell_type": "code",
   "execution_count": 12,
   "metadata": {
    "id": "6y6Lmu7UTQz6",
    "outputId": "28af2b3b-e25e-4e31-d548-10f4f98de50e",
    "tags": []
   },
   "outputs": [
    {
     "name": "stdout",
     "output_type": "stream",
     "text": [
      "Number of training images:  10060\n",
      "Number of validation images:  586\n",
      "Number of testing images:  2587\n",
      "Number of total images:  13233\n",
      "len original:  13233\n"
     ]
    }
   ],
   "source": [
    "print(\"Number of training images: \", len(df_train))\n",
    "print(\"Number of validation images: \", len(df_valid))\n",
    "print(\"Number of testing images: \", len(df_test))\n",
    "print(\"Number of total images: \", len(df_train)+len(df_valid)+len(df_test))\n",
    "print(\"len original: \", len(df))"
   ]
  },
  {
   "cell_type": "code",
   "execution_count": 13,
   "metadata": {
    "id": "LeMZhCJtTQz6",
    "outputId": "a253f6dc-6c2e-4ae6-d2f3-5be83a67603d",
    "tags": []
   },
   "outputs": [
    {
     "name": "stdout",
     "output_type": "stream",
     "text": [
      "Number of individuals in the training set:  4311\n",
      "Number of individuals in the validation set:  288\n",
      "Number of individuals in the testing set:  1150\n"
     ]
    }
   ],
   "source": [
    "print(\"Number of individuals in the training set: \", len(df_train.Classid.unique()))\n",
    "print(\"Number of individuals in the validation set: \", len(df_valid.Classid.unique()))\n",
    "print(\"Number of individuals in the testing set: \", len(df_test.Classid.unique()))"
   ]
  },
  {
   "cell_type": "code",
   "execution_count": 14,
   "metadata": {
    "id": "44sct3lGTQz7",
    "outputId": "f430af11-01cd-4696-eedf-f9e66aca0a4e",
    "tags": []
   },
   "outputs": [
    {
     "name": "stdout",
     "output_type": "stream",
     "text": [
      "Number of individuals with more than one image in the training set:  1267\n",
      "Number of individuals with more than one image in the validation set:  79\n",
      "Number of individuals with more than one image in the testing set:  334\n"
     ]
    }
   ],
   "source": [
    "value_count = df_train.Classid.value_counts()\n",
    "print(\"Number of individuals with more than one image in the training set: \", len(value_count[value_count.values>1]))\n",
    "value_count = df_valid.Classid.value_counts()\n",
    "print(\"Number of individuals with more than one image in the validation set: \", len(value_count[value_count.values>1]))\n",
    "value_count = df_test.Classid.value_counts()\n",
    "print(\"Number of individuals with more than one image in the testing set: \", len(value_count[value_count.values>1]))"
   ]
  },
  {
   "cell_type": "code",
   "execution_count": 15,
   "metadata": {
    "id": "nkVW9HZq9K9e",
    "outputId": "cd5adc42-7ad9-468a-8aee-9039c7cc30d9",
    "tags": []
   },
   "outputs": [
    {
     "data": {
      "text/html": [
       "<div>\n",
       "<style scoped>\n",
       "    .dataframe tbody tr th:only-of-type {\n",
       "        vertical-align: middle;\n",
       "    }\n",
       "\n",
       "    .dataframe tbody tr th {\n",
       "        vertical-align: top;\n",
       "    }\n",
       "\n",
       "    .dataframe thead th {\n",
       "        text-align: right;\n",
       "    }\n",
       "</style>\n",
       "<table border=\"1\" class=\"dataframe\">\n",
       "  <thead>\n",
       "    <tr style=\"text-align: right;\">\n",
       "      <th></th>\n",
       "      <th>Classid</th>\n",
       "      <th>Name</th>\n",
       "      <th>Path</th>\n",
       "      <th>Male</th>\n",
       "      <th>Asian</th>\n",
       "      <th>White</th>\n",
       "      <th>Black</th>\n",
       "      <th>Baby</th>\n",
       "      <th>Child</th>\n",
       "      <th>Youth</th>\n",
       "      <th>...</th>\n",
       "      <th>Pale Skin</th>\n",
       "      <th>5 o Clock Shadow</th>\n",
       "      <th>Strong Nose-Mouth Lines</th>\n",
       "      <th>Wearing Lipstick</th>\n",
       "      <th>Flushed Face</th>\n",
       "      <th>High Cheekbones</th>\n",
       "      <th>Brown Eyes</th>\n",
       "      <th>Wearing Earrings</th>\n",
       "      <th>Wearing Necktie</th>\n",
       "      <th>Wearing Necklace</th>\n",
       "    </tr>\n",
       "  </thead>\n",
       "  <tbody>\n",
       "    <tr>\n",
       "      <th>10060</th>\n",
       "      <td>4311</td>\n",
       "      <td>Pedro_Solbes</td>\n",
       "      <td>Pedro_Solbes/Pedro_Solbes_0001.jpg</td>\n",
       "      <td>1.0</td>\n",
       "      <td>0.0</td>\n",
       "      <td>1.0</td>\n",
       "      <td>0.0</td>\n",
       "      <td>0.0</td>\n",
       "      <td>0.0</td>\n",
       "      <td>0.0</td>\n",
       "      <td>...</td>\n",
       "      <td>0.0</td>\n",
       "      <td>1.0</td>\n",
       "      <td>1.0</td>\n",
       "      <td>0.0</td>\n",
       "      <td>0.0</td>\n",
       "      <td>1.0</td>\n",
       "      <td>1.0</td>\n",
       "      <td>0.0</td>\n",
       "      <td>1.0</td>\n",
       "      <td>0.0</td>\n",
       "    </tr>\n",
       "    <tr>\n",
       "      <th>10061</th>\n",
       "      <td>4311</td>\n",
       "      <td>Pedro_Solbes</td>\n",
       "      <td>Pedro_Solbes/Pedro_Solbes_0002.jpg</td>\n",
       "      <td>1.0</td>\n",
       "      <td>0.0</td>\n",
       "      <td>1.0</td>\n",
       "      <td>0.0</td>\n",
       "      <td>0.0</td>\n",
       "      <td>0.0</td>\n",
       "      <td>0.0</td>\n",
       "      <td>...</td>\n",
       "      <td>0.0</td>\n",
       "      <td>1.0</td>\n",
       "      <td>1.0</td>\n",
       "      <td>0.0</td>\n",
       "      <td>0.0</td>\n",
       "      <td>0.0</td>\n",
       "      <td>1.0</td>\n",
       "      <td>0.0</td>\n",
       "      <td>1.0</td>\n",
       "      <td>0.0</td>\n",
       "    </tr>\n",
       "    <tr>\n",
       "      <th>10062</th>\n",
       "      <td>4311</td>\n",
       "      <td>Pedro_Solbes</td>\n",
       "      <td>Pedro_Solbes/Pedro_Solbes_0003.jpg</td>\n",
       "      <td>1.0</td>\n",
       "      <td>0.0</td>\n",
       "      <td>1.0</td>\n",
       "      <td>0.0</td>\n",
       "      <td>0.0</td>\n",
       "      <td>0.0</td>\n",
       "      <td>0.0</td>\n",
       "      <td>...</td>\n",
       "      <td>0.0</td>\n",
       "      <td>1.0</td>\n",
       "      <td>0.0</td>\n",
       "      <td>0.0</td>\n",
       "      <td>0.0</td>\n",
       "      <td>0.0</td>\n",
       "      <td>1.0</td>\n",
       "      <td>0.0</td>\n",
       "      <td>1.0</td>\n",
       "      <td>0.0</td>\n",
       "    </tr>\n",
       "    <tr>\n",
       "      <th>10063</th>\n",
       "      <td>4311</td>\n",
       "      <td>Pedro_Solbes</td>\n",
       "      <td>Pedro_Solbes/Pedro_Solbes_0004.jpg</td>\n",
       "      <td>1.0</td>\n",
       "      <td>0.0</td>\n",
       "      <td>1.0</td>\n",
       "      <td>0.0</td>\n",
       "      <td>0.0</td>\n",
       "      <td>0.0</td>\n",
       "      <td>0.0</td>\n",
       "      <td>...</td>\n",
       "      <td>1.0</td>\n",
       "      <td>1.0</td>\n",
       "      <td>1.0</td>\n",
       "      <td>0.0</td>\n",
       "      <td>0.0</td>\n",
       "      <td>0.0</td>\n",
       "      <td>1.0</td>\n",
       "      <td>0.0</td>\n",
       "      <td>0.0</td>\n",
       "      <td>0.0</td>\n",
       "    </tr>\n",
       "    <tr>\n",
       "      <th>10064</th>\n",
       "      <td>4312</td>\n",
       "      <td>Pedro_Velasquez</td>\n",
       "      <td>Pedro_Velasquez/Pedro_Velasquez_0001.jpg</td>\n",
       "      <td>1.0</td>\n",
       "      <td>0.0</td>\n",
       "      <td>1.0</td>\n",
       "      <td>0.0</td>\n",
       "      <td>0.0</td>\n",
       "      <td>0.0</td>\n",
       "      <td>0.0</td>\n",
       "      <td>...</td>\n",
       "      <td>1.0</td>\n",
       "      <td>1.0</td>\n",
       "      <td>1.0</td>\n",
       "      <td>0.0</td>\n",
       "      <td>0.0</td>\n",
       "      <td>0.0</td>\n",
       "      <td>0.0</td>\n",
       "      <td>0.0</td>\n",
       "      <td>1.0</td>\n",
       "      <td>0.0</td>\n",
       "    </tr>\n",
       "  </tbody>\n",
       "</table>\n",
       "<p>5 rows × 76 columns</p>\n",
       "</div>"
      ],
      "text/plain": [
       "       Classid             Name                                      Path  \\\n",
       "10060     4311     Pedro_Solbes        Pedro_Solbes/Pedro_Solbes_0001.jpg   \n",
       "10061     4311     Pedro_Solbes        Pedro_Solbes/Pedro_Solbes_0002.jpg   \n",
       "10062     4311     Pedro_Solbes        Pedro_Solbes/Pedro_Solbes_0003.jpg   \n",
       "10063     4311     Pedro_Solbes        Pedro_Solbes/Pedro_Solbes_0004.jpg   \n",
       "10064     4312  Pedro_Velasquez  Pedro_Velasquez/Pedro_Velasquez_0001.jpg   \n",
       "\n",
       "       Male  Asian  White  Black  Baby  Child  Youth  ...  Pale Skin  \\\n",
       "10060   1.0    0.0    1.0    0.0   0.0    0.0    0.0  ...        0.0   \n",
       "10061   1.0    0.0    1.0    0.0   0.0    0.0    0.0  ...        0.0   \n",
       "10062   1.0    0.0    1.0    0.0   0.0    0.0    0.0  ...        0.0   \n",
       "10063   1.0    0.0    1.0    0.0   0.0    0.0    0.0  ...        1.0   \n",
       "10064   1.0    0.0    1.0    0.0   0.0    0.0    0.0  ...        1.0   \n",
       "\n",
       "       5 o Clock Shadow  Strong Nose-Mouth Lines  Wearing Lipstick  \\\n",
       "10060               1.0                      1.0               0.0   \n",
       "10061               1.0                      1.0               0.0   \n",
       "10062               1.0                      0.0               0.0   \n",
       "10063               1.0                      1.0               0.0   \n",
       "10064               1.0                      1.0               0.0   \n",
       "\n",
       "       Flushed Face  High Cheekbones  Brown Eyes  Wearing Earrings  \\\n",
       "10060           0.0              1.0         1.0               0.0   \n",
       "10061           0.0              0.0         1.0               0.0   \n",
       "10062           0.0              0.0         1.0               0.0   \n",
       "10063           0.0              0.0         1.0               0.0   \n",
       "10064           0.0              0.0         0.0               0.0   \n",
       "\n",
       "       Wearing Necktie  Wearing Necklace  \n",
       "10060              1.0               0.0  \n",
       "10061              1.0               0.0  \n",
       "10062              1.0               0.0  \n",
       "10063              0.0               0.0  \n",
       "10064              1.0               0.0  \n",
       "\n",
       "[5 rows x 76 columns]"
      ]
     },
     "execution_count": 15,
     "metadata": {},
     "output_type": "execute_result"
    }
   ],
   "source": [
    "df_valid.head()"
   ]
  },
  {
   "cell_type": "code",
   "execution_count": 16,
   "metadata": {
    "id": "otF4YNywkl2O",
    "tags": []
   },
   "outputs": [],
   "source": [
    "BATCH_SIZE = 128 # 128\n",
    "BATCH_VALID_SIZE = 128 #128 #8\n",
    "BATCH_TEST_SIZE = 128 #128 #32"
   ]
  },
  {
   "cell_type": "code",
   "execution_count": 17,
   "metadata": {
    "id": "IhO6Pj2q3tnM",
    "tags": []
   },
   "outputs": [],
   "source": [
    "device = torch.device(\"cuda:0\" if torch.cuda.is_available() else \"cpu\")\n",
    "margin = 0.2\n",
    "criterion = TripletLoss(margin)\n",
    "criterion_test = TripletLossRaw(margin)"
   ]
  },
  {
   "cell_type": "markdown",
   "metadata": {
    "id": "iSBWwAmCx-0b"
   },
   "source": [
    "### Load Model"
   ]
  },
  {
   "cell_type": "code",
   "execution_count": 18,
   "metadata": {
    "id": "vEb1cNtrx9lD",
    "tags": []
   },
   "outputs": [
    {
     "data": {
      "text/plain": [
       "TripletLearner(\n",
       "  (conv): Sequential(\n",
       "    (0): Conv2d(3, 32, kernel_size=(3, 3), stride=(1, 1), padding=(1, 1))\n",
       "    (1): ReLU()\n",
       "    (2): Conv2d(32, 32, kernel_size=(3, 3), stride=(1, 1), padding=(1, 1))\n",
       "    (3): ReLU()\n",
       "    (4): MaxPool2d(kernel_size=2, stride=2, padding=0, dilation=1, ceil_mode=False)\n",
       "    (5): Conv2d(32, 64, kernel_size=(3, 3), stride=(1, 1), padding=(1, 1))\n",
       "    (6): ReLU()\n",
       "    (7): Conv2d(64, 64, kernel_size=(3, 3), stride=(1, 1), padding=(1, 1))\n",
       "    (8): ReLU()\n",
       "    (9): MaxPool2d(kernel_size=2, stride=2, padding=0, dilation=1, ceil_mode=False)\n",
       "    (10): Conv2d(64, 128, kernel_size=(3, 3), stride=(1, 1), padding=(1, 1))\n",
       "    (11): ReLU()\n",
       "    (12): Conv2d(128, 128, kernel_size=(3, 3), stride=(1, 1), padding=(1, 1))\n",
       "    (13): ReLU()\n",
       "    (14): MaxPool2d(kernel_size=2, stride=2, padding=0, dilation=1, ceil_mode=False)\n",
       "    (15): Conv2d(128, 256, kernel_size=(3, 3), stride=(1, 1), padding=(1, 1))\n",
       "    (16): ReLU()\n",
       "    (17): Conv2d(256, 256, kernel_size=(3, 3), stride=(1, 1), padding=(1, 1))\n",
       "    (18): ReLU()\n",
       "    (19): MaxPool2d(kernel_size=2, stride=2, padding=0, dilation=1, ceil_mode=False)\n",
       "    (20): Conv2d(256, 512, kernel_size=(3, 3), stride=(1, 1), padding=(1, 1))\n",
       "    (21): ReLU()\n",
       "    (22): Conv2d(512, 512, kernel_size=(3, 3), stride=(1, 1), padding=(1, 1))\n",
       "    (23): ReLU()\n",
       "  )\n",
       "  (avg): AvgPool2d(kernel_size=3, stride=3, padding=0)\n",
       "  (fc): Sequential(\n",
       "    (0): Dropout(p=0, inplace=False)\n",
       "    (1): Linear(in_features=512, out_features=512, bias=True)\n",
       "  )\n",
       ")"
      ]
     },
     "execution_count": 18,
     "metadata": {},
     "output_type": "execute_result"
    }
   ],
   "source": [
    "# Load pretrained model\n",
    "\n",
    "model = TripletLearner(base_channels=32)\n",
    "model.load_state_dict(torch.load(\"../models/in_article/base_121_1000epochs.pth\",map_location=torch.device('cpu')))\n",
    "model = model.to(device)\n",
    "model.eval()"
   ]
  },
  {
   "cell_type": "markdown",
   "metadata": {},
   "source": [
    "### Determine THRESHOLD"
   ]
  },
  {
   "cell_type": "code",
   "execution_count": 19,
   "metadata": {
    "tags": []
   },
   "outputs": [
    {
     "name": "stderr",
     "output_type": "stream",
     "text": [
      "/home/mgornet/Bureau/Code/CNPEN/files/triplet.py:243: UserWarning: Batch size number was changed from 128 to 79 because there are only 79 individuals with more than 2 pictures.\n",
      "  warnings.warn(\n"
     ]
    },
    {
     "data": {
      "application/vnd.jupyter.widget-view+json": {
       "model_id": "",
       "version_major": 2,
       "version_minor": 0
      },
      "text/plain": [
       "Processing:   0%|          | 0/10 [00:00<?, ?it/s]"
      ]
     },
     "metadata": {},
     "output_type": "display_data"
    },
    {
     "name": "stdout",
     "output_type": "stream",
     "text": [
      "THRESHOLD with logistic regression: 0.8434252821227377\n"
     ]
    }
   ],
   "source": [
    "# Build THRESHOLD (for details, see the notebook \"determine_threshold\")\n",
    "\n",
    "gen = TripletGenerator(df_valid, all_imgs, BATCH_VALID_SIZE, device, model, margin)\n",
    "loader = DataLoader(gen, batch_size=None, shuffle=True)\n",
    "\n",
    "list_loader = []\n",
    "for _ in range(10):\n",
    "    list_loader.extend(list(loader))\n",
    "\n",
    "pos_dist, neg_dist, _ = compute_distances(list_loader, device, model) #loader\n",
    "\n",
    "y_pos = [1 for _ in range(len(pos_dist))]\n",
    "y_neg = [0 for _ in range(len(neg_dist))]\n",
    "\n",
    "y = y_pos + y_neg\n",
    "X = pos_dist + neg_dist\n",
    "Xmoins = np.array(X)*(-1)\n",
    "Xlogistic = np.array(Xmoins).reshape(-1,1)\n",
    "\n",
    "clf = LogisticRegression(random_state=0).fit(Xlogistic, y)\n",
    "\n",
    "THRESHOLD = (clf.intercept_/clf.coef_)[0,0]\n",
    "print(\"THRESHOLD with logistic regression:\", THRESHOLD)"
   ]
  },
  {
   "cell_type": "markdown",
   "metadata": {},
   "source": [
    "## Fairness study"
   ]
  },
  {
   "cell_type": "markdown",
   "metadata": {},
   "source": [
    "### Build data fairness"
   ]
  },
  {
   "cell_type": "code",
   "execution_count": 20,
   "metadata": {
    "tags": []
   },
   "outputs": [
    {
     "name": "stderr",
     "output_type": "stream",
     "text": [
      "/home/mgornet/Bureau/Code/CNPEN/files/triplet.py:253: UserWarning: Number of unique identities with more than 2 pictures (334) is not divisible by batch_size (128). Remainder: 78\n",
      "  warnings.warn(\n"
     ]
    }
   ],
   "source": [
    "gen = TripletGenerator(df_test, all_imgs, BATCH_TEST_SIZE, device, model, margin, return_id=True)"
   ]
  },
  {
   "cell_type": "code",
   "execution_count": 21,
   "metadata": {
    "tags": []
   },
   "outputs": [],
   "source": [
    "# tic = perf_counter()\n",
    "# df_fairness = build_df_fairness(all_imgs, df_test, gen, 20, device, model, THRESHOLD)\n",
    "# toc = perf_counter()\n",
    "# print(f\"DataFrame creation: {((toc - tic)/60):.1f} min\")"
   ]
  },
  {
   "cell_type": "code",
   "execution_count": 22,
   "metadata": {
    "tags": []
   },
   "outputs": [
    {
     "name": "stderr",
     "output_type": "stream",
     "text": [
      "/tmp/ipykernel_8142/3599316701.py:2: FutureWarning: The frame.append method is deprecated and will be removed from pandas in a future version. Use pandas.concat instead.\n",
      "  df_fairness = build_df_fairness(all_imgs, df_test.append(df_valid), gen, 50, device, model, THRESHOLD)\n"
     ]
    },
    {
     "data": {
      "application/vnd.jupyter.widget-view+json": {
       "model_id": "",
       "version_major": 2,
       "version_minor": 0
      },
      "text/plain": [
       "Epoch:   0%|          | 0/50 [00:00<?, ?it/s]"
      ]
     },
     "metadata": {},
     "output_type": "display_data"
    },
    {
     "name": "stdout",
     "output_type": "stream",
     "text": [
      "DataFrame creation: 0.2 min\n"
     ]
    }
   ],
   "source": [
    "tic = perf_counter()\n",
    "df_fairness = build_df_fairness(all_imgs, df_test.append(df_valid), gen, 50, device, model, THRESHOLD)\n",
    "toc = perf_counter()\n",
    "print(f\"DataFrame creation: {((toc - tic)/60):.1f} min\")"
   ]
  },
  {
   "cell_type": "code",
   "execution_count": 23,
   "metadata": {
    "tags": []
   },
   "outputs": [
    {
     "data": {
      "text/html": [
       "<div>\n",
       "<style scoped>\n",
       "    .dataframe tbody tr th:only-of-type {\n",
       "        vertical-align: middle;\n",
       "    }\n",
       "\n",
       "    .dataframe tbody tr th {\n",
       "        vertical-align: top;\n",
       "    }\n",
       "\n",
       "    .dataframe thead th {\n",
       "        text-align: right;\n",
       "    }\n",
       "</style>\n",
       "<table border=\"1\" class=\"dataframe\">\n",
       "  <thead>\n",
       "    <tr style=\"text-align: right;\">\n",
       "      <th></th>\n",
       "      <th>id_A</th>\n",
       "      <th>id_B</th>\n",
       "      <th>pair</th>\n",
       "      <th>y_true</th>\n",
       "      <th>y_pred</th>\n",
       "      <th>Distance</th>\n",
       "      <th>A_Male</th>\n",
       "      <th>B_Male</th>\n",
       "      <th>A_White</th>\n",
       "      <th>B_White</th>\n",
       "      <th>...</th>\n",
       "      <th>B_Youth</th>\n",
       "      <th>A_Senior</th>\n",
       "      <th>B_Senior</th>\n",
       "      <th>A_Sunglasses</th>\n",
       "      <th>B_Sunglasses</th>\n",
       "      <th>A_WhiteMale</th>\n",
       "      <th>B_WhiteMale</th>\n",
       "      <th>AB_WhiteMale</th>\n",
       "      <th>AB_NoWhiteMale</th>\n",
       "      <th>correct_predict</th>\n",
       "    </tr>\n",
       "  </thead>\n",
       "  <tbody>\n",
       "    <tr>\n",
       "      <th>0</th>\n",
       "      <td>12904</td>\n",
       "      <td>12905</td>\n",
       "      <td>0</td>\n",
       "      <td>1</td>\n",
       "      <td>1</td>\n",
       "      <td>0.107341</td>\n",
       "      <td>1.0</td>\n",
       "      <td>1.0</td>\n",
       "      <td>0.0</td>\n",
       "      <td>0.0</td>\n",
       "      <td>...</td>\n",
       "      <td>1.0</td>\n",
       "      <td>0.0</td>\n",
       "      <td>0.0</td>\n",
       "      <td>0.0</td>\n",
       "      <td>0.0</td>\n",
       "      <td>0.0</td>\n",
       "      <td>0.0</td>\n",
       "      <td>0.0</td>\n",
       "      <td>1.0</td>\n",
       "      <td>1.0</td>\n",
       "    </tr>\n",
       "    <tr>\n",
       "      <th>1</th>\n",
       "      <td>11465</td>\n",
       "      <td>11472</td>\n",
       "      <td>1</td>\n",
       "      <td>1</td>\n",
       "      <td>1</td>\n",
       "      <td>0.648786</td>\n",
       "      <td>1.0</td>\n",
       "      <td>1.0</td>\n",
       "      <td>1.0</td>\n",
       "      <td>1.0</td>\n",
       "      <td>...</td>\n",
       "      <td>0.0</td>\n",
       "      <td>1.0</td>\n",
       "      <td>0.0</td>\n",
       "      <td>0.0</td>\n",
       "      <td>0.0</td>\n",
       "      <td>1.0</td>\n",
       "      <td>1.0</td>\n",
       "      <td>1.0</td>\n",
       "      <td>0.0</td>\n",
       "      <td>1.0</td>\n",
       "    </tr>\n",
       "    <tr>\n",
       "      <th>2</th>\n",
       "      <td>11221</td>\n",
       "      <td>11222</td>\n",
       "      <td>2</td>\n",
       "      <td>1</td>\n",
       "      <td>1</td>\n",
       "      <td>0.182725</td>\n",
       "      <td>0.0</td>\n",
       "      <td>0.0</td>\n",
       "      <td>1.0</td>\n",
       "      <td>1.0</td>\n",
       "      <td>...</td>\n",
       "      <td>1.0</td>\n",
       "      <td>0.0</td>\n",
       "      <td>0.0</td>\n",
       "      <td>0.0</td>\n",
       "      <td>0.0</td>\n",
       "      <td>0.0</td>\n",
       "      <td>0.0</td>\n",
       "      <td>0.0</td>\n",
       "      <td>1.0</td>\n",
       "      <td>1.0</td>\n",
       "    </tr>\n",
       "    <tr>\n",
       "      <th>3</th>\n",
       "      <td>11163</td>\n",
       "      <td>11164</td>\n",
       "      <td>3</td>\n",
       "      <td>1</td>\n",
       "      <td>1</td>\n",
       "      <td>0.424274</td>\n",
       "      <td>1.0</td>\n",
       "      <td>1.0</td>\n",
       "      <td>1.0</td>\n",
       "      <td>1.0</td>\n",
       "      <td>...</td>\n",
       "      <td>0.0</td>\n",
       "      <td>0.0</td>\n",
       "      <td>0.0</td>\n",
       "      <td>0.0</td>\n",
       "      <td>0.0</td>\n",
       "      <td>1.0</td>\n",
       "      <td>1.0</td>\n",
       "      <td>1.0</td>\n",
       "      <td>0.0</td>\n",
       "      <td>1.0</td>\n",
       "    </tr>\n",
       "    <tr>\n",
       "      <th>4</th>\n",
       "      <td>11396</td>\n",
       "      <td>11395</td>\n",
       "      <td>4</td>\n",
       "      <td>1</td>\n",
       "      <td>0</td>\n",
       "      <td>1.009260</td>\n",
       "      <td>1.0</td>\n",
       "      <td>1.0</td>\n",
       "      <td>1.0</td>\n",
       "      <td>1.0</td>\n",
       "      <td>...</td>\n",
       "      <td>0.0</td>\n",
       "      <td>0.0</td>\n",
       "      <td>0.0</td>\n",
       "      <td>0.0</td>\n",
       "      <td>0.0</td>\n",
       "      <td>1.0</td>\n",
       "      <td>1.0</td>\n",
       "      <td>1.0</td>\n",
       "      <td>0.0</td>\n",
       "      <td>0.0</td>\n",
       "    </tr>\n",
       "    <tr>\n",
       "      <th>...</th>\n",
       "      <td>...</td>\n",
       "      <td>...</td>\n",
       "      <td>...</td>\n",
       "      <td>...</td>\n",
       "      <td>...</td>\n",
       "      <td>...</td>\n",
       "      <td>...</td>\n",
       "      <td>...</td>\n",
       "      <td>...</td>\n",
       "      <td>...</td>\n",
       "      <td>...</td>\n",
       "      <td>...</td>\n",
       "      <td>...</td>\n",
       "      <td>...</td>\n",
       "      <td>...</td>\n",
       "      <td>...</td>\n",
       "      <td>...</td>\n",
       "      <td>...</td>\n",
       "      <td>...</td>\n",
       "      <td>...</td>\n",
       "      <td>...</td>\n",
       "    </tr>\n",
       "    <tr>\n",
       "      <th>25595</th>\n",
       "      <td>11947</td>\n",
       "      <td>11283</td>\n",
       "      <td>12795</td>\n",
       "      <td>0</td>\n",
       "      <td>0</td>\n",
       "      <td>0.911174</td>\n",
       "      <td>1.0</td>\n",
       "      <td>1.0</td>\n",
       "      <td>0.0</td>\n",
       "      <td>0.0</td>\n",
       "      <td>...</td>\n",
       "      <td>0.0</td>\n",
       "      <td>0.0</td>\n",
       "      <td>0.0</td>\n",
       "      <td>0.0</td>\n",
       "      <td>0.0</td>\n",
       "      <td>0.0</td>\n",
       "      <td>0.0</td>\n",
       "      <td>0.0</td>\n",
       "      <td>1.0</td>\n",
       "      <td>1.0</td>\n",
       "    </tr>\n",
       "    <tr>\n",
       "      <th>25596</th>\n",
       "      <td>11280</td>\n",
       "      <td>12797</td>\n",
       "      <td>12796</td>\n",
       "      <td>0</td>\n",
       "      <td>0</td>\n",
       "      <td>1.696134</td>\n",
       "      <td>1.0</td>\n",
       "      <td>1.0</td>\n",
       "      <td>1.0</td>\n",
       "      <td>1.0</td>\n",
       "      <td>...</td>\n",
       "      <td>0.0</td>\n",
       "      <td>0.0</td>\n",
       "      <td>0.0</td>\n",
       "      <td>0.0</td>\n",
       "      <td>0.0</td>\n",
       "      <td>1.0</td>\n",
       "      <td>1.0</td>\n",
       "      <td>1.0</td>\n",
       "      <td>0.0</td>\n",
       "      <td>1.0</td>\n",
       "    </tr>\n",
       "    <tr>\n",
       "      <th>25597</th>\n",
       "      <td>12226</td>\n",
       "      <td>13084</td>\n",
       "      <td>12797</td>\n",
       "      <td>0</td>\n",
       "      <td>0</td>\n",
       "      <td>5.967003</td>\n",
       "      <td>1.0</td>\n",
       "      <td>0.0</td>\n",
       "      <td>1.0</td>\n",
       "      <td>0.0</td>\n",
       "      <td>...</td>\n",
       "      <td>0.0</td>\n",
       "      <td>1.0</td>\n",
       "      <td>0.0</td>\n",
       "      <td>0.0</td>\n",
       "      <td>0.0</td>\n",
       "      <td>1.0</td>\n",
       "      <td>0.0</td>\n",
       "      <td>0.0</td>\n",
       "      <td>0.0</td>\n",
       "      <td>1.0</td>\n",
       "    </tr>\n",
       "    <tr>\n",
       "      <th>25598</th>\n",
       "      <td>12391</td>\n",
       "      <td>13171</td>\n",
       "      <td>12798</td>\n",
       "      <td>0</td>\n",
       "      <td>0</td>\n",
       "      <td>2.154198</td>\n",
       "      <td>1.0</td>\n",
       "      <td>1.0</td>\n",
       "      <td>1.0</td>\n",
       "      <td>1.0</td>\n",
       "      <td>...</td>\n",
       "      <td>0.0</td>\n",
       "      <td>0.0</td>\n",
       "      <td>0.0</td>\n",
       "      <td>0.0</td>\n",
       "      <td>0.0</td>\n",
       "      <td>1.0</td>\n",
       "      <td>1.0</td>\n",
       "      <td>1.0</td>\n",
       "      <td>0.0</td>\n",
       "      <td>1.0</td>\n",
       "    </tr>\n",
       "    <tr>\n",
       "      <th>25599</th>\n",
       "      <td>12359</td>\n",
       "      <td>12886</td>\n",
       "      <td>12799</td>\n",
       "      <td>0</td>\n",
       "      <td>0</td>\n",
       "      <td>1.909461</td>\n",
       "      <td>1.0</td>\n",
       "      <td>1.0</td>\n",
       "      <td>1.0</td>\n",
       "      <td>1.0</td>\n",
       "      <td>...</td>\n",
       "      <td>0.0</td>\n",
       "      <td>0.0</td>\n",
       "      <td>1.0</td>\n",
       "      <td>0.0</td>\n",
       "      <td>0.0</td>\n",
       "      <td>1.0</td>\n",
       "      <td>1.0</td>\n",
       "      <td>1.0</td>\n",
       "      <td>0.0</td>\n",
       "      <td>1.0</td>\n",
       "    </tr>\n",
       "  </tbody>\n",
       "</table>\n",
       "<p>25600 rows × 27 columns</p>\n",
       "</div>"
      ],
      "text/plain": [
       "        id_A   id_B   pair  y_true  y_pred  Distance  A_Male  B_Male  A_White  \\\n",
       "0      12904  12905      0       1       1  0.107341     1.0     1.0      0.0   \n",
       "1      11465  11472      1       1       1  0.648786     1.0     1.0      1.0   \n",
       "2      11221  11222      2       1       1  0.182725     0.0     0.0      1.0   \n",
       "3      11163  11164      3       1       1  0.424274     1.0     1.0      1.0   \n",
       "4      11396  11395      4       1       0  1.009260     1.0     1.0      1.0   \n",
       "...      ...    ...    ...     ...     ...       ...     ...     ...      ...   \n",
       "25595  11947  11283  12795       0       0  0.911174     1.0     1.0      0.0   \n",
       "25596  11280  12797  12796       0       0  1.696134     1.0     1.0      1.0   \n",
       "25597  12226  13084  12797       0       0  5.967003     1.0     0.0      1.0   \n",
       "25598  12391  13171  12798       0       0  2.154198     1.0     1.0      1.0   \n",
       "25599  12359  12886  12799       0       0  1.909461     1.0     1.0      1.0   \n",
       "\n",
       "       B_White  ...  B_Youth  A_Senior  B_Senior  A_Sunglasses  B_Sunglasses  \\\n",
       "0          0.0  ...      1.0       0.0       0.0           0.0           0.0   \n",
       "1          1.0  ...      0.0       1.0       0.0           0.0           0.0   \n",
       "2          1.0  ...      1.0       0.0       0.0           0.0           0.0   \n",
       "3          1.0  ...      0.0       0.0       0.0           0.0           0.0   \n",
       "4          1.0  ...      0.0       0.0       0.0           0.0           0.0   \n",
       "...        ...  ...      ...       ...       ...           ...           ...   \n",
       "25595      0.0  ...      0.0       0.0       0.0           0.0           0.0   \n",
       "25596      1.0  ...      0.0       0.0       0.0           0.0           0.0   \n",
       "25597      0.0  ...      0.0       1.0       0.0           0.0           0.0   \n",
       "25598      1.0  ...      0.0       0.0       0.0           0.0           0.0   \n",
       "25599      1.0  ...      0.0       0.0       1.0           0.0           0.0   \n",
       "\n",
       "       A_WhiteMale  B_WhiteMale  AB_WhiteMale  AB_NoWhiteMale  correct_predict  \n",
       "0              0.0          0.0           0.0             1.0              1.0  \n",
       "1              1.0          1.0           1.0             0.0              1.0  \n",
       "2              0.0          0.0           0.0             1.0              1.0  \n",
       "3              1.0          1.0           1.0             0.0              1.0  \n",
       "4              1.0          1.0           1.0             0.0              0.0  \n",
       "...            ...          ...           ...             ...              ...  \n",
       "25595          0.0          0.0           0.0             1.0              1.0  \n",
       "25596          1.0          1.0           1.0             0.0              1.0  \n",
       "25597          1.0          0.0           0.0             0.0              1.0  \n",
       "25598          1.0          1.0           1.0             0.0              1.0  \n",
       "25599          1.0          1.0           1.0             0.0              1.0  \n",
       "\n",
       "[25600 rows x 27 columns]"
      ]
     },
     "execution_count": 23,
     "metadata": {},
     "output_type": "execute_result"
    }
   ],
   "source": [
    "df_fairness"
   ]
  },
  {
   "cell_type": "code",
   "execution_count": 24,
   "metadata": {
    "tags": []
   },
   "outputs": [
    {
     "data": {
      "text/html": [
       "<div>\n",
       "<style scoped>\n",
       "    .dataframe tbody tr th:only-of-type {\n",
       "        vertical-align: middle;\n",
       "    }\n",
       "\n",
       "    .dataframe tbody tr th {\n",
       "        vertical-align: top;\n",
       "    }\n",
       "\n",
       "    .dataframe thead th {\n",
       "        text-align: right;\n",
       "    }\n",
       "</style>\n",
       "<table border=\"1\" class=\"dataframe\">\n",
       "  <thead>\n",
       "    <tr style=\"text-align: right;\">\n",
       "      <th></th>\n",
       "      <th>id_A</th>\n",
       "      <th>id_B</th>\n",
       "      <th>pair</th>\n",
       "      <th>y_true</th>\n",
       "      <th>y_pred</th>\n",
       "      <th>Distance</th>\n",
       "      <th>A_Male</th>\n",
       "      <th>B_Male</th>\n",
       "      <th>A_White</th>\n",
       "      <th>B_White</th>\n",
       "      <th>...</th>\n",
       "      <th>B_Youth</th>\n",
       "      <th>A_Senior</th>\n",
       "      <th>B_Senior</th>\n",
       "      <th>A_Sunglasses</th>\n",
       "      <th>B_Sunglasses</th>\n",
       "      <th>A_WhiteMale</th>\n",
       "      <th>B_WhiteMale</th>\n",
       "      <th>AB_WhiteMale</th>\n",
       "      <th>AB_NoWhiteMale</th>\n",
       "      <th>correct_predict</th>\n",
       "    </tr>\n",
       "  </thead>\n",
       "  <tbody>\n",
       "    <tr>\n",
       "      <th>count</th>\n",
       "      <td>25600.000000</td>\n",
       "      <td>25600.000000</td>\n",
       "      <td>25600.000000</td>\n",
       "      <td>25600.00000</td>\n",
       "      <td>25600.000000</td>\n",
       "      <td>25600.000000</td>\n",
       "      <td>25448.000000</td>\n",
       "      <td>25417.000000</td>\n",
       "      <td>25448.000000</td>\n",
       "      <td>25417.000000</td>\n",
       "      <td>...</td>\n",
       "      <td>25417.000000</td>\n",
       "      <td>25448.000000</td>\n",
       "      <td>25417.000000</td>\n",
       "      <td>25448.000000</td>\n",
       "      <td>25417.000000</td>\n",
       "      <td>25448.000000</td>\n",
       "      <td>25417.000000</td>\n",
       "      <td>25265.000000</td>\n",
       "      <td>25600.000000</td>\n",
       "      <td>25600.000000</td>\n",
       "    </tr>\n",
       "    <tr>\n",
       "      <th>mean</th>\n",
       "      <td>11849.274766</td>\n",
       "      <td>11896.236641</td>\n",
       "      <td>6399.500000</td>\n",
       "      <td>0.50000</td>\n",
       "      <td>0.529609</td>\n",
       "      <td>1.131033</td>\n",
       "      <td>0.784345</td>\n",
       "      <td>0.797458</td>\n",
       "      <td>0.741434</td>\n",
       "      <td>0.727505</td>\n",
       "      <td>...</td>\n",
       "      <td>0.153008</td>\n",
       "      <td>0.192628</td>\n",
       "      <td>0.196089</td>\n",
       "      <td>0.015325</td>\n",
       "      <td>0.015856</td>\n",
       "      <td>0.597139</td>\n",
       "      <td>0.593068</td>\n",
       "      <td>0.432179</td>\n",
       "      <td>0.238594</td>\n",
       "      <td>0.864219</td>\n",
       "    </tr>\n",
       "    <tr>\n",
       "      <th>std</th>\n",
       "      <td>780.235180</td>\n",
       "      <td>766.518533</td>\n",
       "      <td>3695.113882</td>\n",
       "      <td>0.50001</td>\n",
       "      <td>0.499132</td>\n",
       "      <td>1.036759</td>\n",
       "      <td>0.411284</td>\n",
       "      <td>0.401902</td>\n",
       "      <td>0.437855</td>\n",
       "      <td>0.445252</td>\n",
       "      <td>...</td>\n",
       "      <td>0.360002</td>\n",
       "      <td>0.394371</td>\n",
       "      <td>0.397045</td>\n",
       "      <td>0.122846</td>\n",
       "      <td>0.124919</td>\n",
       "      <td>0.490483</td>\n",
       "      <td>0.491272</td>\n",
       "      <td>0.495389</td>\n",
       "      <td>0.426232</td>\n",
       "      <td>0.342563</td>\n",
       "    </tr>\n",
       "    <tr>\n",
       "      <th>min</th>\n",
       "      <td>10648.000000</td>\n",
       "      <td>10646.000000</td>\n",
       "      <td>0.000000</td>\n",
       "      <td>0.00000</td>\n",
       "      <td>0.000000</td>\n",
       "      <td>0.027625</td>\n",
       "      <td>0.000000</td>\n",
       "      <td>0.000000</td>\n",
       "      <td>0.000000</td>\n",
       "      <td>0.000000</td>\n",
       "      <td>...</td>\n",
       "      <td>0.000000</td>\n",
       "      <td>0.000000</td>\n",
       "      <td>0.000000</td>\n",
       "      <td>0.000000</td>\n",
       "      <td>0.000000</td>\n",
       "      <td>0.000000</td>\n",
       "      <td>0.000000</td>\n",
       "      <td>0.000000</td>\n",
       "      <td>0.000000</td>\n",
       "      <td>0.000000</td>\n",
       "    </tr>\n",
       "    <tr>\n",
       "      <th>25%</th>\n",
       "      <td>11175.000000</td>\n",
       "      <td>11233.000000</td>\n",
       "      <td>3199.750000</td>\n",
       "      <td>0.00000</td>\n",
       "      <td>0.000000</td>\n",
       "      <td>0.331635</td>\n",
       "      <td>1.000000</td>\n",
       "      <td>1.000000</td>\n",
       "      <td>0.000000</td>\n",
       "      <td>0.000000</td>\n",
       "      <td>...</td>\n",
       "      <td>0.000000</td>\n",
       "      <td>0.000000</td>\n",
       "      <td>0.000000</td>\n",
       "      <td>0.000000</td>\n",
       "      <td>0.000000</td>\n",
       "      <td>0.000000</td>\n",
       "      <td>0.000000</td>\n",
       "      <td>0.000000</td>\n",
       "      <td>0.000000</td>\n",
       "      <td>1.000000</td>\n",
       "    </tr>\n",
       "    <tr>\n",
       "      <th>50%</th>\n",
       "      <td>11796.000000</td>\n",
       "      <td>11861.000000</td>\n",
       "      <td>6399.500000</td>\n",
       "      <td>0.50000</td>\n",
       "      <td>1.000000</td>\n",
       "      <td>0.772205</td>\n",
       "      <td>1.000000</td>\n",
       "      <td>1.000000</td>\n",
       "      <td>1.000000</td>\n",
       "      <td>1.000000</td>\n",
       "      <td>...</td>\n",
       "      <td>0.000000</td>\n",
       "      <td>0.000000</td>\n",
       "      <td>0.000000</td>\n",
       "      <td>0.000000</td>\n",
       "      <td>0.000000</td>\n",
       "      <td>1.000000</td>\n",
       "      <td>1.000000</td>\n",
       "      <td>0.000000</td>\n",
       "      <td>0.000000</td>\n",
       "      <td>1.000000</td>\n",
       "    </tr>\n",
       "    <tr>\n",
       "      <th>75%</th>\n",
       "      <td>12586.000000</td>\n",
       "      <td>12593.250000</td>\n",
       "      <td>9599.250000</td>\n",
       "      <td>1.00000</td>\n",
       "      <td>1.000000</td>\n",
       "      <td>1.671437</td>\n",
       "      <td>1.000000</td>\n",
       "      <td>1.000000</td>\n",
       "      <td>1.000000</td>\n",
       "      <td>1.000000</td>\n",
       "      <td>...</td>\n",
       "      <td>0.000000</td>\n",
       "      <td>0.000000</td>\n",
       "      <td>0.000000</td>\n",
       "      <td>0.000000</td>\n",
       "      <td>0.000000</td>\n",
       "      <td>1.000000</td>\n",
       "      <td>1.000000</td>\n",
       "      <td>1.000000</td>\n",
       "      <td>0.000000</td>\n",
       "      <td>1.000000</td>\n",
       "    </tr>\n",
       "    <tr>\n",
       "      <th>max</th>\n",
       "      <td>13227.000000</td>\n",
       "      <td>13232.000000</td>\n",
       "      <td>12799.000000</td>\n",
       "      <td>1.00000</td>\n",
       "      <td>1.000000</td>\n",
       "      <td>7.614568</td>\n",
       "      <td>1.000000</td>\n",
       "      <td>1.000000</td>\n",
       "      <td>1.000000</td>\n",
       "      <td>1.000000</td>\n",
       "      <td>...</td>\n",
       "      <td>1.000000</td>\n",
       "      <td>1.000000</td>\n",
       "      <td>1.000000</td>\n",
       "      <td>1.000000</td>\n",
       "      <td>1.000000</td>\n",
       "      <td>1.000000</td>\n",
       "      <td>1.000000</td>\n",
       "      <td>1.000000</td>\n",
       "      <td>1.000000</td>\n",
       "      <td>1.000000</td>\n",
       "    </tr>\n",
       "  </tbody>\n",
       "</table>\n",
       "<p>8 rows × 27 columns</p>\n",
       "</div>"
      ],
      "text/plain": [
       "               id_A          id_B          pair       y_true        y_pred  \\\n",
       "count  25600.000000  25600.000000  25600.000000  25600.00000  25600.000000   \n",
       "mean   11849.274766  11896.236641   6399.500000      0.50000      0.529609   \n",
       "std      780.235180    766.518533   3695.113882      0.50001      0.499132   \n",
       "min    10648.000000  10646.000000      0.000000      0.00000      0.000000   \n",
       "25%    11175.000000  11233.000000   3199.750000      0.00000      0.000000   \n",
       "50%    11796.000000  11861.000000   6399.500000      0.50000      1.000000   \n",
       "75%    12586.000000  12593.250000   9599.250000      1.00000      1.000000   \n",
       "max    13227.000000  13232.000000  12799.000000      1.00000      1.000000   \n",
       "\n",
       "           Distance        A_Male        B_Male       A_White       B_White  \\\n",
       "count  25600.000000  25448.000000  25417.000000  25448.000000  25417.000000   \n",
       "mean       1.131033      0.784345      0.797458      0.741434      0.727505   \n",
       "std        1.036759      0.411284      0.401902      0.437855      0.445252   \n",
       "min        0.027625      0.000000      0.000000      0.000000      0.000000   \n",
       "25%        0.331635      1.000000      1.000000      0.000000      0.000000   \n",
       "50%        0.772205      1.000000      1.000000      1.000000      1.000000   \n",
       "75%        1.671437      1.000000      1.000000      1.000000      1.000000   \n",
       "max        7.614568      1.000000      1.000000      1.000000      1.000000   \n",
       "\n",
       "       ...       B_Youth      A_Senior      B_Senior  A_Sunglasses  \\\n",
       "count  ...  25417.000000  25448.000000  25417.000000  25448.000000   \n",
       "mean   ...      0.153008      0.192628      0.196089      0.015325   \n",
       "std    ...      0.360002      0.394371      0.397045      0.122846   \n",
       "min    ...      0.000000      0.000000      0.000000      0.000000   \n",
       "25%    ...      0.000000      0.000000      0.000000      0.000000   \n",
       "50%    ...      0.000000      0.000000      0.000000      0.000000   \n",
       "75%    ...      0.000000      0.000000      0.000000      0.000000   \n",
       "max    ...      1.000000      1.000000      1.000000      1.000000   \n",
       "\n",
       "       B_Sunglasses   A_WhiteMale   B_WhiteMale  AB_WhiteMale  AB_NoWhiteMale  \\\n",
       "count  25417.000000  25448.000000  25417.000000  25265.000000    25600.000000   \n",
       "mean       0.015856      0.597139      0.593068      0.432179        0.238594   \n",
       "std        0.124919      0.490483      0.491272      0.495389        0.426232   \n",
       "min        0.000000      0.000000      0.000000      0.000000        0.000000   \n",
       "25%        0.000000      0.000000      0.000000      0.000000        0.000000   \n",
       "50%        0.000000      1.000000      1.000000      0.000000        0.000000   \n",
       "75%        0.000000      1.000000      1.000000      1.000000        0.000000   \n",
       "max        1.000000      1.000000      1.000000      1.000000        1.000000   \n",
       "\n",
       "       correct_predict  \n",
       "count     25600.000000  \n",
       "mean          0.864219  \n",
       "std           0.342563  \n",
       "min           0.000000  \n",
       "25%           1.000000  \n",
       "50%           1.000000  \n",
       "75%           1.000000  \n",
       "max           1.000000  \n",
       "\n",
       "[8 rows x 27 columns]"
      ]
     },
     "execution_count": 24,
     "metadata": {},
     "output_type": "execute_result"
    }
   ],
   "source": [
    "df_fairness.describe()"
   ]
  },
  {
   "cell_type": "code",
   "execution_count": 25,
   "metadata": {},
   "outputs": [
    {
     "data": {
      "text/plain": [
       "Index(['id_A', 'id_B', 'pair', 'y_true', 'y_pred', 'Distance', 'A_Male',\n",
       "       'B_Male', 'A_White', 'B_White', 'A_Black', 'B_Black', 'A_Asian',\n",
       "       'B_Asian', 'A_Indian', 'B_Indian', 'A_Youth', 'B_Youth', 'A_Senior',\n",
       "       'B_Senior', 'A_Sunglasses', 'B_Sunglasses', 'A_WhiteMale',\n",
       "       'B_WhiteMale', 'AB_WhiteMale', 'AB_NoWhiteMale', 'correct_predict'],\n",
       "      dtype='object')"
      ]
     },
     "execution_count": 25,
     "metadata": {},
     "output_type": "execute_result"
    }
   ],
   "source": [
    "df_fairness.columns"
   ]
  },
  {
   "cell_type": "markdown",
   "metadata": {},
   "source": [
    "### Look at general stats"
   ]
  },
  {
   "cell_type": "code",
   "execution_count": 26,
   "metadata": {
    "tags": []
   },
   "outputs": [
    {
     "name": "stdout",
     "output_type": "stream",
     "text": [
      "Same identity - mean distance:  0.43424623576676824\n",
      "Same identity - std distance:  0.33663226935497287\n",
      "Same identity - percentiles:  [0.08516465 0.19575712 0.33920467 0.57446682 1.09403749]\n",
      "\n",
      "\n",
      "Different identities - mean distance:  1.8278194101000553\n",
      "Different identities - std distance:  1.0321831341137941\n",
      "Different identities - percentiles:  [0.47380317 1.05267483 1.64978254 2.42064834 3.79145105]\n",
      "\n",
      "\n",
      "Mean accuracy:  0.86421875\n",
      "Bootstrapping mean accuracy:  [0.86082031 0.86277344 0.86417969 0.86571289 0.86766016]\n",
      "\n",
      "\n",
      "Triplet accuracy:  0.93921875\n"
     ]
    }
   ],
   "source": [
    "print(\"Same identity - mean distance: \", df_fairness[df_fairness.y_true==1].Distance.mean())\n",
    "print(\"Same identity - std distance: \", df_fairness[df_fairness.y_true==1].Distance.std())\n",
    "print(\"Same identity - percentiles: \", np.percentile(df_fairness[df_fairness.y_true==1]['Distance'], [5,25,50,75,95]))\n",
    "print(\"\\n\")\n",
    "print(\"Different identities - mean distance: \", df_fairness[df_fairness.y_true==0].Distance.mean())\n",
    "print(\"Different identities - std distance: \", df_fairness[df_fairness.y_true==0].Distance.std())\n",
    "print(\"Different identities - percentiles: \", np.percentile(df_fairness[df_fairness.y_true==0]['Distance'], [5,25,50,75,95]))\n",
    "print(\"\\n\")\n",
    "print(\"Mean accuracy: \", df_fairness['correct_predict'].mean())\n",
    "print(\"Bootstrapping mean accuracy: \", bootstrap(df_fairness, agg_func=lambda df: df['correct_predict'].mean()))\n",
    "print(\"\\n\")\n",
    "print(\"Triplet accuracy: \", triplet_acc_fairness(df_fairness))"
   ]
  },
  {
   "cell_type": "code",
   "execution_count": 27,
   "metadata": {
    "tags": []
   },
   "outputs": [
    {
     "data": {
      "image/png": "[encoded data removed]",
      "text/plain": [
       "<Figure size 600x300 with 1 Axes>"
      ]
     },
     "metadata": {
      "needs_background": "light"
     },
     "output_type": "display_data"
    }
   ],
   "source": [
    "pos_dist = df_fairness[df_fairness.y_true==1]['Distance']\n",
    "neg_dist = df_fairness[df_fairness.y_true==0]['Distance']\n",
    "print_hist_dist_zoom(pos_dist, neg_dist, zoom=5.)"
   ]
  },
  {
   "cell_type": "code",
   "execution_count": 28,
   "metadata": {
    "tags": []
   },
   "outputs": [],
   "source": [
    "X = -np.array(df_fairness.Distance)\n",
    "y = np.array(df_fairness.y_true)\n",
    "y_pred = np.array(df_fairness.y_pred)"
   ]
  },
  {
   "cell_type": "code",
   "execution_count": 29,
   "metadata": {
    "tags": []
   },
   "outputs": [],
   "source": [
    "fpr_dist, tpr_dist, thresholds_dist = roc_curve(y, X)\n",
    "roc_auc_dist = auc(fpr_dist,tpr_dist)\n",
    "\n",
    "precision_dist, recall_dist, thresholds_recall_dist = precision_recall_curve(y, X)\n",
    "auc_s_dist = auc(recall_dist, precision_dist)"
   ]
  },
  {
   "cell_type": "code",
   "execution_count": 30,
   "metadata": {
    "tags": []
   },
   "outputs": [
    {
     "data": {
      "image/png": "[encoded data removed]",
      "text/plain": [
       "<Figure size 432x288 with 1 Axes>"
      ]
     },
     "metadata": {
      "needs_background": "light"
     },
     "output_type": "display_data"
    },
    {
     "data": {
      "image/png": "[encoded data removed]",
      "text/plain": [
       "<Figure size 432x288 with 1 Axes>"
      ]
     },
     "metadata": {
      "needs_background": "light"
     },
     "output_type": "display_data"
    }
   ],
   "source": [
    "print_roc(fpr_dist, tpr_dist, roc_auc_dist)\n",
    "print_prec_recall(precision_dist, recall_dist, auc_s_dist)"
   ]
  },
  {
   "cell_type": "code",
   "execution_count": 31,
   "metadata": {
    "tags": []
   },
   "outputs": [],
   "source": [
    "tn,fp,fn,tp = confusion_matrix(y, y_pred).ravel()\n",
    "\n",
    "TPR = tp/(tp+fp)\n",
    "FPR = fp/(tp+fp)\n",
    "TNR = tn/(tn+fn)\n",
    "FNR = fn/(tn+fn)"
   ]
  },
  {
   "cell_type": "code",
   "execution_count": 32,
   "metadata": {
    "tags": []
   },
   "outputs": [
    {
     "name": "stdout",
     "output_type": "stream",
     "text": [
      "Confusion Matrix Total\n",
      "[[10683  2117]\n",
      " [ 1359 11441]]\n",
      "\n",
      " Accuracy score: 0.86421875\n",
      "\n",
      " f1 score: 0.8681235298581076 \n",
      "\n",
      "TPR:  0.8438560259625314\n",
      "FPR:  0.15614397403746866\n",
      "TNR:  0.8871449925261584\n",
      "FNR:  0.11285500747384156\n"
     ]
    }
   ],
   "source": [
    "print(\"Confusion Matrix Total\")\n",
    "print(confusion_matrix(y, y_pred))\n",
    "\n",
    "print(\"\\n\",\"Accuracy score:\",accuracy_score(y, y_pred))\n",
    " \n",
    "print(\"\\n\", \"f1 score:\", f1_score(y, y_pred), \"\\n\")\n",
    "\n",
    "print('TPR: ', TPR)\n",
    "print('FPR: ', FPR)\n",
    "print('TNR: ', TNR)\n",
    "print('FNR: ', FNR)"
   ]
  },
  {
   "cell_type": "markdown",
   "metadata": {},
   "source": [
    "### Stats in subgroups"
   ]
  },
  {
   "cell_type": "markdown",
   "metadata": {},
   "source": [
    "#### White Male vs Non White Male"
   ]
  },
  {
   "cell_type": "code",
   "execution_count": 33,
   "metadata": {
    "tags": []
   },
   "outputs": [
    {
     "data": {
      "image/png": "[encoded data removed]",
      "text/plain": [
       "<Figure size 600x300 with 1 Axes>"
      ]
     },
     "metadata": {
      "needs_background": "light"
     },
     "output_type": "display_data"
    }
   ],
   "source": [
    "pos_dist = df_fairness[(df_fairness.y_true==1) & (df_fairness.AB_WhiteMale==1)]['Distance']\n",
    "neg_dist = df_fairness[(df_fairness.y_true==0) & (df_fairness.AB_WhiteMale==1)]['Distance']\n",
    "print_hist_dist_zoom(pos_dist, neg_dist, zoom=5.)"
   ]
  },
  {
   "cell_type": "code",
   "execution_count": 34,
   "metadata": {
    "tags": []
   },
   "outputs": [
    {
     "data": {
      "image/png": "[encoded data removed]",
      "text/plain": [
       "<Figure size 600x300 with 1 Axes>"
      ]
     },
     "metadata": {
      "needs_background": "light"
     },
     "output_type": "display_data"
    }
   ],
   "source": [
    "pos_dist = df_fairness[(df_fairness.y_true==1) & (df_fairness.AB_NoWhiteMale==1)]['Distance']\n",
    "neg_dist = df_fairness[(df_fairness.y_true==0) & (df_fairness.AB_NoWhiteMale==1)]['Distance']\n",
    "print_hist_dist_zoom(pos_dist, neg_dist, zoom=5.)"
   ]
  },
  {
   "cell_type": "code",
   "execution_count": 35,
   "metadata": {
    "tags": []
   },
   "outputs": [
    {
     "data": {
      "image/png": "[encoded data removed]",
      "text/plain": [
       "<Figure size 600x300 with 1 Axes>"
      ]
     },
     "metadata": {
      "needs_background": "light"
     },
     "output_type": "display_data"
    }
   ],
   "source": [
    "pos_dist = df_fairness[(df_fairness.y_true==1) & (df_fairness.AB_WhiteMale==0)]['Distance']\n",
    "neg_dist = df_fairness[(df_fairness.y_true==0) & (df_fairness.AB_WhiteMale==0)]['Distance']\n",
    "print_hist_dist_zoom(pos_dist, neg_dist, zoom=5.)"
   ]
  },
  {
   "cell_type": "code",
   "execution_count": 36,
   "metadata": {
    "tags": []
   },
   "outputs": [],
   "source": [
    "y_AB_WhiteMale = np.array(df_fairness[df_fairness['AB_WhiteMale']==1].y_true)\n",
    "y_pred_AB_WhiteMale = np.array(df_fairness[df_fairness['AB_WhiteMale']==1].y_pred)\n",
    "\n",
    "tn_AB_WhiteMale,fp_AB_WhiteMale,fn_AB_WhiteMale,tp_AB_WhiteMale = confusion_matrix(y_AB_WhiteMale, y_pred_AB_WhiteMale).ravel()\n",
    "\n",
    "TPR_AB_WhiteMale = tp_AB_WhiteMale/(tp_AB_WhiteMale+fp_AB_WhiteMale)\n",
    "FPR_AB_WhiteMale = fp_AB_WhiteMale/(tp_AB_WhiteMale+fp_AB_WhiteMale)\n",
    "TNR_AB_WhiteMale = tn_AB_WhiteMale/(tn_AB_WhiteMale+fn_AB_WhiteMale)\n",
    "FNR_AB_WhiteMale = fn_AB_WhiteMale/(tn_AB_WhiteMale+fn_AB_WhiteMale)\n",
    "\n",
    "y_AB_NoWhiteMale = np.array(df_fairness[df_fairness['AB_NoWhiteMale']==1].y_true)\n",
    "y_pred_AB_NoWhiteMale = np.array(df_fairness[df_fairness['AB_NoWhiteMale']==1].y_pred)\n",
    "\n",
    "tn_AB_NoWhiteMale,fp_AB_NoWhiteMale,fn_AB_NoWhiteMale,tp_AB_NoWhiteMale = confusion_matrix(y_AB_NoWhiteMale, y_pred_AB_NoWhiteMale).ravel()\n",
    "\n",
    "TPR_AB_NoWhiteMale = tp_AB_NoWhiteMale/(tp_AB_NoWhiteMale+fp_AB_NoWhiteMale)\n",
    "FPR_AB_NoWhiteMale = fp_AB_NoWhiteMale/(tp_AB_NoWhiteMale+fp_AB_NoWhiteMale)\n",
    "TNR_AB_NoWhiteMale = tn_AB_NoWhiteMale/(tn_AB_NoWhiteMale+fn_AB_NoWhiteMale)\n",
    "FNR_AB_NoWhiteMale = fn_AB_NoWhiteMale/(tn_AB_NoWhiteMale+fn_AB_NoWhiteMale)\n",
    "\n",
    "y_AoB_NoWhiteMale = np.array(df_fairness[df_fairness['AB_WhiteMale']==0].y_true)\n",
    "y_pred_AoB_NoWhiteMale = np.array(df_fairness[df_fairness['AB_WhiteMale']==0].y_pred)\n",
    "\n",
    "tn_AoB_NoWhiteMale,fp_AoB_NoWhiteMale,fn_AoB_NoWhiteMale,tp_AoB_NoWhiteMale = confusion_matrix(y_AoB_NoWhiteMale, y_pred_AoB_NoWhiteMale).ravel()\n",
    "\n",
    "TPR_AoB_NoWhiteMale = tp_AoB_NoWhiteMale/(tp_AoB_NoWhiteMale+fp_AoB_NoWhiteMale)\n",
    "FPR_AoB_NoWhiteMale = fp_AoB_NoWhiteMale/(tp_AoB_NoWhiteMale+fp_AoB_NoWhiteMale)\n",
    "TNR_AoB_NoWhiteMale = tn_AoB_NoWhiteMale/(tn_AoB_NoWhiteMale+fn_AoB_NoWhiteMale)\n",
    "FNR_AoB_NoWhiteMale = fn_AoB_NoWhiteMale/(tn_AoB_NoWhiteMale+fn_AoB_NoWhiteMale)"
   ]
  },
  {
   "cell_type": "code",
   "execution_count": 37,
   "metadata": {
    "tags": []
   },
   "outputs": [
    {
     "name": "stdout",
     "output_type": "stream",
     "text": [
      "A and B White Male - mean accuracy:  0.8602436120523858\n",
      "A and B White Male - bootstrapping mean accuracy:  [0.85557285 0.85841194 0.86051836 0.86271637 0.86546845]\n",
      "A and B White Male - triplet accuracy:  0.8382487635098004\n",
      "A and B White Male - f1 score: 0.8869127019416037\n",
      "\n",
      "\n",
      "A and B Non White Male - mean accuracy:  0.8655861165684349\n",
      "A and B Non White Male - bootstrapping mean accuracy:  [0.85805501 0.86247544 0.86558612 0.86853307 0.87278978]\n",
      "A and B Non White Male - triplet accuracy:  0.7924034053700065\n",
      "A and B Non White Male - f1 score: 0.8970532915360502\n",
      "\n",
      "\n",
      "A or B Non White Male - mean accuracy:  0.8683256656907848\n",
      "A or B Non White Male - bootstrapping mean accuracy:  [0.86323714 0.86635648 0.86822111 0.87013802 0.87286003]\n",
      "A or B Non White Male - triplet accuracy:  0.8796877178307542\n",
      "A or B Non White Male - f1 score: 0.8497335136425105\n"
     ]
    }
   ],
   "source": [
    "print(\"A and B White Male - mean accuracy: \", df_fairness[df_fairness['AB_WhiteMale']==1]['correct_predict'].mean())\n",
    "print(\"A and B White Male - bootstrapping mean accuracy: \", bootstrap(df_fairness[df_fairness['AB_WhiteMale']==1], agg_func=lambda df: df['correct_predict'].mean()))\n",
    "print(\"A and B White Male - triplet accuracy: \", triplet_acc_fairness(df_fairness[df_fairness['AB_WhiteMale']==1]))\n",
    "print(\"A and B White Male - f1 score:\", f1_score(y_AB_WhiteMale, y_pred_AB_WhiteMale))\n",
    "print(\"\\n\")\n",
    "print(\"A and B Non White Male - mean accuracy: \", df_fairness[df_fairness['AB_NoWhiteMale']==1]['correct_predict'].mean())\n",
    "print(\"A and B Non White Male - bootstrapping mean accuracy: \", bootstrap(df_fairness[df_fairness['AB_NoWhiteMale']==1], agg_func=lambda df: df['correct_predict'].mean()))\n",
    "print(\"A and B Non White Male - triplet accuracy: \", triplet_acc_fairness(df_fairness[df_fairness['AB_NoWhiteMale']==1]))\n",
    "print(\"A and B Non White Male - f1 score:\", f1_score(y_AB_NoWhiteMale, y_pred_AB_NoWhiteMale))\n",
    "print(\"\\n\")\n",
    "print(\"A or B Non White Male - mean accuracy: \", df_fairness[df_fairness['AB_WhiteMale']==0]['correct_predict'].mean())\n",
    "print(\"A or B Non White Male - bootstrapping mean accuracy: \", bootstrap(df_fairness[df_fairness['AB_WhiteMale']==0], agg_func=lambda df: df['correct_predict'].mean()))\n",
    "print(\"A or B Non White Male - triplet accuracy: \", triplet_acc_fairness(df_fairness[df_fairness['AB_WhiteMale']==0]))\n",
    "print(\"A or B Non White Male - f1 score:\", f1_score(y_AoB_NoWhiteMale, y_pred_AoB_NoWhiteMale))"
   ]
  },
  {
   "cell_type": "code",
   "execution_count": 38,
   "metadata": {
    "tags": []
   },
   "outputs": [
    {
     "name": "stdout",
     "output_type": "stream",
     "text": [
      "A and B White Male - Confusion Matrix\n",
      "[[3409  993]\n",
      " [ 533 5984]]\n",
      "\n",
      "\n",
      "A and B White Male - TPR:  0.8576752185753189\n",
      "A and B White Male - FPR:  0.1423247814246811\n",
      "A and B White Male - TNR:  0.8647894469812278\n",
      "A and B White Male - FNR:  0.1352105530187722\n"
     ]
    }
   ],
   "source": [
    "print(\"A and B White Male - Confusion Matrix\")\n",
    "print(confusion_matrix(y_AB_WhiteMale, y_pred_AB_WhiteMale))\n",
    "print(\"\\n\")\n",
    "print('A and B White Male - TPR: ', TPR_AB_WhiteMale)\n",
    "print('A and B White Male - FPR: ', FPR_AB_WhiteMale)\n",
    "print('A and B White Male - TNR: ', TNR_AB_WhiteMale)\n",
    "print('A and B White Male - FNR: ', FNR_AB_WhiteMale)"
   ]
  },
  {
   "cell_type": "code",
   "execution_count": 39,
   "metadata": {
    "tags": []
   },
   "outputs": [
    {
     "name": "stdout",
     "output_type": "stream",
     "text": [
      "A and B Non White Male - Confusion Matrix\n",
      "[[1710  382]\n",
      " [ 439 3577]]\n",
      "\n",
      "\n",
      "A and B Non White Male - TPR:  0.9035109876231372\n",
      "A and B Non White Male - FPR:  0.09648901237686285\n",
      "A and B Non White Male - TNR:  0.7957189390414147\n",
      "A and B Non White Male - FNR:  0.2042810609585854\n"
     ]
    }
   ],
   "source": [
    "print(\"A and B Non White Male - Confusion Matrix\")\n",
    "print(confusion_matrix(y_AB_NoWhiteMale, y_pred_AB_NoWhiteMale))\n",
    "print(\"\\n\")\n",
    "print('A and B Non White Male - TPR: ', TPR_AB_NoWhiteMale)\n",
    "print('A and B Non White Male - FPR: ', FPR_AB_NoWhiteMale)\n",
    "print('A and B Non White Male - TNR: ', TNR_AB_NoWhiteMale)\n",
    "print('A and B Non White Male - FNR: ', FNR_AB_NoWhiteMale)"
   ]
  },
  {
   "cell_type": "code",
   "execution_count": 40,
   "metadata": {
    "tags": []
   },
   "outputs": [
    {
     "name": "stdout",
     "output_type": "stream",
     "text": [
      "A or B Non White Male - Confusion Matrix\n",
      "[[7116 1088]\n",
      " [ 801 5341]]\n",
      "\n",
      "\n",
      "A or B Non White Male - TPR:  0.8307668377663712\n",
      "A or B Non White Male - FPR:  0.16923316223362886\n",
      "A or B Non White Male - TNR:  0.898825312618416\n",
      "A or B Non White Male - FNR:  0.10117468738158393\n"
     ]
    }
   ],
   "source": [
    "print(\"A or B Non White Male - Confusion Matrix\")\n",
    "print(confusion_matrix(y_AoB_NoWhiteMale, y_pred_AoB_NoWhiteMale))\n",
    "print(\"\\n\")\n",
    "print('A or B Non White Male - TPR: ', TPR_AoB_NoWhiteMale)\n",
    "print('A or B Non White Male - FPR: ', FPR_AoB_NoWhiteMale)\n",
    "print('A or B Non White Male - TNR: ', TNR_AoB_NoWhiteMale)\n",
    "print('A or B Non White Male - FNR: ', FNR_AoB_NoWhiteMale)"
   ]
  },
  {
   "cell_type": "markdown",
   "metadata": {},
   "source": [
    "#### Male vs Non Male and White vs Non White"
   ]
  },
  {
   "cell_type": "code",
   "execution_count": 41,
   "metadata": {
    "tags": []
   },
   "outputs": [
    {
     "data": {
      "image/png": "[encoded data removed]",
      "text/plain": [
       "<Figure size 600x300 with 1 Axes>"
      ]
     },
     "metadata": {
      "needs_background": "light"
     },
     "output_type": "display_data"
    }
   ],
   "source": [
    "pos_dist = df_fairness[(df_fairness.y_true==1) & (df_fairness['A_Male']==1)&(df_fairness['B_Male']==1)]['Distance']\n",
    "neg_dist = df_fairness[(df_fairness.y_true==0) & (df_fairness['A_Male']==1)&(df_fairness['B_Male']==1)]['Distance']\n",
    "print_hist_dist_zoom(pos_dist, neg_dist, zoom=5.)"
   ]
  },
  {
   "cell_type": "code",
   "execution_count": 42,
   "metadata": {
    "tags": []
   },
   "outputs": [
    {
     "data": {
      "image/png": "[encoded data removed]",
      "text/plain": [
       "<Figure size 600x300 with 1 Axes>"
      ]
     },
     "metadata": {
      "needs_background": "light"
     },
     "output_type": "display_data"
    }
   ],
   "source": [
    "pos_dist = df_fairness[(df_fairness.y_true==1) & (df_fairness['A_Male']==0)&(df_fairness['B_Male']==0)]['Distance']\n",
    "neg_dist = df_fairness[(df_fairness.y_true==0) & (df_fairness['A_Male']==0)&(df_fairness['B_Male']==0)]['Distance']\n",
    "print_hist_dist_zoom(pos_dist, neg_dist, zoom=5.)"
   ]
  },
  {
   "cell_type": "code",
   "execution_count": 43,
   "metadata": {
    "tags": []
   },
   "outputs": [
    {
     "data": {
      "image/png": "[encoded data removed]",
      "text/plain": [
       "<Figure size 600x300 with 1 Axes>"
      ]
     },
     "metadata": {
      "needs_background": "light"
     },
     "output_type": "display_data"
    }
   ],
   "source": [
    "pos_dist = df_fairness[(df_fairness.y_true==1) & (df_fairness['A_White']==1)&(df_fairness['B_White']==1)]['Distance']\n",
    "neg_dist = df_fairness[(df_fairness.y_true==0) & (df_fairness['A_White']==1)&(df_fairness['B_White']==1)]['Distance']\n",
    "print_hist_dist_zoom(pos_dist, neg_dist, zoom=5.)"
   ]
  },
  {
   "cell_type": "code",
   "execution_count": 44,
   "metadata": {
    "tags": []
   },
   "outputs": [
    {
     "data": {
      "image/png": "[encoded data removed]",
      "text/plain": [
       "<Figure size 600x300 with 1 Axes>"
      ]
     },
     "metadata": {
      "needs_background": "light"
     },
     "output_type": "display_data"
    }
   ],
   "source": [
    "pos_dist = df_fairness[(df_fairness.y_true==1) & (df_fairness['A_White']==0)&(df_fairness['B_White']==0)]['Distance']\n",
    "neg_dist = df_fairness[(df_fairness.y_true==0) & (df_fairness['A_White']==0)&(df_fairness['B_White']==0)]['Distance']\n",
    "print_hist_dist_zoom(pos_dist, neg_dist, zoom=5.)"
   ]
  },
  {
   "cell_type": "code",
   "execution_count": 45,
   "metadata": {
    "tags": []
   },
   "outputs": [],
   "source": [
    "y_AB_Male = np.array(df_fairness[(df_fairness['A_Male']==1)&(df_fairness['B_Male']==1)].y_true)\n",
    "y_pred_AB_Male = np.array(df_fairness[(df_fairness['A_Male']==1)&(df_fairness['B_Male']==1)].y_pred)\n",
    "\n",
    "tn_AB_Male,fp_AB_Male,fn_AB_Male,tp_AB_Male = confusion_matrix(y_AB_Male, y_pred_AB_Male).ravel()\n",
    "\n",
    "TPR_AB_Male = tp_AB_Male/(tp_AB_Male+fp_AB_Male)\n",
    "FPR_AB_Male = fp_AB_Male/(tp_AB_Male+fp_AB_Male)\n",
    "TNR_AB_Male = tn_AB_Male/(tn_AB_Male+fn_AB_Male)\n",
    "FNR_AB_Male = fn_AB_Male/(tn_AB_Male+fn_AB_Male)\n",
    "\n",
    "y_AB_NoMale = np.array(df_fairness[(df_fairness['A_Male']==0)&(df_fairness['B_Male']==0)].y_true)\n",
    "y_pred_AB_NoMale = np.array(df_fairness[(df_fairness['A_Male']==0)&(df_fairness['B_Male']==0)].y_pred)\n",
    "\n",
    "tn_AB_NoMale,fp_AB_NoMale,fn_AB_NoMale,tp_AB_NoMale = confusion_matrix(y_AB_NoMale, y_pred_AB_NoMale).ravel()\n",
    "\n",
    "TPR_AB_NoMale = tp_AB_NoMale/(tp_AB_NoMale+fp_AB_NoMale)\n",
    "FPR_AB_NoMale = fp_AB_NoMale/(tp_AB_NoMale+fp_AB_NoMale)\n",
    "TNR_AB_NoMale = tn_AB_NoMale/(tn_AB_NoMale+fn_AB_NoMale)\n",
    "FNR_AB_NoMale = fn_AB_NoMale/(tn_AB_NoMale+fn_AB_NoMale)"
   ]
  },
  {
   "cell_type": "code",
   "execution_count": 46,
   "metadata": {
    "tags": []
   },
   "outputs": [
    {
     "name": "stdout",
     "output_type": "stream",
     "text": [
      "A and B Male - mean accuracy:  0.8554594531839554\n",
      "A and B Male - bootstrapping mean accuracy:  [0.85122192 0.85365995 0.8554014  0.85720091 0.85975504]\n",
      "A and B Male - triplet accuracy:  0.8917914779983745\n",
      "A and B Male - f1 score: 0.870474406991261\n",
      "A and B Male - Confusion Matrix\n",
      "[[6370 1603]\n",
      " [ 887 8367]]\n",
      "A and B Male - TPR:  0.8392176529588766\n",
      "A and B Male - FPR:  0.16078234704112337\n",
      "A and B Male - TNR:  0.8777731845115061\n",
      "A and B Male - FNR:  0.12222681548849387\n",
      "\n",
      "\n",
      "A and B Non Male - mean accuracy:  0.8700431880643895\n",
      "A and B Non Male - bootstrapping mean accuracy:  [0.85904986 0.866117   0.87004319 0.87436199 0.88103651]\n",
      "A and B Non Male - triplet accuracy:  0.6802827965435978\n",
      "A and B Non Male - f1 score: 0.9170218099774379\n",
      "A and B Non Male - Confusion Matrix\n",
      "[[ 387  162]\n",
      " [ 169 1829]]\n",
      "A and B Non Male - TPR:  0.9186338523355098\n",
      "A and B Non Male - FPR:  0.08136614766449021\n",
      "A and B Non Male - TNR:  0.6960431654676259\n",
      "A and B Non Male - FNR:  0.3039568345323741\n"
     ]
    }
   ],
   "source": [
    "print(\"A and B Male - mean accuracy: \", df_fairness[(df_fairness['A_Male']==1)&(df_fairness['B_Male']==1)]['correct_predict'].mean())\n",
    "print(\"A and B Male - bootstrapping mean accuracy: \", bootstrap(df_fairness[(df_fairness['A_Male']==1)&(df_fairness['B_Male']==1)], agg_func=lambda df: df['correct_predict'].mean()))\n",
    "print(\"A and B Male - triplet accuracy: \", triplet_acc_fairness(df_fairness[(df_fairness['A_Male']==1)&(df_fairness['B_Male']==1)]))\n",
    "print(\"A and B Male - f1 score:\", f1_score(y_AB_Male, y_pred_AB_Male))\n",
    "print(\"A and B Male - Confusion Matrix\")\n",
    "print(confusion_matrix(y_AB_Male, y_pred_AB_Male))\n",
    "print('A and B Male - TPR: ', TPR_AB_Male)\n",
    "print('A and B Male - FPR: ', FPR_AB_Male)\n",
    "print('A and B Male - TNR: ', TNR_AB_Male)\n",
    "print('A and B Male - FNR: ', FNR_AB_Male)\n",
    "print(\"\\n\")\n",
    "print(\"A and B Non Male - mean accuracy: \", df_fairness[(df_fairness['A_Male']==0)&(df_fairness['B_Male']==0)]['correct_predict'].mean())\n",
    "print(\"A and B Non Male - bootstrapping mean accuracy: \", bootstrap(df_fairness[(df_fairness['A_Male']==0)&(df_fairness['B_Male']==0)], agg_func=lambda df: df['correct_predict'].mean()))\n",
    "print(\"A and B Non Male - triplet accuracy: \", triplet_acc_fairness(df_fairness[(df_fairness['A_Male']==0)&(df_fairness['B_Male']==0)]))\n",
    "print(\"A and B Non Male - f1 score:\", f1_score(y_AB_NoMale, y_pred_AB_NoMale))\n",
    "print(\"A and B Non Male - Confusion Matrix\")\n",
    "print(confusion_matrix(y_AB_NoMale, y_pred_AB_NoMale))\n",
    "print('A and B Non Male - TPR: ', TPR_AB_NoMale)\n",
    "print('A and B Non Male - FPR: ', FPR_AB_NoMale)\n",
    "print('A and B Non Male - TNR: ', TNR_AB_NoMale)\n",
    "print('A and B Non Male - FNR: ', FNR_AB_NoMale)"
   ]
  },
  {
   "cell_type": "code",
   "execution_count": 47,
   "metadata": {
    "tags": []
   },
   "outputs": [],
   "source": [
    "y_AB_White = np.array(df_fairness[(df_fairness['A_White']==1)&(df_fairness['B_White']==1)].y_true)\n",
    "y_pred_AB_White = np.array(df_fairness[(df_fairness['A_White']==1)&(df_fairness['B_White']==1)].y_pred)\n",
    "\n",
    "tn_AB_White,fp_AB_White,fn_AB_White,tp_AB_White = confusion_matrix(y_AB_White, y_pred_AB_White).ravel()\n",
    "\n",
    "TPR_AB_White = tp_AB_White/(tp_AB_White+fp_AB_White)\n",
    "FPR_AB_White = fp_AB_White/(tp_AB_White+fp_AB_White)\n",
    "TNR_AB_White = tn_AB_White/(tn_AB_White+fn_AB_White)\n",
    "FNR_AB_White = fn_AB_White/(tn_AB_White+fn_AB_White)\n",
    "\n",
    "y_AB_NoWhite = np.array(df_fairness[(df_fairness['A_White']==0)&(df_fairness['B_White']==0)].y_true)\n",
    "y_pred_AB_NoWhite = np.array(df_fairness[(df_fairness['A_White']==0)&(df_fairness['B_White']==0)].y_pred)\n",
    "\n",
    "tn_AB_NoWhite,fp_AB_NoWhite,fn_AB_NoWhite,tp_AB_NoWhite = confusion_matrix(y_AB_NoWhite, y_pred_AB_NoWhite).ravel()\n",
    "\n",
    "TPR_AB_NoWhite = tp_AB_NoWhite/(tp_AB_NoWhite+fp_AB_NoWhite)\n",
    "FPR_AB_NoWhite = fp_AB_NoWhite/(tp_AB_NoWhite+fp_AB_NoWhite)\n",
    "TNR_AB_NoWhite = tn_AB_NoWhite/(tn_AB_NoWhite+fn_AB_NoWhite)\n",
    "FNR_AB_NoWhite = fn_AB_NoWhite/(tn_AB_NoWhite+fn_AB_NoWhite)"
   ]
  },
  {
   "cell_type": "code",
   "execution_count": 48,
   "metadata": {
    "tags": []
   },
   "outputs": [
    {
     "name": "stdout",
     "output_type": "stream",
     "text": [
      "A and B White - mean accuracy:  0.8712624038903858\n",
      "A and B White - bootstrapping mean accuracy:  [0.86659657 0.86929092 0.87113097 0.87310245 0.87586252]\n",
      "A and B White - triplet accuracy:  0.8813091482649842\n",
      "A and B White - f1 score: 0.8886995057099029\n",
      "A and B White - Confusion Matrix\n",
      "[[5437 1215]\n",
      " [ 744 7821]]\n",
      "A and B White - TPR:  0.8655378486055777\n",
      "A and B White - FPR:  0.1344621513944223\n",
      "A and B White - TNR:  0.8796311276492477\n",
      "A and B White - FNR:  0.1203688723507523\n",
      "\n",
      "\n",
      "A and B Non White - mean accuracy:  0.8638259833134684\n",
      "A and B Non White - bootstrapping mean accuracy:  [0.85427592 0.85965435 0.86352801 0.86769964 0.87336114]\n",
      "A and B Non White - triplet accuracy:  0.7300357568533969\n",
      "A and B Non White - f1 score: 0.9052456976985279\n",
      "A and B Non White - Confusion Matrix\n",
      "[[ 716  196]\n",
      " [ 261 2183]]\n",
      "A and B Non White - TPR:  0.9176124422026062\n",
      "A and B Non White - FPR:  0.08238755779739386\n",
      "A and B Non White - TNR:  0.7328556806550666\n",
      "A and B Non White - FNR:  0.2671443193449335\n"
     ]
    }
   ],
   "source": [
    "print(\"A and B White - mean accuracy: \", df_fairness[(df_fairness['A_White']==1)&(df_fairness['B_White']==1)]['correct_predict'].mean())\n",
    "print(\"A and B White - bootstrapping mean accuracy: \", bootstrap(df_fairness[(df_fairness['A_White']==1)&(df_fairness['B_White']==1)], agg_func=lambda df: df['correct_predict'].mean()))\n",
    "print(\"A and B White - triplet accuracy: \", triplet_acc_fairness(df_fairness[(df_fairness['A_White']==1)&(df_fairness['B_White']==1)]))\n",
    "print(\"A and B White - f1 score:\", f1_score(y_AB_White, y_pred_AB_White))\n",
    "print(\"A and B White - Confusion Matrix\")\n",
    "print(confusion_matrix(y_AB_White, y_pred_AB_White))\n",
    "print('A and B White - TPR: ', TPR_AB_White)\n",
    "print('A and B White - FPR: ', FPR_AB_White)\n",
    "print('A and B White - TNR: ', TNR_AB_White)\n",
    "print('A and B White - FNR: ', FNR_AB_White)\n",
    "print(\"\\n\")\n",
    "print(\"A and B Non White - mean accuracy: \", df_fairness[(df_fairness['A_White']==0)&(df_fairness['B_White']==0)]['correct_predict'].mean())\n",
    "print(\"A and B Non White - bootstrapping mean accuracy: \", bootstrap(df_fairness[(df_fairness['A_White']==0)&(df_fairness['B_White']==0)], agg_func=lambda df: df['correct_predict'].mean()))\n",
    "print(\"A and B Non White - triplet accuracy: \", triplet_acc_fairness(df_fairness[(df_fairness['A_White']==0)&(df_fairness['B_White']==0)]))\n",
    "print(\"A and B Non White - f1 score:\", f1_score(y_AB_NoWhite, y_pred_AB_NoWhite))\n",
    "print(\"A and B Non White - Confusion Matrix\")\n",
    "print(confusion_matrix(y_AB_NoWhite, y_pred_AB_NoWhite))\n",
    "print('A and B Non White - TPR: ', TPR_AB_NoWhite)\n",
    "print('A and B Non White - FPR: ', FPR_AB_NoWhite)\n",
    "print('A and B Non White - TNR: ', TNR_AB_NoWhite)\n",
    "print('A and B Non White - FNR: ', FNR_AB_NoWhite)"
   ]
  },
  {
   "cell_type": "markdown",
   "metadata": {},
   "source": [
    "### Other categories"
   ]
  },
  {
   "cell_type": "markdown",
   "metadata": {},
   "source": [
    "#### Supposed races"
   ]
  },
  {
   "cell_type": "code",
   "execution_count": 49,
   "metadata": {
    "tags": []
   },
   "outputs": [],
   "source": [
    "y_AB_Black = np.array(df_fairness[(df_fairness['A_Black']==1)&(df_fairness['B_Black']==1)].y_true)\n",
    "y_pred_AB_Black = np.array(df_fairness[(df_fairness['A_Black']==1)&(df_fairness['B_Black']==1)].y_pred)\n",
    "\n",
    "tn_AB_Black,fp_AB_Black,fn_AB_Black,tp_AB_Black = confusion_matrix(y_AB_Black, y_pred_AB_Black).ravel()\n",
    "\n",
    "TPR_AB_Black = tp_AB_Black/(tp_AB_Black+fp_AB_Black)\n",
    "FPR_AB_Black = fp_AB_Black/(tp_AB_Black+fp_AB_Black)\n",
    "TNR_AB_Black = tn_AB_Black/(tn_AB_Black+fn_AB_Black)\n",
    "FNR_AB_Black = fn_AB_Black/(tn_AB_Black+fn_AB_Black)\n",
    "\n",
    "y_AB_Asian = np.array(df_fairness[(df_fairness['A_Asian']==1)&(df_fairness['B_Asian']==1)].y_true)\n",
    "y_pred_AB_Asian = np.array(df_fairness[(df_fairness['A_Asian']==1)&(df_fairness['B_Asian']==1)].y_pred)\n",
    "\n",
    "tn_AB_Asian,fp_AB_Asian,fn_AB_Asian,tp_AB_Asian = confusion_matrix(y_AB_Asian, y_pred_AB_Asian).ravel()\n",
    "\n",
    "TPR_AB_Asian = tp_AB_Asian/(tp_AB_Asian+fp_AB_Asian)\n",
    "FPR_AB_Asian = fp_AB_Asian/(tp_AB_Asian+fp_AB_Asian)\n",
    "TNR_AB_Asian = tn_AB_Asian/(tn_AB_Asian+fn_AB_Asian)\n",
    "FNR_AB_Asian = fn_AB_Asian/(tn_AB_Asian+fn_AB_Asian)\n",
    "\n",
    "y_AB_Indian = np.array(df_fairness[(df_fairness['A_Indian']==1)&(df_fairness['B_Indian']==1)].y_true)\n",
    "y_pred_AB_Indian = np.array(df_fairness[(df_fairness['A_Indian']==1)&(df_fairness['B_Indian']==1)].y_pred)\n",
    "\n",
    "tn_AB_Indian,fp_AB_Indian,fn_AB_Indian,tp_AB_Indian = confusion_matrix(y_AB_Indian, y_pred_AB_Indian).ravel()\n",
    "\n",
    "TPR_AB_Indian = tp_AB_Indian/(tp_AB_Indian+fp_AB_Indian)\n",
    "FPR_AB_Indian = fp_AB_Indian/(tp_AB_Indian+fp_AB_Indian)\n",
    "TNR_AB_Indian = tn_AB_Indian/(tn_AB_Indian+fn_AB_Indian)\n",
    "FNR_AB_Indian = fn_AB_Indian/(tn_AB_Indian+fn_AB_Indian)"
   ]
  },
  {
   "cell_type": "code",
   "execution_count": 50,
   "metadata": {
    "tags": []
   },
   "outputs": [
    {
     "name": "stdout",
     "output_type": "stream",
     "text": [
      "A and B White - mean accuracy:  0.8712624038903858\n",
      "A and B White - bootstrapping mean accuracy:  [0.86692186 0.86955379 0.87109811 0.8729053  0.87605967]\n",
      "A and B White - triplet accuracy:  0.8813091482649842\n",
      "A and B White - f1 score: 0.8886995057099029\n",
      "A and B White - Confusion Matrix\n",
      "[[5437 1215]\n",
      " [ 744 7821]]\n",
      "A and B White - TPR:  0.8655378486055777\n",
      "A and B White - FPR:  0.1344621513944223\n",
      "A and B White - TNR:  0.8796311276492477\n",
      "A and B White - FNR:  0.1203688723507523\n",
      "\n",
      "\n",
      "A and B Black - mean accuracy:  0.8752293577981651\n",
      "A and B Black - bootstrapping mean accuracy:  [0.85321101 0.86605505 0.87614679 0.88623853 0.89908257]\n",
      "A and B Black - triplet accuracy:  0.5551470588235294\n",
      "A and B Black - f1 score: 0.9294605809128631\n",
      "A and B Black - Confusion Matrix\n",
      "[[ 29  17]\n",
      " [ 51 448]]\n",
      "A and B Black - TPR:  0.9634408602150538\n",
      "A and B Black - FPR:  0.03655913978494624\n",
      "A and B Black - TNR:  0.3625\n",
      "A and B Black - FNR:  0.6375\n",
      "\n",
      "\n",
      "A and B Asian - mean accuracy:  0.8601921024546425\n",
      "A and B Asian - bootstrapping mean accuracy:  [0.84199573 0.85272145 0.8601921  0.86766275 0.87833511]\n",
      "A and B Asian - triplet accuracy:  0.561965811965812\n",
      "A and B Asian - f1 score: 0.917661847894406\n",
      "A and B Asian - Confusion Matrix\n",
      "[[ 76  34]\n",
      " [ 97 730]]\n",
      "A and B Asian - TPR:  0.9554973821989529\n",
      "A and B Asian - FPR:  0.04450261780104712\n",
      "A and B Asian - TNR:  0.4393063583815029\n",
      "A and B Asian - FNR:  0.5606936416184971\n",
      "\n",
      "\n",
      "A and B Indian - mean accuracy:  0.984375\n",
      "A and B Indian - bootstrapping mean accuracy:  [0.953125 0.96875  0.984375 1.       1.      ]\n",
      "A and B Indian - triplet accuracy:  0.4375\n",
      "A and B Indian - f1 score: 0.9917355371900827\n",
      "A and B Indian - Confusion Matrix\n",
      "[[ 3  1]\n",
      " [ 0 60]]\n",
      "A and B Indian - TPR:  0.9836065573770492\n",
      "A and B Indian - FPR:  0.01639344262295082\n",
      "A and B Indian - TNR:  1.0\n",
      "A and B Indian - FNR:  0.0\n"
     ]
    }
   ],
   "source": [
    "print(\"A and B White - mean accuracy: \", df_fairness[(df_fairness['A_White']==1)&(df_fairness['B_White']==1)]['correct_predict'].mean())\n",
    "print(\"A and B White - bootstrapping mean accuracy: \", bootstrap(df_fairness[(df_fairness['A_White']==1)&(df_fairness['B_White']==1)], agg_func=lambda df: df['correct_predict'].mean()))\n",
    "print(\"A and B White - triplet accuracy: \", triplet_acc_fairness(df_fairness[(df_fairness['A_White']==1)&(df_fairness['B_White']==1)]))\n",
    "print(\"A and B White - f1 score:\", f1_score(y_AB_White, y_pred_AB_White))\n",
    "print(\"A and B White - Confusion Matrix\")\n",
    "print(confusion_matrix(y_AB_White, y_pred_AB_White))\n",
    "print('A and B White - TPR: ', TPR_AB_White)\n",
    "print('A and B White - FPR: ', FPR_AB_White)\n",
    "print('A and B White - TNR: ', TNR_AB_White)\n",
    "print('A and B White - FNR: ', FNR_AB_White)\n",
    "print(\"\\n\")\n",
    "print(\"A and B Black - mean accuracy: \", df_fairness[(df_fairness['A_Black']==1)&(df_fairness['B_Black']==1)]['correct_predict'].mean())\n",
    "print(\"A and B Black - bootstrapping mean accuracy: \", bootstrap(df_fairness[(df_fairness['A_Black']==1)&(df_fairness['B_Black']==1)], agg_func=lambda df: df['correct_predict'].mean()))\n",
    "print(\"A and B Black - triplet accuracy: \", triplet_acc_fairness(df_fairness[(df_fairness['A_Black']==1)&(df_fairness['B_Black']==1)]))\n",
    "print(\"A and B Black - f1 score:\", f1_score(y_AB_Black, y_pred_AB_Black))\n",
    "print(\"A and B Black - Confusion Matrix\")\n",
    "print(confusion_matrix(y_AB_Black, y_pred_AB_Black))\n",
    "print('A and B Black - TPR: ', TPR_AB_Black)\n",
    "print('A and B Black - FPR: ', FPR_AB_Black)\n",
    "print('A and B Black - TNR: ', TNR_AB_Black)\n",
    "print('A and B Black - FNR: ', FNR_AB_Black)\n",
    "print(\"\\n\")\n",
    "print(\"A and B Asian - mean accuracy: \", df_fairness[(df_fairness['A_Asian']==1)&(df_fairness['B_Asian']==1)]['correct_predict'].mean())\n",
    "print(\"A and B Asian - bootstrapping mean accuracy: \", bootstrap(df_fairness[(df_fairness['A_Asian']==1)&(df_fairness['B_Asian']==1)], agg_func=lambda df: df['correct_predict'].mean()))\n",
    "print(\"A and B Asian - triplet accuracy: \", triplet_acc_fairness(df_fairness[(df_fairness['A_Asian']==1)&(df_fairness['B_Asian']==1)]))\n",
    "print(\"A and B Asian - f1 score:\", f1_score(y_AB_Asian, y_pred_AB_Asian))\n",
    "print(\"A and B Asian - Confusion Matrix\")\n",
    "print(confusion_matrix(y_AB_Asian, y_pred_AB_Asian))\n",
    "print('A and B Asian - TPR: ', TPR_AB_Asian)\n",
    "print('A and B Asian - FPR: ', FPR_AB_Asian)\n",
    "print('A and B Asian - TNR: ', TNR_AB_Asian)\n",
    "print('A and B Asian - FNR: ', FNR_AB_Asian)\n",
    "print(\"\\n\")\n",
    "print(\"A and B Indian - mean accuracy: \", df_fairness[(df_fairness['A_Indian']==1)&(df_fairness['B_Indian']==1)]['correct_predict'].mean())\n",
    "print(\"A and B Indian - bootstrapping mean accuracy: \", bootstrap(df_fairness[(df_fairness['A_Indian']==1)&(df_fairness['B_Indian']==1)], agg_func=lambda df: df['correct_predict'].mean()))\n",
    "print(\"A and B Indian - triplet accuracy: \", triplet_acc_fairness(df_fairness[(df_fairness['A_Indian']==1)&(df_fairness['B_Indian']==1)]))\n",
    "print(\"A and B Indian - f1 score:\", f1_score(y_AB_Indian, y_pred_AB_Indian))\n",
    "print(\"A and B Indian - Confusion Matrix\")\n",
    "print(confusion_matrix(y_AB_Indian, y_pred_AB_Indian))\n",
    "print('A and B Indian - TPR: ', TPR_AB_Indian)\n",
    "print('A and B Indian - FPR: ', FPR_AB_Indian)\n",
    "print('A and B Indian - TNR: ', TNR_AB_Indian)\n",
    "print('A and B Indian - FNR: ', FNR_AB_Indian)"
   ]
  },
  {
   "cell_type": "markdown",
   "metadata": {},
   "source": [
    "#### Youth vs Senior"
   ]
  },
  {
   "cell_type": "code",
   "execution_count": 51,
   "metadata": {
    "tags": []
   },
   "outputs": [],
   "source": [
    "y_AB_Youth = np.array(df_fairness[(df_fairness['A_Youth']==1)&(df_fairness['B_Youth']==1)].y_true)\n",
    "y_pred_AB_Youth = np.array(df_fairness[(df_fairness['A_Youth']==1)&(df_fairness['B_Youth']==1)].y_pred)\n",
    "\n",
    "tn_AB_Youth,fp_AB_Youth,fn_AB_Youth,tp_AB_Youth = confusion_matrix(y_AB_Youth, y_pred_AB_Youth).ravel()\n",
    "\n",
    "TPR_AB_Youth = tp_AB_Youth/(tp_AB_Youth+fp_AB_Youth)\n",
    "FPR_AB_Youth = fp_AB_Youth/(tp_AB_Youth+fp_AB_Youth)\n",
    "TNR_AB_Youth = tn_AB_Youth/(tn_AB_Youth+fn_AB_Youth)\n",
    "FNR_AB_Youth = fn_AB_Youth/(tn_AB_Youth+fn_AB_Youth)\n",
    "\n",
    "y_AB_Senior = np.array(df_fairness[(df_fairness['A_Senior']==1)&(df_fairness['B_Senior']==1)].y_true)\n",
    "y_pred_AB_Senior = np.array(df_fairness[(df_fairness['A_Senior']==1)&(df_fairness['B_Senior']==1)].y_pred)\n",
    "\n",
    "tn_AB_Senior,fp_AB_Senior,fn_AB_Senior,tp_AB_Senior = confusion_matrix(y_AB_Senior, y_pred_AB_Senior).ravel()\n",
    "\n",
    "TPR_AB_Senior = tp_AB_Senior/(tp_AB_Senior+fp_AB_Senior)\n",
    "FPR_AB_Senior = fp_AB_Senior/(tp_AB_Senior+fp_AB_Senior)\n",
    "TNR_AB_Senior = tn_AB_Senior/(tn_AB_Senior+fn_AB_Senior)\n",
    "FNR_AB_Senior = fn_AB_Senior/(tn_AB_Senior+fn_AB_Senior)"
   ]
  },
  {
   "cell_type": "code",
   "execution_count": 52,
   "metadata": {
    "tags": []
   },
   "outputs": [
    {
     "name": "stdout",
     "output_type": "stream",
     "text": [
      "A and B Youth - mean accuracy:  0.8708955223880597\n",
      "A and B Youth - bootstrapping mean accuracy:  [0.85522388 0.8641791  0.87089552 0.87630597 0.8858209 ]\n",
      "A and B Youth - triplet accuracy:  0.6761194029850747\n",
      "A and B Youth - f1 score: 0.9167869167869168\n",
      "A and B Youth - Confusion Matrix\n",
      "[[214  69]\n",
      " [104 953]]\n",
      "A and B Youth - TPR:  0.9324853228962818\n",
      "A and B Youth - FPR:  0.0675146771037182\n",
      "A and B Youth - TNR:  0.6729559748427673\n",
      "A and B Youth - FNR:  0.3270440251572327\n",
      "\n",
      "\n",
      "A and B Senior - mean accuracy:  0.9174972314507198\n",
      "A and B Senior - bootstrapping mean accuracy:  [0.90694906 0.91362126 0.91860465 0.92248062 0.92857143]\n",
      "A and B Senior - triplet accuracy:  0.7264673311184939\n",
      "A and B Senior - f1 score: 0.9456402772710689\n",
      "A and B Senior - Confusion Matrix\n",
      "[[ 361  110]\n",
      " [  39 1296]]\n",
      "A and B Senior - TPR:  0.9217638691322901\n",
      "A and B Senior - FPR:  0.07823613086770982\n",
      "A and B Senior - TNR:  0.9025\n",
      "A and B Senior - FNR:  0.0975\n"
     ]
    }
   ],
   "source": [
    "print(\"A and B Youth - mean accuracy: \", df_fairness[(df_fairness['A_Youth']==1)&(df_fairness['B_Youth']==1)]['correct_predict'].mean())\n",
    "print(\"A and B Youth - bootstrapping mean accuracy: \", bootstrap(df_fairness[(df_fairness['A_Youth']==1)&(df_fairness['B_Youth']==1)], agg_func=lambda df: df['correct_predict'].mean()))\n",
    "print(\"A and B Youth - triplet accuracy: \", triplet_acc_fairness(df_fairness[(df_fairness['A_Youth']==1)&(df_fairness['B_Youth']==1)]))\n",
    "print(\"A and B Youth - f1 score:\", f1_score(y_AB_Youth, y_pred_AB_Youth))\n",
    "print(\"A and B Youth - Confusion Matrix\")\n",
    "print(confusion_matrix(y_AB_Youth, y_pred_AB_Youth))\n",
    "print('A and B Youth - TPR: ', TPR_AB_Youth)\n",
    "print('A and B Youth - FPR: ', FPR_AB_Youth)\n",
    "print('A and B Youth - TNR: ', TNR_AB_Youth)\n",
    "print('A and B Youth - FNR: ', FNR_AB_Youth)\n",
    "print(\"\\n\")\n",
    "print(\"A and B Senior - mean accuracy: \", df_fairness[(df_fairness['A_Senior']==1)&(df_fairness['B_Senior']==1)]['correct_predict'].mean())\n",
    "print(\"A and B Senior - bootstrapping mean accuracy: \", bootstrap(df_fairness[(df_fairness['A_Senior']==1)&(df_fairness['B_Senior']==1)], agg_func=lambda df: df['correct_predict'].mean()))\n",
    "print(\"A and B Senior - triplet accuracy: \", triplet_acc_fairness(df_fairness[(df_fairness['A_Senior']==1)&(df_fairness['B_Senior']==1)]))\n",
    "print(\"A and B Senior - f1 score:\", f1_score(y_AB_Senior, y_pred_AB_Senior))\n",
    "print(\"A and B Senior - Confusion Matrix\")\n",
    "print(confusion_matrix(y_AB_Senior, y_pred_AB_Senior))\n",
    "print('A and B Senior - TPR: ', TPR_AB_Senior)\n",
    "print('A and B Senior - FPR: ', FPR_AB_Senior)\n",
    "print('A and B Senior - TNR: ', TNR_AB_Senior)\n",
    "print('A and B Senior - FNR: ', FNR_AB_Senior)"
   ]
  },
  {
   "cell_type": "markdown",
   "metadata": {},
   "source": [
    "#### Accessories"
   ]
  },
  {
   "cell_type": "code",
   "execution_count": 53,
   "metadata": {
    "tags": []
   },
   "outputs": [],
   "source": [
    "y_AB_Sunglasses = np.array(df_fairness[(df_fairness['A_Sunglasses']==1)&(df_fairness['B_Sunglasses']==1)].y_true)\n",
    "y_pred_AB_Sunglasses = np.array(df_fairness[(df_fairness['A_Sunglasses']==1)&(df_fairness['B_Sunglasses']==1)].y_pred)\n",
    "\n",
    "tn_AB_Sunglasses,fp_AB_Sunglasses,fn_AB_Sunglasses,tp_AB_Sunglasses = confusion_matrix(y_AB_Sunglasses, y_pred_AB_Sunglasses).ravel()\n",
    "\n",
    "TPR_AB_Sunglasses = tp_AB_Sunglasses/(tp_AB_Sunglasses+fp_AB_Sunglasses)\n",
    "FPR_AB_Sunglasses = fp_AB_Sunglasses/(tp_AB_Sunglasses+fp_AB_Sunglasses)\n",
    "TNR_AB_Sunglasses = tn_AB_Sunglasses/(tn_AB_Sunglasses+fn_AB_Sunglasses)\n",
    "FNR_AB_Sunglasses = fn_AB_Sunglasses/(tn_AB_Sunglasses+fn_AB_Sunglasses)\n",
    "\n",
    "y_AB_NoSunglasses = np.array(df_fairness[(df_fairness['A_Sunglasses']==0)&(df_fairness['B_Sunglasses']==0)].y_true)\n",
    "y_pred_AB_NoSunglasses = np.array(df_fairness[(df_fairness['A_Sunglasses']==0)&(df_fairness['B_Sunglasses']==0)].y_pred)\n",
    "\n",
    "tn_AB_NoSunglasses,fp_AB_NoSunglasses,fn_AB_NoSunglasses,tp_AB_NoSunglasses = confusion_matrix(y_AB_NoSunglasses, y_pred_AB_NoSunglasses).ravel()\n",
    "\n",
    "TPR_AB_NoSunglasses = tp_AB_NoSunglasses/(tp_AB_NoSunglasses+fp_AB_NoSunglasses)\n",
    "FPR_AB_NoSunglasses = fp_AB_NoSunglasses/(tp_AB_NoSunglasses+fp_AB_NoSunglasses)\n",
    "TNR_AB_NoSunglasses = tn_AB_NoSunglasses/(tn_AB_NoSunglasses+fn_AB_NoSunglasses)\n",
    "FNR_AB_NoSunglasses = fn_AB_NoSunglasses/(tn_AB_NoSunglasses+fn_AB_NoSunglasses)"
   ]
  },
  {
   "cell_type": "code",
   "execution_count": 54,
   "metadata": {
    "tags": []
   },
   "outputs": [
    {
     "name": "stdout",
     "output_type": "stream",
     "text": [
      "A and B Sunglasses - mean accuracy:  0.5813953488372093\n",
      "A and B Sunglasses - bootstrapping mean accuracy:  [0.46511628 0.53488372 0.58139535 0.62790698 0.69767442]\n",
      "A and B Sunglasses - triplet accuracy:  0.42857142857142855\n",
      "A and B Sunglasses - f1 score: 0.7096774193548387\n",
      "A and B Sunglasses - Confusion Matrix\n",
      "[[ 3  0]\n",
      " [18 22]]\n",
      "A and B Sunglasses - TPR:  1.0\n",
      "A and B Sunglasses - FPR:  0.0\n",
      "A and B Sunglasses - TNR:  0.14285714285714285\n",
      "A and B Sunglasses - FNR:  0.8571428571428571\n",
      "\n",
      "\n",
      "A and B Non Sunglasses - mean accuracy:  0.8683716756403981\n",
      "A and B Non Sunglasses - bootstrapping mean accuracy:  [0.86478218 0.86686246 0.86837168 0.8698401  0.87196117]\n",
      "A and B Non Sunglasses - triplet accuracy:  0.9369391417849567\n",
      "A and B Non Sunglasses - f1 score: 0.8728876984283295\n",
      "A and B Non Sunglasses - Confusion Matrix\n",
      "[[10209  2016]\n",
      " [ 1211 11080]]\n",
      "A and B Non Sunglasses - TPR:  0.8460598656078192\n",
      "A and B Non Sunglasses - FPR:  0.15394013439218082\n",
      "A and B Non Sunglasses - TNR:  0.8939579684763572\n",
      "A and B Non Sunglasses - FNR:  0.10604203152364274\n"
     ]
    }
   ],
   "source": [
    "print(\"A and B Sunglasses - mean accuracy: \", df_fairness[(df_fairness['A_Sunglasses']==1)&(df_fairness['B_Sunglasses']==1)]['correct_predict'].mean())\n",
    "print(\"A and B Sunglasses - bootstrapping mean accuracy: \", bootstrap(df_fairness[(df_fairness['A_Sunglasses']==1)&(df_fairness['B_Sunglasses']==1)], agg_func=lambda df: df['correct_predict'].mean(), num_bootstraps=10000))\n",
    "print(\"A and B Sunglasses - triplet accuracy: \", triplet_acc_fairness(df_fairness[(df_fairness['A_Sunglasses']==1)&(df_fairness['B_Sunglasses']==1)]))\n",
    "print(\"A and B Sunglasses - f1 score:\", f1_score(y_AB_Sunglasses, y_pred_AB_Sunglasses))\n",
    "print(\"A and B Sunglasses - Confusion Matrix\")\n",
    "print(confusion_matrix(y_AB_Sunglasses, y_pred_AB_Sunglasses))\n",
    "print('A and B Sunglasses - TPR: ', TPR_AB_Sunglasses)\n",
    "print('A and B Sunglasses - FPR: ', FPR_AB_Sunglasses)\n",
    "print('A and B Sunglasses - TNR: ', TNR_AB_Sunglasses)\n",
    "print('A and B Sunglasses - FNR: ', FNR_AB_Sunglasses)\n",
    "print(\"\\n\")\n",
    "print(\"A and B Non Sunglasses - mean accuracy: \", df_fairness[(df_fairness['A_Sunglasses']==0)&(df_fairness['B_Sunglasses']==0)]['correct_predict'].mean())\n",
    "print(\"A and B Non Sunglasses - bootstrapping mean accuracy: \", bootstrap(df_fairness[(df_fairness['A_Sunglasses']==0)&(df_fairness['B_Sunglasses']==0)], agg_func=lambda df: df['correct_predict'].mean(), num_bootstraps=10000))\n",
    "print(\"A and B Non Sunglasses - triplet accuracy: \", triplet_acc_fairness(df_fairness[(df_fairness['A_Sunglasses']==0)&(df_fairness['B_Sunglasses']==0)]))\n",
    "print(\"A and B Non Sunglasses - f1 score:\", f1_score(y_AB_NoSunglasses, y_pred_AB_NoSunglasses))\n",
    "print(\"A and B Non Sunglasses - Confusion Matrix\")\n",
    "print(confusion_matrix(y_AB_NoSunglasses, y_pred_AB_NoSunglasses))\n",
    "print('A and B Non Sunglasses - TPR: ', TPR_AB_NoSunglasses)\n",
    "print('A and B Non Sunglasses - FPR: ', FPR_AB_NoSunglasses)\n",
    "print('A and B Non Sunglasses - TNR: ', TNR_AB_NoSunglasses)\n",
    "print('A and B Non Sunglasses - FNR: ', FNR_AB_NoSunglasses)"
   ]
  },
  {
   "cell_type": "markdown",
   "metadata": {},
   "source": [
    "#### More bootstrapping"
   ]
  },
  {
   "cell_type": "code",
   "execution_count": 55,
   "metadata": {
    "tags": []
   },
   "outputs": [
    {
     "name": "stdout",
     "output_type": "stream",
     "text": [
      "A and B White Male - accuracy: 0.86 (90% CI: 0.855-0.866)\n",
      "A and B White Male - triplet accuracy: 0.84 (90% CI: 0.832-0.85)\n",
      "A and B White Male - FPR: 0.142 (90% CI: 0.136-0.149)\n",
      "A and B White Male - FNR: 0.135 (90% CI: 0.126-0.144)\n",
      "\n",
      "\n",
      "A and B Non White Male - accuracy: 0.866 (90% CI: 0.858-0.873)\n",
      "A and B Non White Male - triplet accuracy: 0.794 (90% CI: 0.778-0.81)\n",
      "A and B Non White Male - FPR: 0.096 (90% CI: 0.089-0.104)\n",
      "A and B Non White Male - FNR: 0.204 (90% CI: 0.19-0.219)\n"
     ]
    }
   ],
   "source": [
    "b,a,c = np.round_(bootstrap(df_fairness[df_fairness['AB_WhiteMale']==1], \\\n",
    "    agg_func=lambda df: df['correct_predict'].mean(), num_bootstraps=10000, percentiles=[5,50,95]), 3)\n",
    "\n",
    "print(f\"A and B White Male - accuracy: {a} (90% CI: {b}-{c})\")\n",
    "\n",
    "b,a,c = np.round_(bootstrap_by_pairs(df_fairness[df_fairness['AB_WhiteMale']==1], \\\n",
    "    agg_func=lambda df: triplet_acc_fairness(df), num_bootstraps=100, percentiles=[5,50,95]), 3)\n",
    "\n",
    "print(f\"A and B White Male - triplet accuracy: {a} (90% CI: {b}-{c})\")\n",
    "\n",
    "b,a,c = np.round_(bootstrap(df_fairness[df_fairness['AB_WhiteMale']==1], \\\n",
    "    agg_func=lambda df: df[(df['y_pred']==1)&(df['y_true']==0)]['id_A'].count()/df[df['y_pred']==1]['id_A'].count(), \\\n",
    "    num_bootstraps=10000, percentiles=[5,50,95]),3)\n",
    "\n",
    "print(f\"A and B White Male - FPR: {a} (90% CI: {b}-{c})\")\n",
    "\n",
    "b,a,c = np.round_(bootstrap(df_fairness[df_fairness['AB_WhiteMale']==1], \\\n",
    "    agg_func=lambda df: df[(df['y_pred']==0)&(df['y_true']==1)]['id_A'].count()/df[df['y_pred']==0]['id_A'].count(), \\\n",
    "    num_bootstraps=10000, percentiles=[5,50,95]),3)\n",
    "\n",
    "print(f\"A and B White Male - FNR: {a} (90% CI: {b}-{c})\")\n",
    "\n",
    "print(\"\\n\")\n",
    "\n",
    "b,a,c = np.round_(bootstrap(df_fairness[df_fairness['AB_NoWhiteMale']==1], \\\n",
    "    agg_func=lambda df: df['correct_predict'].mean(), num_bootstraps=10000, percentiles=[5,50,95]),3)\n",
    "\n",
    "print(f\"A and B Non White Male - accuracy: {a} (90% CI: {b}-{c})\")\n",
    "\n",
    "b,a,c = np.round_(bootstrap_by_pairs(df_fairness[df_fairness['AB_NoWhiteMale']==1], \\\n",
    "    agg_func=lambda df: triplet_acc_fairness(df), num_bootstraps=100, percentiles=[5,50,95]), 3)\n",
    "\n",
    "print(f\"A and B Non White Male - triplet accuracy: {a} (90% CI: {b}-{c})\")\n",
    "\n",
    "b,a,c = np.round_(bootstrap(df_fairness[df_fairness['AB_NoWhiteMale']==1], \\\n",
    "    agg_func=lambda df: df[(df['y_pred']==1)&(df['y_true']==0)]['id_A'].count()/df[df['y_pred']==1]['id_A'].count(), \\\n",
    "    num_bootstraps=10000, percentiles=[5,50,95]),3)\n",
    " \n",
    "print(f\"A and B Non White Male - FPR: {a} (90% CI: {b}-{c})\")\n",
    "\n",
    "b,a,c = np.round_(bootstrap(df_fairness[df_fairness['AB_NoWhiteMale']==1], \\\n",
    "    agg_func=lambda df: df[(df['y_pred']==0)&(df['y_true']==1)]['id_A'].count()/df[df['y_pred']==0]['id_A'].count(), \\\n",
    "    num_bootstraps=10000, percentiles=[5,50,95]),3)\n",
    "\n",
    "print(f\"A and B Non White Male - FNR: {a} (90% CI: {b}-{c})\")"
   ]
  },
  {
   "cell_type": "code",
   "execution_count": 56,
   "metadata": {
    "tags": []
   },
   "outputs": [
    {
     "name": "stdout",
     "output_type": "stream",
     "text": [
      "A and B Male - accuracy: 0.855 (90% CI: 0.851-0.86)\n",
      "A and B Male - triplet accuracy: 0.892 (90% CI: 0.888-0.896)\n",
      "A and B Male - FPR: 0.161 (90% CI: 0.155-0.167)\n",
      "A and B Male - FNR: 0.122 (90% CI: 0.116-0.129)\n",
      "\n",
      "\n",
      "A and B Non Male - accuracy: 0.87 (90% CI: 0.859-0.881)\n",
      "A and B Non Male - triplet accuracy: 0.678 (90% CI: 0.64-0.719)\n",
      "A and B Non Male - FPR: 0.081 (90% CI: 0.071-0.091)\n",
      "A and B Non Male - FNR: 0.304 (90% CI: 0.271-0.336)\n"
     ]
    }
   ],
   "source": [
    "b,a,c = np.round_(bootstrap(df_fairness[(df_fairness['A_Male']==1)&(df_fairness['B_Male']==1)], \\\n",
    "    agg_func=lambda df: df['correct_predict'].mean(), num_bootstraps=10000, percentiles=[5,50,95]), 3)\n",
    "\n",
    "print(f\"A and B Male - accuracy: {a} (90% CI: {b}-{c})\")\n",
    "\n",
    "b,a,c = np.round_(bootstrap_by_pairs(df_fairness[(df_fairness['A_Male']==1)&(df_fairness['B_Male']==1)], \\\n",
    "    agg_func=lambda df: triplet_acc_fairness(df), num_bootstraps=100, percentiles=[5,50,95]), 3)\n",
    "\n",
    "print(f\"A and B Male - triplet accuracy: {a} (90% CI: {b}-{c})\")\n",
    "\n",
    "b,a,c = np.round_(bootstrap(df_fairness[(df_fairness['A_Male']==1)&(df_fairness['B_Male']==1)], \\\n",
    "    agg_func=lambda df: df[(df['y_pred']==1)&(df['y_true']==0)]['id_A'].count()/df[df['y_pred']==1]['id_A'].count(), \\\n",
    "    num_bootstraps=10000, percentiles=[5,50,95]),3)\n",
    "\n",
    "print(f\"A and B Male - FPR: {a} (90% CI: {b}-{c})\")\n",
    "\n",
    "b,a,c = np.round_(bootstrap(df_fairness[(df_fairness['A_Male']==1)&(df_fairness['B_Male']==1)], \\\n",
    "    agg_func=lambda df: df[(df['y_pred']==0)&(df['y_true']==1)]['id_A'].count()/df[df['y_pred']==0]['id_A'].count(), \\\n",
    "    num_bootstraps=10000, percentiles=[5,50,95]),3)\n",
    "\n",
    "print(f\"A and B Male - FNR: {a} (90% CI: {b}-{c})\")\n",
    "\n",
    "print(\"\\n\")\n",
    "\n",
    "b,a,c = np.round_(bootstrap(df_fairness[(df_fairness['A_Male']==0)&(df_fairness['B_Male']==0)], \\\n",
    "    agg_func=lambda df: df['correct_predict'].mean(), num_bootstraps=10000, percentiles=[5,50,95]),3)\n",
    "\n",
    "print(f\"A and B Non Male - accuracy: {a} (90% CI: {b}-{c})\")\n",
    "\n",
    "b,a,c = np.round_(bootstrap_by_pairs(df_fairness[(df_fairness['A_Male']==0)&(df_fairness['B_Male']==0)], \\\n",
    "    agg_func=lambda df: triplet_acc_fairness(df), num_bootstraps=100, percentiles=[5,50,95]), 3)\n",
    "\n",
    "print(f\"A and B Non Male - triplet accuracy: {a} (90% CI: {b}-{c})\")\n",
    "\n",
    "b,a,c = np.round_(bootstrap(df_fairness[(df_fairness['A_Male']==0)&(df_fairness['B_Male']==0)], \\\n",
    "    agg_func=lambda df: df[(df['y_pred']==1)&(df['y_true']==0)]['id_A'].count()/df[df['y_pred']==1]['id_A'].count(), \\\n",
    "    num_bootstraps=10000, percentiles=[5,50,95]),3)\n",
    "\n",
    "print(f\"A and B Non Male - FPR: {a} (90% CI: {b}-{c})\")\n",
    "\n",
    "b,a,c = np.round_(bootstrap(df_fairness[(df_fairness['A_Male']==0)&(df_fairness['B_Male']==0)], \\\n",
    "    agg_func=lambda df: df[(df['y_pred']==0)&(df['y_true']==1)]['id_A'].count()/df[df['y_pred']==0]['id_A'].count(), \\\n",
    "    num_bootstraps=10000, percentiles=[5,50,95]),3)\n",
    "\n",
    "print(f\"A and B Non Male - FNR: {a} (90% CI: {b}-{c})\")"
   ]
  },
  {
   "cell_type": "code",
   "execution_count": 57,
   "metadata": {
    "tags": []
   },
   "outputs": [
    {
     "name": "stdout",
     "output_type": "stream",
     "text": [
      "A and B White - accuracy: 0.871 (90% CI: 0.867-0.876)\n",
      "A and B White - triplet accuracy: 0.881 (90% CI: 0.876-0.887)\n",
      "A and B White - FPR: 0.134 (90% CI: 0.129-0.14)\n",
      "A and B White - FNR: 0.12 (90% CI: 0.114-0.127)\n",
      "\n",
      "\n",
      "A and B Non White - accuracy: 0.864 (90% CI: 0.854-0.873)\n",
      "A and B Non White - triplet accuracy: 0.723 (90% CI: 0.692-0.76)\n",
      "A and B Non White - FPR: 0.082 (90% CI: 0.073-0.092)\n",
      "A and B Non White - FNR: 0.267 (90% CI: 0.244-0.291)\n"
     ]
    }
   ],
   "source": [
    "b,a,c = np.round_(bootstrap(df_fairness[(df_fairness['A_White']==1)&(df_fairness['B_White']==1)], \\\n",
    "    agg_func=lambda df: df['correct_predict'].mean(), num_bootstraps=10000, percentiles=[5,50,95]), 3)\n",
    "\n",
    "print(f\"A and B White - accuracy: {a} (90% CI: {b}-{c})\")\n",
    "\n",
    "b,a,c = np.round_(bootstrap_by_pairs(df_fairness[(df_fairness['A_White']==1)&(df_fairness['B_White']==1)], \\\n",
    "    agg_func=lambda df: triplet_acc_fairness(df), num_bootstraps=100, percentiles=[5,50,95]), 3)\n",
    "\n",
    "print(f\"A and B White - triplet accuracy: {a} (90% CI: {b}-{c})\")\n",
    "\n",
    "b,a,c = np.round_(bootstrap(df_fairness[(df_fairness['A_White']==1)&(df_fairness['B_White']==1)], \\\n",
    "    agg_func=lambda df: df[(df['y_pred']==1)&(df['y_true']==0)]['id_A'].count()/df[df['y_pred']==1]['id_A'].count(), \\\n",
    "    num_bootstraps=10000, percentiles=[5,50,95]),3)\n",
    "\n",
    "print(f\"A and B White - FPR: {a} (90% CI: {b}-{c})\")\n",
    "\n",
    "b,a,c = np.round_(bootstrap(df_fairness[(df_fairness['A_White']==1)&(df_fairness['B_White']==1)], \\\n",
    "    agg_func=lambda df: df[(df['y_pred']==0)&(df['y_true']==1)]['id_A'].count()/df[df['y_pred']==0]['id_A'].count(), \\\n",
    "    num_bootstraps=10000, percentiles=[5,50,95]),3)\n",
    "\n",
    "print(f\"A and B White - FNR: {a} (90% CI: {b}-{c})\")\n",
    "\n",
    "print(\"\\n\")\n",
    "\n",
    "b,a,c = np.round_(bootstrap(df_fairness[(df_fairness['A_White']==0)&(df_fairness['B_White']==0)], \\\n",
    "    agg_func=lambda df: df['correct_predict'].mean(), num_bootstraps=10000, percentiles=[5,50,95]),3)\n",
    "\n",
    "print(f\"A and B Non White - accuracy: {a} (90% CI: {b}-{c})\")\n",
    "\n",
    "b,a,c = np.round_(bootstrap_by_pairs(df_fairness[(df_fairness['A_White']==0)&(df_fairness['B_White']==0)], \\\n",
    "    agg_func=lambda df: triplet_acc_fairness(df), num_bootstraps=100, percentiles=[5,50,95]), 3)\n",
    "\n",
    "print(f\"A and B Non White - triplet accuracy: {a} (90% CI: {b}-{c})\")\n",
    "\n",
    "b,a,c = np.round_(bootstrap(df_fairness[(df_fairness['A_White']==0)&(df_fairness['B_White']==0)], \\\n",
    "    agg_func=lambda df: df[(df['y_pred']==1)&(df['y_true']==0)]['id_A'].count()/df[df['y_pred']==1]['id_A'].count(), \\\n",
    "    num_bootstraps=10000, percentiles=[5,50,95]),3)\n",
    "\n",
    "print(f\"A and B Non White - FPR: {a} (90% CI: {b}-{c})\")\n",
    "\n",
    "b,a,c = np.round_(bootstrap(df_fairness[(df_fairness['A_White']==0)&(df_fairness['B_White']==0)], \\\n",
    "    agg_func=lambda df: df[(df['y_pred']==0)&(df['y_true']==1)]['id_A'].count()/df[df['y_pred']==0]['id_A'].count(), \\\n",
    "    num_bootstraps=10000, percentiles=[5,50,95]),3)\n",
    "\n",
    "print(f\"A and B Non White - FNR: {a} (90% CI: {b}-{c})\")"
   ]
  },
  {
   "cell_type": "code",
   "execution_count": 58,
   "metadata": {
    "tags": []
   },
   "outputs": [
    {
     "name": "stdout",
     "output_type": "stream",
     "text": [
      "A and B White - mean accuracy:  [0.867 0.871 0.876]\n",
      "A and B White - triplet accuracy:  [0.875 0.881 0.887]\n",
      "A and B White - FPR:  [0.129 0.134 0.14 ]\n",
      "A and B White - FNR:  [0.114 0.12  0.127]\n",
      "\n",
      "\n",
      "A and B Black - mean accuracy:  [0.851 0.875 0.897]\n",
      "A and B Black - triplet accuracy:  [0.272 0.5   0.8  ]\n",
      "A and B Black - FPR:  [0.023 0.036 0.051]\n",
      "A and B Black - FNR:  [0.548 0.638 0.724]\n",
      "\n",
      "\n",
      "A and B Asian - mean accuracy:  [0.841 0.86  0.878]\n",
      "A and B Asian - triplet accuracy:  [0.457 0.576 0.667]\n",
      "A and B Asian - FPR:  [0.033 0.044 0.057]\n",
      "A and B Asian - FNR:  [0.497 0.56  0.622]\n",
      "\n",
      "\n",
      "A and B Indian - mean accuracy:  [0.953 0.984 1.   ]\n",
      "A and B Indian - triplet accuracy:  [0. 0. 0.]\n",
      "A and B Indian - FPR:  [0.    0.016 0.049]\n"
     ]
    },
    {
     "name": "stderr",
     "output_type": "stream",
     "text": [
      "/tmp/ipykernel_8142/2428058568.py:42: RuntimeWarning: invalid value encountered in long_scalars\n",
      "  agg_func=lambda df: df[(df['y_pred']==0)&(df['y_true']==1)]['id_A'].count()/df[df['y_pred']==0]['id_A'].count(), \\\n"
     ]
    },
    {
     "name": "stdout",
     "output_type": "stream",
     "text": [
      "A and B Indian - FNR:  [nan nan nan]\n"
     ]
    }
   ],
   "source": [
    "print(\"A and B White - mean accuracy: \", np.round_(bootstrap(df_fairness[(df_fairness['A_White']==1)&(df_fairness['B_White']==1)], \\\n",
    "    agg_func=lambda df: df['correct_predict'].mean(), num_bootstraps=10000, percentiles=[5,50,95]), 3))\n",
    "print(\"A and B White - triplet accuracy: \", np.round_(bootstrap_by_pairs(df_fairness[(df_fairness['A_White']==1)&(df_fairness['B_White']==1)], \\\n",
    "    agg_func=lambda df: triplet_acc_fairness(df), num_bootstraps=100, percentiles=[5,50,95]), 3))\n",
    "print(\"A and B White - FPR: \", np.round_(bootstrap(df_fairness[(df_fairness['A_White']==1)&(df_fairness['B_White']==1)], \\\n",
    "    agg_func=lambda df: df[(df['y_pred']==1)&(df['y_true']==0)]['id_A'].count()/df[df['y_pred']==1]['id_A'].count(), \\\n",
    "    num_bootstraps=10000, percentiles=[5,50,95]),3))\n",
    "print(\"A and B White - FNR: \", np.round_(bootstrap(df_fairness[(df_fairness['A_White']==1)&(df_fairness['B_White']==1)], \\\n",
    "    agg_func=lambda df: df[(df['y_pred']==0)&(df['y_true']==1)]['id_A'].count()/df[df['y_pred']==0]['id_A'].count(), \\\n",
    "    num_bootstraps=10000, percentiles=[5,50,95]),3))\n",
    "print(\"\\n\")\n",
    "print(\"A and B Black - mean accuracy: \", np.round_(bootstrap(df_fairness[(df_fairness['A_Black']==1)&(df_fairness['B_Black']==1)], \\\n",
    "    agg_func=lambda df: df['correct_predict'].mean(), num_bootstraps=10000, percentiles=[5,50,95]),3))\n",
    "print(\"A and B Black - triplet accuracy: \", np.round_(bootstrap_by_pairs(df_fairness[(df_fairness['A_Black']==1)&(df_fairness['B_Black']==1)], \\\n",
    "    agg_func=lambda df: triplet_acc_fairness(df), num_bootstraps=100, percentiles=[5,50,95]), 3))\n",
    "print(\"A and B Black - FPR: \", np.round_(bootstrap(df_fairness[(df_fairness['A_Black']==1)&(df_fairness['B_Black']==1)], \\\n",
    "    agg_func=lambda df: df[(df['y_pred']==1)&(df['y_true']==0)]['id_A'].count()/df[df['y_pred']==1]['id_A'].count(), \\\n",
    "    num_bootstraps=10000, percentiles=[5,50,95]),3))\n",
    "print(\"A and B Black - FNR: \", np.round_(bootstrap(df_fairness[(df_fairness['A_Black']==1)&(df_fairness['B_Black']==1)], \\\n",
    "    agg_func=lambda df: df[(df['y_pred']==0)&(df['y_true']==1)]['id_A'].count()/df[df['y_pred']==0]['id_A'].count(), \\\n",
    "    num_bootstraps=10000, percentiles=[5,50,95]),3))\n",
    "print(\"\\n\")\n",
    "print(\"A and B Asian - mean accuracy: \", np.round_(bootstrap(df_fairness[(df_fairness['A_Asian']==1)&(df_fairness['B_Asian']==1)], \\\n",
    "    agg_func=lambda df: df['correct_predict'].mean(), num_bootstraps=10000, percentiles=[5,50,95]), 3))\n",
    "print(\"A and B Asian - triplet accuracy: \", np.round_(bootstrap_by_pairs(df_fairness[(df_fairness['A_Asian']==1)&(df_fairness['B_Asian']==1)], \\\n",
    "    agg_func=lambda df: triplet_acc_fairness(df), num_bootstraps=100, percentiles=[5,50,95]), 3))\n",
    "print(\"A and B Asian - FPR: \", np.round_(bootstrap(df_fairness[(df_fairness['A_Asian']==1)&(df_fairness['B_Asian']==1)], \\\n",
    "    agg_func=lambda df: df[(df['y_pred']==1)&(df['y_true']==0)]['id_A'].count()/df[df['y_pred']==1]['id_A'].count(), \\\n",
    "    num_bootstraps=10000, percentiles=[5,50,95]),3))\n",
    "print(\"A and B Asian - FNR: \", np.round_(bootstrap(df_fairness[(df_fairness['A_Asian']==1)&(df_fairness['B_Asian']==1)], \\\n",
    "    agg_func=lambda df: df[(df['y_pred']==0)&(df['y_true']==1)]['id_A'].count()/df[df['y_pred']==0]['id_A'].count(), \\\n",
    "    num_bootstraps=10000, percentiles=[5,50,95]),3))\n",
    "print(\"\\n\")\n",
    "print(\"A and B Indian - mean accuracy: \", np.round_(bootstrap(df_fairness[(df_fairness['A_Indian']==1)&(df_fairness['B_Indian']==1)], \\\n",
    "    agg_func=lambda df: df['correct_predict'].mean(), num_bootstraps=10000, percentiles=[5,50,95]),3))\n",
    "print(\"A and B Indian - triplet accuracy: \", np.round_(bootstrap_by_pairs(df_fairness[(df_fairness['A_Indian']==1)&(df_fairness['B_Indian']==1)], \\\n",
    "    agg_func=lambda df: triplet_acc_fairness(df), num_bootstraps=100, percentiles=[5,50,95]), 3))\n",
    "print(\"A and B Indian - FPR: \", np.round_(bootstrap(df_fairness[(df_fairness['A_Indian']==1)&(df_fairness['B_Indian']==1)], \\\n",
    "    agg_func=lambda df: df[(df['y_pred']==1)&(df['y_true']==0)]['id_A'].count()/df[df['y_pred']==1]['id_A'].count(), \\\n",
    "    num_bootstraps=10000, percentiles=[5,50,95]),3))\n",
    "print(\"A and B Indian - FNR: \", np.round_(bootstrap(df_fairness[(df_fairness['A_Indian']==1)&(df_fairness['B_Indian']==1)], \\\n",
    "    agg_func=lambda df: df[(df['y_pred']==0)&(df['y_true']==1)]['id_A'].count()/df[df['y_pred']==0]['id_A'].count(), \\\n",
    "    num_bootstraps=10000, percentiles=[5,50,95]),3))"
   ]
  },
  {
   "cell_type": "code",
   "execution_count": 59,
   "metadata": {
    "tags": []
   },
   "outputs": [
    {
     "name": "stdout",
     "output_type": "stream",
     "text": [
      "A and B Youth - mean accuracy:  [0.856 0.871 0.886]\n",
      "A and B Youth - triplet accuracy:  [0.608 0.682 0.766]\n",
      "A and B Youth - FPR:  [0.055 0.067 0.081]\n",
      "A and B Youth - FNR:  [0.285 0.327 0.372]\n",
      "\n",
      "\n",
      "A and B Senior - mean accuracy:  [0.907 0.917 0.928]\n",
      "A and B Senior - triplet accuracy:  [0.645 0.716 0.795]\n",
      "A and B Senior - FPR:  [0.067 0.078 0.09 ]\n",
      "A and B Senior - FNR:  [0.074 0.097 0.123]\n"
     ]
    }
   ],
   "source": [
    "print(\"A and B Youth - mean accuracy: \", np.round_(bootstrap(df_fairness[(df_fairness['A_Youth']==1)&(df_fairness['B_Youth']==1)], \\\n",
    "    agg_func=lambda df: df['correct_predict'].mean(), num_bootstraps=10000, percentiles=[5,50,95]), 3))\n",
    "print(\"A and B Youth - triplet accuracy: \", np.round_(bootstrap_by_pairs(df_fairness[(df_fairness['A_Youth']==1)&(df_fairness['B_Youth']==1)], \\\n",
    "    agg_func=lambda df: triplet_acc_fairness(df), num_bootstraps=100, percentiles=[5,50,95]), 3))\n",
    "print(\"A and B Youth - FPR: \", np.round_(bootstrap(df_fairness[(df_fairness['A_Youth']==1)&(df_fairness['B_Youth']==1)], \\\n",
    "    agg_func=lambda df: df[(df['y_pred']==1)&(df['y_true']==0)]['id_A'].count()/df[df['y_pred']==1]['id_A'].count(), \\\n",
    "    num_bootstraps=10000, percentiles=[5,50,95]),3))\n",
    "print(\"A and B Youth - FNR: \", np.round_(bootstrap(df_fairness[(df_fairness['A_Youth']==1)&(df_fairness['B_Youth']==1)], \\\n",
    "    agg_func=lambda df: df[(df['y_pred']==0)&(df['y_true']==1)]['id_A'].count()/df[df['y_pred']==0]['id_A'].count(), \\\n",
    "    num_bootstraps=10000, percentiles=[5,50,95]),3))\n",
    "print(\"\\n\")\n",
    "print(\"A and B Senior - mean accuracy: \", np.round_(bootstrap(df_fairness[(df_fairness['A_Senior']==1)&(df_fairness['B_Senior']==1)], \\\n",
    "    agg_func=lambda df: df['correct_predict'].mean(), num_bootstraps=10000, percentiles=[5,50,95]),3))\n",
    "print(\"A and B Senior - triplet accuracy: \", np.round_(bootstrap_by_pairs(df_fairness[(df_fairness['A_Senior']==1)&(df_fairness['B_Senior']==1)], \\\n",
    "    agg_func=lambda df: triplet_acc_fairness(df), num_bootstraps=100, percentiles=[5,50,95]), 3))\n",
    "print(\"A and B Senior - FPR: \", np.round_(bootstrap(df_fairness[(df_fairness['A_Senior']==1)&(df_fairness['B_Senior']==1)], \\\n",
    "    agg_func=lambda df: df[(df['y_pred']==1)&(df['y_true']==0)]['id_A'].count()/df[df['y_pred']==1]['id_A'].count(), \\\n",
    "    num_bootstraps=10000, percentiles=[5,50,95]),3))\n",
    "print(\"A and B Senior - FNR: \", np.round_(bootstrap(df_fairness[(df_fairness['A_Senior']==1)&(df_fairness['B_Senior']==1)], \\\n",
    "    agg_func=lambda df: df[(df['y_pred']==0)&(df['y_true']==1)]['id_A'].count()/df[df['y_pred']==0]['id_A'].count(), \\\n",
    "    num_bootstraps=10000, percentiles=[5,50,95]),3))"
   ]
  },
  {
   "cell_type": "code",
   "execution_count": 64,
   "metadata": {
    "tags": []
   },
   "outputs": [
    {
     "name": "stdout",
     "output_type": "stream",
     "text": [
      "A and B Sunglasses - mean accuracy:  [0.465 0.581 0.698]\n",
      "A and B Sunglasses - triplet accuracy:  [0. 0. 0.]\n",
      "A and B Sunglasses - FPR:  [0. 0. 0.]\n",
      "A and B Sunglasses - FNR:  [0.722 0.864 0.96 ]\n",
      "\n",
      "\n",
      "A and B Non Sunglasses - mean accuracy:  [0.854 0.858 0.861]\n",
      "A and B Non Sunglasses - triplet accuracy:  [0.926 0.929 0.932]\n",
      "A and B Non Sunglasses - FPR:  [0.169 0.175 0.18 ]\n",
      "A and B Non Sunglasses - FNR:  [0.098 0.103 0.107]\n"
     ]
    }
   ],
   "source": [
    "print(\"A and B Sunglasses - mean accuracy: \", np.round_(bootstrap(df_fairness[(df_fairness['A_Sunglasses']==1)&(df_fairness['B_Sunglasses']==1)], \\\n",
    "    agg_func=lambda df: df['correct_predict'].mean(), num_bootstraps=10000, percentiles=[5,50,95]), 3))\n",
    "print(\"A and B Sunglasses - triplet accuracy: \", np.round_(bootstrap_by_pairs(df_fairness[(df_fairness['A_Sunglasses']==1)&(df_fairness['B_Sunglasses']==1)], \\\n",
    "    agg_func=lambda df: triplet_acc_fairness(df), num_bootstraps=100, percentiles=[5,50,95]), 3))\n",
    "print(\"A and B Sunglasses - FPR: \", np.round_(bootstrap(df_fairness[(df_fairness['A_Sunglasses']==1)&(df_fairness['B_Sunglasses']==1)], \\\n",
    "    agg_func=lambda df: df[(df['y_pred']==1)&(df['y_true']==0)]['id_A'].count()/df[df['y_pred']==1]['id_A'].count(), \\\n",
    "    num_bootstraps=10000, percentiles=[5,50,95]),3))\n",
    "print(\"A and B Sunglasses - FNR: \", np.round_(bootstrap(df_fairness[(df_fairness['A_Sunglasses']==1)&(df_fairness['B_Sunglasses']==1)], \\\n",
    "    agg_func=lambda df: df[(df['y_pred']==0)&(df['y_true']==1)]['id_A'].count()/df[df['y_pred']==0]['id_A'].count(), \\\n",
    "    num_bootstraps=10000, percentiles=[5,50,95]),3))\n",
    "print(\"\\n\")\n",
    "print(\"A and B Non Sunglasses - mean accuracy: \", np.round_(bootstrap(df_fairness[(df_fairness['A_Sunglasses']==0)&(df_fairness['B_Sunglasses']==0)], \\\n",
    "    agg_func=lambda df: df['correct_predict'].mean(), num_bootstraps=10000, percentiles=[5,50,95]),3))\n",
    "print(\"A and B Non Sunglasses - triplet accuracy: \", np.round_(bootstrap_by_pairs(df_fairness[(df_fairness['A_Sunglasses']==0)&(df_fairness['B_Sunglasses']==0)], \\\n",
    "    agg_func=lambda df: triplet_acc_fairness(df), num_bootstraps=100, percentiles=[5,50,95]), 3))\n",
    "print(\"A and B Non Sunglasses - FPR: \", np.round_(bootstrap(df_fairness[(df_fairness['A_Sunglasses']==0)&(df_fairness['B_Sunglasses']==0)], \\\n",
    "    agg_func=lambda df: df[(df['y_pred']==1)&(df['y_true']==0)]['id_A'].count()/df[df['y_pred']==1]['id_A'].count(), \\\n",
    "    num_bootstraps=10000, percentiles=[5,50,95]),3))\n",
    "print(\"A and B Non Sunglasses - FNR: \", np.round_(bootstrap(df_fairness[(df_fairness['A_Sunglasses']==0)&(df_fairness['B_Sunglasses']==0)], \\\n",
    "    agg_func=lambda df: df[(df['y_pred']==0)&(df['y_true']==1)]['id_A'].count()/df[df['y_pred']==0]['id_A'].count(), \\\n",
    "    num_bootstraps=10000, percentiles=[5,50,95]),3))"
   ]
  },
  {
   "cell_type": "code",
   "execution_count": null,
   "metadata": {},
   "outputs": [],
   "source": []
  }
 ],
 "metadata": {
  "kernelspec": {
   "display_name": "Python 3 (ipykernel)",
   "language": "python",
   "name": "python3"
  },
  "language_info": {
   "codemirror_mode": {
    "name": "ipython",
    "version": 3
   },
   "file_extension": ".py",
   "mimetype": "text/x-python",
   "name": "python",
   "nbconvert_exporter": "python",
   "pygments_lexer": "ipython3",
   "version": "3.9.12"
  }
 },
 "nbformat": 4,
 "nbformat_minor": 4
}

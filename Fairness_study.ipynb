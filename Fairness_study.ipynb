{
 "cells": [
  {
   "cell_type": "markdown",
   "metadata": {
    "id": "cq6PdPGN4DJu"
   },
   "source": [
    "# Triplet Loss with Faces -- Fairness Study"
   ]
  },
  {
   "cell_type": "markdown",
   "metadata": {},
   "source": [
    "## Initialization"
   ]
  },
  {
   "cell_type": "code",
   "execution_count": null,
   "metadata": {
    "execution": {
     "iopub.execute_input": "2021-09-28T19:58:52.921408Z",
     "iopub.status.busy": "2021-09-28T19:58:52.920944Z",
     "iopub.status.idle": "2021-09-28T19:59:00.7166Z",
     "shell.execute_reply": "2021-09-28T19:59:00.715326Z",
     "shell.execute_reply.started": "2021-09-28T19:58:52.92131Z"
    },
    "id": "2r4GrySt26Q-",
    "outputId": "4890c780-31f1-4532-d4a7-64f7412ea780"
   },
   "outputs": [],
   "source": [
    "# !pip install torch"
   ]
  },
  {
   "cell_type": "code",
   "execution_count": null,
   "metadata": {
    "execution": {
     "iopub.execute_input": "2021-09-28T19:59:00.719107Z",
     "iopub.status.busy": "2021-09-28T19:59:00.718653Z",
     "iopub.status.idle": "2021-09-28T19:59:07.21773Z",
     "shell.execute_reply": "2021-09-28T19:59:07.216792Z",
     "shell.execute_reply.started": "2021-09-28T19:59:00.719057Z"
    },
    "id": "elsPIhAzrPL-",
    "outputId": "486d7b03-5889-4c28-c71e-b1e169f7e026"
   },
   "outputs": [],
   "source": [
    "# !pip install mat73"
   ]
  },
  {
   "cell_type": "code",
   "execution_count": null,
   "metadata": {
    "execution": {
     "iopub.execute_input": "2021-09-28T19:59:07.219911Z",
     "iopub.status.busy": "2021-09-28T19:59:07.21959Z",
     "iopub.status.idle": "2021-09-28T19:59:14.229796Z",
     "shell.execute_reply": "2021-09-28T19:59:14.228826Z",
     "shell.execute_reply.started": "2021-09-28T19:59:07.219877Z"
    },
    "id": "FyTWhJXMpRex",
    "outputId": "dcfa38a7-4bd7-4b6b-e6b4-d96298974042"
   },
   "outputs": [],
   "source": [
    "# !pip install wandb -qqq\n",
    "# import wandb"
   ]
  },
  {
   "cell_type": "code",
   "execution_count": null,
   "metadata": {
    "execution": {
     "iopub.execute_input": "2021-09-28T19:59:14.232401Z",
     "iopub.status.busy": "2021-09-28T19:59:14.231771Z",
     "iopub.status.idle": "2021-09-28T19:59:57.448886Z",
     "shell.execute_reply": "2021-09-28T19:59:57.447723Z",
     "shell.execute_reply.started": "2021-09-28T19:59:14.232352Z"
    },
    "id": "N2ZqMDMrKeFi",
    "outputId": "6ddb3d01-83e5-4bb2-a378-54748c3c742c"
   },
   "outputs": [],
   "source": [
    "# !git clone https://github.com/mgornet/CNPEN"
   ]
  },
  {
   "cell_type": "markdown",
   "metadata": {
    "id": "MW_MVwhYwRiH"
   },
   "source": [
    "### Check device"
   ]
  },
  {
   "cell_type": "code",
   "execution_count": 1,
   "metadata": {
    "id": "zruTnsd7wTz6",
    "outputId": "66c9d4a5-2768-45b6-d901-16ab0b7d9081",
    "tags": []
   },
   "outputs": [
    {
     "name": "stdout",
     "output_type": "stream",
     "text": [
      "Tue Jun 21 10:00:23 2022       \n",
      "+-----------------------------------------------------------------------------+\n",
      "| NVIDIA-SMI 510.47.03    Driver Version: 510.47.03    CUDA Version: 11.6     |\n",
      "|-------------------------------+----------------------+----------------------+\n",
      "| GPU  Name        Persistence-M| Bus-Id        Disp.A | Volatile Uncorr. ECC |\n",
      "| Fan  Temp  Perf  Pwr:Usage/Cap|         Memory-Usage | GPU-Util  Compute M. |\n",
      "|                               |                      |               MIG M. |\n",
      "|===============================+======================+======================|\n",
      "|   0  NVIDIA RTX A400...  On   | 00000000:01:00.0 Off |                  N/A |\n",
      "| N/A   57C    P8    13W /  N/A |   3184MiB /  8192MiB |      0%      Default |\n",
      "|                               |                      |                  N/A |\n",
      "+-------------------------------+----------------------+----------------------+\n",
      "                                                                               \n",
      "+-----------------------------------------------------------------------------+\n",
      "| Processes:                                                                  |\n",
      "|  GPU   GI   CI        PID   Type   Process name                  GPU Memory |\n",
      "|        ID   ID                                                   Usage      |\n",
      "|=============================================================================|\n",
      "|    0   N/A  N/A      1749      G   /usr/lib/xorg/Xorg                  4MiB |\n",
      "|    0   N/A  N/A      2532      G   /usr/lib/xorg/Xorg                  4MiB |\n",
      "|    0   N/A  N/A      5245      C   ...envs/face_reco/bin/python     3171MiB |\n",
      "+-----------------------------------------------------------------------------+\n"
     ]
    }
   ],
   "source": [
    "!nvidia-smi"
   ]
  },
  {
   "cell_type": "markdown",
   "metadata": {
    "id": "IJK8gGmS4dsb"
   },
   "source": [
    "### Import Librairies"
   ]
  },
  {
   "cell_type": "code",
   "execution_count": 2,
   "metadata": {
    "id": "JyM1GtzC2_zh",
    "tags": []
   },
   "outputs": [],
   "source": [
    "import numpy as np\n",
    "import random\n",
    "import matplotlib.pyplot as plt\n",
    "from tqdm.notebook import tqdm\n",
    "from time import perf_counter\n",
    "from typing import Callable\n",
    "import itertools\n",
    "import mat73\n",
    "import pandas as pd\n",
    "import re\n",
    "\n",
    "import sys\n",
    "import os\n",
    "import tarfile\n",
    "\n",
    "from sklearn.datasets import load_digits\n",
    "from sklearn.model_selection import train_test_split\n",
    "\n",
    "import torch\n",
    "from torch import nn, optim\n",
    "import torch.nn.functional as F\n",
    "\n",
    "from torch.utils.data import DataLoader, Dataset\n",
    "from torchvision import datasets, transforms\n",
    "\n",
    "import os.path as op\n",
    "try:\n",
    "    from urllib.request import urlretrieve\n",
    "except ImportError:  # Python 2 compat\n",
    "    from urllib import urlretrieve\n",
    "    \n",
    "from sklearn.metrics import confusion_matrix, auc, roc_curve, \\\n",
    "precision_recall_curve, accuracy_score, f1_score\n",
    "from sklearn.linear_model import LogisticRegression\n",
    "from scipy import optimize\n",
    "\n",
    "import wandb"
   ]
  },
  {
   "cell_type": "code",
   "execution_count": 3,
   "metadata": {
    "id": "ix4Yn3BoLNfx",
    "outputId": "7947880c-ab47-4393-c5d6-be37199febe6",
    "tags": []
   },
   "outputs": [
    {
     "name": "stdout",
     "output_type": "stream",
     "text": [
      "/home/mgornet/Bureau/Code/CNPEN/files\n"
     ]
    }
   ],
   "source": [
    "%cd ./files/\n",
    "\n",
    "from triplet import TripletGenerator, TripletLearner, TripletLoss, TripletLossRaw, \\\n",
    "distance, distance_vectors\n",
    "from builder import create_dataframe, from_tensor_to_numpy, from_numpy_to_tensor, extend_dataframe\n",
    "from prints import print_img, print_img_from_path, print_img_from_id, \\\n",
    "print_img_from_classid, print_from_gen, print_from_gen2, print_pair, print_hist_loss, \\\n",
    "print_hist_dist, print_hist_dist_zoom, print_img_category, \\\n",
    "print_roc, print_logistic_regression, print_prec_recall\n",
    "from test_train_loops import training, testing, adaptative_train, compute_distances\n",
    "from classification import authentification_img, predict, triplet_acc,\\\n",
    "build_df_fairness, triplet_acc_fairness, bootstrap, bootstrap_by_pairs #triplet_acc_for_bootstrap"
   ]
  },
  {
   "cell_type": "code",
   "execution_count": 4,
   "metadata": {
    "id": "dNWBFp1aLev5",
    "outputId": "780215a4-2505-447d-86e6-385dd44f016e",
    "tags": []
   },
   "outputs": [
    {
     "name": "stdout",
     "output_type": "stream",
     "text": [
      "/home/mgornet/Bureau/Code/CNPEN/files\n"
     ]
    }
   ],
   "source": [
    "!pwd"
   ]
  },
  {
   "cell_type": "markdown",
   "metadata": {
    "id": "Hp8S6_Nu4muA"
   },
   "source": [
    "## Generate Data"
   ]
  },
  {
   "cell_type": "markdown",
   "metadata": {},
   "source": [
    "### Create dataframe"
   ]
  },
  {
   "cell_type": "code",
   "execution_count": 5,
   "metadata": {
    "id": "0HQV0dwQiLvS",
    "outputId": "343cfafa-cadf-4554-f5a1-90e52f96afca",
    "tags": []
   },
   "outputs": [],
   "source": [
    "URL = \"http://vis-www.cs.umass.edu/lfw/lfw-deepfunneled.tgz\"\n",
    "FILENAME = \"lfw-deepfunneled.tgz\"\n",
    "\n",
    "if not op.exists(FILENAME):\n",
    "    print('Downloading %s to %s...' % (URL, FILENAME))\n",
    "    urlretrieve(URL, FILENAME)\n",
    "\n",
    "if not op.exists(\"lfw\"):\n",
    "    print('Extracting image files...')\n",
    "    tar = tarfile.open(\"lfw-deepfunneled.tgz\")\n",
    "    tar.extractall(\"lfw\")\n",
    "    tar.close()"
   ]
  },
  {
   "cell_type": "code",
   "execution_count": 6,
   "metadata": {
    "id": "jtFwuCt4iSgy",
    "tags": []
   },
   "outputs": [],
   "source": [
    "PATH = \"lfw/lfw-deepfunneled/\""
   ]
  },
  {
   "cell_type": "code",
   "execution_count": 7,
   "metadata": {
    "id": "pW3OOgQXOLa-",
    "outputId": "8cb4ccff-40ca-44aa-b9f0-3e7244731cfe",
    "tags": []
   },
   "outputs": [
    {
     "name": "stdout",
     "output_type": "stream",
     "text": [
      "Number of individuals:  5749\n",
      "Number of total images:  13233\n",
      "images weigh  0.57 GB\n",
      "DataFrame creation: 0.7 min\n"
     ]
    }
   ],
   "source": [
    "tic = perf_counter()\n",
    "df_init, all_imgs = create_dataframe()\n",
    "toc = perf_counter()\n",
    "print(f\"DataFrame creation: {((toc - tic)/60):.1f} min\")"
   ]
  },
  {
   "cell_type": "code",
   "execution_count": 8,
   "metadata": {
    "tags": []
   },
   "outputs": [
    {
     "name": "stdout",
     "output_type": "stream",
     "text": [
      "DataFrame extention: 0.1 min\n"
     ]
    }
   ],
   "source": [
    "tic = perf_counter()\n",
    "df = extend_dataframe(df_init)\n",
    "toc = perf_counter()\n",
    "print(f\"DataFrame extention: {((toc - tic)/60):.1f} min\")"
   ]
  },
  {
   "cell_type": "markdown",
   "metadata": {
    "id": "gjPcX2sdTQz4"
   },
   "source": [
    "### Build sets, generators and network"
   ]
  },
  {
   "cell_type": "code",
   "execution_count": 9,
   "metadata": {
    "id": "9YhsU5iYDx0c",
    "outputId": "fe319f34-b66f-4601-d05c-25dabcaa1656",
    "tags": []
   },
   "outputs": [
    {
     "name": "stdout",
     "output_type": "stream",
     "text": [
      "Number of individuals:  5749\n"
     ]
    }
   ],
   "source": [
    "num_classes = len(df.Classid.unique())\n",
    "print(\"Number of individuals: \", num_classes)"
   ]
  },
  {
   "cell_type": "code",
   "execution_count": 10,
   "metadata": {
    "id": "SX80fCGkn702",
    "tags": []
   },
   "outputs": [],
   "source": [
    "indiv_min = df.Classid.min()\n",
    "split_train_valid = int(num_classes * 0.75)\n",
    "split_train_test = int(num_classes * 0.8)\n",
    "indiv_max = df.Classid.max()"
   ]
  },
  {
   "cell_type": "code",
   "execution_count": 11,
   "metadata": {
    "id": "1rHLE3kHcCyp",
    "outputId": "5291153a-b4d0-4bf5-d690-25979aafaeee",
    "tags": []
   },
   "outputs": [
    {
     "name": "stdout",
     "output_type": "stream",
     "text": [
      "Train set from indiv 0 to 4310\n",
      "Valid set from indiv 4311 to 4598\n",
      "Test set from indiv 4599 to 5748\n"
     ]
    }
   ],
   "source": [
    "print(f\"Train set from indiv {indiv_min} to {split_train_valid-1}\")\n",
    "print(f\"Valid set from indiv {split_train_valid} to {split_train_test-1}\")\n",
    "print(f\"Test set from indiv {split_train_test} to {indiv_max}\")"
   ]
  },
  {
   "cell_type": "code",
   "execution_count": 12,
   "metadata": {
    "id": "P0vpXVlscwOA",
    "tags": []
   },
   "outputs": [],
   "source": [
    "df_train = df[df.Classid<split_train_valid]\n",
    "df_valid = df[(df.Classid>=split_train_valid)&(df.Classid<split_train_test)]\n",
    "df_test = df[df.Classid>=split_train_test]"
   ]
  },
  {
   "cell_type": "code",
   "execution_count": 13,
   "metadata": {
    "id": "6y6Lmu7UTQz6",
    "outputId": "28af2b3b-e25e-4e31-d548-10f4f98de50e",
    "tags": []
   },
   "outputs": [
    {
     "name": "stdout",
     "output_type": "stream",
     "text": [
      "Number of training images:  10060\n",
      "Number of validation images:  586\n",
      "Number of testing images:  2587\n",
      "Number of total images:  13233\n",
      "len original:  13233\n"
     ]
    }
   ],
   "source": [
    "print(\"Number of training images: \", len(df_train))\n",
    "print(\"Number of validation images: \", len(df_valid))\n",
    "print(\"Number of testing images: \", len(df_test))\n",
    "print(\"Number of total images: \", len(df_train)+len(df_valid)+len(df_test))\n",
    "print(\"len original: \", len(df))"
   ]
  },
  {
   "cell_type": "code",
   "execution_count": 14,
   "metadata": {
    "id": "LeMZhCJtTQz6",
    "outputId": "a253f6dc-6c2e-4ae6-d2f3-5be83a67603d",
    "tags": []
   },
   "outputs": [
    {
     "name": "stdout",
     "output_type": "stream",
     "text": [
      "Number of individuals in the training set:  4311\n",
      "Number of individuals in the validation set:  288\n",
      "Number of individuals in the testing set:  1150\n"
     ]
    }
   ],
   "source": [
    "print(\"Number of individuals in the training set: \", len(df_train.Classid.unique()))\n",
    "print(\"Number of individuals in the validation set: \", len(df_valid.Classid.unique()))\n",
    "print(\"Number of individuals in the testing set: \", len(df_test.Classid.unique()))"
   ]
  },
  {
   "cell_type": "code",
   "execution_count": 15,
   "metadata": {
    "id": "44sct3lGTQz7",
    "outputId": "f430af11-01cd-4696-eedf-f9e66aca0a4e",
    "tags": []
   },
   "outputs": [
    {
     "name": "stdout",
     "output_type": "stream",
     "text": [
      "Number of individuals with more than one image in the training set:  1267\n",
      "Number of individuals with more than one image in the validation set:  79\n",
      "Number of individuals with more than one image in the testing set:  334\n"
     ]
    }
   ],
   "source": [
    "value_count = df_train.Classid.value_counts()\n",
    "print(\"Number of individuals with more than one image in the training set: \", len(value_count[value_count.values>1]))\n",
    "value_count = df_valid.Classid.value_counts()\n",
    "print(\"Number of individuals with more than one image in the validation set: \", len(value_count[value_count.values>1]))\n",
    "value_count = df_test.Classid.value_counts()\n",
    "print(\"Number of individuals with more than one image in the testing set: \", len(value_count[value_count.values>1]))"
   ]
  },
  {
   "cell_type": "code",
   "execution_count": 16,
   "metadata": {
    "id": "nkVW9HZq9K9e",
    "outputId": "cd5adc42-7ad9-468a-8aee-9039c7cc30d9",
    "tags": []
   },
   "outputs": [
    {
     "data": {
      "text/html": [
       "<div>\n",
       "<style scoped>\n",
       "    .dataframe tbody tr th:only-of-type {\n",
       "        vertical-align: middle;\n",
       "    }\n",
       "\n",
       "    .dataframe tbody tr th {\n",
       "        vertical-align: top;\n",
       "    }\n",
       "\n",
       "    .dataframe thead th {\n",
       "        text-align: right;\n",
       "    }\n",
       "</style>\n",
       "<table border=\"1\" class=\"dataframe\">\n",
       "  <thead>\n",
       "    <tr style=\"text-align: right;\">\n",
       "      <th></th>\n",
       "      <th>Classid</th>\n",
       "      <th>Name</th>\n",
       "      <th>Path</th>\n",
       "      <th>Male</th>\n",
       "      <th>Asian</th>\n",
       "      <th>White</th>\n",
       "      <th>Black</th>\n",
       "      <th>Baby</th>\n",
       "      <th>Child</th>\n",
       "      <th>Youth</th>\n",
       "      <th>...</th>\n",
       "      <th>Pale Skin</th>\n",
       "      <th>5 o Clock Shadow</th>\n",
       "      <th>Strong Nose-Mouth Lines</th>\n",
       "      <th>Wearing Lipstick</th>\n",
       "      <th>Flushed Face</th>\n",
       "      <th>High Cheekbones</th>\n",
       "      <th>Brown Eyes</th>\n",
       "      <th>Wearing Earrings</th>\n",
       "      <th>Wearing Necktie</th>\n",
       "      <th>Wearing Necklace</th>\n",
       "    </tr>\n",
       "  </thead>\n",
       "  <tbody>\n",
       "    <tr>\n",
       "      <th>10060</th>\n",
       "      <td>4311</td>\n",
       "      <td>Pedro_Solbes</td>\n",
       "      <td>Pedro_Solbes/Pedro_Solbes_0001.jpg</td>\n",
       "      <td>1.0</td>\n",
       "      <td>0.0</td>\n",
       "      <td>1.0</td>\n",
       "      <td>0.0</td>\n",
       "      <td>0.0</td>\n",
       "      <td>0.0</td>\n",
       "      <td>0.0</td>\n",
       "      <td>...</td>\n",
       "      <td>0.0</td>\n",
       "      <td>1.0</td>\n",
       "      <td>1.0</td>\n",
       "      <td>0.0</td>\n",
       "      <td>0.0</td>\n",
       "      <td>1.0</td>\n",
       "      <td>1.0</td>\n",
       "      <td>0.0</td>\n",
       "      <td>1.0</td>\n",
       "      <td>0.0</td>\n",
       "    </tr>\n",
       "    <tr>\n",
       "      <th>10061</th>\n",
       "      <td>4311</td>\n",
       "      <td>Pedro_Solbes</td>\n",
       "      <td>Pedro_Solbes/Pedro_Solbes_0002.jpg</td>\n",
       "      <td>1.0</td>\n",
       "      <td>0.0</td>\n",
       "      <td>1.0</td>\n",
       "      <td>0.0</td>\n",
       "      <td>0.0</td>\n",
       "      <td>0.0</td>\n",
       "      <td>0.0</td>\n",
       "      <td>...</td>\n",
       "      <td>0.0</td>\n",
       "      <td>1.0</td>\n",
       "      <td>1.0</td>\n",
       "      <td>0.0</td>\n",
       "      <td>0.0</td>\n",
       "      <td>0.0</td>\n",
       "      <td>1.0</td>\n",
       "      <td>0.0</td>\n",
       "      <td>1.0</td>\n",
       "      <td>0.0</td>\n",
       "    </tr>\n",
       "    <tr>\n",
       "      <th>10062</th>\n",
       "      <td>4311</td>\n",
       "      <td>Pedro_Solbes</td>\n",
       "      <td>Pedro_Solbes/Pedro_Solbes_0003.jpg</td>\n",
       "      <td>1.0</td>\n",
       "      <td>0.0</td>\n",
       "      <td>1.0</td>\n",
       "      <td>0.0</td>\n",
       "      <td>0.0</td>\n",
       "      <td>0.0</td>\n",
       "      <td>0.0</td>\n",
       "      <td>...</td>\n",
       "      <td>0.0</td>\n",
       "      <td>1.0</td>\n",
       "      <td>0.0</td>\n",
       "      <td>0.0</td>\n",
       "      <td>0.0</td>\n",
       "      <td>0.0</td>\n",
       "      <td>1.0</td>\n",
       "      <td>0.0</td>\n",
       "      <td>1.0</td>\n",
       "      <td>0.0</td>\n",
       "    </tr>\n",
       "    <tr>\n",
       "      <th>10063</th>\n",
       "      <td>4311</td>\n",
       "      <td>Pedro_Solbes</td>\n",
       "      <td>Pedro_Solbes/Pedro_Solbes_0004.jpg</td>\n",
       "      <td>1.0</td>\n",
       "      <td>0.0</td>\n",
       "      <td>1.0</td>\n",
       "      <td>0.0</td>\n",
       "      <td>0.0</td>\n",
       "      <td>0.0</td>\n",
       "      <td>0.0</td>\n",
       "      <td>...</td>\n",
       "      <td>1.0</td>\n",
       "      <td>1.0</td>\n",
       "      <td>1.0</td>\n",
       "      <td>0.0</td>\n",
       "      <td>0.0</td>\n",
       "      <td>0.0</td>\n",
       "      <td>1.0</td>\n",
       "      <td>0.0</td>\n",
       "      <td>0.0</td>\n",
       "      <td>0.0</td>\n",
       "    </tr>\n",
       "    <tr>\n",
       "      <th>10064</th>\n",
       "      <td>4312</td>\n",
       "      <td>Pedro_Velasquez</td>\n",
       "      <td>Pedro_Velasquez/Pedro_Velasquez_0001.jpg</td>\n",
       "      <td>1.0</td>\n",
       "      <td>0.0</td>\n",
       "      <td>1.0</td>\n",
       "      <td>0.0</td>\n",
       "      <td>0.0</td>\n",
       "      <td>0.0</td>\n",
       "      <td>0.0</td>\n",
       "      <td>...</td>\n",
       "      <td>1.0</td>\n",
       "      <td>1.0</td>\n",
       "      <td>1.0</td>\n",
       "      <td>0.0</td>\n",
       "      <td>0.0</td>\n",
       "      <td>0.0</td>\n",
       "      <td>0.0</td>\n",
       "      <td>0.0</td>\n",
       "      <td>1.0</td>\n",
       "      <td>0.0</td>\n",
       "    </tr>\n",
       "  </tbody>\n",
       "</table>\n",
       "<p>5 rows × 76 columns</p>\n",
       "</div>"
      ],
      "text/plain": [
       "       Classid             Name                                      Path  \\\n",
       "10060     4311     Pedro_Solbes        Pedro_Solbes/Pedro_Solbes_0001.jpg   \n",
       "10061     4311     Pedro_Solbes        Pedro_Solbes/Pedro_Solbes_0002.jpg   \n",
       "10062     4311     Pedro_Solbes        Pedro_Solbes/Pedro_Solbes_0003.jpg   \n",
       "10063     4311     Pedro_Solbes        Pedro_Solbes/Pedro_Solbes_0004.jpg   \n",
       "10064     4312  Pedro_Velasquez  Pedro_Velasquez/Pedro_Velasquez_0001.jpg   \n",
       "\n",
       "       Male  Asian  White  Black  Baby  Child  Youth  ...  Pale Skin  \\\n",
       "10060   1.0    0.0    1.0    0.0   0.0    0.0    0.0  ...        0.0   \n",
       "10061   1.0    0.0    1.0    0.0   0.0    0.0    0.0  ...        0.0   \n",
       "10062   1.0    0.0    1.0    0.0   0.0    0.0    0.0  ...        0.0   \n",
       "10063   1.0    0.0    1.0    0.0   0.0    0.0    0.0  ...        1.0   \n",
       "10064   1.0    0.0    1.0    0.0   0.0    0.0    0.0  ...        1.0   \n",
       "\n",
       "       5 o Clock Shadow  Strong Nose-Mouth Lines  Wearing Lipstick  \\\n",
       "10060               1.0                      1.0               0.0   \n",
       "10061               1.0                      1.0               0.0   \n",
       "10062               1.0                      0.0               0.0   \n",
       "10063               1.0                      1.0               0.0   \n",
       "10064               1.0                      1.0               0.0   \n",
       "\n",
       "       Flushed Face  High Cheekbones  Brown Eyes  Wearing Earrings  \\\n",
       "10060           0.0              1.0         1.0               0.0   \n",
       "10061           0.0              0.0         1.0               0.0   \n",
       "10062           0.0              0.0         1.0               0.0   \n",
       "10063           0.0              0.0         1.0               0.0   \n",
       "10064           0.0              0.0         0.0               0.0   \n",
       "\n",
       "       Wearing Necktie  Wearing Necklace  \n",
       "10060              1.0               0.0  \n",
       "10061              1.0               0.0  \n",
       "10062              1.0               0.0  \n",
       "10063              0.0               0.0  \n",
       "10064              1.0               0.0  \n",
       "\n",
       "[5 rows x 76 columns]"
      ]
     },
     "execution_count": 16,
     "metadata": {},
     "output_type": "execute_result"
    }
   ],
   "source": [
    "df_valid.head()"
   ]
  },
  {
   "cell_type": "code",
   "execution_count": 17,
   "metadata": {
    "id": "otF4YNywkl2O",
    "tags": []
   },
   "outputs": [],
   "source": [
    "BATCH_SIZE = 128 # 128\n",
    "BATCH_VALID_SIZE = 128 #128 #8\n",
    "BATCH_TEST_SIZE = 128 #128 #32"
   ]
  },
  {
   "cell_type": "code",
   "execution_count": 18,
   "metadata": {
    "id": "IhO6Pj2q3tnM",
    "tags": []
   },
   "outputs": [],
   "source": [
    "device = torch.device(\"cuda:0\" if torch.cuda.is_available() else \"cpu\")\n",
    "margin = 0.2\n",
    "criterion = TripletLoss(margin)\n",
    "criterion_test = TripletLossRaw(margin)"
   ]
  },
  {
   "cell_type": "markdown",
   "metadata": {
    "id": "iSBWwAmCx-0b"
   },
   "source": [
    "### Load Model"
   ]
  },
  {
   "cell_type": "code",
   "execution_count": 19,
   "metadata": {
    "id": "vEb1cNtrx9lD",
    "tags": []
   },
   "outputs": [
    {
     "data": {
      "text/plain": [
       "TripletLearner(\n",
       "  (conv): Sequential(\n",
       "    (0): Conv2d(3, 32, kernel_size=(3, 3), stride=(1, 1), padding=(1, 1))\n",
       "    (1): ReLU()\n",
       "    (2): Conv2d(32, 32, kernel_size=(3, 3), stride=(1, 1), padding=(1, 1))\n",
       "    (3): ReLU()\n",
       "    (4): MaxPool2d(kernel_size=2, stride=2, padding=0, dilation=1, ceil_mode=False)\n",
       "    (5): Conv2d(32, 64, kernel_size=(3, 3), stride=(1, 1), padding=(1, 1))\n",
       "    (6): ReLU()\n",
       "    (7): Conv2d(64, 64, kernel_size=(3, 3), stride=(1, 1), padding=(1, 1))\n",
       "    (8): ReLU()\n",
       "    (9): MaxPool2d(kernel_size=2, stride=2, padding=0, dilation=1, ceil_mode=False)\n",
       "    (10): Conv2d(64, 128, kernel_size=(3, 3), stride=(1, 1), padding=(1, 1))\n",
       "    (11): ReLU()\n",
       "    (12): Conv2d(128, 128, kernel_size=(3, 3), stride=(1, 1), padding=(1, 1))\n",
       "    (13): ReLU()\n",
       "    (14): MaxPool2d(kernel_size=2, stride=2, padding=0, dilation=1, ceil_mode=False)\n",
       "    (15): Conv2d(128, 256, kernel_size=(3, 3), stride=(1, 1), padding=(1, 1))\n",
       "    (16): ReLU()\n",
       "    (17): Conv2d(256, 256, kernel_size=(3, 3), stride=(1, 1), padding=(1, 1))\n",
       "    (18): ReLU()\n",
       "    (19): MaxPool2d(kernel_size=2, stride=2, padding=0, dilation=1, ceil_mode=False)\n",
       "    (20): Conv2d(256, 512, kernel_size=(3, 3), stride=(1, 1), padding=(1, 1))\n",
       "    (21): ReLU()\n",
       "    (22): Conv2d(512, 512, kernel_size=(3, 3), stride=(1, 1), padding=(1, 1))\n",
       "    (23): ReLU()\n",
       "  )\n",
       "  (avg): AvgPool2d(kernel_size=3, stride=3, padding=0)\n",
       "  (fc): Sequential(\n",
       "    (0): Dropout(p=0, inplace=False)\n",
       "    (1): Linear(in_features=512, out_features=512, bias=True)\n",
       "  )\n",
       ")"
      ]
     },
     "execution_count": 19,
     "metadata": {},
     "output_type": "execute_result"
    }
   ],
   "source": [
    "# Load pretrained model\n",
    "\n",
    "model = TripletLearner(base_channels=32)\n",
    "model.load_state_dict(torch.load(\"../models/in_article/base_model.pth\",map_location=torch.device('cpu')))\n",
    "model = model.to(device)\n",
    "model.eval()"
   ]
  },
  {
   "cell_type": "markdown",
   "metadata": {},
   "source": [
    "### Determine THRESHOLD"
   ]
  },
  {
   "cell_type": "code",
   "execution_count": 20,
   "metadata": {
    "tags": []
   },
   "outputs": [
    {
     "name": "stderr",
     "output_type": "stream",
     "text": [
      "/home/mgornet/Bureau/Code/CNPEN/files/triplet.py:224: UserWarning: Batch size number was changed from 128 to 79 because there are only 79 individuals with more than 2 pictures.\n",
      "  warnings.warn(\n"
     ]
    },
    {
     "data": {
      "application/vnd.jupyter.widget-view+json": {
       "model_id": "",
       "version_major": 2,
       "version_minor": 0
      },
      "text/plain": [
       "Processing:   0%|          | 0/10 [00:00<?, ?it/s]"
      ]
     },
     "metadata": {},
     "output_type": "display_data"
    },
    {
     "name": "stdout",
     "output_type": "stream",
     "text": [
      "THRESHOLD with logistic regression: 0.7300254046243199\n"
     ]
    }
   ],
   "source": [
    "# Build THRESHOLD (for details, see the notebook \"determine_threshold\")\n",
    "\n",
    "gen = TripletGenerator(df_valid, all_imgs, BATCH_VALID_SIZE, device, model, margin)\n",
    "loader = DataLoader(gen, batch_size=None, shuffle=True)\n",
    "\n",
    "list_loader = []\n",
    "for _ in range(10):\n",
    "    list_loader.extend(list(loader))\n",
    "\n",
    "pos_dist, neg_dist, _ = compute_distances(list_loader, device, model) #loader\n",
    "\n",
    "y_pos = [1 for _ in range(len(pos_dist))]\n",
    "y_neg = [0 for _ in range(len(neg_dist))]\n",
    "\n",
    "y = y_pos + y_neg\n",
    "X = pos_dist + neg_dist\n",
    "Xmoins = np.array(X)*(-1)\n",
    "Xlogistic = np.array(Xmoins).reshape(-1,1)\n",
    "\n",
    "clf = LogisticRegression(random_state=0).fit(Xlogistic, y)\n",
    "\n",
    "THRESHOLD = (clf.intercept_/clf.coef_)[0,0]\n",
    "print(\"THRESHOLD with logistic regression:\", THRESHOLD)"
   ]
  },
  {
   "cell_type": "markdown",
   "metadata": {},
   "source": [
    "## Fairness study"
   ]
  },
  {
   "cell_type": "markdown",
   "metadata": {},
   "source": [
    "### Build data fairness"
   ]
  },
  {
   "cell_type": "code",
   "execution_count": 21,
   "metadata": {
    "tags": []
   },
   "outputs": [
    {
     "name": "stderr",
     "output_type": "stream",
     "text": [
      "/home/mgornet/Bureau/Code/CNPEN/files/triplet.py:234: UserWarning: Number of unique identities with more than 2 pictures (334) is not divisible by batch_size (128). Remainder: 78\n",
      "  warnings.warn(\n"
     ]
    }
   ],
   "source": [
    "gen = TripletGenerator(df_test, all_imgs, BATCH_TEST_SIZE, device, model, margin, return_id=True)"
   ]
  },
  {
   "cell_type": "code",
   "execution_count": null,
   "metadata": {
    "execution": {
     "iopub.execute_input": "2021-09-28T20:02:43.78663Z",
     "iopub.status.busy": "2021-09-28T20:02:43.786222Z",
     "iopub.status.idle": "2021-09-28T20:02:43.795393Z",
     "shell.execute_reply": "2021-09-28T20:02:43.794131Z",
     "shell.execute_reply.started": "2021-09-28T20:02:43.7866Z"
    }
   },
   "outputs": [],
   "source": [
    "# tic = perf_counter()\n",
    "# df_fairness = build_df_fairness(all_imgs, df_test, gen, 20, device, model, THRESHOLD)\n",
    "# toc = perf_counter()\n",
    "# print(f\"DataFrame creation: {((toc - tic)/60):.1f} min\")"
   ]
  },
  {
   "cell_type": "code",
   "execution_count": null,
   "metadata": {
    "execution": {
     "iopub.execute_input": "2021-09-28T20:02:43.797144Z",
     "iopub.status.busy": "2021-09-28T20:02:43.796774Z",
     "iopub.status.idle": "2021-09-28T20:05:51.478726Z",
     "shell.execute_reply": "2021-09-28T20:05:51.47764Z",
     "shell.execute_reply.started": "2021-09-28T20:02:43.797113Z"
    }
   },
   "outputs": [],
   "source": [
    "tic = perf_counter()\n",
    "df_fairness = build_df_fairness(all_imgs, df_test.append(df_valid), gen, 50, device, model, THRESHOLD)\n",
    "toc = perf_counter()\n",
    "print(f\"DataFrame creation: {((toc - tic)/60):.1f} min\")"
   ]
  },
  {
   "cell_type": "code",
   "execution_count": null,
   "metadata": {
    "execution": {
     "iopub.execute_input": "2021-09-28T20:05:51.480404Z",
     "iopub.status.busy": "2021-09-28T20:05:51.480088Z",
     "iopub.status.idle": "2021-09-28T20:05:51.554858Z",
     "shell.execute_reply": "2021-09-28T20:05:51.553881Z",
     "shell.execute_reply.started": "2021-09-28T20:05:51.480369Z"
    }
   },
   "outputs": [],
   "source": [
    "df_fairness"
   ]
  },
  {
   "cell_type": "code",
   "execution_count": null,
   "metadata": {
    "execution": {
     "iopub.execute_input": "2021-09-28T20:05:51.556374Z",
     "iopub.status.busy": "2021-09-28T20:05:51.556081Z",
     "iopub.status.idle": "2021-09-28T20:05:51.660346Z",
     "shell.execute_reply": "2021-09-28T20:05:51.659331Z",
     "shell.execute_reply.started": "2021-09-28T20:05:51.556345Z"
    }
   },
   "outputs": [],
   "source": [
    "df_fairness.describe()"
   ]
  },
  {
   "cell_type": "markdown",
   "metadata": {},
   "source": [
    "### Look at general stats"
   ]
  },
  {
   "cell_type": "code",
   "execution_count": null,
   "metadata": {
    "execution": {
     "iopub.execute_input": "2021-09-28T20:05:51.6618Z",
     "iopub.status.busy": "2021-09-28T20:05:51.661517Z",
     "iopub.status.idle": "2021-09-28T20:05:59.00143Z",
     "shell.execute_reply": "2021-09-28T20:05:59.0004Z",
     "shell.execute_reply.started": "2021-09-28T20:05:51.661771Z"
    }
   },
   "outputs": [],
   "source": [
    "print(\"Same identity - mean distance: \", df_fairness[df_fairness.y_true==1].Distance.mean())\n",
    "print(\"Same identity - std distance: \", df_fairness[df_fairness.y_true==1].Distance.std())\n",
    "print(\"Same identity - percentiles: \", np.percentile(df_fairness[df_fairness.y_true==1]['Distance'], [5,25,50,75,95]))\n",
    "print(\"\\n\")\n",
    "print(\"Different identities - mean distance: \", df_fairness[df_fairness.y_true==0].Distance.mean())\n",
    "print(\"Different identities - std distance: \", df_fairness[df_fairness.y_true==0].Distance.std())\n",
    "print(\"Different identities - percentiles: \", np.percentile(df_fairness[df_fairness.y_true==0]['Distance'], [5,25,50,75,95]))\n",
    "print(\"\\n\")\n",
    "print(\"Mean accuracy: \", df_fairness['correct_predict'].mean())\n",
    "print(\"Bootstrapping mean accuracy: \", bootstrap(df_fairness, agg_func=lambda df: df['correct_predict'].mean()))\n",
    "print(\"\\n\")\n",
    "print(\"Triplet accuracy: \", triplet_acc_fairness(df_fairness))"
   ]
  },
  {
   "cell_type": "code",
   "execution_count": null,
   "metadata": {
    "execution": {
     "iopub.execute_input": "2021-09-28T20:05:59.003139Z",
     "iopub.status.busy": "2021-09-28T20:05:59.00284Z",
     "iopub.status.idle": "2021-09-28T20:05:59.470659Z",
     "shell.execute_reply": "2021-09-28T20:05:59.469481Z",
     "shell.execute_reply.started": "2021-09-28T20:05:59.00311Z"
    }
   },
   "outputs": [],
   "source": [
    "pos_dist = df_fairness[df_fairness.y_true==1]['Distance']\n",
    "neg_dist = df_fairness[df_fairness.y_true==0]['Distance']\n",
    "print_hist_dist_zoom(pos_dist, neg_dist, zoom=5.)"
   ]
  },
  {
   "cell_type": "code",
   "execution_count": null,
   "metadata": {
    "execution": {
     "iopub.execute_input": "2021-09-28T20:05:59.472539Z",
     "iopub.status.busy": "2021-09-28T20:05:59.472127Z",
     "iopub.status.idle": "2021-09-28T20:05:59.478417Z",
     "shell.execute_reply": "2021-09-28T20:05:59.477361Z",
     "shell.execute_reply.started": "2021-09-28T20:05:59.472501Z"
    }
   },
   "outputs": [],
   "source": [
    "X = -np.array(df_fairness.Distance)\n",
    "y = np.array(df_fairness.y_true)\n",
    "y_pred = np.array(df_fairness.y_pred)"
   ]
  },
  {
   "cell_type": "code",
   "execution_count": null,
   "metadata": {
    "execution": {
     "iopub.execute_input": "2021-09-28T20:05:59.481707Z",
     "iopub.status.busy": "2021-09-28T20:05:59.481336Z",
     "iopub.status.idle": "2021-09-28T20:05:59.504837Z",
     "shell.execute_reply": "2021-09-28T20:05:59.503784Z",
     "shell.execute_reply.started": "2021-09-28T20:05:59.481676Z"
    }
   },
   "outputs": [],
   "source": [
    "fpr_dist, tpr_dist, thresholds_dist = roc_curve(y, X)\n",
    "roc_auc_dist = auc(fpr_dist,tpr_dist)\n",
    "\n",
    "precision_dist, recall_dist, thresholds_recall_dist = precision_recall_curve(y, X)\n",
    "auc_s_dist = auc(recall_dist, precision_dist)"
   ]
  },
  {
   "cell_type": "code",
   "execution_count": null,
   "metadata": {
    "execution": {
     "iopub.execute_input": "2021-09-28T20:05:59.506606Z",
     "iopub.status.busy": "2021-09-28T20:05:59.506192Z",
     "iopub.status.idle": "2021-09-28T20:05:59.787635Z",
     "shell.execute_reply": "2021-09-28T20:05:59.786826Z",
     "shell.execute_reply.started": "2021-09-28T20:05:59.506572Z"
    }
   },
   "outputs": [],
   "source": [
    "print_roc(fpr_dist, tpr_dist, roc_auc_dist)\n",
    "print_prec_recall(precision_dist, recall_dist, auc_s_dist)"
   ]
  },
  {
   "cell_type": "code",
   "execution_count": null,
   "metadata": {
    "execution": {
     "iopub.execute_input": "2021-09-28T20:05:59.789634Z",
     "iopub.status.busy": "2021-09-28T20:05:59.788896Z",
     "iopub.status.idle": "2021-09-28T20:05:59.819219Z",
     "shell.execute_reply": "2021-09-28T20:05:59.818384Z",
     "shell.execute_reply.started": "2021-09-28T20:05:59.789589Z"
    }
   },
   "outputs": [],
   "source": [
    "tn,fp,fn,tp = confusion_matrix(y, y_pred).ravel()\n",
    "\n",
    "TPR = tp/(tp+fp)\n",
    "FPR = fp/(tp+fp)\n",
    "TNR = tn/(tn+fn)\n",
    "FNR = fn/(tn+fn)"
   ]
  },
  {
   "cell_type": "code",
   "execution_count": null,
   "metadata": {
    "execution": {
     "iopub.execute_input": "2021-09-28T20:05:59.821136Z",
     "iopub.status.busy": "2021-09-28T20:05:59.820517Z",
     "iopub.status.idle": "2021-09-28T20:05:59.865422Z",
     "shell.execute_reply": "2021-09-28T20:05:59.864445Z",
     "shell.execute_reply.started": "2021-09-28T20:05:59.821091Z"
    }
   },
   "outputs": [],
   "source": [
    "print(\"Confusion Matrix Total\")\n",
    "print(confusion_matrix(y, y_pred))\n",
    "\n",
    "print(\"\\n\",\"Accuracy score:\",accuracy_score(y, y_pred))\n",
    " \n",
    "print(\"\\n\", \"f1 score:\", f1_score(y, y_pred), \"\\n\")\n",
    "\n",
    "print('TPR: ', TPR)\n",
    "print('FPR: ', FPR)\n",
    "print('TNR: ', TNR)\n",
    "print('FNR: ', FNR)"
   ]
  },
  {
   "cell_type": "markdown",
   "metadata": {},
   "source": [
    "### Stats in subgroups"
   ]
  },
  {
   "cell_type": "markdown",
   "metadata": {},
   "source": [
    "#### White Male vs Non White Male"
   ]
  },
  {
   "cell_type": "code",
   "execution_count": null,
   "metadata": {
    "execution": {
     "iopub.execute_input": "2021-09-28T20:05:59.866914Z",
     "iopub.status.busy": "2021-09-28T20:05:59.866629Z",
     "iopub.status.idle": "2021-09-28T20:06:00.308237Z",
     "shell.execute_reply": "2021-09-28T20:06:00.3073Z",
     "shell.execute_reply.started": "2021-09-28T20:05:59.866886Z"
    }
   },
   "outputs": [],
   "source": [
    "pos_dist = df_fairness[(df_fairness.y_true==1) & (df_fairness.AB_WhiteMale==1)]['Distance']\n",
    "neg_dist = df_fairness[(df_fairness.y_true==0) & (df_fairness.AB_WhiteMale==1)]['Distance']\n",
    "print_hist_dist_zoom(pos_dist, neg_dist, zoom=5.)"
   ]
  },
  {
   "cell_type": "code",
   "execution_count": null,
   "metadata": {
    "execution": {
     "iopub.execute_input": "2021-09-28T20:06:00.309714Z",
     "iopub.status.busy": "2021-09-28T20:06:00.309443Z",
     "iopub.status.idle": "2021-09-28T20:06:00.753877Z",
     "shell.execute_reply": "2021-09-28T20:06:00.752824Z",
     "shell.execute_reply.started": "2021-09-28T20:06:00.309686Z"
    }
   },
   "outputs": [],
   "source": [
    "pos_dist = df_fairness[(df_fairness.y_true==1) & (df_fairness.AB_NoWhiteMale==1)]['Distance']\n",
    "neg_dist = df_fairness[(df_fairness.y_true==0) & (df_fairness.AB_NoWhiteMale==1)]['Distance']\n",
    "print_hist_dist_zoom(pos_dist, neg_dist, zoom=5.)"
   ]
  },
  {
   "cell_type": "code",
   "execution_count": null,
   "metadata": {
    "execution": {
     "iopub.execute_input": "2021-09-28T20:06:00.755414Z",
     "iopub.status.busy": "2021-09-28T20:06:00.755096Z",
     "iopub.status.idle": "2021-09-28T20:06:01.195022Z",
     "shell.execute_reply": "2021-09-28T20:06:01.194046Z",
     "shell.execute_reply.started": "2021-09-28T20:06:00.755381Z"
    }
   },
   "outputs": [],
   "source": [
    "pos_dist = df_fairness[(df_fairness.y_true==1) & (df_fairness.AB_WhiteMale==0)]['Distance']\n",
    "neg_dist = df_fairness[(df_fairness.y_true==0) & (df_fairness.AB_WhiteMale==0)]['Distance']\n",
    "print_hist_dist_zoom(pos_dist, neg_dist, zoom=5.)"
   ]
  },
  {
   "cell_type": "code",
   "execution_count": null,
   "metadata": {
    "execution": {
     "iopub.execute_input": "2021-09-28T20:06:01.19636Z",
     "iopub.status.busy": "2021-09-28T20:06:01.196088Z",
     "iopub.status.idle": "2021-09-28T20:06:01.248767Z",
     "shell.execute_reply": "2021-09-28T20:06:01.24756Z",
     "shell.execute_reply.started": "2021-09-28T20:06:01.196333Z"
    }
   },
   "outputs": [],
   "source": [
    "y_AB_WhiteMale = np.array(df_fairness[df_fairness['AB_WhiteMale']==1].y_true)\n",
    "y_pred_AB_WhiteMale = np.array(df_fairness[df_fairness['AB_WhiteMale']==1].y_pred)\n",
    "\n",
    "tn_AB_WhiteMale,fp_AB_WhiteMale,fn_AB_WhiteMale,tp_AB_WhiteMale = confusion_matrix(y_AB_WhiteMale, y_pred_AB_WhiteMale).ravel()\n",
    "\n",
    "TPR_AB_WhiteMale = tp_AB_WhiteMale/(tp_AB_WhiteMale+fp_AB_WhiteMale)\n",
    "FPR_AB_WhiteMale = fp_AB_WhiteMale/(tp_AB_WhiteMale+fp_AB_WhiteMale)\n",
    "TNR_AB_WhiteMale = tn_AB_WhiteMale/(tn_AB_WhiteMale+fn_AB_WhiteMale)\n",
    "FNR_AB_WhiteMale = fn_AB_WhiteMale/(tn_AB_WhiteMale+fn_AB_WhiteMale)\n",
    "\n",
    "y_AB_NoWhiteMale = np.array(df_fairness[df_fairness['AB_NoWhiteMale']==1].y_true)\n",
    "y_pred_AB_NoWhiteMale = np.array(df_fairness[df_fairness['AB_NoWhiteMale']==1].y_pred)\n",
    "\n",
    "tn_AB_NoWhiteMale,fp_AB_NoWhiteMale,fn_AB_NoWhiteMale,tp_AB_NoWhiteMale = confusion_matrix(y_AB_NoWhiteMale, y_pred_AB_NoWhiteMale).ravel()\n",
    "\n",
    "TPR_AB_NoWhiteMale = tp_AB_NoWhiteMale/(tp_AB_NoWhiteMale+fp_AB_NoWhiteMale)\n",
    "FPR_AB_NoWhiteMale = fp_AB_NoWhiteMale/(tp_AB_NoWhiteMale+fp_AB_NoWhiteMale)\n",
    "TNR_AB_NoWhiteMale = tn_AB_NoWhiteMale/(tn_AB_NoWhiteMale+fn_AB_NoWhiteMale)\n",
    "FNR_AB_NoWhiteMale = fn_AB_NoWhiteMale/(tn_AB_NoWhiteMale+fn_AB_NoWhiteMale)\n",
    "\n",
    "y_AoB_NoWhiteMale = np.array(df_fairness[df_fairness['AB_WhiteMale']==0].y_true)\n",
    "y_pred_AoB_NoWhiteMale = np.array(df_fairness[df_fairness['AB_WhiteMale']==0].y_pred)\n",
    "\n",
    "tn_AoB_NoWhiteMale,fp_AoB_NoWhiteMale,fn_AoB_NoWhiteMale,tp_AoB_NoWhiteMale = confusion_matrix(y_AoB_NoWhiteMale, y_pred_AoB_NoWhiteMale).ravel()\n",
    "\n",
    "TPR_AoB_NoWhiteMale = tp_AoB_NoWhiteMale/(tp_AoB_NoWhiteMale+fp_AoB_NoWhiteMale)\n",
    "FPR_AoB_NoWhiteMale = fp_AoB_NoWhiteMale/(tp_AoB_NoWhiteMale+fp_AoB_NoWhiteMale)\n",
    "TNR_AoB_NoWhiteMale = tn_AoB_NoWhiteMale/(tn_AoB_NoWhiteMale+fn_AoB_NoWhiteMale)\n",
    "FNR_AoB_NoWhiteMale = fn_AoB_NoWhiteMale/(tn_AoB_NoWhiteMale+fn_AoB_NoWhiteMale)"
   ]
  },
  {
   "cell_type": "code",
   "execution_count": null,
   "metadata": {
    "execution": {
     "iopub.execute_input": "2021-09-28T20:06:01.251417Z",
     "iopub.status.busy": "2021-09-28T20:06:01.251089Z",
     "iopub.status.idle": "2021-09-28T20:06:09.75619Z",
     "shell.execute_reply": "2021-09-28T20:06:09.754587Z",
     "shell.execute_reply.started": "2021-09-28T20:06:01.251384Z"
    }
   },
   "outputs": [],
   "source": [
    "print(\"A and B White Male - mean accuracy: \", df_fairness[df_fairness['AB_WhiteMale']==1]['correct_predict'].mean())\n",
    "print(\"A and B White Male - bootstrapping mean accuracy: \", bootstrap(df_fairness[df_fairness['AB_WhiteMale']==1], agg_func=lambda df: df['correct_predict'].mean()))\n",
    "print(\"A and B White Male - triplet accuracy: \", triplet_acc_fairness(df_fairness[df_fairness['AB_WhiteMale']==1]))\n",
    "print(\"A and B White Male - f1 score:\", f1_score(y_AB_WhiteMale, y_pred_AB_WhiteMale))\n",
    "print(\"\\n\")\n",
    "print(\"A and B Non White Male - mean accuracy: \", df_fairness[df_fairness['AB_NoWhiteMale']==1]['correct_predict'].mean())\n",
    "print(\"A and B Non White Male - bootstrapping mean accuracy: \", bootstrap(df_fairness[df_fairness['AB_NoWhiteMale']==1], agg_func=lambda df: df['correct_predict'].mean()))\n",
    "print(\"A and B Non White Male - triplet accuracy: \", triplet_acc_fairness(df_fairness[df_fairness['AB_NoWhiteMale']==1]))\n",
    "print(\"A and B Non White Male - f1 score:\", f1_score(y_AB_NoWhiteMale, y_pred_AB_NoWhiteMale))\n",
    "print(\"\\n\")\n",
    "print(\"A or B Non White Male - mean accuracy: \", df_fairness[df_fairness['AB_WhiteMale']==0]['correct_predict'].mean())\n",
    "print(\"A or B Non White Male - bootstrapping mean accuracy: \", bootstrap(df_fairness[df_fairness['AB_WhiteMale']==0], agg_func=lambda df: df['correct_predict'].mean()))\n",
    "print(\"A or B Non White Male - triplet accuracy: \", triplet_acc_fairness(df_fairness[df_fairness['AB_WhiteMale']==0]))\n",
    "print(\"A or B Non White Male - f1 score:\", f1_score(y_AoB_NoWhiteMale, y_pred_AoB_NoWhiteMale))"
   ]
  },
  {
   "cell_type": "code",
   "execution_count": null,
   "metadata": {
    "execution": {
     "iopub.execute_input": "2021-09-28T20:06:09.759662Z",
     "iopub.status.busy": "2021-09-28T20:06:09.759292Z",
     "iopub.status.idle": "2021-09-28T20:06:09.783087Z",
     "shell.execute_reply": "2021-09-28T20:06:09.782049Z",
     "shell.execute_reply.started": "2021-09-28T20:06:09.759624Z"
    }
   },
   "outputs": [],
   "source": [
    "print(\"A and B White Male - Confusion Matrix\")\n",
    "print(confusion_matrix(y_AB_WhiteMale, y_pred_AB_WhiteMale))\n",
    "print(\"\\n\")\n",
    "print('A and B White Male - TPR: ', TPR_AB_WhiteMale)\n",
    "print('A and B White Male - FPR: ', FPR_AB_WhiteMale)\n",
    "print('A and B White Male - TNR: ', TNR_AB_WhiteMale)\n",
    "print('A and B White Male - FNR: ', FNR_AB_WhiteMale)"
   ]
  },
  {
   "cell_type": "code",
   "execution_count": null,
   "metadata": {
    "execution": {
     "iopub.execute_input": "2021-09-28T20:06:09.786653Z",
     "iopub.status.busy": "2021-09-28T20:06:09.786371Z",
     "iopub.status.idle": "2021-09-28T20:06:09.803342Z",
     "shell.execute_reply": "2021-09-28T20:06:09.802157Z",
     "shell.execute_reply.started": "2021-09-28T20:06:09.786625Z"
    }
   },
   "outputs": [],
   "source": [
    "print(\"A and B Non White Male - Confusion Matrix\")\n",
    "print(confusion_matrix(y_AB_NoWhiteMale, y_pred_AB_NoWhiteMale))\n",
    "print(\"\\n\")\n",
    "print('A and B Non White Male - TPR: ', TPR_AB_NoWhiteMale)\n",
    "print('A and B Non White Male - FPR: ', FPR_AB_NoWhiteMale)\n",
    "print('A and B Non White Male - TNR: ', TNR_AB_NoWhiteMale)\n",
    "print('A and B Non White Male - FNR: ', FNR_AB_NoWhiteMale)"
   ]
  },
  {
   "cell_type": "code",
   "execution_count": null,
   "metadata": {
    "execution": {
     "iopub.execute_input": "2021-09-28T20:06:09.805615Z",
     "iopub.status.busy": "2021-09-28T20:06:09.805276Z",
     "iopub.status.idle": "2021-09-28T20:06:09.832583Z",
     "shell.execute_reply": "2021-09-28T20:06:09.831348Z",
     "shell.execute_reply.started": "2021-09-28T20:06:09.805583Z"
    }
   },
   "outputs": [],
   "source": [
    "print(\"A or B Non White Male - Confusion Matrix\")\n",
    "print(confusion_matrix(y_AoB_NoWhiteMale, y_pred_AoB_NoWhiteMale))\n",
    "print(\"\\n\")\n",
    "print('A or B Non White Male - TPR: ', TPR_AoB_NoWhiteMale)\n",
    "print('A or B Non White Male - FPR: ', FPR_AoB_NoWhiteMale)\n",
    "print('A or B Non White Male - TNR: ', TNR_AoB_NoWhiteMale)\n",
    "print('A or B Non White Male - FNR: ', FNR_AoB_NoWhiteMale)"
   ]
  },
  {
   "cell_type": "markdown",
   "metadata": {},
   "source": [
    "#### Male vs Non Male and White vs Non White"
   ]
  },
  {
   "cell_type": "code",
   "execution_count": null,
   "metadata": {
    "execution": {
     "iopub.execute_input": "2021-09-28T20:06:09.834297Z",
     "iopub.status.busy": "2021-09-28T20:06:09.833971Z",
     "iopub.status.idle": "2021-09-28T20:06:10.695435Z",
     "shell.execute_reply": "2021-09-28T20:06:10.694195Z",
     "shell.execute_reply.started": "2021-09-28T20:06:09.83424Z"
    }
   },
   "outputs": [],
   "source": [
    "pos_dist = df_fairness[(df_fairness.y_true==1) & (df_fairness['A_Male']==1)&(df_fairness['B_Male']==1)]['Distance']\n",
    "neg_dist = df_fairness[(df_fairness.y_true==0) & (df_fairness['A_Male']==1)&(df_fairness['B_Male']==1)]['Distance']\n",
    "print_hist_dist_zoom(pos_dist, neg_dist, zoom=5.)"
   ]
  },
  {
   "cell_type": "code",
   "execution_count": null,
   "metadata": {
    "execution": {
     "iopub.execute_input": "2021-09-28T20:06:10.697324Z",
     "iopub.status.busy": "2021-09-28T20:06:10.696939Z",
     "iopub.status.idle": "2021-09-28T20:06:11.120321Z",
     "shell.execute_reply": "2021-09-28T20:06:11.119052Z",
     "shell.execute_reply.started": "2021-09-28T20:06:10.697283Z"
    }
   },
   "outputs": [],
   "source": [
    "pos_dist = df_fairness[(df_fairness.y_true==1) & (df_fairness['A_Male']==0)&(df_fairness['B_Male']==0)]['Distance']\n",
    "neg_dist = df_fairness[(df_fairness.y_true==0) & (df_fairness['A_Male']==0)&(df_fairness['B_Male']==0)]['Distance']\n",
    "print_hist_dist_zoom(pos_dist, neg_dist, zoom=5.)"
   ]
  },
  {
   "cell_type": "code",
   "execution_count": null,
   "metadata": {
    "execution": {
     "iopub.execute_input": "2021-09-28T20:06:11.121804Z",
     "iopub.status.busy": "2021-09-28T20:06:11.121525Z",
     "iopub.status.idle": "2021-09-28T20:06:11.552543Z",
     "shell.execute_reply": "2021-09-28T20:06:11.551729Z",
     "shell.execute_reply.started": "2021-09-28T20:06:11.12177Z"
    }
   },
   "outputs": [],
   "source": [
    "pos_dist = df_fairness[(df_fairness.y_true==1) & (df_fairness['A_White']==1)&(df_fairness['B_White']==1)]['Distance']\n",
    "neg_dist = df_fairness[(df_fairness.y_true==0) & (df_fairness['A_White']==1)&(df_fairness['B_White']==1)]['Distance']\n",
    "print_hist_dist_zoom(pos_dist, neg_dist, zoom=5.)"
   ]
  },
  {
   "cell_type": "code",
   "execution_count": null,
   "metadata": {
    "execution": {
     "iopub.execute_input": "2021-09-28T20:06:11.554049Z",
     "iopub.status.busy": "2021-09-28T20:06:11.553607Z",
     "iopub.status.idle": "2021-09-28T20:06:11.992884Z",
     "shell.execute_reply": "2021-09-28T20:06:11.992115Z",
     "shell.execute_reply.started": "2021-09-28T20:06:11.554001Z"
    }
   },
   "outputs": [],
   "source": [
    "pos_dist = df_fairness[(df_fairness.y_true==1) & (df_fairness['A_White']==0)&(df_fairness['B_White']==0)]['Distance']\n",
    "neg_dist = df_fairness[(df_fairness.y_true==0) & (df_fairness['A_White']==0)&(df_fairness['B_White']==0)]['Distance']\n",
    "print_hist_dist_zoom(pos_dist, neg_dist, zoom=5.)"
   ]
  },
  {
   "cell_type": "code",
   "execution_count": null,
   "metadata": {
    "execution": {
     "iopub.execute_input": "2021-09-28T20:06:11.994403Z",
     "iopub.status.busy": "2021-09-28T20:06:11.99396Z",
     "iopub.status.idle": "2021-09-28T20:06:12.035423Z",
     "shell.execute_reply": "2021-09-28T20:06:12.034408Z",
     "shell.execute_reply.started": "2021-09-28T20:06:11.994369Z"
    }
   },
   "outputs": [],
   "source": [
    "y_AB_Male = np.array(df_fairness[(df_fairness['A_Male']==1)&(df_fairness['B_Male']==1)].y_true)\n",
    "y_pred_AB_Male = np.array(df_fairness[(df_fairness['A_Male']==1)&(df_fairness['B_Male']==1)].y_pred)\n",
    "\n",
    "tn_AB_Male,fp_AB_Male,fn_AB_Male,tp_AB_Male = confusion_matrix(y_AB_Male, y_pred_AB_Male).ravel()\n",
    "\n",
    "TPR_AB_Male = tp_AB_Male/(tp_AB_Male+fp_AB_Male)\n",
    "FPR_AB_Male = fp_AB_Male/(tp_AB_Male+fp_AB_Male)\n",
    "TNR_AB_Male = tn_AB_Male/(tn_AB_Male+fn_AB_Male)\n",
    "FNR_AB_Male = fn_AB_Male/(tn_AB_Male+fn_AB_Male)\n",
    "\n",
    "y_AB_NoMale = np.array(df_fairness[(df_fairness['A_Male']==0)&(df_fairness['B_Male']==0)].y_true)\n",
    "y_pred_AB_NoMale = np.array(df_fairness[(df_fairness['A_Male']==0)&(df_fairness['B_Male']==0)].y_pred)\n",
    "\n",
    "tn_AB_NoMale,fp_AB_NoMale,fn_AB_NoMale,tp_AB_NoMale = confusion_matrix(y_AB_NoMale, y_pred_AB_NoMale).ravel()\n",
    "\n",
    "TPR_AB_NoMale = tp_AB_NoMale/(tp_AB_NoMale+fp_AB_NoMale)\n",
    "FPR_AB_NoMale = fp_AB_NoMale/(tp_AB_NoMale+fp_AB_NoMale)\n",
    "TNR_AB_NoMale = tn_AB_NoMale/(tn_AB_NoMale+fn_AB_NoMale)\n",
    "FNR_AB_NoMale = fn_AB_NoMale/(tn_AB_NoMale+fn_AB_NoMale)"
   ]
  },
  {
   "cell_type": "code",
   "execution_count": null,
   "metadata": {
    "execution": {
     "iopub.execute_input": "2021-09-28T20:06:12.037042Z",
     "iopub.status.busy": "2021-09-28T20:06:12.036609Z",
     "iopub.status.idle": "2021-09-28T20:06:17.647428Z",
     "shell.execute_reply": "2021-09-28T20:06:17.646456Z",
     "shell.execute_reply.started": "2021-09-28T20:06:12.037006Z"
    }
   },
   "outputs": [],
   "source": [
    "print(\"A and B Male - mean accuracy: \", df_fairness[(df_fairness['A_Male']==1)&(df_fairness['B_Male']==1)]['correct_predict'].mean())\n",
    "print(\"A and B Male - bootstrapping mean accuracy: \", bootstrap(df_fairness[(df_fairness['A_Male']==1)&(df_fairness['B_Male']==1)], agg_func=lambda df: df['correct_predict'].mean()))\n",
    "print(\"A and B Male - triplet accuracy: \", triplet_acc_fairness(df_fairness[(df_fairness['A_Male']==1)&(df_fairness['B_Male']==1)]))\n",
    "print(\"A and B Male - f1 score:\", f1_score(y_AB_Male, y_pred_AB_Male))\n",
    "print(\"A and B Male - Confusion Matrix\")\n",
    "print(confusion_matrix(y_AB_Male, y_pred_AB_Male))\n",
    "print('A and B Male - TPR: ', TPR_AB_Male)\n",
    "print('A and B Male - FPR: ', FPR_AB_Male)\n",
    "print('A and B Male - TNR: ', TNR_AB_Male)\n",
    "print('A and B Male - FNR: ', FNR_AB_Male)\n",
    "print(\"\\n\")\n",
    "print(\"A and B Non Male - mean accuracy: \", df_fairness[(df_fairness['A_Male']==0)&(df_fairness['B_Male']==0)]['correct_predict'].mean())\n",
    "print(\"A and B Non Male - bootstrapping mean accuracy: \", bootstrap(df_fairness[(df_fairness['A_Male']==0)&(df_fairness['B_Male']==0)], agg_func=lambda df: df['correct_predict'].mean()))\n",
    "print(\"A and B Non Male - triplet accuracy: \", triplet_acc_fairness(df_fairness[(df_fairness['A_Male']==0)&(df_fairness['B_Male']==0)]))\n",
    "print(\"A and B Non Male - f1 score:\", f1_score(y_AB_NoMale, y_pred_AB_NoMale))\n",
    "print(\"A and B Non Male - Confusion Matrix\")\n",
    "print(confusion_matrix(y_AB_NoMale, y_pred_AB_NoMale))\n",
    "print('A and B Non Male - TPR: ', TPR_AB_NoMale)\n",
    "print('A and B Non Male - FPR: ', FPR_AB_NoMale)\n",
    "print('A and B Non Male - TNR: ', TNR_AB_NoMale)\n",
    "print('A and B Non Male - FNR: ', FNR_AB_NoMale)"
   ]
  },
  {
   "cell_type": "code",
   "execution_count": null,
   "metadata": {
    "execution": {
     "iopub.execute_input": "2021-09-28T20:06:17.649506Z",
     "iopub.status.busy": "2021-09-28T20:06:17.64906Z",
     "iopub.status.idle": "2021-09-28T20:06:17.686354Z",
     "shell.execute_reply": "2021-09-28T20:06:17.685242Z",
     "shell.execute_reply.started": "2021-09-28T20:06:17.649458Z"
    }
   },
   "outputs": [],
   "source": [
    "y_AB_White = np.array(df_fairness[(df_fairness['A_White']==1)&(df_fairness['B_White']==1)].y_true)\n",
    "y_pred_AB_White = np.array(df_fairness[(df_fairness['A_White']==1)&(df_fairness['B_White']==1)].y_pred)\n",
    "\n",
    "tn_AB_White,fp_AB_White,fn_AB_White,tp_AB_White = confusion_matrix(y_AB_White, y_pred_AB_White).ravel()\n",
    "\n",
    "TPR_AB_White = tp_AB_White/(tp_AB_White+fp_AB_White)\n",
    "FPR_AB_White = fp_AB_White/(tp_AB_White+fp_AB_White)\n",
    "TNR_AB_White = tn_AB_White/(tn_AB_White+fn_AB_White)\n",
    "FNR_AB_White = fn_AB_White/(tn_AB_White+fn_AB_White)\n",
    "\n",
    "y_AB_NoWhite = np.array(df_fairness[(df_fairness['A_White']==0)&(df_fairness['B_White']==0)].y_true)\n",
    "y_pred_AB_NoWhite = np.array(df_fairness[(df_fairness['A_White']==0)&(df_fairness['B_White']==0)].y_pred)\n",
    "\n",
    "tn_AB_NoWhite,fp_AB_NoWhite,fn_AB_NoWhite,tp_AB_NoWhite = confusion_matrix(y_AB_NoWhite, y_pred_AB_NoWhite).ravel()\n",
    "\n",
    "TPR_AB_NoWhite = tp_AB_NoWhite/(tp_AB_NoWhite+fp_AB_NoWhite)\n",
    "FPR_AB_NoWhite = fp_AB_NoWhite/(tp_AB_NoWhite+fp_AB_NoWhite)\n",
    "TNR_AB_NoWhite = tn_AB_NoWhite/(tn_AB_NoWhite+fn_AB_NoWhite)\n",
    "FNR_AB_NoWhite = fn_AB_NoWhite/(tn_AB_NoWhite+fn_AB_NoWhite)"
   ]
  },
  {
   "cell_type": "code",
   "execution_count": null,
   "metadata": {
    "execution": {
     "iopub.execute_input": "2021-09-28T20:06:17.687871Z",
     "iopub.status.busy": "2021-09-28T20:06:17.687598Z",
     "iopub.status.idle": "2021-09-28T20:06:22.670153Z",
     "shell.execute_reply": "2021-09-28T20:06:22.669067Z",
     "shell.execute_reply.started": "2021-09-28T20:06:17.687844Z"
    }
   },
   "outputs": [],
   "source": [
    "print(\"A and B White - mean accuracy: \", df_fairness[(df_fairness['A_White']==1)&(df_fairness['B_White']==1)]['correct_predict'].mean())\n",
    "print(\"A and B White - bootstrapping mean accuracy: \", bootstrap(df_fairness[(df_fairness['A_White']==1)&(df_fairness['B_White']==1)], agg_func=lambda df: df['correct_predict'].mean()))\n",
    "print(\"A and B White - triplet accuracy: \", triplet_acc_fairness(df_fairness[(df_fairness['A_White']==1)&(df_fairness['B_White']==1)]))\n",
    "print(\"A and B White - f1 score:\", f1_score(y_AB_White, y_pred_AB_White))\n",
    "print(\"A and B White - Confusion Matrix\")\n",
    "print(confusion_matrix(y_AB_White, y_pred_AB_White))\n",
    "print('A and B White - TPR: ', TPR_AB_White)\n",
    "print('A and B White - FPR: ', FPR_AB_White)\n",
    "print('A and B White - TNR: ', TNR_AB_White)\n",
    "print('A and B White - FNR: ', FNR_AB_White)\n",
    "print(\"\\n\")\n",
    "print(\"A and B Non White - mean accuracy: \", df_fairness[(df_fairness['A_White']==0)&(df_fairness['B_White']==0)]['correct_predict'].mean())\n",
    "print(\"A and B Non White - bootstrapping mean accuracy: \", bootstrap(df_fairness[(df_fairness['A_White']==0)&(df_fairness['B_White']==0)], agg_func=lambda df: df['correct_predict'].mean()))\n",
    "print(\"A and B Non White - triplet accuracy: \", triplet_acc_fairness(df_fairness[(df_fairness['A_White']==0)&(df_fairness['B_White']==0)]))\n",
    "print(\"A and B Non White - f1 score:\", f1_score(y_AB_NoWhite, y_pred_AB_NoWhite))\n",
    "print(\"A and B Non White - Confusion Matrix\")\n",
    "print(confusion_matrix(y_AB_NoWhite, y_pred_AB_NoWhite))\n",
    "print('A and B Non White - TPR: ', TPR_AB_NoWhite)\n",
    "print('A and B Non White - FPR: ', FPR_AB_NoWhite)\n",
    "print('A and B Non White - TNR: ', TNR_AB_NoWhite)\n",
    "print('A and B Non White - FNR: ', FNR_AB_NoWhite)"
   ]
  },
  {
   "cell_type": "markdown",
   "metadata": {},
   "source": [
    "### Other categories"
   ]
  },
  {
   "cell_type": "markdown",
   "metadata": {},
   "source": [
    "#### Supposed races"
   ]
  },
  {
   "cell_type": "code",
   "execution_count": null,
   "metadata": {
    "execution": {
     "iopub.execute_input": "2021-09-28T20:06:22.671809Z",
     "iopub.status.busy": "2021-09-28T20:06:22.671525Z",
     "iopub.status.idle": "2021-09-28T20:06:22.70036Z",
     "shell.execute_reply": "2021-09-28T20:06:22.699296Z",
     "shell.execute_reply.started": "2021-09-28T20:06:22.671779Z"
    }
   },
   "outputs": [],
   "source": [
    "y_AB_Black = np.array(df_fairness[(df_fairness['A_Black']==1)&(df_fairness['B_Black']==1)].y_true)\n",
    "y_pred_AB_Black = np.array(df_fairness[(df_fairness['A_Black']==1)&(df_fairness['B_Black']==1)].y_pred)\n",
    "\n",
    "tn_AB_Black,fp_AB_Black,fn_AB_Black,tp_AB_Black = confusion_matrix(y_AB_Black, y_pred_AB_Black).ravel()\n",
    "\n",
    "TPR_AB_Black = tp_AB_Black/(tp_AB_Black+fp_AB_Black)\n",
    "FPR_AB_Black = fp_AB_Black/(tp_AB_Black+fp_AB_Black)\n",
    "TNR_AB_Black = tn_AB_Black/(tn_AB_Black+fn_AB_Black)\n",
    "FNR_AB_Black = fn_AB_Black/(tn_AB_Black+fn_AB_Black)\n",
    "\n",
    "y_AB_Asian = np.array(df_fairness[(df_fairness['A_Asian']==1)&(df_fairness['B_Asian']==1)].y_true)\n",
    "y_pred_AB_Asian = np.array(df_fairness[(df_fairness['A_Asian']==1)&(df_fairness['B_Asian']==1)].y_pred)\n",
    "\n",
    "tn_AB_Asian,fp_AB_Asian,fn_AB_Asian,tp_AB_Asian = confusion_matrix(y_AB_Asian, y_pred_AB_Asian).ravel()\n",
    "\n",
    "TPR_AB_Asian = tp_AB_Asian/(tp_AB_Asian+fp_AB_Asian)\n",
    "FPR_AB_Asian = fp_AB_Asian/(tp_AB_Asian+fp_AB_Asian)\n",
    "TNR_AB_Asian = tn_AB_Asian/(tn_AB_Asian+fn_AB_Asian)\n",
    "FNR_AB_Asian = fn_AB_Asian/(tn_AB_Asian+fn_AB_Asian)\n",
    "\n",
    "y_AB_Indian = np.array(df_fairness[(df_fairness['A_Indian']==1)&(df_fairness['B_Indian']==1)].y_true)\n",
    "y_pred_AB_Indian = np.array(df_fairness[(df_fairness['A_Indian']==1)&(df_fairness['B_Indian']==1)].y_pred)\n",
    "\n",
    "tn_AB_Indian,fp_AB_Indian,fn_AB_Indian,tp_AB_Indian = confusion_matrix(y_AB_Indian, y_pred_AB_Indian).ravel()\n",
    "\n",
    "TPR_AB_Indian = tp_AB_Indian/(tp_AB_Indian+fp_AB_Indian)\n",
    "FPR_AB_Indian = fp_AB_Indian/(tp_AB_Indian+fp_AB_Indian)\n",
    "TNR_AB_Indian = tn_AB_Indian/(tn_AB_Indian+fn_AB_Indian)\n",
    "FNR_AB_Indian = fn_AB_Indian/(tn_AB_Indian+fn_AB_Indian)"
   ]
  },
  {
   "cell_type": "code",
   "execution_count": null,
   "metadata": {
    "execution": {
     "iopub.execute_input": "2021-09-28T20:06:22.702023Z",
     "iopub.status.busy": "2021-09-28T20:06:22.701727Z",
     "iopub.status.idle": "2021-09-28T20:06:28.134585Z",
     "shell.execute_reply": "2021-09-28T20:06:28.133229Z",
     "shell.execute_reply.started": "2021-09-28T20:06:22.701994Z"
    }
   },
   "outputs": [],
   "source": [
    "print(\"A and B White - mean accuracy: \", df_fairness[(df_fairness['A_White']==1)&(df_fairness['B_White']==1)]['correct_predict'].mean())\n",
    "print(\"A and B White - bootstrapping mean accuracy: \", bootstrap(df_fairness[(df_fairness['A_White']==1)&(df_fairness['B_White']==1)], agg_func=lambda df: df['correct_predict'].mean()))\n",
    "print(\"A and B White - triplet accuracy: \", triplet_acc_fairness(df_fairness[(df_fairness['A_White']==1)&(df_fairness['B_White']==1)]))\n",
    "print(\"A and B White - f1 score:\", f1_score(y_AB_White, y_pred_AB_White))\n",
    "print(\"A and B White - Confusion Matrix\")\n",
    "print(confusion_matrix(y_AB_White, y_pred_AB_White))\n",
    "print('A and B White - TPR: ', TPR_AB_White)\n",
    "print('A and B White - FPR: ', FPR_AB_White)\n",
    "print('A and B White - TNR: ', TNR_AB_White)\n",
    "print('A and B White - FNR: ', FNR_AB_White)\n",
    "print(\"\\n\")\n",
    "print(\"A and B Black - mean accuracy: \", df_fairness[(df_fairness['A_Black']==1)&(df_fairness['B_Black']==1)]['correct_predict'].mean())\n",
    "print(\"A and B Black - bootstrapping mean accuracy: \", bootstrap(df_fairness[(df_fairness['A_Black']==1)&(df_fairness['B_Black']==1)], agg_func=lambda df: df['correct_predict'].mean()))\n",
    "print(\"A and B Black - triplet accuracy: \", triplet_acc_fairness(df_fairness[(df_fairness['A_Black']==1)&(df_fairness['B_Black']==1)]))\n",
    "print(\"A and B Black - f1 score:\", f1_score(y_AB_Black, y_pred_AB_Black))\n",
    "print(\"A and B Black - Confusion Matrix\")\n",
    "print(confusion_matrix(y_AB_Black, y_pred_AB_Black))\n",
    "print('A and B Black - TPR: ', TPR_AB_Black)\n",
    "print('A and B Black - FPR: ', FPR_AB_Black)\n",
    "print('A and B Black - TNR: ', TNR_AB_Black)\n",
    "print('A and B Black - FNR: ', FNR_AB_Black)\n",
    "print(\"\\n\")\n",
    "print(\"A and B Asian - mean accuracy: \", df_fairness[(df_fairness['A_Asian']==1)&(df_fairness['B_Asian']==1)]['correct_predict'].mean())\n",
    "print(\"A and B Asian - bootstrapping mean accuracy: \", bootstrap(df_fairness[(df_fairness['A_Asian']==1)&(df_fairness['B_Asian']==1)], agg_func=lambda df: df['correct_predict'].mean()))\n",
    "print(\"A and B Asian - triplet accuracy: \", triplet_acc_fairness(df_fairness[(df_fairness['A_Asian']==1)&(df_fairness['B_Asian']==1)]))\n",
    "print(\"A and B Asian - f1 score:\", f1_score(y_AB_Asian, y_pred_AB_Asian))\n",
    "print(\"A and B Asian - Confusion Matrix\")\n",
    "print(confusion_matrix(y_AB_Asian, y_pred_AB_Asian))\n",
    "print('A and B Asian - TPR: ', TPR_AB_Asian)\n",
    "print('A and B Asian - FPR: ', FPR_AB_Asian)\n",
    "print('A and B Asian - TNR: ', TNR_AB_Asian)\n",
    "print('A and B Asian - FNR: ', FNR_AB_Asian)\n",
    "print(\"\\n\")\n",
    "print(\"A and B Indian - mean accuracy: \", df_fairness[(df_fairness['A_Indian']==1)&(df_fairness['B_Indian']==1)]['correct_predict'].mean())\n",
    "print(\"A and B Indian - bootstrapping mean accuracy: \", bootstrap(df_fairness[(df_fairness['A_Indian']==1)&(df_fairness['B_Indian']==1)], agg_func=lambda df: df['correct_predict'].mean()))\n",
    "print(\"A and B Indian - triplet accuracy: \", triplet_acc_fairness(df_fairness[(df_fairness['A_Indian']==1)&(df_fairness['B_Indian']==1)]))\n",
    "print(\"A and B Indian - f1 score:\", f1_score(y_AB_Indian, y_pred_AB_Indian))\n",
    "print(\"A and B Indian - Confusion Matrix\")\n",
    "print(confusion_matrix(y_AB_Indian, y_pred_AB_Indian))\n",
    "print('A and B Indian - TPR: ', TPR_AB_Indian)\n",
    "print('A and B Indian - FPR: ', FPR_AB_Indian)\n",
    "print('A and B Indian - TNR: ', TNR_AB_Indian)\n",
    "print('A and B Indian - FNR: ', FNR_AB_Indian)"
   ]
  },
  {
   "cell_type": "markdown",
   "metadata": {},
   "source": [
    "#### Youth vs Senior"
   ]
  },
  {
   "cell_type": "code",
   "execution_count": null,
   "metadata": {
    "execution": {
     "iopub.execute_input": "2021-09-28T20:06:28.136298Z",
     "iopub.status.busy": "2021-09-28T20:06:28.13597Z",
     "iopub.status.idle": "2021-09-28T20:06:28.162413Z",
     "shell.execute_reply": "2021-09-28T20:06:28.161164Z",
     "shell.execute_reply.started": "2021-09-28T20:06:28.136242Z"
    }
   },
   "outputs": [],
   "source": [
    "y_AB_Youth = np.array(df_fairness[(df_fairness['A_Youth']==1)&(df_fairness['B_Youth']==1)].y_true)\n",
    "y_pred_AB_Youth = np.array(df_fairness[(df_fairness['A_Youth']==1)&(df_fairness['B_Youth']==1)].y_pred)\n",
    "\n",
    "tn_AB_Youth,fp_AB_Youth,fn_AB_Youth,tp_AB_Youth = confusion_matrix(y_AB_Youth, y_pred_AB_Youth).ravel()\n",
    "\n",
    "TPR_AB_Youth = tp_AB_Youth/(tp_AB_Youth+fp_AB_Youth)\n",
    "FPR_AB_Youth = fp_AB_Youth/(tp_AB_Youth+fp_AB_Youth)\n",
    "TNR_AB_Youth = tn_AB_Youth/(tn_AB_Youth+fn_AB_Youth)\n",
    "FNR_AB_Youth = fn_AB_Youth/(tn_AB_Youth+fn_AB_Youth)\n",
    "\n",
    "y_AB_Senior = np.array(df_fairness[(df_fairness['A_Senior']==1)&(df_fairness['B_Senior']==1)].y_true)\n",
    "y_pred_AB_Senior = np.array(df_fairness[(df_fairness['A_Senior']==1)&(df_fairness['B_Senior']==1)].y_pred)\n",
    "\n",
    "tn_AB_Senior,fp_AB_Senior,fn_AB_Senior,tp_AB_Senior = confusion_matrix(y_AB_Senior, y_pred_AB_Senior).ravel()\n",
    "\n",
    "TPR_AB_Senior = tp_AB_Senior/(tp_AB_Senior+fp_AB_Senior)\n",
    "FPR_AB_Senior = fp_AB_Senior/(tp_AB_Senior+fp_AB_Senior)\n",
    "TNR_AB_Senior = tn_AB_Senior/(tn_AB_Senior+fn_AB_Senior)\n",
    "FNR_AB_Senior = fn_AB_Senior/(tn_AB_Senior+fn_AB_Senior)"
   ]
  },
  {
   "cell_type": "code",
   "execution_count": null,
   "metadata": {
    "execution": {
     "iopub.execute_input": "2021-09-28T20:06:28.164333Z",
     "iopub.status.busy": "2021-09-28T20:06:28.16391Z",
     "iopub.status.idle": "2021-09-28T20:06:29.800864Z",
     "shell.execute_reply": "2021-09-28T20:06:29.800086Z",
     "shell.execute_reply.started": "2021-09-28T20:06:28.164296Z"
    }
   },
   "outputs": [],
   "source": [
    "print(\"A and B Youth - mean accuracy: \", df_fairness[(df_fairness['A_Youth']==1)&(df_fairness['B_Youth']==1)]['correct_predict'].mean())\n",
    "print(\"A and B Youth - bootstrapping mean accuracy: \", bootstrap(df_fairness[(df_fairness['A_Youth']==1)&(df_fairness['B_Youth']==1)], agg_func=lambda df: df['correct_predict'].mean()))\n",
    "print(\"A and B Youth - triplet accuracy: \", triplet_acc_fairness(df_fairness[(df_fairness['A_Youth']==1)&(df_fairness['B_Youth']==1)]))\n",
    "print(\"A and B Youth - f1 score:\", f1_score(y_AB_Youth, y_pred_AB_Youth))\n",
    "print(\"A and B Youth - Confusion Matrix\")\n",
    "print(confusion_matrix(y_AB_Youth, y_pred_AB_Youth))\n",
    "print('A and B Youth - TPR: ', TPR_AB_Youth)\n",
    "print('A and B Youth - FPR: ', FPR_AB_Youth)\n",
    "print('A and B Youth - TNR: ', TNR_AB_Youth)\n",
    "print('A and B Youth - FNR: ', FNR_AB_Youth)\n",
    "print(\"\\n\")\n",
    "print(\"A and B Senior - mean accuracy: \", df_fairness[(df_fairness['A_Senior']==1)&(df_fairness['B_Senior']==1)]['correct_predict'].mean())\n",
    "print(\"A and B Senior - bootstrapping mean accuracy: \", bootstrap(df_fairness[(df_fairness['A_Senior']==1)&(df_fairness['B_Senior']==1)], agg_func=lambda df: df['correct_predict'].mean()))\n",
    "print(\"A and B Senior - triplet accuracy: \", triplet_acc_fairness(df_fairness[(df_fairness['A_Senior']==1)&(df_fairness['B_Senior']==1)]))\n",
    "print(\"A and B Senior - f1 score:\", f1_score(y_AB_Senior, y_pred_AB_Senior))\n",
    "print(\"A and B Senior - Confusion Matrix\")\n",
    "print(confusion_matrix(y_AB_Senior, y_pred_AB_Senior))\n",
    "print('A and B Senior - TPR: ', TPR_AB_Senior)\n",
    "print('A and B Senior - FPR: ', FPR_AB_Senior)\n",
    "print('A and B Senior - TNR: ', TNR_AB_Senior)\n",
    "print('A and B Senior - FNR: ', FNR_AB_Senior)"
   ]
  },
  {
   "cell_type": "markdown",
   "metadata": {},
   "source": [
    "#### Accessories"
   ]
  },
  {
   "cell_type": "code",
   "execution_count": null,
   "metadata": {
    "execution": {
     "iopub.execute_input": "2021-09-28T20:06:29.803151Z",
     "iopub.status.busy": "2021-09-28T20:06:29.802446Z",
     "iopub.status.idle": "2021-09-28T20:06:29.846506Z",
     "shell.execute_reply": "2021-09-28T20:06:29.845587Z",
     "shell.execute_reply.started": "2021-09-28T20:06:29.803104Z"
    }
   },
   "outputs": [],
   "source": [
    "y_AB_Sunglasses = np.array(df_fairness[(df_fairness['A_Sunglasses']==1)&(df_fairness['B_Sunglasses']==1)].y_true)\n",
    "y_pred_AB_Sunglasses = np.array(df_fairness[(df_fairness['A_Sunglasses']==1)&(df_fairness['B_Sunglasses']==1)].y_pred)\n",
    "\n",
    "tn_AB_Sunglasses,fp_AB_Sunglasses,fn_AB_Sunglasses,tp_AB_Sunglasses = confusion_matrix(y_AB_Sunglasses, y_pred_AB_Sunglasses).ravel()\n",
    "\n",
    "TPR_AB_Sunglasses = tp_AB_Sunglasses/(tp_AB_Sunglasses+fp_AB_Sunglasses)\n",
    "FPR_AB_Sunglasses = fp_AB_Sunglasses/(tp_AB_Sunglasses+fp_AB_Sunglasses)\n",
    "TNR_AB_Sunglasses = tn_AB_Sunglasses/(tn_AB_Sunglasses+fn_AB_Sunglasses)\n",
    "FNR_AB_Sunglasses = fn_AB_Sunglasses/(tn_AB_Sunglasses+fn_AB_Sunglasses)\n",
    "\n",
    "y_AB_NoSunglasses = np.array(df_fairness[(df_fairness['A_Sunglasses']==0)&(df_fairness['B_Sunglasses']==0)].y_true)\n",
    "y_pred_AB_NoSunglasses = np.array(df_fairness[(df_fairness['A_Sunglasses']==0)&(df_fairness['B_Sunglasses']==0)].y_pred)\n",
    "\n",
    "tn_AB_NoSunglasses,fp_AB_NoSunglasses,fn_AB_NoSunglasses,tp_AB_NoSunglasses = confusion_matrix(y_AB_NoSunglasses, y_pred_AB_NoSunglasses).ravel()\n",
    "\n",
    "TPR_AB_NoSunglasses = tp_AB_NoSunglasses/(tp_AB_NoSunglasses+fp_AB_NoSunglasses)\n",
    "FPR_AB_NoSunglasses = fp_AB_NoSunglasses/(tp_AB_NoSunglasses+fp_AB_NoSunglasses)\n",
    "TNR_AB_NoSunglasses = tn_AB_NoSunglasses/(tn_AB_NoSunglasses+fn_AB_NoSunglasses)\n",
    "FNR_AB_NoSunglasses = fn_AB_NoSunglasses/(tn_AB_NoSunglasses+fn_AB_NoSunglasses)"
   ]
  },
  {
   "cell_type": "code",
   "execution_count": null,
   "metadata": {
    "execution": {
     "iopub.execute_input": "2021-09-28T20:06:29.848102Z",
     "iopub.status.busy": "2021-09-28T20:06:29.847812Z",
     "iopub.status.idle": "2021-09-28T20:07:11.225102Z",
     "shell.execute_reply": "2021-09-28T20:07:11.223831Z",
     "shell.execute_reply.started": "2021-09-28T20:06:29.848074Z"
    }
   },
   "outputs": [],
   "source": [
    "print(\"A and B Sunglasses - mean accuracy: \", df_fairness[(df_fairness['A_Sunglasses']==1)&(df_fairness['B_Sunglasses']==1)]['correct_predict'].mean())\n",
    "print(\"A and B Sunglasses - bootstrapping mean accuracy: \", bootstrap(df_fairness[(df_fairness['A_Sunglasses']==1)&(df_fairness['B_Sunglasses']==1)], agg_func=lambda df: df['correct_predict'].mean(), num_bootstraps=10000))\n",
    "print(\"A and B Sunglasses - triplet accuracy: \", triplet_acc_fairness(df_fairness[(df_fairness['A_Sunglasses']==1)&(df_fairness['B_Sunglasses']==1)]))\n",
    "print(\"A and B Sunglasses - f1 score:\", f1_score(y_AB_Sunglasses, y_pred_AB_Sunglasses))\n",
    "print(\"A and B Sunglasses - Confusion Matrix\")\n",
    "print(confusion_matrix(y_AB_Sunglasses, y_pred_AB_Sunglasses))\n",
    "print('A and B Sunglasses - TPR: ', TPR_AB_Sunglasses)\n",
    "print('A and B Sunglasses - FPR: ', FPR_AB_Sunglasses)\n",
    "print('A and B Sunglasses - TNR: ', TNR_AB_Sunglasses)\n",
    "print('A and B Sunglasses - FNR: ', FNR_AB_Sunglasses)\n",
    "print(\"\\n\")\n",
    "print(\"A and B Non Sunglasses - mean accuracy: \", df_fairness[(df_fairness['A_Sunglasses']==0)&(df_fairness['B_Sunglasses']==0)]['correct_predict'].mean())\n",
    "print(\"A and B Non Sunglasses - bootstrapping mean accuracy: \", bootstrap(df_fairness[(df_fairness['A_Sunglasses']==0)&(df_fairness['B_Sunglasses']==0)], agg_func=lambda df: df['correct_predict'].mean(), num_bootstraps=10000))\n",
    "print(\"A and B Non Sunglasses - triplet accuracy: \", triplet_acc_fairness(df_fairness[(df_fairness['A_Sunglasses']==0)&(df_fairness['B_Sunglasses']==0)]))\n",
    "print(\"A and B Non Sunglasses - f1 score:\", f1_score(y_AB_NoSunglasses, y_pred_AB_NoSunglasses))\n",
    "print(\"A and B Non Sunglasses - Confusion Matrix\")\n",
    "print(confusion_matrix(y_AB_NoSunglasses, y_pred_AB_NoSunglasses))\n",
    "print('A and B Non Sunglasses - TPR: ', TPR_AB_NoSunglasses)\n",
    "print('A and B Non Sunglasses - FPR: ', FPR_AB_NoSunglasses)\n",
    "print('A and B Non Sunglasses - TNR: ', TNR_AB_NoSunglasses)\n",
    "print('A and B Non Sunglasses - FNR: ', FNR_AB_NoSunglasses)"
   ]
  },
  {
   "cell_type": "markdown",
   "metadata": {},
   "source": [
    "#### More bootstrapping"
   ]
  },
  {
   "cell_type": "code",
   "execution_count": null,
   "metadata": {
    "execution": {
     "iopub.execute_input": "2021-09-28T20:07:11.226964Z",
     "iopub.status.busy": "2021-09-28T20:07:11.226643Z",
     "iopub.status.idle": "2021-09-28T20:11:54.887438Z",
     "shell.execute_reply": "2021-09-28T20:11:54.886191Z",
     "shell.execute_reply.started": "2021-09-28T20:07:11.226932Z"
    }
   },
   "outputs": [],
   "source": [
    "b,a,c = np.round_(bootstrap(df_fairness[df_fairness['AB_WhiteMale']==1], \\\n",
    "    agg_func=lambda df: df['correct_predict'].mean(), num_bootstraps=10000, percentiles=[5,50,95]), 3)\n",
    "\n",
    "print(f\"A and B White Male - accuracy: {a} (90% CI: {b}-{c})\")\n",
    "\n",
    "b,a,c = np.round_(bootstrap_by_pairs(df_fairness[df_fairness['AB_WhiteMale']==1], \\\n",
    "    agg_func=lambda df: triplet_acc_fairness(df), num_bootstraps=100, percentiles=[5,50,95]), 3)\n",
    "\n",
    "print(f\"A and B White Male - triplet accuracy: {a} (90% CI: {b}-{c})\")\n",
    "\n",
    "b,a,c = np.round_(bootstrap(df_fairness[df_fairness['AB_WhiteMale']==1], \\\n",
    "    agg_func=lambda df: df[(df['y_pred']==1)&(df['y_true']==0)]['id_A'].count()/df[df['y_pred']==1]['id_A'].count(), \\\n",
    "    num_bootstraps=10000, percentiles=[5,50,95]),3)\n",
    "\n",
    "print(f\"A and B White Male - FPR: {a} (90% CI: {b}-{c})\")\n",
    "\n",
    "b,a,c = np.round_(bootstrap(df_fairness[df_fairness['AB_WhiteMale']==1], \\\n",
    "    agg_func=lambda df: df[(df['y_pred']==0)&(df['y_true']==1)]['id_A'].count()/df[df['y_pred']==0]['id_A'].count(), \\\n",
    "    num_bootstraps=10000, percentiles=[5,50,95]),3)\n",
    "\n",
    "print(f\"A and B White Male - FNR: {a} (90% CI: {b}-{c})\")\n",
    "\n",
    "print(\"\\n\")\n",
    "\n",
    "b,a,c = np.round_(bootstrap(df_fairness[df_fairness['AB_NoWhiteMale']==1], \\\n",
    "    agg_func=lambda df: df['correct_predict'].mean(), num_bootstraps=10000, percentiles=[5,50,95]),3)\n",
    "\n",
    "print(f\"A and B Non White Male - accuracy: {a} (90% CI: {b}-{c})\")\n",
    "\n",
    "b,a,c = np.round_(bootstrap_by_pairs(df_fairness[df_fairness['AB_NoWhiteMale']==1], \\\n",
    "    agg_func=lambda df: triplet_acc_fairness(df), num_bootstraps=100, percentiles=[5,50,95]), 3)\n",
    "\n",
    "print(f\"A and B Non White Male - triplet accuracy: {a} (90% CI: {b}-{c})\")\n",
    "\n",
    "b,a,c = np.round_(bootstrap(df_fairness[df_fairness['AB_NoWhiteMale']==1], \\\n",
    "    agg_func=lambda df: df[(df['y_pred']==1)&(df['y_true']==0)]['id_A'].count()/df[df['y_pred']==1]['id_A'].count(), \\\n",
    "    num_bootstraps=10000, percentiles=[5,50,95]),3)\n",
    " \n",
    "print(f\"A and B Non White Male - FPR: {a} (90% CI: {b}-{c})\")\n",
    "\n",
    "b,a,c = np.round_(bootstrap(df_fairness[df_fairness['AB_NoWhiteMale']==1], \\\n",
    "    agg_func=lambda df: df[(df['y_pred']==0)&(df['y_true']==1)]['id_A'].count()/df[df['y_pred']==0]['id_A'].count(), \\\n",
    "    num_bootstraps=10000, percentiles=[5,50,95]),3)\n",
    "\n",
    "print(f\"A and B Non White Male - FNR: {a} (90% CI: {b}-{c})\")"
   ]
  },
  {
   "cell_type": "code",
   "execution_count": null,
   "metadata": {
    "execution": {
     "iopub.execute_input": "2021-09-28T20:11:54.889777Z",
     "iopub.status.busy": "2021-09-28T20:11:54.889142Z",
     "iopub.status.idle": "2021-09-28T20:18:02.650277Z",
     "shell.execute_reply": "2021-09-28T20:18:02.648944Z",
     "shell.execute_reply.started": "2021-09-28T20:11:54.889731Z"
    }
   },
   "outputs": [],
   "source": [
    "b,a,c = np.round_(bootstrap(df_fairness[(df_fairness['A_Male']==1)&(df_fairness['B_Male']==1)], \\\n",
    "    agg_func=lambda df: df['correct_predict'].mean(), num_bootstraps=10000, percentiles=[5,50,95]), 3)\n",
    "\n",
    "print(f\"A and B Male - accuracy: {a} (90% CI: {b}-{c})\")\n",
    "\n",
    "b,a,c = np.round_(bootstrap_by_pairs(df_fairness[(df_fairness['A_Male']==1)&(df_fairness['B_Male']==1)], \\\n",
    "    agg_func=lambda df: triplet_acc_fairness(df), num_bootstraps=100, percentiles=[5,50,95]), 3)\n",
    "\n",
    "print(f\"A and B Male - triplet accuracy: {a} (90% CI: {b}-{c})\")\n",
    "\n",
    "b,a,c = np.round_(bootstrap(df_fairness[(df_fairness['A_Male']==1)&(df_fairness['B_Male']==1)], \\\n",
    "    agg_func=lambda df: df[(df['y_pred']==1)&(df['y_true']==0)]['id_A'].count()/df[df['y_pred']==1]['id_A'].count(), \\\n",
    "    num_bootstraps=10000, percentiles=[5,50,95]),3)\n",
    "\n",
    "print(f\"A and B Male - FPR: {a} (90% CI: {b}-{c})\")\n",
    "\n",
    "b,a,c = np.round_(bootstrap(df_fairness[(df_fairness['A_Male']==1)&(df_fairness['B_Male']==1)], \\\n",
    "    agg_func=lambda df: df[(df['y_pred']==0)&(df['y_true']==1)]['id_A'].count()/df[df['y_pred']==0]['id_A'].count(), \\\n",
    "    num_bootstraps=10000, percentiles=[5,50,95]),3)\n",
    "\n",
    "print(f\"A and B Male - FNR: {a} (90% CI: {b}-{c})\")\n",
    "\n",
    "print(\"\\n\")\n",
    "\n",
    "b,a,c = np.round_(bootstrap(df_fairness[(df_fairness['A_Male']==0)&(df_fairness['B_Male']==0)], \\\n",
    "    agg_func=lambda df: df['correct_predict'].mean(), num_bootstraps=10000, percentiles=[5,50,95]),3)\n",
    "\n",
    "print(f\"A and B Non Male - accuracy: {a} (90% CI: {b}-{c})\")\n",
    "\n",
    "b,a,c = np.round_(bootstrap_by_pairs(df_fairness[(df_fairness['A_Male']==0)&(df_fairness['B_Male']==0)], \\\n",
    "    agg_func=lambda df: triplet_acc_fairness(df), num_bootstraps=100, percentiles=[5,50,95]), 3)\n",
    "\n",
    "print(f\"A and B Non Male - triplet accuracy: {a} (90% CI: {b}-{c})\")\n",
    "\n",
    "b,a,c = np.round_(bootstrap(df_fairness[(df_fairness['A_Male']==0)&(df_fairness['B_Male']==0)], \\\n",
    "    agg_func=lambda df: df[(df['y_pred']==1)&(df['y_true']==0)]['id_A'].count()/df[df['y_pred']==1]['id_A'].count(), \\\n",
    "    num_bootstraps=10000, percentiles=[5,50,95]),3)\n",
    "\n",
    "print(f\"A and B Non Male - FPR: {a} (90% CI: {b}-{c})\")\n",
    "\n",
    "b,a,c = np.round_(bootstrap(df_fairness[(df_fairness['A_Male']==0)&(df_fairness['B_Male']==0)], \\\n",
    "    agg_func=lambda df: df[(df['y_pred']==0)&(df['y_true']==1)]['id_A'].count()/df[df['y_pred']==0]['id_A'].count(), \\\n",
    "    num_bootstraps=10000, percentiles=[5,50,95]),3)\n",
    "\n",
    "print(f\"A and B Non Male - FNR: {a} (90% CI: {b}-{c})\")"
   ]
  },
  {
   "cell_type": "code",
   "execution_count": null,
   "metadata": {
    "execution": {
     "iopub.execute_input": "2021-09-28T20:18:02.652213Z",
     "iopub.status.busy": "2021-09-28T20:18:02.651919Z",
     "iopub.status.idle": "2021-09-28T20:23:30.134573Z",
     "shell.execute_reply": "2021-09-28T20:23:30.133526Z",
     "shell.execute_reply.started": "2021-09-28T20:18:02.652184Z"
    }
   },
   "outputs": [],
   "source": [
    "b,a,c = np.round_(bootstrap(df_fairness[(df_fairness['A_White']==1)&(df_fairness['B_White']==1)], \\\n",
    "    agg_func=lambda df: df['correct_predict'].mean(), num_bootstraps=10000, percentiles=[5,50,95]), 3)\n",
    "\n",
    "print(f\"A and B White - accuracy: {a} (90% CI: {b}-{c})\")\n",
    "\n",
    "b,a,c = np.round_(bootstrap_by_pairs(df_fairness[(df_fairness['A_White']==1)&(df_fairness['B_White']==1)], \\\n",
    "    agg_func=lambda df: triplet_acc_fairness(df), num_bootstraps=100, percentiles=[5,50,95]), 3)\n",
    "\n",
    "print(f\"A and B White - triplet accuracy: {a} (90% CI: {b}-{c})\")\n",
    "\n",
    "b,a,c = np.round_(bootstrap(df_fairness[(df_fairness['A_White']==1)&(df_fairness['B_White']==1)], \\\n",
    "    agg_func=lambda df: df[(df['y_pred']==1)&(df['y_true']==0)]['id_A'].count()/df[df['y_pred']==1]['id_A'].count(), \\\n",
    "    num_bootstraps=10000, percentiles=[5,50,95]),3)\n",
    "\n",
    "print(f\"A and B White - FPR: {a} (90% CI: {b}-{c})\")\n",
    "\n",
    "b,a,c = np.round_(bootstrap(df_fairness[(df_fairness['A_White']==1)&(df_fairness['B_White']==1)], \\\n",
    "    agg_func=lambda df: df[(df['y_pred']==0)&(df['y_true']==1)]['id_A'].count()/df[df['y_pred']==0]['id_A'].count(), \\\n",
    "    num_bootstraps=10000, percentiles=[5,50,95]),3)\n",
    "\n",
    "print(f\"A and B White - FNR: {a} (90% CI: {b}-{c})\")\n",
    "\n",
    "print(\"\\n\")\n",
    "\n",
    "b,a,c = np.round_(bootstrap(df_fairness[(df_fairness['A_White']==0)&(df_fairness['B_White']==0)], \\\n",
    "    agg_func=lambda df: df['correct_predict'].mean(), num_bootstraps=10000, percentiles=[5,50,95]),3)\n",
    "\n",
    "print(f\"A and B Non White - accuracy: {a} (90% CI: {b}-{c})\")\n",
    "\n",
    "b,a,c = np.round_(bootstrap_by_pairs(df_fairness[(df_fairness['A_White']==0)&(df_fairness['B_White']==0)], \\\n",
    "    agg_func=lambda df: triplet_acc_fairness(df), num_bootstraps=100, percentiles=[5,50,95]), 3)\n",
    "\n",
    "print(f\"A and B Non White - triplet accuracy: {a} (90% CI: {b}-{c})\")\n",
    "\n",
    "b,a,c = np.round_(bootstrap(df_fairness[(df_fairness['A_White']==0)&(df_fairness['B_White']==0)], \\\n",
    "    agg_func=lambda df: df[(df['y_pred']==1)&(df['y_true']==0)]['id_A'].count()/df[df['y_pred']==1]['id_A'].count(), \\\n",
    "    num_bootstraps=10000, percentiles=[5,50,95]),3)\n",
    "\n",
    "print(f\"A and B Non White - FPR: {a} (90% CI: {b}-{c})\")\n",
    "\n",
    "b,a,c = np.round_(bootstrap(df_fairness[(df_fairness['A_White']==0)&(df_fairness['B_White']==0)], \\\n",
    "    agg_func=lambda df: df[(df['y_pred']==0)&(df['y_true']==1)]['id_A'].count()/df[df['y_pred']==0]['id_A'].count(), \\\n",
    "    num_bootstraps=10000, percentiles=[5,50,95]),3)\n",
    "\n",
    "print(f\"A and B Non White - FNR: {a} (90% CI: {b}-{c})\")"
   ]
  },
  {
   "cell_type": "code",
   "execution_count": null,
   "metadata": {
    "execution": {
     "iopub.execute_input": "2021-09-28T20:23:30.136349Z",
     "iopub.status.busy": "2021-09-28T20:23:30.136024Z",
     "iopub.status.idle": "2021-09-28T20:30:05.534069Z",
     "shell.execute_reply": "2021-09-28T20:30:05.532826Z",
     "shell.execute_reply.started": "2021-09-28T20:23:30.136315Z"
    }
   },
   "outputs": [],
   "source": [
    "print(\"A and B White - mean accuracy: \", np.round_(bootstrap(df_fairness[(df_fairness['A_White']==1)&(df_fairness['B_White']==1)], \\\n",
    "    agg_func=lambda df: df['correct_predict'].mean(), num_bootstraps=10000, percentiles=[5,50,95]), 3))\n",
    "print(\"A and B White - triplet accuracy: \", np.round_(bootstrap_by_pairs(df_fairness[(df_fairness['A_White']==1)&(df_fairness['B_White']==1)], \\\n",
    "    agg_func=lambda df: triplet_acc_fairness(df), num_bootstraps=100, percentiles=[5,50,95]), 3))\n",
    "print(\"A and B White - FPR: \", np.round_(bootstrap(df_fairness[(df_fairness['A_White']==1)&(df_fairness['B_White']==1)], \\\n",
    "    agg_func=lambda df: df[(df['y_pred']==1)&(df['y_true']==0)]['id_A'].count()/df[df['y_pred']==1]['id_A'].count(), \\\n",
    "    num_bootstraps=10000, percentiles=[5,50,95]),3))\n",
    "print(\"A and B White - FNR: \", np.round_(bootstrap(df_fairness[(df_fairness['A_White']==1)&(df_fairness['B_White']==1)], \\\n",
    "    agg_func=lambda df: df[(df['y_pred']==0)&(df['y_true']==1)]['id_A'].count()/df[df['y_pred']==0]['id_A'].count(), \\\n",
    "    num_bootstraps=10000, percentiles=[5,50,95]),3))\n",
    "print(\"\\n\")\n",
    "print(\"A and B Black - mean accuracy: \", np.round_(bootstrap(df_fairness[(df_fairness['A_Black']==1)&(df_fairness['B_Black']==1)], \\\n",
    "    agg_func=lambda df: df['correct_predict'].mean(), num_bootstraps=10000, percentiles=[5,50,95]),3))\n",
    "print(\"A and B Black - triplet accuracy: \", np.round_(bootstrap_by_pairs(df_fairness[(df_fairness['A_Black']==1)&(df_fairness['B_Black']==1)], \\\n",
    "    agg_func=lambda df: triplet_acc_fairness(df), num_bootstraps=100, percentiles=[5,50,95]), 3))\n",
    "print(\"A and B Black - FPR: \", np.round_(bootstrap(df_fairness[(df_fairness['A_Black']==1)&(df_fairness['B_Black']==1)], \\\n",
    "    agg_func=lambda df: df[(df['y_pred']==1)&(df['y_true']==0)]['id_A'].count()/df[df['y_pred']==1]['id_A'].count(), \\\n",
    "    num_bootstraps=10000, percentiles=[5,50,95]),3))\n",
    "print(\"A and B Black - FNR: \", np.round_(bootstrap(df_fairness[(df_fairness['A_Black']==1)&(df_fairness['B_Black']==1)], \\\n",
    "    agg_func=lambda df: df[(df['y_pred']==0)&(df['y_true']==1)]['id_A'].count()/df[df['y_pred']==0]['id_A'].count(), \\\n",
    "    num_bootstraps=10000, percentiles=[5,50,95]),3))\n",
    "print(\"\\n\")\n",
    "print(\"A and B Asian - mean accuracy: \", np.round_(bootstrap(df_fairness[(df_fairness['A_Asian']==1)&(df_fairness['B_Asian']==1)], \\\n",
    "    agg_func=lambda df: df['correct_predict'].mean(), num_bootstraps=10000, percentiles=[5,50,95]), 3))\n",
    "print(\"A and B Asian - triplet accuracy: \", np.round_(bootstrap_by_pairs(df_fairness[(df_fairness['A_Asian']==1)&(df_fairness['B_Asian']==1)], \\\n",
    "    agg_func=lambda df: triplet_acc_fairness(df), num_bootstraps=100, percentiles=[5,50,95]), 3))\n",
    "print(\"A and B Asian - FPR: \", np.round_(bootstrap(df_fairness[(df_fairness['A_Asian']==1)&(df_fairness['B_Asian']==1)], \\\n",
    "    agg_func=lambda df: df[(df['y_pred']==1)&(df['y_true']==0)]['id_A'].count()/df[df['y_pred']==1]['id_A'].count(), \\\n",
    "    num_bootstraps=10000, percentiles=[5,50,95]),3))\n",
    "print(\"A and B Asian - FNR: \", np.round_(bootstrap(df_fairness[(df_fairness['A_Asian']==1)&(df_fairness['B_Asian']==1)], \\\n",
    "    agg_func=lambda df: df[(df['y_pred']==0)&(df['y_true']==1)]['id_A'].count()/df[df['y_pred']==0]['id_A'].count(), \\\n",
    "    num_bootstraps=10000, percentiles=[5,50,95]),3))\n",
    "print(\"\\n\")\n",
    "print(\"A and B Indian - mean accuracy: \", np.round_(bootstrap(df_fairness[(df_fairness['A_Indian']==1)&(df_fairness['B_Indian']==1)], \\\n",
    "    agg_func=lambda df: df['correct_predict'].mean(), num_bootstraps=10000, percentiles=[5,50,95]),3))\n",
    "print(\"A and B Indian - triplet accuracy: \", np.round_(bootstrap_by_pairs(df_fairness[(df_fairness['A_Indian']==1)&(df_fairness['B_Indian']==1)], \\\n",
    "    agg_func=lambda df: triplet_acc_fairness(df), num_bootstraps=100, percentiles=[5,50,95]), 3))\n",
    "print(\"A and B Indian - FPR: \", np.round_(bootstrap(df_fairness[(df_fairness['A_Indian']==1)&(df_fairness['B_Indian']==1)], \\\n",
    "    agg_func=lambda df: df[(df['y_pred']==1)&(df['y_true']==0)]['id_A'].count()/df[df['y_pred']==1]['id_A'].count(), \\\n",
    "    num_bootstraps=10000, percentiles=[5,50,95]),3))\n",
    "print(\"A and B Indian - FNR: \", np.round_(bootstrap(df_fairness[(df_fairness['A_Indian']==1)&(df_fairness['B_Indian']==1)], \\\n",
    "    agg_func=lambda df: df[(df['y_pred']==0)&(df['y_true']==1)]['id_A'].count()/df[df['y_pred']==0]['id_A'].count(), \\\n",
    "    num_bootstraps=10000, percentiles=[5,50,95]),3))"
   ]
  },
  {
   "cell_type": "code",
   "execution_count": null,
   "metadata": {
    "execution": {
     "iopub.execute_input": "2021-09-28T20:30:05.536043Z",
     "iopub.status.busy": "2021-09-28T20:30:05.535637Z",
     "iopub.status.idle": "2021-09-28T20:31:50.246234Z",
     "shell.execute_reply": "2021-09-28T20:31:50.245109Z",
     "shell.execute_reply.started": "2021-09-28T20:30:05.536Z"
    }
   },
   "outputs": [],
   "source": [
    "print(\"A and B Youth - mean accuracy: \", np.round_(bootstrap(df_fairness[(df_fairness['A_Youth']==1)&(df_fairness['B_Youth']==1)], \\\n",
    "    agg_func=lambda df: df['correct_predict'].mean(), num_bootstraps=10000, percentiles=[5,50,95]), 3))\n",
    "print(\"A and B Youth - triplet accuracy: \", np.round_(bootstrap_by_pairs(df_fairness[(df_fairness['A_Youth']==1)&(df_fairness['B_Youth']==1)], \\\n",
    "    agg_func=lambda df: triplet_acc_fairness(df), num_bootstraps=100, percentiles=[5,50,95]), 3))\n",
    "print(\"A and B Youth - FPR: \", np.round_(bootstrap(df_fairness[(df_fairness['A_Youth']==1)&(df_fairness['B_Youth']==1)], \\\n",
    "    agg_func=lambda df: df[(df['y_pred']==1)&(df['y_true']==0)]['id_A'].count()/df[df['y_pred']==1]['id_A'].count(), \\\n",
    "    num_bootstraps=10000, percentiles=[5,50,95]),3))\n",
    "print(\"A and B Youth - FNR: \", np.round_(bootstrap(df_fairness[(df_fairness['A_Youth']==1)&(df_fairness['B_Youth']==1)], \\\n",
    "    agg_func=lambda df: df[(df['y_pred']==0)&(df['y_true']==1)]['id_A'].count()/df[df['y_pred']==0]['id_A'].count(), \\\n",
    "    num_bootstraps=10000, percentiles=[5,50,95]),3))\n",
    "print(\"\\n\")\n",
    "print(\"A and B Senior - mean accuracy: \", np.round_(bootstrap(df_fairness[(df_fairness['A_Senior']==1)&(df_fairness['B_Senior']==1)], \\\n",
    "    agg_func=lambda df: df['correct_predict'].mean(), num_bootstraps=10000, percentiles=[5,50,95]),3))\n",
    "print(\"A and B Senior - triplet accuracy: \", np.round_(bootstrap_by_pairs(df_fairness[(df_fairness['A_Senior']==1)&(df_fairness['B_Senior']==1)], \\\n",
    "    agg_func=lambda df: triplet_acc_fairness(df), num_bootstraps=100, percentiles=[5,50,95]), 3))\n",
    "print(\"A and B Senior - FPR: \", np.round_(bootstrap(df_fairness[(df_fairness['A_Senior']==1)&(df_fairness['B_Senior']==1)], \\\n",
    "    agg_func=lambda df: df[(df['y_pred']==1)&(df['y_true']==0)]['id_A'].count()/df[df['y_pred']==1]['id_A'].count(), \\\n",
    "    num_bootstraps=10000, percentiles=[5,50,95]),3))\n",
    "print(\"A and B Senior - FNR: \", np.round_(bootstrap(df_fairness[(df_fairness['A_Senior']==1)&(df_fairness['B_Senior']==1)], \\\n",
    "    agg_func=lambda df: df[(df['y_pred']==0)&(df['y_true']==1)]['id_A'].count()/df[df['y_pred']==0]['id_A'].count(), \\\n",
    "    num_bootstraps=10000, percentiles=[5,50,95]),3))"
   ]
  },
  {
   "cell_type": "code",
   "execution_count": null,
   "metadata": {
    "execution": {
     "iopub.execute_input": "2021-09-28T20:31:50.248017Z",
     "iopub.status.busy": "2021-09-28T20:31:50.247736Z"
    }
   },
   "outputs": [],
   "source": [
    "print(\"A and B Sunglasses - mean accuracy: \", np.round_(bootstrap(df_fairness[(df_fairness['A_Sunglasses']==1)&(df_fairness['B_Sunglasses']==1)], \\\n",
    "    agg_func=lambda df: df['correct_predict'].mean(), num_bootstraps=10000, percentiles=[5,50,95]), 3))\n",
    "print(\"A and B Sunglasses - triplet accuracy: \", np.round_(bootstrap_by_pairs(df_fairness[(df_fairness['A_Sunglasses']==1)&(df_fairness['B_Sunglasses']==1)], \\\n",
    "    agg_func=lambda df: triplet_acc_fairness(df), num_bootstraps=100, percentiles=[5,50,95]), 3))\n",
    "print(\"A and B Sunglasses - FPR: \", np.round_(bootstrap(df_fairness[(df_fairness['A_Sunglasses']==1)&(df_fairness['B_Sunglasses']==1)], \\\n",
    "    agg_func=lambda df: df[(df['y_pred']==1)&(df['y_true']==0)]['id_A'].count()/df[df['y_pred']==1]['id_A'].count(), \\\n",
    "    num_bootstraps=10000, percentiles=[5,50,95]),3))\n",
    "print(\"A and B Sunglasses - FNR: \", np.round_(bootstrap(df_fairness[(df_fairness['A_Sunglasses']==1)&(df_fairness['B_Sunglasses']==1)], \\\n",
    "    agg_func=lambda df: df[(df['y_pred']==0)&(df['y_true']==1)]['id_A'].count()/df[df['y_pred']==0]['id_A'].count(), \\\n",
    "    num_bootstraps=10000, percentiles=[5,50,95]),3))\n",
    "print(\"\\n\")\n",
    "print(\"A and B Non Sunglasses - mean accuracy: \", np.round_(bootstrap(df_fairness[(df_fairness['A_Sunglasses']==0)&(df_fairness['B_Sunglasses']==0)], \\\n",
    "    agg_func=lambda df: df['correct_predict'].mean(), num_bootstraps=10000, percentiles=[5,50,95]),3))\n",
    "print(\"A and B Non Sunglasses - triplet accuracy: \", np.round_(bootstrap_by_pairs(df_fairness[(df_fairness['A_Sunglasses']==0)&(df_fairness['B_Sunglasses']==0)], \\\n",
    "    agg_func=lambda df: triplet_acc_fairness(df), num_bootstraps=100, percentiles=[5,50,95]), 3))\n",
    "print(\"A and B Non Sunglasses - FPR: \", np.round_(bootstrap(df_fairness[(df_fairness['A_Sunglasses']==0)&(df_fairness['B_Sunglasses']==0)], \\\n",
    "    agg_func=lambda df: df[(df['y_pred']==1)&(df['y_true']==0)]['id_A'].count()/df[df['y_pred']==1]['id_A'].count(), \\\n",
    "    num_bootstraps=10000, percentiles=[5,50,95]),3))\n",
    "print(\"A and B Non Sunglasses - FNR: \", np.round_(bootstrap(df_fairness[(df_fairness['A_Sunglasses']==0)&(df_fairness['B_Sunglasses']==0)], \\\n",
    "    agg_func=lambda df: df[(df['y_pred']==0)&(df['y_true']==1)]['id_A'].count()/df[df['y_pred']==0]['id_A'].count(), \\\n",
    "    num_bootstraps=10000, percentiles=[5,50,95]),3))"
   ]
  },
  {
   "cell_type": "code",
   "execution_count": null,
   "metadata": {},
   "outputs": [],
   "source": []
  }
 ],
 "metadata": {
  "kernelspec": {
   "display_name": "Python 3 (ipykernel)",
   "language": "python",
   "name": "python3"
  },
  "language_info": {
   "codemirror_mode": {
    "name": "ipython",
    "version": 3
   },
   "file_extension": ".py",
   "mimetype": "text/x-python",
   "name": "python",
   "nbconvert_exporter": "python",
   "pygments_lexer": "ipython3",
   "version": "3.9.12"
  }
 },
 "nbformat": 4,
 "nbformat_minor": 4
}

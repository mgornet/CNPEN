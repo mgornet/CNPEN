{
 "cells": [
  {
   "cell_type": "markdown",
   "metadata": {
    "id": "cq6PdPGN4DJu"
   },
   "source": [
    "# Triplet Loss with Faces -- Determine Threshold"
   ]
  },
  {
   "cell_type": "markdown",
   "metadata": {},
   "source": [
    "## Initialization"
   ]
  },
  {
   "cell_type": "code",
   "execution_count": 1,
   "metadata": {
    "id": "2r4GrySt26Q-",
    "outputId": "4890c780-31f1-4532-d4a7-64f7412ea780"
   },
   "outputs": [],
   "source": [
    "# !pip install torch"
   ]
  },
  {
   "cell_type": "code",
   "execution_count": 2,
   "metadata": {
    "id": "elsPIhAzrPL-",
    "outputId": "486d7b03-5889-4c28-c71e-b1e169f7e026"
   },
   "outputs": [],
   "source": [
    "# !pip install mat73"
   ]
  },
  {
   "cell_type": "code",
   "execution_count": 3,
   "metadata": {
    "id": "FyTWhJXMpRex",
    "outputId": "dcfa38a7-4bd7-4b6b-e6b4-d96298974042"
   },
   "outputs": [],
   "source": [
    "# !pip install wandb -qqq\n",
    "# import wandb"
   ]
  },
  {
   "cell_type": "code",
   "execution_count": 4,
   "metadata": {
    "id": "N2ZqMDMrKeFi",
    "outputId": "6ddb3d01-83e5-4bb2-a378-54748c3c742c"
   },
   "outputs": [],
   "source": [
    "# !git clone https://github.com/mgornet/CNPEN"
   ]
  },
  {
   "cell_type": "markdown",
   "metadata": {
    "id": "MW_MVwhYwRiH"
   },
   "source": [
    "### Check device"
   ]
  },
  {
   "cell_type": "code",
   "execution_count": 5,
   "metadata": {
    "id": "zruTnsd7wTz6",
    "outputId": "66c9d4a5-2768-45b6-d901-16ab0b7d9081",
    "tags": []
   },
   "outputs": [
    {
     "name": "stdout",
     "output_type": "stream",
     "text": [
      "Tue Nov 22 10:29:55 2022       \n",
      "+-----------------------------------------------------------------------------+\n",
      "| NVIDIA-SMI 510.85.02    Driver Version: 510.85.02    CUDA Version: 11.6     |\n",
      "|-------------------------------+----------------------+----------------------+\n",
      "| GPU  Name        Persistence-M| Bus-Id        Disp.A | Volatile Uncorr. ECC |\n",
      "| Fan  Temp  Perf  Pwr:Usage/Cap|         Memory-Usage | GPU-Util  Compute M. |\n",
      "|                               |                      |               MIG M. |\n",
      "|===============================+======================+======================|\n",
      "|   0  NVIDIA RTX A400...  Off  | 00000000:01:00.0  On |                  N/A |\n",
      "| N/A   59C    P8    21W /  N/A |   3109MiB /  8192MiB |     12%      Default |\n",
      "|                               |                      |                  N/A |\n",
      "+-------------------------------+----------------------+----------------------+\n",
      "                                                                               \n",
      "+-----------------------------------------------------------------------------+\n",
      "| Processes:                                                                  |\n",
      "|  GPU   GI   CI        PID   Type   Process name                  GPU Memory |\n",
      "|        ID   ID                                                   Usage      |\n",
      "|=============================================================================|\n",
      "|    0   N/A  N/A      1756      G   /usr/lib/xorg/Xorg                 65MiB |\n",
      "|    0   N/A  N/A      2625      G   /usr/lib/xorg/Xorg                162MiB |\n",
      "|    0   N/A  N/A      2754      G   /usr/bin/gnome-shell               44MiB |\n",
      "|    0   N/A  N/A      6474      G   ...411073793531784828,131072      215MiB |\n",
      "|    0   N/A  N/A     12080      C   ...envs/face_reco/bin/python     2609MiB |\n",
      "+-----------------------------------------------------------------------------+\n"
     ]
    }
   ],
   "source": [
    "!nvidia-smi"
   ]
  },
  {
   "cell_type": "markdown",
   "metadata": {
    "id": "IJK8gGmS4dsb"
   },
   "source": [
    "### Import Librairies"
   ]
  },
  {
   "cell_type": "code",
   "execution_count": 6,
   "metadata": {
    "id": "JyM1GtzC2_zh",
    "tags": []
   },
   "outputs": [],
   "source": [
    "import numpy as np\n",
    "import random\n",
    "import matplotlib.pyplot as plt\n",
    "from tqdm.notebook import tqdm\n",
    "from time import perf_counter\n",
    "from typing import Callable\n",
    "import itertools\n",
    "import mat73\n",
    "import pandas as pd\n",
    "import re\n",
    "\n",
    "import sys\n",
    "import os\n",
    "import tarfile\n",
    "\n",
    "from sklearn.datasets import load_digits\n",
    "from sklearn.model_selection import train_test_split\n",
    "\n",
    "import torch\n",
    "from torch import nn, optim\n",
    "import torch.nn.functional as F\n",
    "\n",
    "from torch.utils.data import DataLoader, Dataset\n",
    "from torchvision import datasets, transforms\n",
    "\n",
    "import os.path as op\n",
    "try:\n",
    "    from urllib.request import urlretrieve\n",
    "except ImportError:  # Python 2 compat\n",
    "    from urllib import urlretrieve\n",
    "    \n",
    "from sklearn.metrics import confusion_matrix, auc, roc_curve, \\\n",
    "precision_recall_curve, accuracy_score, f1_score\n",
    "from sklearn.linear_model import LogisticRegression\n",
    "from scipy import optimize\n",
    "import wandb"
   ]
  },
  {
   "cell_type": "code",
   "execution_count": 7,
   "metadata": {
    "id": "ix4Yn3BoLNfx",
    "outputId": "7947880c-ab47-4393-c5d6-be37199febe6",
    "tags": []
   },
   "outputs": [
    {
     "name": "stdout",
     "output_type": "stream",
     "text": [
      "/home/mgornet/Bureau/Code/CNPEN/files\n"
     ]
    }
   ],
   "source": [
    "%cd ./files/\n",
    "\n",
    "from triplet import TripletGenerator, TripletLearner, TripletLoss, TripletLossRaw, \\\n",
    "distance, distance_vectors\n",
    "from builder import create_dataframe, from_tensor_to_numpy, from_numpy_to_tensor, extend_dataframe\n",
    "from prints import print_img, print_img_from_path, print_img_from_id, \\\n",
    "print_img_from_classid, print_from_gen, print_from_gen2, print_pair, print_hist_loss, \\\n",
    "print_hist_dist, print_hist_dist_zoom, print_img_category, \\\n",
    "print_roc, print_logistic_regression, print_prec_recall\n",
    "from test_train_loops import training, testing, adaptative_train, compute_distances\n",
    "from classification import authentification_img, predict, triplet_acc, build_threshold"
   ]
  },
  {
   "cell_type": "code",
   "execution_count": 8,
   "metadata": {
    "id": "dNWBFp1aLev5",
    "outputId": "780215a4-2505-447d-86e6-385dd44f016e",
    "tags": []
   },
   "outputs": [
    {
     "name": "stdout",
     "output_type": "stream",
     "text": [
      "/home/mgornet/Bureau/Code/CNPEN/files\n"
     ]
    }
   ],
   "source": [
    "!pwd"
   ]
  },
  {
   "cell_type": "markdown",
   "metadata": {
    "id": "Hp8S6_Nu4muA"
   },
   "source": [
    "## Generate Data"
   ]
  },
  {
   "cell_type": "markdown",
   "metadata": {},
   "source": [
    "### Create dataframe"
   ]
  },
  {
   "cell_type": "code",
   "execution_count": 9,
   "metadata": {
    "id": "0HQV0dwQiLvS",
    "outputId": "343cfafa-cadf-4554-f5a1-90e52f96afca",
    "tags": []
   },
   "outputs": [],
   "source": [
    "URL = \"http://vis-www.cs.umass.edu/lfw/lfw-deepfunneled.tgz\"\n",
    "FILENAME = \"lfw-deepfunneled.tgz\"\n",
    "\n",
    "if not op.exists(FILENAME):\n",
    "    print('Downloading %s to %s...' % (URL, FILENAME))\n",
    "    urlretrieve(URL, FILENAME)\n",
    "\n",
    "if not op.exists(\"lfw\"):\n",
    "    print('Extracting image files...')\n",
    "    tar = tarfile.open(\"lfw-deepfunneled.tgz\")\n",
    "    tar.extractall(\"lfw\")\n",
    "    tar.close()"
   ]
  },
  {
   "cell_type": "code",
   "execution_count": 10,
   "metadata": {
    "id": "jtFwuCt4iSgy",
    "tags": []
   },
   "outputs": [],
   "source": [
    "PATH = \"lfw/lfw-deepfunneled/\""
   ]
  },
  {
   "cell_type": "code",
   "execution_count": 11,
   "metadata": {
    "id": "pW3OOgQXOLa-",
    "outputId": "8cb4ccff-40ca-44aa-b9f0-3e7244731cfe",
    "tags": []
   },
   "outputs": [
    {
     "name": "stdout",
     "output_type": "stream",
     "text": [
      "Number of individuals:  5749\n",
      "Number of total images:  13233\n",
      "images weigh  0.57 GB\n",
      "DataFrame creation: 1.3 min\n"
     ]
    }
   ],
   "source": [
    "tic = perf_counter()\n",
    "df_init, all_imgs = create_dataframe()\n",
    "toc = perf_counter()\n",
    "print(f\"DataFrame creation: {((toc - tic)/60):.1f} min\")"
   ]
  },
  {
   "cell_type": "code",
   "execution_count": 12,
   "metadata": {
    "tags": []
   },
   "outputs": [
    {
     "name": "stdout",
     "output_type": "stream",
     "text": [
      "DataFrame extention: 0.1 min\n"
     ]
    }
   ],
   "source": [
    "tic = perf_counter()\n",
    "df = extend_dataframe(df_init)\n",
    "toc = perf_counter()\n",
    "print(f\"DataFrame extention: {((toc - tic)/60):.1f} min\")"
   ]
  },
  {
   "cell_type": "markdown",
   "metadata": {
    "id": "gjPcX2sdTQz4"
   },
   "source": [
    "### Build sets, generators and network"
   ]
  },
  {
   "cell_type": "code",
   "execution_count": 13,
   "metadata": {
    "id": "9YhsU5iYDx0c",
    "outputId": "fe319f34-b66f-4601-d05c-25dabcaa1656",
    "tags": []
   },
   "outputs": [
    {
     "name": "stdout",
     "output_type": "stream",
     "text": [
      "Number of individuals:  5749\n"
     ]
    }
   ],
   "source": [
    "num_classes = len(df.Classid.unique())\n",
    "print(\"Number of individuals: \", num_classes)"
   ]
  },
  {
   "cell_type": "code",
   "execution_count": 14,
   "metadata": {
    "id": "SX80fCGkn702",
    "tags": []
   },
   "outputs": [],
   "source": [
    "indiv_min = df.Classid.min()\n",
    "split_train_valid = int(num_classes * 0.75)\n",
    "split_train_test = int(num_classes * 0.8)\n",
    "indiv_max = df.Classid.max()"
   ]
  },
  {
   "cell_type": "code",
   "execution_count": 15,
   "metadata": {
    "id": "1rHLE3kHcCyp",
    "outputId": "5291153a-b4d0-4bf5-d690-25979aafaeee",
    "tags": []
   },
   "outputs": [
    {
     "name": "stdout",
     "output_type": "stream",
     "text": [
      "Train set from indiv 0 to 4310\n",
      "Valid set from indiv 4311 to 4598\n",
      "Test set from indiv 4599 to 5748\n"
     ]
    }
   ],
   "source": [
    "print(f\"Train set from indiv {indiv_min} to {split_train_valid-1}\")\n",
    "print(f\"Valid set from indiv {split_train_valid} to {split_train_test-1}\")\n",
    "print(f\"Test set from indiv {split_train_test} to {indiv_max}\")"
   ]
  },
  {
   "cell_type": "code",
   "execution_count": 16,
   "metadata": {
    "id": "P0vpXVlscwOA",
    "tags": []
   },
   "outputs": [],
   "source": [
    "df_train = df[df.Classid<split_train_valid]\n",
    "df_valid = df[(df.Classid>=split_train_valid)]#&(df.Classid<split_train_test)]\n",
    "# df_test = df[df.Classid>=split_train_test]\n",
    "df_test = df_valid"
   ]
  },
  {
   "cell_type": "code",
   "execution_count": 17,
   "metadata": {
    "id": "6y6Lmu7UTQz6",
    "outputId": "28af2b3b-e25e-4e31-d548-10f4f98de50e",
    "tags": []
   },
   "outputs": [
    {
     "name": "stdout",
     "output_type": "stream",
     "text": [
      "Number of training images:  10060\n",
      "Number of validation images:  3173\n",
      "Number of testing images:  3173\n",
      "Number of total images:  16406\n",
      "len original:  13233\n"
     ]
    }
   ],
   "source": [
    "print(\"Number of training images: \", len(df_train))\n",
    "print(\"Number of validation images: \", len(df_valid))\n",
    "print(\"Number of testing images: \", len(df_test))\n",
    "print(\"Number of total images: \", len(df_train)+len(df_valid)+len(df_test))\n",
    "print(\"len original: \", len(df))"
   ]
  },
  {
   "cell_type": "code",
   "execution_count": 18,
   "metadata": {
    "id": "LeMZhCJtTQz6",
    "outputId": "a253f6dc-6c2e-4ae6-d2f3-5be83a67603d",
    "tags": []
   },
   "outputs": [
    {
     "name": "stdout",
     "output_type": "stream",
     "text": [
      "Number of individuals in the training set:  4311\n",
      "Number of individuals in the validation set:  1438\n",
      "Number of individuals in the testing set:  1438\n"
     ]
    }
   ],
   "source": [
    "print(\"Number of individuals in the training set: \", len(df_train.Classid.unique()))\n",
    "print(\"Number of individuals in the validation set: \", len(df_valid.Classid.unique()))\n",
    "print(\"Number of individuals in the testing set: \", len(df_test.Classid.unique()))"
   ]
  },
  {
   "cell_type": "code",
   "execution_count": 19,
   "metadata": {
    "id": "44sct3lGTQz7",
    "outputId": "f430af11-01cd-4696-eedf-f9e66aca0a4e",
    "tags": []
   },
   "outputs": [
    {
     "name": "stdout",
     "output_type": "stream",
     "text": [
      "Number of individuals with more than one image in the training set:  1267\n",
      "Number of individuals with more than one image in the validation set:  413\n",
      "Number of individuals with more than one image in the testing set:  413\n"
     ]
    }
   ],
   "source": [
    "value_count = df_train.Classid.value_counts()\n",
    "print(\"Number of individuals with more than one image in the training set: \", len(value_count[value_count.values>1]))\n",
    "value_count = df_valid.Classid.value_counts()\n",
    "print(\"Number of individuals with more than one image in the validation set: \", len(value_count[value_count.values>1]))\n",
    "value_count = df_test.Classid.value_counts()\n",
    "print(\"Number of individuals with more than one image in the testing set: \", len(value_count[value_count.values>1]))"
   ]
  },
  {
   "cell_type": "code",
   "execution_count": 20,
   "metadata": {
    "id": "nkVW9HZq9K9e",
    "outputId": "cd5adc42-7ad9-468a-8aee-9039c7cc30d9",
    "tags": []
   },
   "outputs": [
    {
     "data": {
      "text/html": [
       "<div>\n",
       "<style scoped>\n",
       "    .dataframe tbody tr th:only-of-type {\n",
       "        vertical-align: middle;\n",
       "    }\n",
       "\n",
       "    .dataframe tbody tr th {\n",
       "        vertical-align: top;\n",
       "    }\n",
       "\n",
       "    .dataframe thead th {\n",
       "        text-align: right;\n",
       "    }\n",
       "</style>\n",
       "<table border=\"1\" class=\"dataframe\">\n",
       "  <thead>\n",
       "    <tr style=\"text-align: right;\">\n",
       "      <th></th>\n",
       "      <th>Classid</th>\n",
       "      <th>Name</th>\n",
       "      <th>Path</th>\n",
       "      <th>Male</th>\n",
       "      <th>Asian</th>\n",
       "      <th>White</th>\n",
       "      <th>Black</th>\n",
       "      <th>Baby</th>\n",
       "      <th>Child</th>\n",
       "      <th>Youth</th>\n",
       "      <th>...</th>\n",
       "      <th>Pale Skin</th>\n",
       "      <th>5 o Clock Shadow</th>\n",
       "      <th>Strong Nose-Mouth Lines</th>\n",
       "      <th>Wearing Lipstick</th>\n",
       "      <th>Flushed Face</th>\n",
       "      <th>High Cheekbones</th>\n",
       "      <th>Brown Eyes</th>\n",
       "      <th>Wearing Earrings</th>\n",
       "      <th>Wearing Necktie</th>\n",
       "      <th>Wearing Necklace</th>\n",
       "    </tr>\n",
       "  </thead>\n",
       "  <tbody>\n",
       "    <tr>\n",
       "      <th>10060</th>\n",
       "      <td>4311</td>\n",
       "      <td>Pedro_Solbes</td>\n",
       "      <td>Pedro_Solbes/Pedro_Solbes_0001.jpg</td>\n",
       "      <td>1.0</td>\n",
       "      <td>0.0</td>\n",
       "      <td>1.0</td>\n",
       "      <td>0.0</td>\n",
       "      <td>0.0</td>\n",
       "      <td>0.0</td>\n",
       "      <td>0.0</td>\n",
       "      <td>...</td>\n",
       "      <td>0.0</td>\n",
       "      <td>1.0</td>\n",
       "      <td>1.0</td>\n",
       "      <td>0.0</td>\n",
       "      <td>0.0</td>\n",
       "      <td>1.0</td>\n",
       "      <td>1.0</td>\n",
       "      <td>0.0</td>\n",
       "      <td>1.0</td>\n",
       "      <td>0.0</td>\n",
       "    </tr>\n",
       "    <tr>\n",
       "      <th>10061</th>\n",
       "      <td>4311</td>\n",
       "      <td>Pedro_Solbes</td>\n",
       "      <td>Pedro_Solbes/Pedro_Solbes_0002.jpg</td>\n",
       "      <td>1.0</td>\n",
       "      <td>0.0</td>\n",
       "      <td>1.0</td>\n",
       "      <td>0.0</td>\n",
       "      <td>0.0</td>\n",
       "      <td>0.0</td>\n",
       "      <td>0.0</td>\n",
       "      <td>...</td>\n",
       "      <td>0.0</td>\n",
       "      <td>1.0</td>\n",
       "      <td>1.0</td>\n",
       "      <td>0.0</td>\n",
       "      <td>0.0</td>\n",
       "      <td>0.0</td>\n",
       "      <td>1.0</td>\n",
       "      <td>0.0</td>\n",
       "      <td>1.0</td>\n",
       "      <td>0.0</td>\n",
       "    </tr>\n",
       "    <tr>\n",
       "      <th>10062</th>\n",
       "      <td>4311</td>\n",
       "      <td>Pedro_Solbes</td>\n",
       "      <td>Pedro_Solbes/Pedro_Solbes_0003.jpg</td>\n",
       "      <td>1.0</td>\n",
       "      <td>0.0</td>\n",
       "      <td>1.0</td>\n",
       "      <td>0.0</td>\n",
       "      <td>0.0</td>\n",
       "      <td>0.0</td>\n",
       "      <td>0.0</td>\n",
       "      <td>...</td>\n",
       "      <td>0.0</td>\n",
       "      <td>1.0</td>\n",
       "      <td>0.0</td>\n",
       "      <td>0.0</td>\n",
       "      <td>0.0</td>\n",
       "      <td>0.0</td>\n",
       "      <td>1.0</td>\n",
       "      <td>0.0</td>\n",
       "      <td>1.0</td>\n",
       "      <td>0.0</td>\n",
       "    </tr>\n",
       "    <tr>\n",
       "      <th>10063</th>\n",
       "      <td>4311</td>\n",
       "      <td>Pedro_Solbes</td>\n",
       "      <td>Pedro_Solbes/Pedro_Solbes_0004.jpg</td>\n",
       "      <td>1.0</td>\n",
       "      <td>0.0</td>\n",
       "      <td>1.0</td>\n",
       "      <td>0.0</td>\n",
       "      <td>0.0</td>\n",
       "      <td>0.0</td>\n",
       "      <td>0.0</td>\n",
       "      <td>...</td>\n",
       "      <td>1.0</td>\n",
       "      <td>1.0</td>\n",
       "      <td>1.0</td>\n",
       "      <td>0.0</td>\n",
       "      <td>0.0</td>\n",
       "      <td>0.0</td>\n",
       "      <td>1.0</td>\n",
       "      <td>0.0</td>\n",
       "      <td>0.0</td>\n",
       "      <td>0.0</td>\n",
       "    </tr>\n",
       "    <tr>\n",
       "      <th>10064</th>\n",
       "      <td>4312</td>\n",
       "      <td>Pedro_Velasquez</td>\n",
       "      <td>Pedro_Velasquez/Pedro_Velasquez_0001.jpg</td>\n",
       "      <td>1.0</td>\n",
       "      <td>0.0</td>\n",
       "      <td>1.0</td>\n",
       "      <td>0.0</td>\n",
       "      <td>0.0</td>\n",
       "      <td>0.0</td>\n",
       "      <td>0.0</td>\n",
       "      <td>...</td>\n",
       "      <td>1.0</td>\n",
       "      <td>1.0</td>\n",
       "      <td>1.0</td>\n",
       "      <td>0.0</td>\n",
       "      <td>0.0</td>\n",
       "      <td>0.0</td>\n",
       "      <td>0.0</td>\n",
       "      <td>0.0</td>\n",
       "      <td>1.0</td>\n",
       "      <td>0.0</td>\n",
       "    </tr>\n",
       "  </tbody>\n",
       "</table>\n",
       "<p>5 rows × 76 columns</p>\n",
       "</div>"
      ],
      "text/plain": [
       "       Classid             Name                                      Path  \\\n",
       "10060     4311     Pedro_Solbes        Pedro_Solbes/Pedro_Solbes_0001.jpg   \n",
       "10061     4311     Pedro_Solbes        Pedro_Solbes/Pedro_Solbes_0002.jpg   \n",
       "10062     4311     Pedro_Solbes        Pedro_Solbes/Pedro_Solbes_0003.jpg   \n",
       "10063     4311     Pedro_Solbes        Pedro_Solbes/Pedro_Solbes_0004.jpg   \n",
       "10064     4312  Pedro_Velasquez  Pedro_Velasquez/Pedro_Velasquez_0001.jpg   \n",
       "\n",
       "       Male  Asian  White  Black  Baby  Child  Youth  ...  Pale Skin  \\\n",
       "10060   1.0    0.0    1.0    0.0   0.0    0.0    0.0  ...        0.0   \n",
       "10061   1.0    0.0    1.0    0.0   0.0    0.0    0.0  ...        0.0   \n",
       "10062   1.0    0.0    1.0    0.0   0.0    0.0    0.0  ...        0.0   \n",
       "10063   1.0    0.0    1.0    0.0   0.0    0.0    0.0  ...        1.0   \n",
       "10064   1.0    0.0    1.0    0.0   0.0    0.0    0.0  ...        1.0   \n",
       "\n",
       "       5 o Clock Shadow  Strong Nose-Mouth Lines  Wearing Lipstick  \\\n",
       "10060               1.0                      1.0               0.0   \n",
       "10061               1.0                      1.0               0.0   \n",
       "10062               1.0                      0.0               0.0   \n",
       "10063               1.0                      1.0               0.0   \n",
       "10064               1.0                      1.0               0.0   \n",
       "\n",
       "       Flushed Face  High Cheekbones  Brown Eyes  Wearing Earrings  \\\n",
       "10060           0.0              1.0         1.0               0.0   \n",
       "10061           0.0              0.0         1.0               0.0   \n",
       "10062           0.0              0.0         1.0               0.0   \n",
       "10063           0.0              0.0         1.0               0.0   \n",
       "10064           0.0              0.0         0.0               0.0   \n",
       "\n",
       "       Wearing Necktie  Wearing Necklace  \n",
       "10060              1.0               0.0  \n",
       "10061              1.0               0.0  \n",
       "10062              1.0               0.0  \n",
       "10063              0.0               0.0  \n",
       "10064              1.0               0.0  \n",
       "\n",
       "[5 rows x 76 columns]"
      ]
     },
     "execution_count": 20,
     "metadata": {},
     "output_type": "execute_result"
    }
   ],
   "source": [
    "df_valid.head()"
   ]
  },
  {
   "cell_type": "code",
   "execution_count": 21,
   "metadata": {
    "id": "otF4YNywkl2O",
    "tags": []
   },
   "outputs": [],
   "source": [
    "BATCH_SIZE = 128 # 128\n",
    "BATCH_VALID_SIZE = 128 #128 #8\n",
    "BATCH_TEST_SIZE = 128 #128 #32"
   ]
  },
  {
   "cell_type": "code",
   "execution_count": 22,
   "metadata": {
    "id": "IhO6Pj2q3tnM",
    "tags": []
   },
   "outputs": [],
   "source": [
    "device = torch.device(\"cuda:0\" if torch.cuda.is_available() else \"cpu\")\n",
    "margin = 0.2\n",
    "criterion = TripletLoss(margin)\n",
    "criterion_test = TripletLossRaw(margin)"
   ]
  },
  {
   "cell_type": "markdown",
   "metadata": {
    "id": "iSBWwAmCx-0b"
   },
   "source": [
    "### Load Model"
   ]
  },
  {
   "cell_type": "code",
   "execution_count": 23,
   "metadata": {
    "id": "vEb1cNtrx9lD",
    "tags": []
   },
   "outputs": [
    {
     "data": {
      "text/plain": [
       "TripletLearner(\n",
       "  (conv): Sequential(\n",
       "    (0): Conv2d(3, 32, kernel_size=(3, 3), stride=(1, 1), padding=(1, 1))\n",
       "    (1): ReLU()\n",
       "    (2): Conv2d(32, 32, kernel_size=(3, 3), stride=(1, 1), padding=(1, 1))\n",
       "    (3): ReLU()\n",
       "    (4): MaxPool2d(kernel_size=2, stride=2, padding=0, dilation=1, ceil_mode=False)\n",
       "    (5): Conv2d(32, 64, kernel_size=(3, 3), stride=(1, 1), padding=(1, 1))\n",
       "    (6): ReLU()\n",
       "    (7): Conv2d(64, 64, kernel_size=(3, 3), stride=(1, 1), padding=(1, 1))\n",
       "    (8): ReLU()\n",
       "    (9): MaxPool2d(kernel_size=2, stride=2, padding=0, dilation=1, ceil_mode=False)\n",
       "    (10): Conv2d(64, 128, kernel_size=(3, 3), stride=(1, 1), padding=(1, 1))\n",
       "    (11): ReLU()\n",
       "    (12): Conv2d(128, 128, kernel_size=(3, 3), stride=(1, 1), padding=(1, 1))\n",
       "    (13): ReLU()\n",
       "    (14): MaxPool2d(kernel_size=2, stride=2, padding=0, dilation=1, ceil_mode=False)\n",
       "    (15): Conv2d(128, 256, kernel_size=(3, 3), stride=(1, 1), padding=(1, 1))\n",
       "    (16): ReLU()\n",
       "    (17): Conv2d(256, 256, kernel_size=(3, 3), stride=(1, 1), padding=(1, 1))\n",
       "    (18): ReLU()\n",
       "    (19): MaxPool2d(kernel_size=2, stride=2, padding=0, dilation=1, ceil_mode=False)\n",
       "    (20): Conv2d(256, 512, kernel_size=(3, 3), stride=(1, 1), padding=(1, 1))\n",
       "    (21): ReLU()\n",
       "    (22): Conv2d(512, 512, kernel_size=(3, 3), stride=(1, 1), padding=(1, 1))\n",
       "    (23): ReLU()\n",
       "  )\n",
       "  (avg): AvgPool2d(kernel_size=3, stride=3, padding=0)\n",
       "  (fc): Sequential(\n",
       "    (0): Dropout(p=0, inplace=False)\n",
       "    (1): Linear(in_features=512, out_features=512, bias=True)\n",
       "  )\n",
       ")"
      ]
     },
     "execution_count": 23,
     "metadata": {},
     "output_type": "execute_result"
    }
   ],
   "source": [
    "# Load pretrained model\n",
    "\n",
    "model = TripletLearner(base_channels=32)\n",
    "model.load_state_dict(torch.load(\"../models/in_article/base_600.pth\",map_location=torch.device('cpu'))) #without_jitter_and_p\n",
    "model = model.to(device)\n",
    "model.eval()"
   ]
  },
  {
   "cell_type": "code",
   "execution_count": 24,
   "metadata": {},
   "outputs": [
    {
     "name": "stderr",
     "output_type": "stream",
     "text": [
      "/home/mgornet/Bureau/Code/CNPEN/files/triplet.py:253: UserWarning: Number of unique identities with more than 2 pictures (413) is not divisible by batch_size (128). Remainder: 29\n",
      "  warnings.warn(\n"
     ]
    }
   ],
   "source": [
    "# Build generator and loader\n",
    "\n",
    "gen = TripletGenerator(df_valid, all_imgs, BATCH_VALID_SIZE, device, model, margin)\n",
    "loader = DataLoader(gen, batch_size=None, shuffle=True)"
   ]
  },
  {
   "cell_type": "code",
   "execution_count": 25,
   "metadata": {},
   "outputs": [
    {
     "name": "stderr",
     "output_type": "stream",
     "text": [
      "/home/mgornet/Bureau/Code/CNPEN/files/triplet.py:243: UserWarning: Batch size number was changed from 128 to 20 because there are only 20 individuals with more than 2 pictures.\n",
      "  warnings.warn(\n"
     ]
    }
   ],
   "source": [
    "gen_black = TripletGenerator(df_valid[df_valid.Black==1], all_imgs, BATCH_VALID_SIZE, device, model, margin)\n",
    "loader_black = DataLoader(gen_black, batch_size=None, shuffle=True)"
   ]
  },
  {
   "cell_type": "code",
   "execution_count": 26,
   "metadata": {},
   "outputs": [],
   "source": [
    "# Concatenate to augment the loader size\n",
    "\n",
    "list_loader = []\n",
    "for _ in range(10):\n",
    "    list_loader.extend(list(loader))"
   ]
  },
  {
   "cell_type": "code",
   "execution_count": 27,
   "metadata": {},
   "outputs": [],
   "source": [
    "list_loader_black = []\n",
    "for _ in range(10):\n",
    "    list_loader_black.extend(list(loader_black))"
   ]
  },
  {
   "cell_type": "markdown",
   "metadata": {},
   "source": [
    "## Build THRESHOLD"
   ]
  },
  {
   "cell_type": "markdown",
   "metadata": {
    "id": "w92kfCACDHKE"
   },
   "source": [
    "### Print histograms"
   ]
  },
  {
   "cell_type": "code",
   "execution_count": 28,
   "metadata": {
    "id": "83v5f2-LDVBa"
   },
   "outputs": [
    {
     "data": {
      "application/vnd.jupyter.widget-view+json": {
       "model_id": "",
       "version_major": 2,
       "version_minor": 0
      },
      "text/plain": [
       "Processing:   0%|          | 0/30 [00:00<?, ?it/s]"
      ]
     },
     "metadata": {},
     "output_type": "display_data"
    }
   ],
   "source": [
    "pos_dist, neg_dist, _ = compute_distances(list_loader, device, model) #loader"
   ]
  },
  {
   "cell_type": "code",
   "execution_count": 29,
   "metadata": {},
   "outputs": [
    {
     "data": {
      "application/vnd.jupyter.widget-view+json": {
       "model_id": "",
       "version_major": 2,
       "version_minor": 0
      },
      "text/plain": [
       "Processing:   0%|          | 0/10 [00:00<?, ?it/s]"
      ]
     },
     "metadata": {},
     "output_type": "display_data"
    }
   ],
   "source": [
    "pos_dist_black, neg_dist_black, _ = compute_distances(list_loader_black, device, model) #loader"
   ]
  },
  {
   "cell_type": "code",
   "execution_count": 30,
   "metadata": {},
   "outputs": [
    {
     "data": {
      "image/png": "[encoded data removed]",
      "text/plain": [
       "<Figure size 600x300 with 1 Axes>"
      ]
     },
     "metadata": {
      "needs_background": "light"
     },
     "output_type": "display_data"
    }
   ],
   "source": [
    "print_hist_dist(pos_dist,neg_dist)"
   ]
  },
  {
   "cell_type": "code",
   "execution_count": 31,
   "metadata": {
    "id": "_Mah-8cTRh4A"
   },
   "outputs": [
    {
     "data": {
      "image/png": "[encoded data removed]",
      "text/plain": [
       "<Figure size 600x300 with 1 Axes>"
      ]
     },
     "metadata": {
      "needs_background": "light"
     },
     "output_type": "display_data"
    }
   ],
   "source": [
    "print_hist_dist_zoom(pos_dist,neg_dist)"
   ]
  },
  {
   "cell_type": "code",
   "execution_count": 32,
   "metadata": {},
   "outputs": [
    {
     "data": {
      "image/png": "[encoded data removed]",
      "text/plain": [
       "<Figure size 600x300 with 1 Axes>"
      ]
     },
     "metadata": {
      "needs_background": "light"
     },
     "output_type": "display_data"
    }
   ],
   "source": [
    "print_hist_dist_zoom(pos_dist_black,neg_dist_black)"
   ]
  },
  {
   "cell_type": "markdown",
   "metadata": {},
   "source": [
    "### ROC curve with distance"
   ]
  },
  {
   "cell_type": "code",
   "execution_count": 33,
   "metadata": {},
   "outputs": [],
   "source": [
    "# Create y (true) and X (distances)\n",
    "\n",
    "y_pos = [1 for _ in range(len(pos_dist))]\n",
    "y_neg = [0 for _ in range(len(neg_dist))]\n",
    "\n",
    "y = y_pos + y_neg\n",
    "X = pos_dist + neg_dist"
   ]
  },
  {
   "cell_type": "code",
   "execution_count": 34,
   "metadata": {},
   "outputs": [
    {
     "data": {
      "text/plain": [
       "(7680,)"
      ]
     },
     "execution_count": 34,
     "metadata": {},
     "output_type": "execute_result"
    }
   ],
   "source": [
    "# We need the opposite of the distances\n",
    "\n",
    "Xmoins = np.array(X)*(-1)\n",
    "Xmoins.shape"
   ]
  },
  {
   "cell_type": "code",
   "execution_count": 35,
   "metadata": {},
   "outputs": [],
   "source": [
    "# Compute FPR and TPR for ROC curve from distance\n",
    "\n",
    "fpr_dist, tpr_dist, thresholds_dist = roc_curve(y, Xmoins)\n",
    "roc_auc_dist = auc(fpr_dist,tpr_dist)"
   ]
  },
  {
   "cell_type": "code",
   "execution_count": 36,
   "metadata": {},
   "outputs": [
    {
     "data": {
      "image/png": "[encoded data removed]",
      "text/plain": [
       "<Figure size 432x288 with 1 Axes>"
      ]
     },
     "metadata": {
      "needs_background": "light"
     },
     "output_type": "display_data"
    }
   ],
   "source": [
    "print_roc(fpr_dist, tpr_dist, roc_auc_dist)"
   ]
  },
  {
   "cell_type": "code",
   "execution_count": 37,
   "metadata": {},
   "outputs": [
    {
     "name": "stdout",
     "output_type": "stream",
     "text": [
      "max(TPR-FPR): 0.8213222622871399\n",
      "min(abs(TPR-(1-FPR))): 0.7179130911827087\n",
      "min((1-TPR)²+FPR²): 0.7334213256835938\n"
     ]
    }
   ],
   "source": [
    "# Different possible thresholds from the ROC curve of distances\n",
    "\n",
    "print(\"max(TPR-FPR):\", -thresholds_dist[np.argmax(tpr_dist - fpr_dist)])\n",
    "print(\"min(abs(TPR-(1-FPR))):\", -thresholds_dist[np.argmin(abs(tpr_dist-(1-fpr_dist)))])\n",
    "print(\"min((1-TPR)²+FPR²):\", -thresholds_dist[np.argmin((1 - tpr_dist) ** 2 + fpr_dist ** 2)])"
   ]
  },
  {
   "cell_type": "code",
   "execution_count": 38,
   "metadata": {},
   "outputs": [
    {
     "data": {
      "text/html": [
       "<div>\n",
       "<style scoped>\n",
       "    .dataframe tbody tr th:only-of-type {\n",
       "        vertical-align: middle;\n",
       "    }\n",
       "\n",
       "    .dataframe tbody tr th {\n",
       "        vertical-align: top;\n",
       "    }\n",
       "\n",
       "    .dataframe thead th {\n",
       "        text-align: right;\n",
       "    }\n",
       "</style>\n",
       "<table border=\"1\" class=\"dataframe\">\n",
       "  <thead>\n",
       "    <tr style=\"text-align: right;\">\n",
       "      <th></th>\n",
       "      <th>Classid</th>\n",
       "      <th>Name</th>\n",
       "      <th>Path</th>\n",
       "      <th>Male</th>\n",
       "      <th>Asian</th>\n",
       "      <th>White</th>\n",
       "      <th>Black</th>\n",
       "      <th>Baby</th>\n",
       "      <th>Child</th>\n",
       "      <th>Youth</th>\n",
       "      <th>...</th>\n",
       "      <th>Pale Skin</th>\n",
       "      <th>5 o Clock Shadow</th>\n",
       "      <th>Strong Nose-Mouth Lines</th>\n",
       "      <th>Wearing Lipstick</th>\n",
       "      <th>Flushed Face</th>\n",
       "      <th>High Cheekbones</th>\n",
       "      <th>Brown Eyes</th>\n",
       "      <th>Wearing Earrings</th>\n",
       "      <th>Wearing Necktie</th>\n",
       "      <th>Wearing Necklace</th>\n",
       "    </tr>\n",
       "  </thead>\n",
       "  <tbody>\n",
       "    <tr>\n",
       "      <th>10060</th>\n",
       "      <td>4311</td>\n",
       "      <td>Pedro_Solbes</td>\n",
       "      <td>Pedro_Solbes/Pedro_Solbes_0001.jpg</td>\n",
       "      <td>1.0</td>\n",
       "      <td>0.0</td>\n",
       "      <td>1.0</td>\n",
       "      <td>0.0</td>\n",
       "      <td>0.0</td>\n",
       "      <td>0.0</td>\n",
       "      <td>0.0</td>\n",
       "      <td>...</td>\n",
       "      <td>0.0</td>\n",
       "      <td>1.0</td>\n",
       "      <td>1.0</td>\n",
       "      <td>0.0</td>\n",
       "      <td>0.0</td>\n",
       "      <td>1.0</td>\n",
       "      <td>1.0</td>\n",
       "      <td>0.0</td>\n",
       "      <td>1.0</td>\n",
       "      <td>0.0</td>\n",
       "    </tr>\n",
       "    <tr>\n",
       "      <th>10061</th>\n",
       "      <td>4311</td>\n",
       "      <td>Pedro_Solbes</td>\n",
       "      <td>Pedro_Solbes/Pedro_Solbes_0002.jpg</td>\n",
       "      <td>1.0</td>\n",
       "      <td>0.0</td>\n",
       "      <td>1.0</td>\n",
       "      <td>0.0</td>\n",
       "      <td>0.0</td>\n",
       "      <td>0.0</td>\n",
       "      <td>0.0</td>\n",
       "      <td>...</td>\n",
       "      <td>0.0</td>\n",
       "      <td>1.0</td>\n",
       "      <td>1.0</td>\n",
       "      <td>0.0</td>\n",
       "      <td>0.0</td>\n",
       "      <td>0.0</td>\n",
       "      <td>1.0</td>\n",
       "      <td>0.0</td>\n",
       "      <td>1.0</td>\n",
       "      <td>0.0</td>\n",
       "    </tr>\n",
       "    <tr>\n",
       "      <th>10062</th>\n",
       "      <td>4311</td>\n",
       "      <td>Pedro_Solbes</td>\n",
       "      <td>Pedro_Solbes/Pedro_Solbes_0003.jpg</td>\n",
       "      <td>1.0</td>\n",
       "      <td>0.0</td>\n",
       "      <td>1.0</td>\n",
       "      <td>0.0</td>\n",
       "      <td>0.0</td>\n",
       "      <td>0.0</td>\n",
       "      <td>0.0</td>\n",
       "      <td>...</td>\n",
       "      <td>0.0</td>\n",
       "      <td>1.0</td>\n",
       "      <td>0.0</td>\n",
       "      <td>0.0</td>\n",
       "      <td>0.0</td>\n",
       "      <td>0.0</td>\n",
       "      <td>1.0</td>\n",
       "      <td>0.0</td>\n",
       "      <td>1.0</td>\n",
       "      <td>0.0</td>\n",
       "    </tr>\n",
       "    <tr>\n",
       "      <th>10063</th>\n",
       "      <td>4311</td>\n",
       "      <td>Pedro_Solbes</td>\n",
       "      <td>Pedro_Solbes/Pedro_Solbes_0004.jpg</td>\n",
       "      <td>1.0</td>\n",
       "      <td>0.0</td>\n",
       "      <td>1.0</td>\n",
       "      <td>0.0</td>\n",
       "      <td>0.0</td>\n",
       "      <td>0.0</td>\n",
       "      <td>0.0</td>\n",
       "      <td>...</td>\n",
       "      <td>1.0</td>\n",
       "      <td>1.0</td>\n",
       "      <td>1.0</td>\n",
       "      <td>0.0</td>\n",
       "      <td>0.0</td>\n",
       "      <td>0.0</td>\n",
       "      <td>1.0</td>\n",
       "      <td>0.0</td>\n",
       "      <td>0.0</td>\n",
       "      <td>0.0</td>\n",
       "    </tr>\n",
       "    <tr>\n",
       "      <th>10064</th>\n",
       "      <td>4312</td>\n",
       "      <td>Pedro_Velasquez</td>\n",
       "      <td>Pedro_Velasquez/Pedro_Velasquez_0001.jpg</td>\n",
       "      <td>1.0</td>\n",
       "      <td>0.0</td>\n",
       "      <td>1.0</td>\n",
       "      <td>0.0</td>\n",
       "      <td>0.0</td>\n",
       "      <td>0.0</td>\n",
       "      <td>0.0</td>\n",
       "      <td>...</td>\n",
       "      <td>1.0</td>\n",
       "      <td>1.0</td>\n",
       "      <td>1.0</td>\n",
       "      <td>0.0</td>\n",
       "      <td>0.0</td>\n",
       "      <td>0.0</td>\n",
       "      <td>0.0</td>\n",
       "      <td>0.0</td>\n",
       "      <td>1.0</td>\n",
       "      <td>0.0</td>\n",
       "    </tr>\n",
       "  </tbody>\n",
       "</table>\n",
       "<p>5 rows × 76 columns</p>\n",
       "</div>"
      ],
      "text/plain": [
       "       Classid             Name                                      Path  \\\n",
       "10060     4311     Pedro_Solbes        Pedro_Solbes/Pedro_Solbes_0001.jpg   \n",
       "10061     4311     Pedro_Solbes        Pedro_Solbes/Pedro_Solbes_0002.jpg   \n",
       "10062     4311     Pedro_Solbes        Pedro_Solbes/Pedro_Solbes_0003.jpg   \n",
       "10063     4311     Pedro_Solbes        Pedro_Solbes/Pedro_Solbes_0004.jpg   \n",
       "10064     4312  Pedro_Velasquez  Pedro_Velasquez/Pedro_Velasquez_0001.jpg   \n",
       "\n",
       "       Male  Asian  White  Black  Baby  Child  Youth  ...  Pale Skin  \\\n",
       "10060   1.0    0.0    1.0    0.0   0.0    0.0    0.0  ...        0.0   \n",
       "10061   1.0    0.0    1.0    0.0   0.0    0.0    0.0  ...        0.0   \n",
       "10062   1.0    0.0    1.0    0.0   0.0    0.0    0.0  ...        0.0   \n",
       "10063   1.0    0.0    1.0    0.0   0.0    0.0    0.0  ...        1.0   \n",
       "10064   1.0    0.0    1.0    0.0   0.0    0.0    0.0  ...        1.0   \n",
       "\n",
       "       5 o Clock Shadow  Strong Nose-Mouth Lines  Wearing Lipstick  \\\n",
       "10060               1.0                      1.0               0.0   \n",
       "10061               1.0                      1.0               0.0   \n",
       "10062               1.0                      0.0               0.0   \n",
       "10063               1.0                      1.0               0.0   \n",
       "10064               1.0                      1.0               0.0   \n",
       "\n",
       "       Flushed Face  High Cheekbones  Brown Eyes  Wearing Earrings  \\\n",
       "10060           0.0              1.0         1.0               0.0   \n",
       "10061           0.0              0.0         1.0               0.0   \n",
       "10062           0.0              0.0         1.0               0.0   \n",
       "10063           0.0              0.0         1.0               0.0   \n",
       "10064           0.0              0.0         0.0               0.0   \n",
       "\n",
       "       Wearing Necktie  Wearing Necklace  \n",
       "10060              1.0               0.0  \n",
       "10061              1.0               0.0  \n",
       "10062              1.0               0.0  \n",
       "10063              0.0               0.0  \n",
       "10064              1.0               0.0  \n",
       "\n",
       "[5 rows x 76 columns]"
      ]
     },
     "execution_count": 38,
     "metadata": {},
     "output_type": "execute_result"
    }
   ],
   "source": [
    "df_valid.head()"
   ]
  },
  {
   "cell_type": "code",
   "execution_count": 77,
   "metadata": {},
   "outputs": [
    {
     "name": "stderr",
     "output_type": "stream",
     "text": [
      "/home/mgornet/Bureau/Code/CNPEN/files/triplet.py:253: UserWarning: Number of unique identities with more than 2 pictures (413) is not divisible by batch_size (128). Remainder: 29\n",
      "  warnings.warn(\n"
     ]
    },
    {
     "data": {
      "application/vnd.jupyter.widget-view+json": {
       "model_id": "",
       "version_major": 2,
       "version_minor": 0
      },
      "text/plain": [
       "Processing:   0%|          | 0/30 [00:00<?, ?it/s]"
      ]
     },
     "metadata": {},
     "output_type": "display_data"
    },
    {
     "name": "stdout",
     "output_type": "stream",
     "text": [
      "Threshold with logistic regression: 0.828626087070206\n"
     ]
    },
    {
     "name": "stderr",
     "output_type": "stream",
     "text": [
      "/home/mgornet/Bureau/Code/CNPEN/files/triplet.py:243: UserWarning: Batch size number was changed from 128 to 20 because there are only 20 individuals with more than 2 pictures.\n",
      "  warnings.warn(\n"
     ]
    },
    {
     "data": {
      "application/vnd.jupyter.widget-view+json": {
       "model_id": "",
       "version_major": 2,
       "version_minor": 0
      },
      "text/plain": [
       "Processing:   0%|          | 0/10 [00:00<?, ?it/s]"
      ]
     },
     "metadata": {},
     "output_type": "display_data"
    },
    {
     "name": "stdout",
     "output_type": "stream",
     "text": [
      "Threshold with logistic regression: 0.76322890930133\n"
     ]
    }
   ],
   "source": [
    "thrd = build_threshold(df_valid, all_imgs, device, model, margin, BATCH_VALID_SIZE, verbose=True)\n",
    "thrd_black = build_threshold(df_valid[df_valid.Black==1], all_imgs, device, model, margin, BATCH_VALID_SIZE, verbose=True)"
   ]
  },
  {
   "cell_type": "code",
   "execution_count": 35,
   "metadata": {},
   "outputs": [
    {
     "data": {
      "image/png": "[encoded data removed]",
      "text/plain": [
       "<Figure size 432x288 with 1 Axes>"
      ]
     },
     "metadata": {
      "needs_background": "light"
     },
     "output_type": "display_data"
    }
   ],
   "source": [
    "precision_dist, recall_dist, thresholds_recall_dist = precision_recall_curve(y, Xmoins)\n",
    "auc_s_dist = auc(recall_dist, precision_dist)\n",
    "\n",
    "print_prec_recall(precision_dist, recall_dist, auc_s_dist)"
   ]
  },
  {
   "cell_type": "markdown",
   "metadata": {},
   "source": [
    "### Logistic regression"
   ]
  },
  {
   "cell_type": "code",
   "execution_count": 36,
   "metadata": {},
   "outputs": [
    {
     "data": {
      "text/plain": [
       "(7680, 1)"
      ]
     },
     "execution_count": 36,
     "metadata": {},
     "output_type": "execute_result"
    }
   ],
   "source": [
    "# Reshape distances to fit the logistic regression\n",
    "\n",
    "Xlogistic = np.array(Xmoins).reshape(-1,1)\n",
    "Xlogistic.shape"
   ]
  },
  {
   "cell_type": "code",
   "execution_count": 37,
   "metadata": {},
   "outputs": [
    {
     "name": "stdout",
     "output_type": "stream",
     "text": [
      "Score (mean accuracy): 0.8631510416666667\n",
      "f1 score: 0.8692298121189498\n"
     ]
    }
   ],
   "source": [
    "# Create and fit logistic regression\n",
    "\n",
    "clf = LogisticRegression(random_state=0).fit(Xlogistic, y)\n",
    "\n",
    "y_pred_logistic = clf.predict(Xlogistic)\n",
    "y_pred_proba_logistic = clf.predict_proba(Xlogistic)\n",
    "\n",
    "score_logistic = clf.score(Xlogistic, y)\n",
    "print(\"Score (mean accuracy):\", score_logistic)\n",
    "\n",
    "f1_s_logistic = f1_score(y, y_pred_logistic)\n",
    "print(\"f1 score:\", f1_s_logistic)"
   ]
  },
  {
   "cell_type": "code",
   "execution_count": 38,
   "metadata": {},
   "outputs": [
    {
     "name": "stdout",
     "output_type": "stream",
     "text": [
      "THRESHOLD with logistic regression: 0.8193061471833948\n"
     ]
    }
   ],
   "source": [
    "# Threshold from logistic regression\n",
    "\n",
    "THRESHOLD = (clf.intercept_/clf.coef_)[0,0]\n",
    "print(\"THRESHOLD with logistic regression:\", THRESHOLD)"
   ]
  },
  {
   "cell_type": "code",
   "execution_count": 39,
   "metadata": {},
   "outputs": [
    {
     "data": {
      "image/png": "[encoded data removed]",
      "text/plain": [
       "<Figure size 1000x500 with 2 Axes>"
      ]
     },
     "metadata": {
      "needs_background": "light"
     },
     "output_type": "display_data"
    }
   ],
   "source": [
    "# Print the curves from logistic regression above the histogram and show threshold\n",
    "\n",
    "print_logistic_regression(pos_dist, neg_dist, y_pred_proba_logistic, THRESHOLD)"
   ]
  },
  {
   "cell_type": "code",
   "execution_count": 40,
   "metadata": {},
   "outputs": [
    {
     "name": "stdout",
     "output_type": "stream",
     "text": [
      "Confusion Matrix Total\n"
     ]
    },
    {
     "data": {
      "text/plain": [
       "array([[3136,  704],\n",
       "       [ 347, 3493]])"
      ]
     },
     "execution_count": 40,
     "metadata": {},
     "output_type": "execute_result"
    }
   ],
   "source": [
    "# Confusion matrix from logistic regression\n",
    "\n",
    "print(\"Confusion Matrix Total\")\n",
    "confusion_matrix(y, y_pred_logistic)"
   ]
  },
  {
   "cell_type": "code",
   "execution_count": 41,
   "metadata": {},
   "outputs": [
    {
     "data": {
      "image/png": "[encoded data removed]",
      "text/plain": [
       "<Figure size 432x288 with 1 Axes>"
      ]
     },
     "metadata": {
      "needs_background": "light"
     },
     "output_type": "display_data"
    }
   ],
   "source": [
    "# Compute FPR and TPR for ROC curve from logistic regression\n",
    "\n",
    "fpr_logistic, tpr_logistic, thresholds_logistic = roc_curve(y, y_pred_proba_logistic[:,1])\n",
    "roc_auc_logistic = auc(fpr_logistic,tpr_logistic)\n",
    "\n",
    "print_roc(fpr_logistic,tpr_logistic, roc_auc_logistic)"
   ]
  },
  {
   "cell_type": "code",
   "execution_count": 42,
   "metadata": {},
   "outputs": [
    {
     "data": {
      "image/png": "[encoded data removed]",
      "text/plain": [
       "<Figure size 432x288 with 1 Axes>"
      ]
     },
     "metadata": {
      "needs_background": "light"
     },
     "output_type": "display_data"
    }
   ],
   "source": [
    "# Compute Precision and Recall\n",
    "\n",
    "precision_logistic, recall_logistic, thresholds_recall_logistic = precision_recall_curve(y, y_pred_proba_logistic[:,1])\n",
    "auc_s_logistic = auc(recall_logistic, precision_logistic)\n",
    "\n",
    "print_prec_recall(precision_logistic, recall_logistic, auc_s_logistic)"
   ]
  },
  {
   "cell_type": "code",
   "execution_count": 43,
   "metadata": {},
   "outputs": [
    {
     "name": "stdout",
     "output_type": "stream",
     "text": [
      "max(TPR-FPR): 0.5098506735104843\n",
      "min(abs(TPR-(1-FPR))): 0.615290895229226\n",
      "min((1-TPR)²+FPR²): 0.5590641498364759\n"
     ]
    }
   ],
   "source": [
    "# Different possible thresholds from the ROC curve of logistic regression\n",
    "\n",
    "print(\"max(TPR-FPR):\", thresholds_logistic[np.argmax(tpr_logistic - fpr_logistic)])\n",
    "print(\"min(abs(TPR-(1-FPR))):\", thresholds_logistic[np.argmin(abs(tpr_logistic-(1-fpr_logistic)))])\n",
    "print(\"min((1-TPR)²+FPR²):\", thresholds_logistic[np.argmin((1 - tpr_logistic) ** 2 + fpr_logistic ** 2)])"
   ]
  },
  {
   "cell_type": "markdown",
   "metadata": {},
   "source": [
    "### Compute accuracy"
   ]
  },
  {
   "cell_type": "code",
   "execution_count": 44,
   "metadata": {},
   "outputs": [],
   "source": [
    "# Predict classification from THRESHOLD\n",
    "\n",
    "y_pred_pos_bins, y_pred_neg_bins = predict(list_loader, device, model, THRESHOLD) #loader\n",
    "y_pred_bins = y_pred_pos_bins + y_pred_neg_bins"
   ]
  },
  {
   "cell_type": "code",
   "execution_count": 45,
   "metadata": {},
   "outputs": [
    {
     "name": "stdout",
     "output_type": "stream",
     "text": [
      "Confusion Matrix Total\n",
      "[[3136  704]\n",
      " [ 347 3493]]\n",
      "\n",
      " Accuracy score: 0.8631510416666667\n"
     ]
    }
   ],
   "source": [
    "# Confusion matrix and accuracy score from the classification\n",
    "# If THRESHOLD comes from logistic regression, we should find the same confusion matrix\n",
    "\n",
    "print(\"Confusion Matrix Total\")\n",
    "print(confusion_matrix(y, y_pred_bins))\n",
    "\n",
    "print(\"\\n\",\"Accuracy score:\",accuracy_score(y, y_pred_bins))"
   ]
  },
  {
   "cell_type": "code",
   "execution_count": 46,
   "metadata": {},
   "outputs": [],
   "source": [
    "# Define the accuracy function\n",
    "\n",
    "def acc(thr):\n",
    "    y_pred_pos_bins, y_pred_neg_bins = predict(list_loader, device, model, thr) #loader\n",
    "    y_pred_bins = y_pred_pos_bins + y_pred_neg_bins\n",
    "    return(accuracy_score(y, y_pred_bins))"
   ]
  },
  {
   "cell_type": "code",
   "execution_count": 47,
   "metadata": {},
   "outputs": [
    {
     "data": {
      "application/vnd.jupyter.widget-view+json": {
       "model_id": "",
       "version_major": 2,
       "version_minor": 0
      },
      "text/plain": [
       "Processing:   0%|          | 0/100 [00:00<?, ?it/s]"
      ]
     },
     "metadata": {},
     "output_type": "display_data"
    }
   ],
   "source": [
    "# Compute several accuracy points depending on threshold\n",
    "\n",
    "thrs = np.linspace(0.,2.,100)\n",
    "accu=[]\n",
    "for i,thr in zip(enumerate(tqdm(range(len(thrs)), desc=\"Processing\", leave=False)),thrs) :\n",
    "    accu.append(acc(thr))"
   ]
  },
  {
   "cell_type": "code",
   "execution_count": 60,
   "metadata": {},
   "outputs": [
    {
     "data": {
      "image/png": "[encoded data removed]",
      "text/plain": [
       "<Figure size 936x504 with 1 Axes>"
      ]
     },
     "metadata": {
      "needs_background": "light"
     },
     "output_type": "display_data"
    }
   ],
   "source": [
    "# Plot accuracy(threshold)\n",
    "\n",
    "plt.figure(figsize=(13,7))\n",
    "plt.plot(thrs, accu)\n",
    "plt.xlim([0,2.])\n",
    "plt.ylim([0.5,0.9])\n",
    "plt.plot([0,2.],[0.82,0.82], color=\"red\", linestyle=\"--\")\n",
    "# plt.plot([0,2.],[0.855,0.855], color=\"red\", linestyle=\"--\")\n",
    "plt.plot([0.81,0.81],[0.5,0.9], color=\"navy\", linestyle=\":\")\n",
    "plt.plot([0.48,0.48],[0.5,0.9], color=\"orange\", linestyle=\":\")\n",
    "plt.plot([1.15,1.15],[0.5,0.9], color=\"orange\", linestyle=\":\")\n",
    "plt.xlabel('Threshold')\n",
    "plt.ylabel('Accuracy')\n",
    "plt.show()"
   ]
  },
  {
   "cell_type": "code",
   "execution_count": 56,
   "metadata": {},
   "outputs": [
    {
     "name": "stdout",
     "output_type": "stream",
     "text": [
      "accuracy of 0.8634114583333333 at index 40 for threshold 0.8080808080808082\n"
     ]
    }
   ],
   "source": [
    "val, idx = max((val, idx) for (idx, val) in enumerate(accu))\n",
    "print(f\"accuracy of {val} at index {idx} for threshold {thrs[idx]}\")"
   ]
  },
  {
   "cell_type": "code",
   "execution_count": 57,
   "metadata": {},
   "outputs": [
    {
     "data": {
      "text/plain": [
       "0.8202408854166666"
      ]
     },
     "execution_count": 57,
     "metadata": {},
     "output_type": "execute_result"
    }
   ],
   "source": [
    "val*0.95"
   ]
  },
  {
   "cell_type": "code",
   "execution_count": 62,
   "metadata": {},
   "outputs": [
    {
     "data": {
      "text/plain": [
       "(57, 0.82109375)"
      ]
     },
     "execution_count": 62,
     "metadata": {},
     "output_type": "execute_result"
    }
   ],
   "source": [
    "min(enumerate(accu), key=lambda x: abs(x[1]-val*0.95))"
   ]
  },
  {
   "cell_type": "code",
   "execution_count": 74,
   "metadata": {},
   "outputs": [
    {
     "data": {
      "text/plain": [
       "(0.8239583333333333, 0.48484848484848486)"
      ]
     },
     "execution_count": 74,
     "metadata": {},
     "output_type": "execute_result"
    }
   ],
   "source": [
    "accu[24], thrs[24]"
   ]
  },
  {
   "cell_type": "code",
   "execution_count": 83,
   "metadata": {},
   "outputs": [
    {
     "data": {
      "text/plain": [
       "(0.82109375, 1.1515151515151516)"
      ]
     },
     "execution_count": 83,
     "metadata": {},
     "output_type": "execute_result"
    }
   ],
   "source": [
    "accu[57], thrs[57]"
   ]
  },
  {
   "cell_type": "code",
   "execution_count": null,
   "metadata": {},
   "outputs": [],
   "source": [
    "# Define a the opposite function\n",
    "\n",
    "def acc_moins(thr, loader=list_loader):\n",
    "    y_pred_pos_bins, y_pred_neg_bins = predict(list_loader, device, model, thr)\n",
    "    y_pred_bins = y_pred_pos_bins + y_pred_neg_bins\n",
    "    return(-accuracy_score(y, y_pred_bins))"
   ]
  },
  {
   "cell_type": "code",
   "execution_count": null,
   "metadata": {},
   "outputs": [],
   "source": [
    "# Use the Brent otpimizer to find the maximum of accuracy\n",
    "\n",
    "xmin, fval, niter, funcalls = optimize.brent(acc_moins,brack=(0.,2.), full_output=True, maxiter=1000)\n",
    "print(f\"Maximum of accuracy ({-round(fval,3)}) found for threshold = {xmin}\")"
   ]
  },
  {
   "cell_type": "code",
   "execution_count": null,
   "metadata": {},
   "outputs": [],
   "source": [
    "acc, thr = [], []\n",
    "\n",
    "for _ in range(4):\n",
    "    list_loader = []\n",
    "    for _ in range(10):\n",
    "        list_loader.extend(list(loader))\n",
    "    xmin, fval, niter, funcalls = optimize.brent(acc_moins,brack=(0.,2.), full_output=True, maxiter=100)\n",
    "    acc.append(-fval)\n",
    "    thr.append(xmin)"
   ]
  },
  {
   "cell_type": "code",
   "execution_count": null,
   "metadata": {},
   "outputs": [],
   "source": [
    "import statistics"
   ]
  },
  {
   "cell_type": "code",
   "execution_count": null,
   "metadata": {},
   "outputs": [],
   "source": [
    "print(\"Accuracy:\", acc)\n",
    "print(\"Threshold: \", thr)\n",
    "print(\"Mean accuracy:\",statistics.mean(acc))\n",
    "print(\"Mean threshold:\",statistics.mean(thr))"
   ]
  },
  {
   "cell_type": "markdown",
   "metadata": {},
   "source": [
    "### Triplet accuracy"
   ]
  },
  {
   "cell_type": "code",
   "execution_count": null,
   "metadata": {},
   "outputs": [],
   "source": [
    "gen = TripletGenerator(df_valid, all_imgs, BATCH_VALID_SIZE, device, model, margin)\n",
    "loader = DataLoader(gen, batch_size=None, shuffle=True)\n",
    "\n",
    "list_loader = []\n",
    "for _ in range(10):\n",
    "    list_loader.extend(list(loader))"
   ]
  },
  {
   "cell_type": "code",
   "execution_count": null,
   "metadata": {},
   "outputs": [],
   "source": [
    "len(list_loader)"
   ]
  },
  {
   "cell_type": "code",
   "execution_count": null,
   "metadata": {},
   "outputs": [],
   "source": [
    "triplet_accuracy = triplet_acc(list_loader, device, model)\n",
    "print(\"Triplets where d(A,P) < d(A,N): \",round(100*triplet_accuracy,1),\"%\")"
   ]
  },
  {
   "cell_type": "code",
   "execution_count": null,
   "metadata": {},
   "outputs": [],
   "source": [
    "triplet_accuracy_list = []\n",
    "for _ in range(100):\n",
    "    list_loader = []\n",
    "    for _ in range(10):\n",
    "        list_loader.extend(list(loader))\n",
    "    triplet_accuracy = triplet_acc(list_loader, device, model)\n",
    "    triplet_accuracy_list.append(triplet_accuracy)"
   ]
  },
  {
   "cell_type": "code",
   "execution_count": null,
   "metadata": {},
   "outputs": [],
   "source": [
    "# print(triplet_accuracy_list)\n",
    "print(\"Mean triplet accuracy: \",statistics.mean(triplet_accuracy_list))\n",
    "print(\"Min-Max triplet accuracy: \",[min(triplet_accuracy_list),max(triplet_accuracy_list)])"
   ]
  },
  {
   "cell_type": "markdown",
   "metadata": {},
   "source": [
    "### Old method with sigmoid"
   ]
  },
  {
   "cell_type": "code",
   "execution_count": null,
   "metadata": {},
   "outputs": [],
   "source": [
    "def sigmoid(x, c1, c2):\n",
    "  \n",
    "    z = np.exp(-c1*(x-c2))\n",
    "    sig = 1 / (1 + z)\n",
    "\n",
    "    return sig"
   ]
  },
  {
   "cell_type": "code",
   "execution_count": null,
   "metadata": {},
   "outputs": [],
   "source": [
    "xx = np.arange(-10,10,0.05)\n",
    "plt.plot(xx,sigmoid(xx,1.,0.))\n",
    "plt.show()"
   ]
  },
  {
   "cell_type": "code",
   "execution_count": null,
   "metadata": {},
   "outputs": [],
   "source": [
    "fig,ax1 = plt.subplots(1,1,figsize=(10,5),dpi=100,num=1)\n",
    "maxi = 2.\n",
    "bins=np.linspace(0.,maxi,50)\n",
    "ax1.hist(pos_dist,bins=bins,label='Anchor and Positive', alpha=0.3)\n",
    "ax1.hist(neg_dist,bins=bins,label='Anchor and Negative', alpha=0.3)\n",
    "ax1.axvline(x=THRESHOLD, label='Threshold', color=\"red\", linestyle=\"--\", lw=4)\n",
    "ax2 = ax1.twinx()\n",
    "xx = np.arange(0,maxi,0.01)\n",
    "ax2.plot(xx, sigmoid(xx, 20., THRESHOLD),label='Sigmoïd',color='navy',lw=3)\n",
    "plt.xlim([0.,maxi])\n",
    "ax1.set_xlabel('Distance')\n",
    "ax1.set_ylabel('Number of instances')\n",
    "ax1.legend(loc='center right')\n",
    "ax2.legend(loc='upper right')\n",
    "plt.show()"
   ]
  },
  {
   "cell_type": "markdown",
   "metadata": {
    "id": "FhwJ2bCbkIn3"
   },
   "source": [
    "### Testing on my imgs"
   ]
  },
  {
   "cell_type": "code",
   "execution_count": null,
   "metadata": {
    "id": "27pXMcakuJQh"
   },
   "outputs": [],
   "source": [
    "def print_my_img(path):\n",
    "    plt.imshow(resize100(imread('./my_imgs/'+path))/255)\n",
    "    plt.show()"
   ]
  },
  {
   "cell_type": "code",
   "execution_count": null,
   "metadata": {
    "id": "YZ6z0KcgxYbU"
   },
   "outputs": [],
   "source": [
    "MY_IMGS_PATH = './my_imgs/'"
   ]
  },
  {
   "cell_type": "code",
   "execution_count": null,
   "metadata": {
    "id": "ZmIPobgItU3Z"
   },
   "outputs": [],
   "source": [
    "print_my_img('profil_rugby.jpg')"
   ]
  },
  {
   "cell_type": "code",
   "execution_count": null,
   "metadata": {
    "id": "aBxz5zHmuc8V"
   },
   "outputs": [],
   "source": [
    "print_my_img('profil_prepa.jpg')"
   ]
  },
  {
   "cell_type": "code",
   "execution_count": null,
   "metadata": {
    "id": "ofkIUhBnvC-Z"
   },
   "outputs": [],
   "source": [
    "print_my_img('img_enfant.jpg')"
   ]
  },
  {
   "cell_type": "code",
   "execution_count": null,
   "metadata": {
    "id": "JN7ho11ZvYTt"
   },
   "outputs": [],
   "source": [
    "dirs = sorted(os.listdir(MY_IMGS_PATH))\n",
    "name_to_classid = {d:i for i,d in enumerate(dirs)}\n",
    "classid_to_name = {v:k for k,v in name_to_classid.items()}\n",
    "num_classes = len(name_to_classid)\n",
    "print(\"number of classes: \"+str(num_classes))\n",
    "\n",
    "my_img_paths = {c:[directory + \"/\" + img for img in sorted(os.listdir(MY_IMGS_PATH+directory))] \n",
    "                for directory,c in name_to_classid.items()}\n",
    "\n",
    "# retrieve all images\n",
    "all_my_images_path = []\n",
    "for img_list in my_img_paths.values():\n",
    "    all_my_images_path += img_list"
   ]
  },
  {
   "cell_type": "code",
   "execution_count": null,
   "metadata": {
    "id": "BYmzma7vx5ed"
   },
   "outputs": [],
   "source": [
    "all_my_images_path"
   ]
  },
  {
   "cell_type": "code",
   "execution_count": null,
   "metadata": {
    "id": "xDPQtJ7uyK7Y"
   },
   "outputs": [],
   "source": [
    "my_img_paths"
   ]
  },
  {
   "cell_type": "code",
   "execution_count": null,
   "metadata": {
    "id": "gdDe43k6R1Kh"
   },
   "outputs": [],
   "source": [
    "all_my_imgs = []\n",
    "for path in all_my_images_path:\n",
    "    all_my_imgs += [np.expand_dims(resize100(imread(MY_IMGS_PATH+path)),0)]\n",
    "return np.vstack(all_imgs)"
   ]
  },
  {
   "cell_type": "code",
   "execution_count": null,
   "metadata": {
    "id": "9rAyXV2dRnlS"
   },
   "outputs": [],
   "source": [
    "def authentification(df, id_img1, id_img2, neg_imgs_idx, threshold):\n",
    "\n",
    "    id_img3 = neg_imgs_idx[random.randint(0,len(neg_imgs_idx))]\n",
    "\n",
    "    img1 = df.Img.iloc[id_img1]\n",
    "    img2 = df.Img.iloc[id_img2]\n",
    "    img3 = df.Img.iloc[id_img3]\n",
    "\n",
    "    image_transforms = transforms.Compose(\n",
    "              [\n",
    "                  transforms.ToTensor(),\n",
    "              ]\n",
    "          )\n",
    "\n",
    "    anchor_img = torch.reshape(image_transforms(img1).to(device).float(), (1,3,60,60))\n",
    "    positive_img = torch.reshape(image_transforms(img2).to(device).float(), (1,3,60,60))\n",
    "    negative_img = torch.reshape(image_transforms(img3).to(device).float(), (1,3,60,60))\n",
    "\n",
    "    anchor_out = model(anchor_img)\n",
    "    positive_out = model(positive_img)\n",
    "    negative_out = model(negative_img)\n",
    "\n",
    "    loss = criterion(anchor_out, positive_out, negative_out)\n",
    "    print(\"Loss: \", loss.cpu().detach().numpy())\n",
    "\n",
    "    if loss < threshold :\n",
    "        return 1\n",
    "    \n",
    "    return 0"
   ]
  }
 ],
 "metadata": {
  "kernelspec": {
   "display_name": "Python 3 (ipykernel)",
   "language": "python",
   "name": "python3"
  },
  "language_info": {
   "codemirror_mode": {
    "name": "ipython",
    "version": 3
   },
   "file_extension": ".py",
   "mimetype": "text/x-python",
   "name": "python",
   "nbconvert_exporter": "python",
   "pygments_lexer": "ipython3",
   "version": "3.9.12"
  }
 },
 "nbformat": 4,
 "nbformat_minor": 4
}

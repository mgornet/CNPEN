{
 "cells": [
  {
   "cell_type": "markdown",
   "metadata": {
    "id": "cq6PdPGN4DJu"
   },
   "source": [
    "# Triplet Loss with Faces -- Determine Threshold"
   ]
  },
  {
   "cell_type": "markdown",
   "metadata": {},
   "source": [
    "## Initialization"
   ]
  },
  {
   "cell_type": "code",
   "execution_count": null,
   "metadata": {
    "execution": {
     "iopub.execute_input": "2021-09-13T13:04:26.60852Z",
     "iopub.status.busy": "2021-09-13T13:04:26.60778Z",
     "iopub.status.idle": "2021-09-13T13:04:35.446471Z",
     "shell.execute_reply": "2021-09-13T13:04:35.445547Z",
     "shell.execute_reply.started": "2021-09-13T13:04:26.608405Z"
    },
    "id": "2r4GrySt26Q-",
    "outputId": "4890c780-31f1-4532-d4a7-64f7412ea780"
   },
   "outputs": [],
   "source": [
    "!pip install torch"
   ]
  },
  {
   "cell_type": "code",
   "execution_count": null,
   "metadata": {
    "execution": {
     "iopub.execute_input": "2021-09-13T13:04:35.448283Z",
     "iopub.status.busy": "2021-09-13T13:04:35.447879Z",
     "iopub.status.idle": "2021-09-13T13:04:43.678602Z",
     "shell.execute_reply": "2021-09-13T13:04:43.677523Z",
     "shell.execute_reply.started": "2021-09-13T13:04:35.44825Z"
    },
    "id": "elsPIhAzrPL-",
    "outputId": "486d7b03-5889-4c28-c71e-b1e169f7e026"
   },
   "outputs": [],
   "source": [
    "!pip install mat73"
   ]
  },
  {
   "cell_type": "code",
   "execution_count": null,
   "metadata": {
    "execution": {
     "iopub.execute_input": "2021-09-13T13:04:43.680828Z",
     "iopub.status.busy": "2021-09-13T13:04:43.680531Z",
     "iopub.status.idle": "2021-09-13T13:04:51.475126Z",
     "shell.execute_reply": "2021-09-13T13:04:51.473925Z",
     "shell.execute_reply.started": "2021-09-13T13:04:43.680798Z"
    },
    "id": "FyTWhJXMpRex",
    "outputId": "dcfa38a7-4bd7-4b6b-e6b4-d96298974042"
   },
   "outputs": [],
   "source": [
    "!pip install wandb -qqq\n",
    "import wandb"
   ]
  },
  {
   "cell_type": "code",
   "execution_count": null,
   "metadata": {
    "execution": {
     "iopub.execute_input": "2021-09-13T13:04:51.478065Z",
     "iopub.status.busy": "2021-09-13T13:04:51.477728Z",
     "iopub.status.idle": "2021-09-13T13:05:22.994432Z",
     "shell.execute_reply": "2021-09-13T13:05:22.99343Z",
     "shell.execute_reply.started": "2021-09-13T13:04:51.478029Z"
    },
    "id": "N2ZqMDMrKeFi",
    "outputId": "6ddb3d01-83e5-4bb2-a378-54748c3c742c"
   },
   "outputs": [],
   "source": [
    "!git clone https://github.com/mgornet/CNPEN"
   ]
  },
  {
   "cell_type": "markdown",
   "metadata": {
    "id": "MW_MVwhYwRiH"
   },
   "source": [
    "### Check device"
   ]
  },
  {
   "cell_type": "code",
   "execution_count": null,
   "metadata": {
    "execution": {
     "iopub.execute_input": "2021-09-13T13:05:22.996694Z",
     "iopub.status.busy": "2021-09-13T13:05:22.99637Z",
     "iopub.status.idle": "2021-09-13T13:05:23.72204Z",
     "shell.execute_reply": "2021-09-13T13:05:23.721043Z",
     "shell.execute_reply.started": "2021-09-13T13:05:22.996663Z"
    },
    "id": "zruTnsd7wTz6",
    "outputId": "66c9d4a5-2768-45b6-d901-16ab0b7d9081"
   },
   "outputs": [],
   "source": [
    "!nvidia-smi"
   ]
  },
  {
   "cell_type": "markdown",
   "metadata": {
    "id": "IJK8gGmS4dsb"
   },
   "source": [
    "### Import Librairies"
   ]
  },
  {
   "cell_type": "code",
   "execution_count": null,
   "metadata": {
    "execution": {
     "iopub.execute_input": "2021-09-13T13:05:23.723644Z",
     "iopub.status.busy": "2021-09-13T13:05:23.72332Z",
     "iopub.status.idle": "2021-09-13T13:05:26.164497Z",
     "shell.execute_reply": "2021-09-13T13:05:26.163481Z",
     "shell.execute_reply.started": "2021-09-13T13:05:23.723609Z"
    },
    "id": "JyM1GtzC2_zh"
   },
   "outputs": [],
   "source": [
    "import numpy as np\n",
    "import random\n",
    "import matplotlib.pyplot as plt\n",
    "from tqdm.notebook import tqdm\n",
    "from time import perf_counter\n",
    "from typing import Callable\n",
    "import itertools\n",
    "import mat73\n",
    "import pandas as pd\n",
    "import re\n",
    "\n",
    "import sys\n",
    "import os\n",
    "import tarfile\n",
    "\n",
    "from sklearn.datasets import load_digits\n",
    "from sklearn.model_selection import train_test_split\n",
    "\n",
    "import torch\n",
    "from torch import nn, optim\n",
    "import torch.nn.functional as F\n",
    "\n",
    "from torch.utils.data import DataLoader, Dataset\n",
    "from torchvision import datasets, transforms\n",
    "\n",
    "import os.path as op\n",
    "try:\n",
    "    from urllib.request import urlretrieve\n",
    "except ImportError:  # Python 2 compat\n",
    "    from urllib import urlretrieve\n",
    "    \n",
    "from sklearn.metrics import confusion_matrix, auc, roc_curve, \\\n",
    "precision_recall_curve, accuracy_score, f1_score\n",
    "from sklearn.linear_model import LogisticRegression\n",
    "from scipy import optimize"
   ]
  },
  {
   "cell_type": "code",
   "execution_count": null,
   "metadata": {
    "execution": {
     "iopub.execute_input": "2021-09-13T13:05:26.167685Z",
     "iopub.status.busy": "2021-09-13T13:05:26.167311Z",
     "iopub.status.idle": "2021-09-13T13:05:26.626134Z",
     "shell.execute_reply": "2021-09-13T13:05:26.625172Z",
     "shell.execute_reply.started": "2021-09-13T13:05:26.167656Z"
    },
    "id": "ix4Yn3BoLNfx",
    "outputId": "7947880c-ab47-4393-c5d6-be37199febe6"
   },
   "outputs": [],
   "source": [
    "%cd ./CNPEN/files/\n",
    "\n",
    "from triplet import TripletGenerator, TripletLearner, TripletLoss, TripletLossRaw, \\\n",
    "distance, distance_vectors\n",
    "from builder import create_dataframe, from_tensor_to_numpy, from_numpy_to_tensor, extend_dataframe\n",
    "from prints import print_img, print_img_from_path, print_img_from_id, \\\n",
    "print_img_from_classid, print_from_gen, print_from_gen2, print_pair, print_hist_loss, \\\n",
    "print_hist_dist, print_hist_dist_zoom, print_img_category, \\\n",
    "print_roc, print_logistic_regression, print_prec_recall\n",
    "from test_train_loops import training, testing, adaptative_train, compute_distances\n",
    "from classification import authentification_img, predict, triplet_acc"
   ]
  },
  {
   "cell_type": "code",
   "execution_count": null,
   "metadata": {
    "execution": {
     "iopub.execute_input": "2021-09-13T13:05:26.630004Z",
     "iopub.status.busy": "2021-09-13T13:05:26.629566Z",
     "iopub.status.idle": "2021-09-13T13:05:27.358074Z",
     "shell.execute_reply": "2021-09-13T13:05:27.357205Z",
     "shell.execute_reply.started": "2021-09-13T13:05:26.629961Z"
    },
    "id": "dNWBFp1aLev5",
    "outputId": "780215a4-2505-447d-86e6-385dd44f016e"
   },
   "outputs": [],
   "source": [
    "!pwd"
   ]
  },
  {
   "cell_type": "markdown",
   "metadata": {
    "id": "Hp8S6_Nu4muA"
   },
   "source": [
    "## Generate Data"
   ]
  },
  {
   "cell_type": "markdown",
   "metadata": {},
   "source": [
    "### Create dataframe"
   ]
  },
  {
   "cell_type": "code",
   "execution_count": null,
   "metadata": {
    "execution": {
     "iopub.execute_input": "2021-09-13T13:05:27.36021Z",
     "iopub.status.busy": "2021-09-13T13:05:27.359913Z",
     "iopub.status.idle": "2021-09-13T13:05:40.47084Z",
     "shell.execute_reply": "2021-09-13T13:05:40.469801Z",
     "shell.execute_reply.started": "2021-09-13T13:05:27.360181Z"
    },
    "id": "0HQV0dwQiLvS",
    "outputId": "343cfafa-cadf-4554-f5a1-90e52f96afca"
   },
   "outputs": [],
   "source": [
    "URL = \"http://vis-www.cs.umass.edu/lfw/lfw-deepfunneled.tgz\"\n",
    "FILENAME = \"lfw-deepfunneled.tgz\"\n",
    "\n",
    "if not op.exists(FILENAME):\n",
    "    print('Downloading %s to %s...' % (URL, FILENAME))\n",
    "    urlretrieve(URL, FILENAME)\n",
    "\n",
    "if not op.exists(\"lfw\"):\n",
    "    print('Extracting image files...')\n",
    "    tar = tarfile.open(\"lfw-deepfunneled.tgz\")\n",
    "    tar.extractall(\"lfw\")\n",
    "    tar.close()"
   ]
  },
  {
   "cell_type": "code",
   "execution_count": null,
   "metadata": {
    "execution": {
     "iopub.execute_input": "2021-09-13T13:05:40.472488Z",
     "iopub.status.busy": "2021-09-13T13:05:40.472171Z",
     "iopub.status.idle": "2021-09-13T13:05:40.477908Z",
     "shell.execute_reply": "2021-09-13T13:05:40.476837Z",
     "shell.execute_reply.started": "2021-09-13T13:05:40.472459Z"
    },
    "id": "jtFwuCt4iSgy"
   },
   "outputs": [],
   "source": [
    "PATH = \"lfw/lfw-deepfunneled/\""
   ]
  },
  {
   "cell_type": "code",
   "execution_count": null,
   "metadata": {
    "execution": {
     "iopub.execute_input": "2021-09-13T13:05:40.480124Z",
     "iopub.status.busy": "2021-09-13T13:05:40.479506Z",
     "iopub.status.idle": "2021-09-13T13:07:49.048026Z",
     "shell.execute_reply": "2021-09-13T13:07:49.046866Z",
     "shell.execute_reply.started": "2021-09-13T13:05:40.480075Z"
    },
    "id": "pW3OOgQXOLa-",
    "outputId": "8cb4ccff-40ca-44aa-b9f0-3e7244731cfe"
   },
   "outputs": [],
   "source": [
    "tic = perf_counter()\n",
    "df_init, all_imgs = create_dataframe()\n",
    "toc = perf_counter()\n",
    "print(f\"DataFrame creation: {((toc - tic)/60):.1f} min\")"
   ]
  },
  {
   "cell_type": "code",
   "execution_count": null,
   "metadata": {
    "execution": {
     "iopub.execute_input": "2021-09-13T13:07:49.050271Z",
     "iopub.status.busy": "2021-09-13T13:07:49.049667Z",
     "iopub.status.idle": "2021-09-13T13:08:02.186315Z",
     "shell.execute_reply": "2021-09-13T13:08:02.185159Z",
     "shell.execute_reply.started": "2021-09-13T13:07:49.050225Z"
    }
   },
   "outputs": [],
   "source": [
    "tic = perf_counter()\n",
    "df = extend_dataframe(df_init)\n",
    "toc = perf_counter()\n",
    "print(f\"DataFrame extention: {((toc - tic)/60):.1f} min\")"
   ]
  },
  {
   "cell_type": "markdown",
   "metadata": {
    "id": "gjPcX2sdTQz4"
   },
   "source": [
    "### Build sets, generators and network"
   ]
  },
  {
   "cell_type": "code",
   "execution_count": null,
   "metadata": {
    "execution": {
     "iopub.execute_input": "2021-09-13T13:08:02.188224Z",
     "iopub.status.busy": "2021-09-13T13:08:02.187884Z",
     "iopub.status.idle": "2021-09-13T13:08:02.193541Z",
     "shell.execute_reply": "2021-09-13T13:08:02.192831Z",
     "shell.execute_reply.started": "2021-09-13T13:08:02.188191Z"
    },
    "id": "9YhsU5iYDx0c",
    "outputId": "fe319f34-b66f-4601-d05c-25dabcaa1656"
   },
   "outputs": [],
   "source": [
    "num_classes = len(df.Classid.unique())\n",
    "print(\"Number of individuals: \", num_classes)"
   ]
  },
  {
   "cell_type": "code",
   "execution_count": null,
   "metadata": {
    "execution": {
     "iopub.execute_input": "2021-09-13T13:08:02.195089Z",
     "iopub.status.busy": "2021-09-13T13:08:02.194803Z",
     "iopub.status.idle": "2021-09-13T13:08:02.208255Z",
     "shell.execute_reply": "2021-09-13T13:08:02.207191Z",
     "shell.execute_reply.started": "2021-09-13T13:08:02.195062Z"
    },
    "id": "SX80fCGkn702"
   },
   "outputs": [],
   "source": [
    "indiv_min = df.Classid.min()\n",
    "split_train_valid = int(num_classes * 0.75)\n",
    "split_train_test = int(num_classes * 0.8)\n",
    "indiv_max = df.Classid.max()"
   ]
  },
  {
   "cell_type": "code",
   "execution_count": null,
   "metadata": {
    "execution": {
     "iopub.execute_input": "2021-09-13T13:08:02.209805Z",
     "iopub.status.busy": "2021-09-13T13:08:02.209499Z",
     "iopub.status.idle": "2021-09-13T13:08:02.223069Z",
     "shell.execute_reply": "2021-09-13T13:08:02.222127Z",
     "shell.execute_reply.started": "2021-09-13T13:08:02.209777Z"
    },
    "id": "1rHLE3kHcCyp",
    "outputId": "5291153a-b4d0-4bf5-d690-25979aafaeee"
   },
   "outputs": [],
   "source": [
    "print(f\"Train set from indiv {indiv_min} to {split_train_valid-1}\")\n",
    "print(f\"Valid set from indiv {split_train_valid} to {split_train_test-1}\")\n",
    "print(f\"Test set from indiv {split_train_test} to {indiv_max}\")"
   ]
  },
  {
   "cell_type": "code",
   "execution_count": null,
   "metadata": {
    "execution": {
     "iopub.execute_input": "2021-09-13T13:08:02.224739Z",
     "iopub.status.busy": "2021-09-13T13:08:02.224225Z",
     "iopub.status.idle": "2021-09-13T13:08:02.262186Z",
     "shell.execute_reply": "2021-09-13T13:08:02.261081Z",
     "shell.execute_reply.started": "2021-09-13T13:08:02.224696Z"
    },
    "id": "P0vpXVlscwOA"
   },
   "outputs": [],
   "source": [
    "df_train = df[df.Classid<split_train_valid]\n",
    "df_valid = df[(df.Classid>=split_train_valid)&(df.Classid<split_train_test)]\n",
    "df_test = df[df.Classid>=split_train_test]"
   ]
  },
  {
   "cell_type": "code",
   "execution_count": null,
   "metadata": {
    "execution": {
     "iopub.execute_input": "2021-09-13T13:08:02.263744Z",
     "iopub.status.busy": "2021-09-13T13:08:02.263411Z",
     "iopub.status.idle": "2021-09-13T13:08:02.273139Z",
     "shell.execute_reply": "2021-09-13T13:08:02.271928Z",
     "shell.execute_reply.started": "2021-09-13T13:08:02.263715Z"
    },
    "id": "6y6Lmu7UTQz6",
    "outputId": "28af2b3b-e25e-4e31-d548-10f4f98de50e"
   },
   "outputs": [],
   "source": [
    "print(\"Number of training images: \", len(df_train))\n",
    "print(\"Number of validation images: \", len(df_valid))\n",
    "print(\"Number of testing images: \", len(df_test))\n",
    "print(\"Number of total images: \", len(df_train)+len(df_valid)+len(df_test))\n",
    "print(\"len original: \", len(df))"
   ]
  },
  {
   "cell_type": "code",
   "execution_count": null,
   "metadata": {
    "execution": {
     "iopub.execute_input": "2021-09-13T13:08:02.275608Z",
     "iopub.status.busy": "2021-09-13T13:08:02.274966Z",
     "iopub.status.idle": "2021-09-13T13:08:02.286905Z",
     "shell.execute_reply": "2021-09-13T13:08:02.285727Z",
     "shell.execute_reply.started": "2021-09-13T13:08:02.275467Z"
    },
    "id": "LeMZhCJtTQz6",
    "outputId": "a253f6dc-6c2e-4ae6-d2f3-5be83a67603d"
   },
   "outputs": [],
   "source": [
    "print(\"Number of individuals in the training set: \", len(df_train.Classid.unique()))\n",
    "print(\"Number of individuals in the validation set: \", len(df_valid.Classid.unique()))\n",
    "print(\"Number of individuals in the testing set: \", len(df_test.Classid.unique()))"
   ]
  },
  {
   "cell_type": "code",
   "execution_count": null,
   "metadata": {
    "execution": {
     "iopub.execute_input": "2021-09-13T13:08:02.288545Z",
     "iopub.status.busy": "2021-09-13T13:08:02.288224Z",
     "iopub.status.idle": "2021-09-13T13:08:02.308874Z",
     "shell.execute_reply": "2021-09-13T13:08:02.307564Z",
     "shell.execute_reply.started": "2021-09-13T13:08:02.288512Z"
    },
    "id": "44sct3lGTQz7",
    "outputId": "f430af11-01cd-4696-eedf-f9e66aca0a4e"
   },
   "outputs": [],
   "source": [
    "value_count = df_train.Classid.value_counts()\n",
    "print(\"Number of individuals with more than one image in the training set: \", len(value_count[value_count.values>1]))\n",
    "value_count = df_valid.Classid.value_counts()\n",
    "print(\"Number of individuals with more than one image in the validation set: \", len(value_count[value_count.values>1]))\n",
    "value_count = df_test.Classid.value_counts()\n",
    "print(\"Number of individuals with more than one image in the testing set: \", len(value_count[value_count.values>1]))"
   ]
  },
  {
   "cell_type": "code",
   "execution_count": null,
   "metadata": {
    "execution": {
     "iopub.execute_input": "2021-09-13T13:08:02.311285Z",
     "iopub.status.busy": "2021-09-13T13:08:02.310858Z",
     "iopub.status.idle": "2021-09-13T13:08:02.358289Z",
     "shell.execute_reply": "2021-09-13T13:08:02.357141Z",
     "shell.execute_reply.started": "2021-09-13T13:08:02.311246Z"
    },
    "id": "nkVW9HZq9K9e",
    "outputId": "cd5adc42-7ad9-468a-8aee-9039c7cc30d9"
   },
   "outputs": [],
   "source": [
    "df_valid.head()"
   ]
  },
  {
   "cell_type": "code",
   "execution_count": null,
   "metadata": {
    "execution": {
     "iopub.execute_input": "2021-09-13T13:08:02.360521Z",
     "iopub.status.busy": "2021-09-13T13:08:02.360091Z",
     "iopub.status.idle": "2021-09-13T13:08:02.365259Z",
     "shell.execute_reply": "2021-09-13T13:08:02.364296Z",
     "shell.execute_reply.started": "2021-09-13T13:08:02.360477Z"
    },
    "id": "otF4YNywkl2O"
   },
   "outputs": [],
   "source": [
    "BATCH_SIZE = 128 # 128\n",
    "BATCH_VALID_SIZE = 128 #128 #8\n",
    "BATCH_TEST_SIZE = 128 #128 #32"
   ]
  },
  {
   "cell_type": "code",
   "execution_count": null,
   "metadata": {
    "execution": {
     "iopub.execute_input": "2021-09-13T13:08:02.36704Z",
     "iopub.status.busy": "2021-09-13T13:08:02.366631Z",
     "iopub.status.idle": "2021-09-13T13:08:02.378329Z",
     "shell.execute_reply": "2021-09-13T13:08:02.377356Z",
     "shell.execute_reply.started": "2021-09-13T13:08:02.366992Z"
    },
    "id": "IhO6Pj2q3tnM"
   },
   "outputs": [],
   "source": [
    "device = torch.device(\"cuda:0\" if torch.cuda.is_available() else \"cpu\")\n",
    "margin = 0.2\n",
    "criterion = TripletLoss(margin)\n",
    "criterion_test = TripletLossRaw(margin)"
   ]
  },
  {
   "cell_type": "markdown",
   "metadata": {
    "id": "iSBWwAmCx-0b"
   },
   "source": [
    "### Load Model"
   ]
  },
  {
   "cell_type": "code",
   "execution_count": null,
   "metadata": {
    "execution": {
     "iopub.execute_input": "2021-09-13T13:08:02.382606Z",
     "iopub.status.busy": "2021-09-13T13:08:02.382241Z",
     "iopub.status.idle": "2021-09-13T13:08:02.460841Z",
     "shell.execute_reply": "2021-09-13T13:08:02.459738Z",
     "shell.execute_reply.started": "2021-09-13T13:08:02.382574Z"
    },
    "id": "vEb1cNtrx9lD"
   },
   "outputs": [],
   "source": [
    "# Load pretrained model\n",
    "\n",
    "model = TripletLearner(base_channels=32)\n",
    "model.load_state_dict(torch.load(\"./models/without_jitter_and_p.pth\",map_location=torch.device('cpu')))\n",
    "model = model.to(device)\n",
    "model.eval()"
   ]
  },
  {
   "cell_type": "code",
   "execution_count": null,
   "metadata": {
    "execution": {
     "iopub.execute_input": "2021-09-13T12:45:58.088463Z",
     "iopub.status.busy": "2021-09-13T12:45:58.088045Z",
     "iopub.status.idle": "2021-09-13T12:45:58.09637Z",
     "shell.execute_reply": "2021-09-13T12:45:58.0954Z",
     "shell.execute_reply.started": "2021-09-13T12:45:58.08842Z"
    }
   },
   "outputs": [],
   "source": [
    "# Build generator and loader\n",
    "\n",
    "gen = TripletGenerator(df_valid, all_imgs, BATCH_VALID_SIZE, device, model, margin)\n",
    "loader = DataLoader(gen, batch_size=None, shuffle=True)"
   ]
  },
  {
   "cell_type": "code",
   "execution_count": null,
   "metadata": {
    "execution": {
     "iopub.execute_input": "2021-09-13T12:45:58.098339Z",
     "iopub.status.busy": "2021-09-13T12:45:58.097804Z",
     "iopub.status.idle": "2021-09-13T12:45:58.754808Z",
     "shell.execute_reply": "2021-09-13T12:45:58.754018Z",
     "shell.execute_reply.started": "2021-09-13T12:45:58.098304Z"
    }
   },
   "outputs": [],
   "source": [
    "# Concatenate to augment the loader size\n",
    "\n",
    "list_loader = []\n",
    "for _ in range(10):\n",
    "    list_loader.extend(list(loader))"
   ]
  },
  {
   "cell_type": "markdown",
   "metadata": {},
   "source": [
    "## Build THRESHOLD"
   ]
  },
  {
   "cell_type": "markdown",
   "metadata": {
    "id": "w92kfCACDHKE"
   },
   "source": [
    "### Print histograms"
   ]
  },
  {
   "cell_type": "code",
   "execution_count": null,
   "metadata": {
    "execution": {
     "iopub.execute_input": "2021-09-13T12:45:58.756328Z",
     "iopub.status.busy": "2021-09-13T12:45:58.755924Z",
     "iopub.status.idle": "2021-09-13T12:46:10.47955Z",
     "shell.execute_reply": "2021-09-13T12:46:10.478423Z",
     "shell.execute_reply.started": "2021-09-13T12:45:58.756298Z"
    },
    "id": "83v5f2-LDVBa"
   },
   "outputs": [],
   "source": [
    "pos_dist, neg_dist, _ = compute_distances(list_loader, device, model) #loader"
   ]
  },
  {
   "cell_type": "code",
   "execution_count": null,
   "metadata": {
    "execution": {
     "iopub.execute_input": "2021-09-13T12:46:10.481791Z",
     "iopub.status.busy": "2021-09-13T12:46:10.481172Z",
     "iopub.status.idle": "2021-09-13T12:46:10.920397Z",
     "shell.execute_reply": "2021-09-13T12:46:10.919537Z",
     "shell.execute_reply.started": "2021-09-13T12:46:10.481745Z"
    }
   },
   "outputs": [],
   "source": [
    "print_hist_dist(pos_dist,neg_dist)"
   ]
  },
  {
   "cell_type": "code",
   "execution_count": null,
   "metadata": {
    "execution": {
     "iopub.execute_input": "2021-09-13T12:46:10.92177Z",
     "iopub.status.busy": "2021-09-13T12:46:10.921478Z",
     "iopub.status.idle": "2021-09-13T12:46:11.444241Z",
     "shell.execute_reply": "2021-09-13T12:46:11.443561Z",
     "shell.execute_reply.started": "2021-09-13T12:46:10.921741Z"
    },
    "id": "_Mah-8cTRh4A"
   },
   "outputs": [],
   "source": [
    "print_hist_dist_zoom(pos_dist,neg_dist)"
   ]
  },
  {
   "cell_type": "markdown",
   "metadata": {},
   "source": [
    "### ROC curve with distance"
   ]
  },
  {
   "cell_type": "code",
   "execution_count": null,
   "metadata": {
    "execution": {
     "iopub.execute_input": "2021-09-13T12:46:11.445564Z",
     "iopub.status.busy": "2021-09-13T12:46:11.445183Z",
     "iopub.status.idle": "2021-09-13T12:46:11.44974Z",
     "shell.execute_reply": "2021-09-13T12:46:11.449004Z",
     "shell.execute_reply.started": "2021-09-13T12:46:11.445536Z"
    }
   },
   "outputs": [],
   "source": [
    "# Create y (true) and X (distances)\n",
    "\n",
    "y_pos = [1 for _ in range(len(pos_dist))]\n",
    "y_neg = [0 for _ in range(len(neg_dist))]\n",
    "\n",
    "y = y_pos + y_neg\n",
    "X = pos_dist + neg_dist"
   ]
  },
  {
   "cell_type": "code",
   "execution_count": null,
   "metadata": {
    "execution": {
     "iopub.execute_input": "2021-09-13T12:46:11.451101Z",
     "iopub.status.busy": "2021-09-13T12:46:11.45064Z",
     "iopub.status.idle": "2021-09-13T12:46:11.464416Z",
     "shell.execute_reply": "2021-09-13T12:46:11.463481Z",
     "shell.execute_reply.started": "2021-09-13T12:46:11.451072Z"
    }
   },
   "outputs": [],
   "source": [
    "# We need the opposite of the distances\n",
    "\n",
    "Xmoins = np.array(X)*(-1)\n",
    "Xmoins.shape"
   ]
  },
  {
   "cell_type": "code",
   "execution_count": null,
   "metadata": {
    "execution": {
     "iopub.execute_input": "2021-09-13T12:46:11.465972Z",
     "iopub.status.busy": "2021-09-13T12:46:11.465692Z",
     "iopub.status.idle": "2021-09-13T12:46:11.477486Z",
     "shell.execute_reply": "2021-09-13T12:46:11.476576Z",
     "shell.execute_reply.started": "2021-09-13T12:46:11.465944Z"
    }
   },
   "outputs": [],
   "source": [
    "# Compute FPR and TPR for ROC curve from distance\n",
    "\n",
    "fpr_dist, tpr_dist, thresholds_dist = roc_curve(y, Xmoins)\n",
    "roc_auc_dist = auc(fpr_dist,tpr_dist)"
   ]
  },
  {
   "cell_type": "code",
   "execution_count": null,
   "metadata": {
    "execution": {
     "iopub.execute_input": "2021-09-13T12:46:11.479351Z",
     "iopub.status.busy": "2021-09-13T12:46:11.478983Z",
     "iopub.status.idle": "2021-09-13T12:46:11.632142Z",
     "shell.execute_reply": "2021-09-13T12:46:11.630992Z",
     "shell.execute_reply.started": "2021-09-13T12:46:11.479322Z"
    }
   },
   "outputs": [],
   "source": [
    "print_roc(fpr_dist, tpr_dist, roc_auc_dist)"
   ]
  },
  {
   "cell_type": "code",
   "execution_count": null,
   "metadata": {
    "execution": {
     "iopub.execute_input": "2021-09-13T12:46:11.633653Z",
     "iopub.status.busy": "2021-09-13T12:46:11.633346Z",
     "iopub.status.idle": "2021-09-13T12:46:11.641096Z",
     "shell.execute_reply": "2021-09-13T12:46:11.639994Z",
     "shell.execute_reply.started": "2021-09-13T12:46:11.633623Z"
    }
   },
   "outputs": [],
   "source": [
    "# Different possible thresholds from the ROC curve of distances\n",
    "\n",
    "print(\"max(TPR-FPR):\", -thresholds_dist[np.argmax(tpr_dist - fpr_dist)])\n",
    "print(\"min(abs(TPR-(1-FPR))):\", -thresholds_dist[np.argmin(abs(tpr_dist-(1-fpr_dist)))])\n",
    "print(\"min((1-TPR)²+FPR²):\", -thresholds_dist[np.argmin((1 - tpr_dist) ** 2 + fpr_dist ** 2)])"
   ]
  },
  {
   "cell_type": "code",
   "execution_count": null,
   "metadata": {
    "execution": {
     "iopub.execute_input": "2021-09-13T12:46:11.642861Z",
     "iopub.status.busy": "2021-09-13T12:46:11.64249Z",
     "iopub.status.idle": "2021-09-13T12:46:11.854787Z",
     "shell.execute_reply": "2021-09-13T12:46:11.853718Z",
     "shell.execute_reply.started": "2021-09-13T12:46:11.64283Z"
    }
   },
   "outputs": [],
   "source": [
    "precision_dist, recall_dist, thresholds_recall_dist = precision_recall_curve(y, Xmoins)\n",
    "auc_s_dist = auc(recall_dist, precision_dist)\n",
    "\n",
    "print_prec_recall(precision_dist, recall_dist, auc_s_dist)"
   ]
  },
  {
   "cell_type": "markdown",
   "metadata": {},
   "source": [
    "### Logistic regression"
   ]
  },
  {
   "cell_type": "code",
   "execution_count": null,
   "metadata": {
    "execution": {
     "iopub.execute_input": "2021-09-13T12:46:11.856274Z",
     "iopub.status.busy": "2021-09-13T12:46:11.855937Z",
     "iopub.status.idle": "2021-09-13T12:46:11.862644Z",
     "shell.execute_reply": "2021-09-13T12:46:11.861565Z",
     "shell.execute_reply.started": "2021-09-13T12:46:11.856248Z"
    }
   },
   "outputs": [],
   "source": [
    "# Reshape distances to fit the logistic regression\n",
    "\n",
    "Xlogistic = np.array(Xmoins).reshape(-1,1)\n",
    "Xlogistic.shape"
   ]
  },
  {
   "cell_type": "code",
   "execution_count": null,
   "metadata": {
    "execution": {
     "iopub.execute_input": "2021-09-13T12:46:11.864241Z",
     "iopub.status.busy": "2021-09-13T12:46:11.863942Z",
     "iopub.status.idle": "2021-09-13T12:46:11.899374Z",
     "shell.execute_reply": "2021-09-13T12:46:11.898293Z",
     "shell.execute_reply.started": "2021-09-13T12:46:11.864212Z"
    }
   },
   "outputs": [],
   "source": [
    "# Create and fit logistic regression\n",
    "\n",
    "clf = LogisticRegression(random_state=0).fit(Xlogistic, y)\n",
    "\n",
    "y_pred_logistic = clf.predict(Xlogistic)\n",
    "y_pred_proba_logistic = clf.predict_proba(Xlogistic)\n",
    "\n",
    "score_logistic = clf.score(Xlogistic, y)\n",
    "print(\"Score (mean accuracy):\", score_logistic)\n",
    "\n",
    "f1_s_logistic = f1_score(y, y_pred_logistic)\n",
    "print(\"f1 score:\", f1_s_logistic)"
   ]
  },
  {
   "cell_type": "code",
   "execution_count": null,
   "metadata": {
    "execution": {
     "iopub.execute_input": "2021-09-13T12:46:11.902967Z",
     "iopub.status.busy": "2021-09-13T12:46:11.902583Z",
     "iopub.status.idle": "2021-09-13T12:46:11.908668Z",
     "shell.execute_reply": "2021-09-13T12:46:11.90752Z",
     "shell.execute_reply.started": "2021-09-13T12:46:11.902932Z"
    }
   },
   "outputs": [],
   "source": [
    "# Threshold from logistic regression\n",
    "\n",
    "THRESHOLD = (clf.intercept_/clf.coef_)[0,0]\n",
    "print(\"THRESHOLD with logistic regression:\", THRESHOLD)"
   ]
  },
  {
   "cell_type": "code",
   "execution_count": null,
   "metadata": {
    "execution": {
     "iopub.execute_input": "2021-09-13T12:46:11.910632Z",
     "iopub.status.busy": "2021-09-13T12:46:11.910172Z",
     "iopub.status.idle": "2021-09-13T12:46:12.535893Z",
     "shell.execute_reply": "2021-09-13T12:46:12.534608Z",
     "shell.execute_reply.started": "2021-09-13T12:46:11.910588Z"
    }
   },
   "outputs": [],
   "source": [
    "# Print the curves from logistic regression above the histogram and show threshold\n",
    "\n",
    "print_logistic_regression(pos_dist, neg_dist, y_pred_proba_logistic, THRESHOLD)"
   ]
  },
  {
   "cell_type": "code",
   "execution_count": null,
   "metadata": {
    "execution": {
     "iopub.execute_input": "2021-09-13T12:46:12.538147Z",
     "iopub.status.busy": "2021-09-13T12:46:12.537523Z",
     "iopub.status.idle": "2021-09-13T12:46:12.564808Z",
     "shell.execute_reply": "2021-09-13T12:46:12.563543Z",
     "shell.execute_reply.started": "2021-09-13T12:46:12.538097Z"
    }
   },
   "outputs": [],
   "source": [
    "# Confusion matrix from logistic regression\n",
    "\n",
    "print(\"Confusion Matrix Total\")\n",
    "confusion_matrix(y, y_pred_logistic)"
   ]
  },
  {
   "cell_type": "code",
   "execution_count": null,
   "metadata": {
    "execution": {
     "iopub.execute_input": "2021-09-13T12:46:12.566958Z",
     "iopub.status.busy": "2021-09-13T12:46:12.566304Z",
     "iopub.status.idle": "2021-09-13T12:46:12.743608Z",
     "shell.execute_reply": "2021-09-13T12:46:12.741726Z",
     "shell.execute_reply.started": "2021-09-13T12:46:12.566913Z"
    }
   },
   "outputs": [],
   "source": [
    "# Compute FPR and TPR for ROC curve from logistic regression\n",
    "\n",
    "fpr_logistic, tpr_logistic, thresholds_logistic = roc_curve(y, y_pred_proba_logistic[:,1])\n",
    "roc_auc_logistic = auc(fpr_logistic,tpr_logistic)\n",
    "\n",
    "print_roc(fpr_logistic,tpr_logistic, roc_auc_logistic)"
   ]
  },
  {
   "cell_type": "code",
   "execution_count": null,
   "metadata": {
    "execution": {
     "iopub.execute_input": "2021-09-13T12:46:12.745355Z",
     "iopub.status.busy": "2021-09-13T12:46:12.744979Z",
     "iopub.status.idle": "2021-09-13T12:46:12.956214Z",
     "shell.execute_reply": "2021-09-13T12:46:12.955268Z",
     "shell.execute_reply.started": "2021-09-13T12:46:12.745317Z"
    }
   },
   "outputs": [],
   "source": [
    "# Compute Precision and Recall\n",
    "\n",
    "precision_logistic, recall_logistic, thresholds_recall_logistic = precision_recall_curve(y, y_pred_proba_logistic[:,1])\n",
    "auc_s_logistic = auc(recall_logistic, precision_logistic)\n",
    "\n",
    "print_prec_recall(precision_logistic, recall_logistic, auc_s_logistic)"
   ]
  },
  {
   "cell_type": "code",
   "execution_count": null,
   "metadata": {
    "execution": {
     "iopub.execute_input": "2021-09-13T12:46:12.957978Z",
     "iopub.status.busy": "2021-09-13T12:46:12.95759Z",
     "iopub.status.idle": "2021-09-13T12:46:12.965361Z",
     "shell.execute_reply": "2021-09-13T12:46:12.964119Z",
     "shell.execute_reply.started": "2021-09-13T12:46:12.957941Z"
    }
   },
   "outputs": [],
   "source": [
    "# Different possible thresholds from the ROC curve of logistic regression\n",
    "\n",
    "print(\"max(TPR-FPR):\", thresholds_logistic[np.argmax(tpr_logistic - fpr_logistic)])\n",
    "print(\"min(abs(TPR-(1-FPR))):\", thresholds_logistic[np.argmin(abs(tpr_logistic-(1-fpr_logistic)))])\n",
    "print(\"min((1-TPR)²+FPR²):\", thresholds_logistic[np.argmin((1 - tpr_logistic) ** 2 + fpr_logistic ** 2)])"
   ]
  },
  {
   "cell_type": "markdown",
   "metadata": {},
   "source": [
    "### Compute accuracy"
   ]
  },
  {
   "cell_type": "code",
   "execution_count": null,
   "metadata": {
    "execution": {
     "iopub.execute_input": "2021-09-13T12:46:12.966889Z",
     "iopub.status.busy": "2021-09-13T12:46:12.966604Z",
     "iopub.status.idle": "2021-09-13T12:46:50.174672Z",
     "shell.execute_reply": "2021-09-13T12:46:50.173676Z",
     "shell.execute_reply.started": "2021-09-13T12:46:12.966861Z"
    }
   },
   "outputs": [],
   "source": [
    "# Predict classification from THRESHOLD\n",
    "\n",
    "y_pred_pos_bins, y_pred_neg_bins = predict(list_loader, device, model, THRESHOLD) #loader\n",
    "y_pred_bins = y_pred_pos_bins + y_pred_neg_bins"
   ]
  },
  {
   "cell_type": "code",
   "execution_count": null,
   "metadata": {
    "execution": {
     "iopub.execute_input": "2021-09-13T12:46:50.176622Z",
     "iopub.status.busy": "2021-09-13T12:46:50.17617Z",
     "iopub.status.idle": "2021-09-13T12:46:50.192731Z",
     "shell.execute_reply": "2021-09-13T12:46:50.191587Z",
     "shell.execute_reply.started": "2021-09-13T12:46:50.17658Z"
    }
   },
   "outputs": [],
   "source": [
    "# Confusion matrix and accuracy score from the classification\n",
    "# If THRESHOLD comes from logistic regression, we should find the same confusion matrix\n",
    "\n",
    "print(\"Confusion Matrix Total\")\n",
    "print(confusion_matrix(y, y_pred_bins))\n",
    "\n",
    "print(\"\\n\",\"Accuracy score:\",accuracy_score(y, y_pred_bins))"
   ]
  },
  {
   "cell_type": "code",
   "execution_count": null,
   "metadata": {
    "execution": {
     "iopub.execute_input": "2021-09-13T12:47:04.88817Z",
     "iopub.status.busy": "2021-09-13T12:47:04.887711Z",
     "iopub.status.idle": "2021-09-13T12:47:04.8944Z",
     "shell.execute_reply": "2021-09-13T12:47:04.892784Z",
     "shell.execute_reply.started": "2021-09-13T12:47:04.888133Z"
    }
   },
   "outputs": [],
   "source": [
    "# Define the accuracy function\n",
    "\n",
    "def acc(thr):\n",
    "    y_pred_pos_bins, y_pred_neg_bins = predict(list_loader, device, model, thr) #loader\n",
    "    y_pred_bins = y_pred_pos_bins + y_pred_neg_bins\n",
    "    return(accuracy_score(y, y_pred_bins))"
   ]
  },
  {
   "cell_type": "code",
   "execution_count": null,
   "metadata": {
    "execution": {
     "iopub.execute_input": "2021-09-13T09:14:17.420247Z",
     "iopub.status.busy": "2021-09-13T09:14:17.419879Z",
     "iopub.status.idle": "2021-09-13T09:14:30.174489Z",
     "shell.execute_reply": "2021-09-13T09:14:30.172772Z",
     "shell.execute_reply.started": "2021-09-13T09:14:17.420214Z"
    }
   },
   "outputs": [],
   "source": [
    "# Compute several accuracy points depending on threshold\n",
    "\n",
    "thrs = np.linspace(0.,2.,100)\n",
    "accu=[]\n",
    "for i,thr in zip(enumerate(tqdm(range(len(thrs)), desc=\"Processing\", leave=False)),thrs) :\n",
    "    accu.append(acc(thr))"
   ]
  },
  {
   "cell_type": "code",
   "execution_count": null,
   "metadata": {},
   "outputs": [],
   "source": [
    "# Plot accuracy(threshold)\n",
    "\n",
    "plt.figure(figsize=(13,7))\n",
    "plt.plot(thrs, accu)\n",
    "plt.xlabel('Threshold')\n",
    "plt.ylabel('Accuracy')\n",
    "plt.show()"
   ]
  },
  {
   "cell_type": "code",
   "execution_count": null,
   "metadata": {
    "execution": {
     "iopub.execute_input": "2021-09-13T09:14:41.963332Z",
     "iopub.status.busy": "2021-09-13T09:14:41.962611Z",
     "iopub.status.idle": "2021-09-13T09:14:41.96878Z",
     "shell.execute_reply": "2021-09-13T09:14:41.967513Z",
     "shell.execute_reply.started": "2021-09-13T09:14:41.963291Z"
    }
   },
   "outputs": [],
   "source": [
    "# Define a the opposite function\n",
    "\n",
    "def acc_moins(thr, loader=list_loader):\n",
    "    y_pred_pos_bins, y_pred_neg_bins = predict(list_loader, device, model, thr)\n",
    "    y_pred_bins = y_pred_pos_bins + y_pred_neg_bins\n",
    "    return(-accuracy_score(y, y_pred_bins))"
   ]
  },
  {
   "cell_type": "code",
   "execution_count": null,
   "metadata": {},
   "outputs": [],
   "source": [
    "# Use the Brent otpimizer to find the maximum of accuracy\n",
    "\n",
    "xmin, fval, niter, funcalls = optimize.brent(acc_moins,brack=(0.,2.), full_output=True, maxiter=1000)\n",
    "print(f\"Maximum of accuracy ({-round(fval,3)}) found for threshold = {xmin}\")"
   ]
  },
  {
   "cell_type": "code",
   "execution_count": null,
   "metadata": {},
   "outputs": [],
   "source": [
    "xmin, fval, niter, funcalls = optimize.brent(acc_moins,brack=(0.,2.), full_output=True, maxiter=1000)\n",
    "print(f\"Maximum of accuracy ({-round(fval,3)}) found for threshold = {xmin}\")"
   ]
  },
  {
   "cell_type": "code",
   "execution_count": null,
   "metadata": {
    "execution": {
     "iopub.execute_input": "2021-09-13T09:15:01.363054Z",
     "iopub.status.busy": "2021-09-13T09:15:01.362672Z",
     "iopub.status.idle": "2021-09-13T10:27:42.330095Z",
     "shell.execute_reply": "2021-09-13T10:27:42.327216Z",
     "shell.execute_reply.started": "2021-09-13T09:15:01.36302Z"
    }
   },
   "outputs": [],
   "source": [
    "acc, thr = [], []\n",
    "\n",
    "for _ in range(4):\n",
    "    list_loader = []\n",
    "    for _ in range(10):\n",
    "        list_loader.extend(list(loader))\n",
    "    xmin, fval, niter, funcalls = optimize.brent(acc_moins,brack=(0.,2.), full_output=True, maxiter=100)\n",
    "    acc.append(-fval)\n",
    "    thr.append(xmin)"
   ]
  },
  {
   "cell_type": "code",
   "execution_count": null,
   "metadata": {
    "execution": {
     "iopub.execute_input": "2021-09-13T13:13:52.089399Z",
     "iopub.status.busy": "2021-09-13T13:13:52.088957Z",
     "iopub.status.idle": "2021-09-13T13:13:52.097055Z",
     "shell.execute_reply": "2021-09-13T13:13:52.095797Z",
     "shell.execute_reply.started": "2021-09-13T13:13:52.089348Z"
    }
   },
   "outputs": [],
   "source": [
    "import statistics"
   ]
  },
  {
   "cell_type": "code",
   "execution_count": null,
   "metadata": {
    "execution": {
     "iopub.execute_input": "2021-09-13T10:39:36.283325Z",
     "iopub.status.busy": "2021-09-13T10:39:36.282952Z",
     "iopub.status.idle": "2021-09-13T10:39:36.290212Z",
     "shell.execute_reply": "2021-09-13T10:39:36.289385Z",
     "shell.execute_reply.started": "2021-09-13T10:39:36.283295Z"
    }
   },
   "outputs": [],
   "source": [
    "print(\"Accuracy:\", acc)\n",
    "print(\"Threshold: \", thr)\n",
    "print(\"Mean accuracy:\",statistics.mean(acc))\n",
    "print(\"Mean threshold:\",statistics.mean(thr))"
   ]
  },
  {
   "cell_type": "markdown",
   "metadata": {},
   "source": [
    "### Triplet accuracy"
   ]
  },
  {
   "cell_type": "code",
   "execution_count": null,
   "metadata": {
    "execution": {
     "iopub.execute_input": "2021-09-13T13:08:02.463039Z",
     "iopub.status.busy": "2021-09-13T13:08:02.462421Z",
     "iopub.status.idle": "2021-09-13T13:08:03.129598Z",
     "shell.execute_reply": "2021-09-13T13:08:03.128455Z",
     "shell.execute_reply.started": "2021-09-13T13:08:02.462985Z"
    }
   },
   "outputs": [],
   "source": [
    "gen = TripletGenerator(df_valid, all_imgs, BATCH_VALID_SIZE, device, model, margin)\n",
    "loader = DataLoader(gen, batch_size=None, shuffle=True)\n",
    "\n",
    "list_loader = []\n",
    "for _ in range(10):\n",
    "    list_loader.extend(list(loader))"
   ]
  },
  {
   "cell_type": "code",
   "execution_count": null,
   "metadata": {
    "execution": {
     "iopub.execute_input": "2021-09-13T13:00:53.752008Z",
     "iopub.status.busy": "2021-09-13T13:00:53.751372Z",
     "iopub.status.idle": "2021-09-13T13:00:53.760581Z",
     "shell.execute_reply": "2021-09-13T13:00:53.759538Z",
     "shell.execute_reply.started": "2021-09-13T13:00:53.751951Z"
    }
   },
   "outputs": [],
   "source": [
    "len(list_loader)"
   ]
  },
  {
   "cell_type": "code",
   "execution_count": null,
   "metadata": {
    "execution": {
     "iopub.execute_input": "2021-09-13T13:02:33.262627Z",
     "iopub.status.busy": "2021-09-13T13:02:33.262145Z",
     "iopub.status.idle": "2021-09-13T13:02:33.290583Z",
     "shell.execute_reply": "2021-09-13T13:02:33.288761Z",
     "shell.execute_reply.started": "2021-09-13T13:02:33.262584Z"
    }
   },
   "outputs": [],
   "source": [
    "triplet_accuracy = triplet_acc(list_loader, device, model)\n",
    "print(\"Triplets where d(A,P) < d(A,N): \",round(100*triplet_accuracy,1),\"%\")"
   ]
  },
  {
   "cell_type": "code",
   "execution_count": null,
   "metadata": {
    "execution": {
     "iopub.execute_input": "2021-09-13T13:17:15.849957Z",
     "iopub.status.busy": "2021-09-13T13:17:15.849543Z",
     "iopub.status.idle": "2021-09-13T13:37:33.052766Z",
     "shell.execute_reply": "2021-09-13T13:37:33.051584Z",
     "shell.execute_reply.started": "2021-09-13T13:17:15.849925Z"
    }
   },
   "outputs": [],
   "source": [
    "triplet_accuracy_list = []\n",
    "for _ in range(100):\n",
    "    list_loader = []\n",
    "    for _ in range(10):\n",
    "        list_loader.extend(list(loader))\n",
    "    triplet_accuracy = triplet_acc(list_loader, device, model)\n",
    "    triplet_accuracy_list.append(triplet_accuracy)"
   ]
  },
  {
   "cell_type": "code",
   "execution_count": null,
   "metadata": {
    "execution": {
     "iopub.execute_input": "2021-09-13T13:37:33.054894Z",
     "iopub.status.busy": "2021-09-13T13:37:33.054589Z",
     "iopub.status.idle": "2021-09-13T13:37:33.061441Z",
     "shell.execute_reply": "2021-09-13T13:37:33.060124Z",
     "shell.execute_reply.started": "2021-09-13T13:37:33.054863Z"
    }
   },
   "outputs": [],
   "source": [
    "# print(triplet_accuracy_list)\n",
    "print(\"Mean triplet accuracy: \",statistics.mean(triplet_accuracy_list))\n",
    "print(\"Min-Max triplet accuracy: \",[min(triplet_accuracy_list),max(triplet_accuracy_list)])"
   ]
  },
  {
   "cell_type": "markdown",
   "metadata": {},
   "source": [
    "### Old method with sigmoid"
   ]
  },
  {
   "cell_type": "code",
   "execution_count": null,
   "metadata": {},
   "outputs": [],
   "source": [
    "def sigmoid(x, c1, c2):\n",
    "  \n",
    "    z = np.exp(-c1*(x-c2))\n",
    "    sig = 1 / (1 + z)\n",
    "\n",
    "    return sig"
   ]
  },
  {
   "cell_type": "code",
   "execution_count": null,
   "metadata": {},
   "outputs": [],
   "source": [
    "xx = np.arange(-10,10,0.05)\n",
    "plt.plot(xx,sigmoid(xx,1.,0.))\n",
    "plt.show()"
   ]
  },
  {
   "cell_type": "code",
   "execution_count": null,
   "metadata": {},
   "outputs": [],
   "source": [
    "fig,ax1 = plt.subplots(1,1,figsize=(10,5),dpi=100,num=1)\n",
    "maxi = 2.\n",
    "bins=np.linspace(0.,maxi,50)\n",
    "ax1.hist(pos_dist,bins=bins,label='Anchor and Positive', alpha=0.3)\n",
    "ax1.hist(neg_dist,bins=bins,label='Anchor and Negative', alpha=0.3)\n",
    "ax1.axvline(x=THRESHOLD, label='Threshold', color=\"red\", linestyle=\"--\", lw=4)\n",
    "ax2 = ax1.twinx()\n",
    "xx = np.arange(0,maxi,0.01)\n",
    "ax2.plot(xx, sigmoid(xx, 20., THRESHOLD),label='Sigmoïd',color='navy',lw=3)\n",
    "plt.xlim([0.,maxi])\n",
    "ax1.set_xlabel('Distance')\n",
    "ax1.set_ylabel('Number of instances')\n",
    "ax1.legend(loc='center right')\n",
    "ax2.legend(loc='upper right')\n",
    "plt.show()"
   ]
  },
  {
   "cell_type": "markdown",
   "metadata": {
    "id": "FhwJ2bCbkIn3"
   },
   "source": [
    "### Testing on my imgs"
   ]
  },
  {
   "cell_type": "code",
   "execution_count": null,
   "metadata": {
    "id": "27pXMcakuJQh"
   },
   "outputs": [],
   "source": [
    "def print_my_img(path):\n",
    "    plt.imshow(resize100(imread('./my_imgs/'+path))/255)\n",
    "    plt.show()"
   ]
  },
  {
   "cell_type": "code",
   "execution_count": null,
   "metadata": {
    "id": "YZ6z0KcgxYbU"
   },
   "outputs": [],
   "source": [
    "MY_IMGS_PATH = './my_imgs/'"
   ]
  },
  {
   "cell_type": "code",
   "execution_count": null,
   "metadata": {
    "id": "ZmIPobgItU3Z"
   },
   "outputs": [],
   "source": [
    "print_my_img('profil_rugby.jpg')"
   ]
  },
  {
   "cell_type": "code",
   "execution_count": null,
   "metadata": {
    "id": "aBxz5zHmuc8V"
   },
   "outputs": [],
   "source": [
    "print_my_img('profil_prepa.jpg')"
   ]
  },
  {
   "cell_type": "code",
   "execution_count": null,
   "metadata": {
    "id": "ofkIUhBnvC-Z"
   },
   "outputs": [],
   "source": [
    "print_my_img('img_enfant.jpg')"
   ]
  },
  {
   "cell_type": "code",
   "execution_count": null,
   "metadata": {
    "id": "JN7ho11ZvYTt"
   },
   "outputs": [],
   "source": [
    "dirs = sorted(os.listdir(MY_IMGS_PATH))\n",
    "name_to_classid = {d:i for i,d in enumerate(dirs)}\n",
    "classid_to_name = {v:k for k,v in name_to_classid.items()}\n",
    "num_classes = len(name_to_classid)\n",
    "print(\"number of classes: \"+str(num_classes))\n",
    "\n",
    "my_img_paths = {c:[directory + \"/\" + img for img in sorted(os.listdir(MY_IMGS_PATH+directory))] \n",
    "                for directory,c in name_to_classid.items()}\n",
    "\n",
    "# retrieve all images\n",
    "all_my_images_path = []\n",
    "for img_list in my_img_paths.values():\n",
    "    all_my_images_path += img_list"
   ]
  },
  {
   "cell_type": "code",
   "execution_count": null,
   "metadata": {
    "id": "BYmzma7vx5ed"
   },
   "outputs": [],
   "source": [
    "all_my_images_path"
   ]
  },
  {
   "cell_type": "code",
   "execution_count": null,
   "metadata": {
    "id": "xDPQtJ7uyK7Y"
   },
   "outputs": [],
   "source": [
    "my_img_paths"
   ]
  },
  {
   "cell_type": "code",
   "execution_count": null,
   "metadata": {
    "id": "gdDe43k6R1Kh"
   },
   "outputs": [],
   "source": [
    "all_my_imgs = []\n",
    "for path in all_my_images_path:\n",
    "    all_my_imgs += [np.expand_dims(resize100(imread(MY_IMGS_PATH+path)),0)]\n",
    "return np.vstack(all_imgs)"
   ]
  },
  {
   "cell_type": "code",
   "execution_count": null,
   "metadata": {
    "id": "9rAyXV2dRnlS"
   },
   "outputs": [],
   "source": [
    "def authentification(df, id_img1, id_img2, neg_imgs_idx, threshold):\n",
    "\n",
    "    id_img3 = neg_imgs_idx[random.randint(0,len(neg_imgs_idx))]\n",
    "\n",
    "    img1 = df.Img.iloc[id_img1]\n",
    "    img2 = df.Img.iloc[id_img2]\n",
    "    img3 = df.Img.iloc[id_img3]\n",
    "\n",
    "    image_transforms = transforms.Compose(\n",
    "              [\n",
    "                  transforms.ToTensor(),\n",
    "              ]\n",
    "          )\n",
    "\n",
    "    anchor_img = torch.reshape(image_transforms(img1).to(device).float(), (1,3,60,60))\n",
    "    positive_img = torch.reshape(image_transforms(img2).to(device).float(), (1,3,60,60))\n",
    "    negative_img = torch.reshape(image_transforms(img3).to(device).float(), (1,3,60,60))\n",
    "\n",
    "    anchor_out = model(anchor_img)\n",
    "    positive_out = model(positive_img)\n",
    "    negative_out = model(negative_img)\n",
    "\n",
    "    loss = criterion(anchor_out, positive_out, negative_out)\n",
    "    print(\"Loss: \", loss.cpu().detach().numpy())\n",
    "\n",
    "    if loss < threshold :\n",
    "        return 1\n",
    "    \n",
    "    return 0"
   ]
  }
 ],
 "metadata": {
  "kernelspec": {
   "display_name": "Python 3 (ipykernel)",
   "language": "python",
   "name": "python3"
  },
  "language_info": {
   "codemirror_mode": {
    "name": "ipython",
    "version": 3
   },
   "file_extension": ".py",
   "mimetype": "text/x-python",
   "name": "python",
   "nbconvert_exporter": "python",
   "pygments_lexer": "ipython3",
   "version": "3.9.12"
  }
 },
 "nbformat": 4,
 "nbformat_minor": 4
}

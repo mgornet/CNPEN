{
 "cells": [
  {
   "cell_type": "markdown",
   "metadata": {
    "id": "cq6PdPGN4DJu"
   },
   "source": [
    "# Triplet Loss with Faces -- Various tests"
   ]
  },
  {
   "cell_type": "markdown",
   "metadata": {},
   "source": [
    "## Initialization"
   ]
  },
  {
   "cell_type": "code",
   "execution_count": null,
   "metadata": {
    "execution": {
     "iopub.execute_input": "2021-09-21T12:02:22.992345Z",
     "iopub.status.busy": "2021-09-21T12:02:22.991933Z",
     "iopub.status.idle": "2021-09-21T12:02:30.080275Z",
     "shell.execute_reply": "2021-09-21T12:02:30.079203Z",
     "shell.execute_reply.started": "2021-09-21T12:02:22.99226Z"
    },
    "id": "2r4GrySt26Q-",
    "outputId": "4890c780-31f1-4532-d4a7-64f7412ea780"
   },
   "outputs": [],
   "source": [
    "!pip install torch"
   ]
  },
  {
   "cell_type": "code",
   "execution_count": null,
   "metadata": {
    "execution": {
     "iopub.execute_input": "2021-09-21T12:02:30.082272Z",
     "iopub.status.busy": "2021-09-21T12:02:30.081955Z",
     "iopub.status.idle": "2021-09-21T12:02:37.134703Z",
     "shell.execute_reply": "2021-09-21T12:02:37.133782Z",
     "shell.execute_reply.started": "2021-09-21T12:02:30.082237Z"
    },
    "id": "elsPIhAzrPL-",
    "outputId": "486d7b03-5889-4c28-c71e-b1e169f7e026"
   },
   "outputs": [],
   "source": [
    "!pip install mat73"
   ]
  },
  {
   "cell_type": "code",
   "execution_count": null,
   "metadata": {
    "execution": {
     "iopub.execute_input": "2021-09-21T12:02:37.138549Z",
     "iopub.status.busy": "2021-09-21T12:02:37.13828Z",
     "iopub.status.idle": "2021-09-21T12:02:43.597869Z",
     "shell.execute_reply": "2021-09-21T12:02:43.59702Z",
     "shell.execute_reply.started": "2021-09-21T12:02:37.138521Z"
    },
    "id": "FyTWhJXMpRex",
    "outputId": "dcfa38a7-4bd7-4b6b-e6b4-d96298974042"
   },
   "outputs": [],
   "source": [
    "!pip install wandb -qqq\n",
    "import wandb"
   ]
  },
  {
   "cell_type": "code",
   "execution_count": null,
   "metadata": {
    "execution": {
     "iopub.execute_input": "2021-09-21T12:02:43.599834Z",
     "iopub.status.busy": "2021-09-21T12:02:43.59942Z",
     "iopub.status.idle": "2021-09-21T12:03:32.173202Z",
     "shell.execute_reply": "2021-09-21T12:03:32.172244Z",
     "shell.execute_reply.started": "2021-09-21T12:02:43.59979Z"
    },
    "id": "N2ZqMDMrKeFi",
    "outputId": "6ddb3d01-83e5-4bb2-a378-54748c3c742c"
   },
   "outputs": [],
   "source": [
    "!git clone https://github.com/mgornet/CNPEN"
   ]
  },
  {
   "cell_type": "markdown",
   "metadata": {
    "id": "MW_MVwhYwRiH"
   },
   "source": [
    "### Check device"
   ]
  },
  {
   "cell_type": "code",
   "execution_count": null,
   "metadata": {
    "execution": {
     "iopub.execute_input": "2021-09-21T12:03:32.174946Z",
     "iopub.status.busy": "2021-09-21T12:03:32.174688Z",
     "iopub.status.idle": "2021-09-21T12:03:32.974264Z",
     "shell.execute_reply": "2021-09-21T12:03:32.973321Z",
     "shell.execute_reply.started": "2021-09-21T12:03:32.174918Z"
    },
    "id": "zruTnsd7wTz6",
    "outputId": "66c9d4a5-2768-45b6-d901-16ab0b7d9081"
   },
   "outputs": [],
   "source": [
    "!nvidia-smi"
   ]
  },
  {
   "cell_type": "markdown",
   "metadata": {
    "id": "IJK8gGmS4dsb"
   },
   "source": [
    "### Import Librairies"
   ]
  },
  {
   "cell_type": "code",
   "execution_count": null,
   "metadata": {
    "execution": {
     "iopub.execute_input": "2021-09-21T12:03:32.975922Z",
     "iopub.status.busy": "2021-09-21T12:03:32.975661Z",
     "iopub.status.idle": "2021-09-21T12:03:35.12072Z",
     "shell.execute_reply": "2021-09-21T12:03:35.119811Z",
     "shell.execute_reply.started": "2021-09-21T12:03:32.975894Z"
    },
    "id": "JyM1GtzC2_zh"
   },
   "outputs": [],
   "source": [
    "import numpy as np\n",
    "import random\n",
    "import matplotlib.pyplot as plt\n",
    "from tqdm.notebook import tqdm\n",
    "from time import perf_counter\n",
    "from typing import Callable\n",
    "import itertools\n",
    "import mat73\n",
    "import pandas as pd\n",
    "import re\n",
    "\n",
    "import sys\n",
    "import os\n",
    "import tarfile\n",
    "\n",
    "from sklearn.datasets import load_digits\n",
    "from sklearn.model_selection import train_test_split\n",
    "\n",
    "import torch\n",
    "from torch import nn, optim\n",
    "import torch.nn.functional as F\n",
    "\n",
    "from torch.utils.data import DataLoader, Dataset\n",
    "from torchvision import datasets, transforms\n",
    "\n",
    "import os.path as op\n",
    "try:\n",
    "    from urllib.request import urlretrieve\n",
    "except ImportError:  # Python 2 compat\n",
    "    from urllib import urlretrieve\n",
    "    \n",
    "from sklearn.linear_model import LogisticRegression\n",
    "from sklearn.metrics import confusion_matrix, auc, roc_curve, \\\n",
    "precision_recall_curve, accuracy_score, f1_score\n",
    "from scipy import optimize"
   ]
  },
  {
   "cell_type": "code",
   "execution_count": null,
   "metadata": {
    "execution": {
     "iopub.execute_input": "2021-09-21T12:03:35.122594Z",
     "iopub.status.busy": "2021-09-21T12:03:35.122171Z",
     "iopub.status.idle": "2021-09-21T12:03:35.535978Z",
     "shell.execute_reply": "2021-09-21T12:03:35.535159Z",
     "shell.execute_reply.started": "2021-09-21T12:03:35.122546Z"
    },
    "id": "ix4Yn3BoLNfx",
    "outputId": "7947880c-ab47-4393-c5d6-be37199febe6"
   },
   "outputs": [],
   "source": [
    "%cd ./CNPEN/files/\n",
    "\n",
    "from triplet import TripletGenerator, TripletLearner, TripletLoss, TripletLossRaw, distance\n",
    "from builder import create_dataframe, from_tensor_to_numpy, from_numpy_to_tensor, extend_dataframe\n",
    "from prints import print_img, print_img_from_path, print_img_from_id, \\\n",
    "print_img_from_classid, print_from_gen, print_from_gen2, print_pair, print_hist_loss, \\\n",
    "print_hist_dist, print_hist_dist_zoom, print_img_category, \\\n",
    "print_roc, print_logistic_regression, print_prec_recall\n",
    "from test_train_loops import training, testing, adaptative_train, compute_distances\n",
    "from classification import authentification_img, predict, build_df_fairness, \\\n",
    "triplet_acc"
   ]
  },
  {
   "cell_type": "code",
   "execution_count": null,
   "metadata": {
    "execution": {
     "iopub.execute_input": "2021-09-21T12:03:35.539159Z",
     "iopub.status.busy": "2021-09-21T12:03:35.538708Z",
     "iopub.status.idle": "2021-09-21T12:03:36.351777Z",
     "shell.execute_reply": "2021-09-21T12:03:36.350825Z",
     "shell.execute_reply.started": "2021-09-21T12:03:35.539116Z"
    },
    "id": "dNWBFp1aLev5",
    "outputId": "780215a4-2505-447d-86e6-385dd44f016e"
   },
   "outputs": [],
   "source": [
    "!pwd"
   ]
  },
  {
   "cell_type": "markdown",
   "metadata": {
    "id": "Hp8S6_Nu4muA"
   },
   "source": [
    "## Generate Data"
   ]
  },
  {
   "cell_type": "markdown",
   "metadata": {},
   "source": [
    "### Create dataframe"
   ]
  },
  {
   "cell_type": "code",
   "execution_count": null,
   "metadata": {
    "execution": {
     "iopub.execute_input": "2021-09-21T12:03:36.354773Z",
     "iopub.status.busy": "2021-09-21T12:03:36.3545Z",
     "iopub.status.idle": "2021-09-21T12:03:49.560205Z",
     "shell.execute_reply": "2021-09-21T12:03:49.559212Z",
     "shell.execute_reply.started": "2021-09-21T12:03:36.354744Z"
    },
    "id": "0HQV0dwQiLvS",
    "outputId": "343cfafa-cadf-4554-f5a1-90e52f96afca"
   },
   "outputs": [],
   "source": [
    "URL = \"http://vis-www.cs.umass.edu/lfw/lfw-deepfunneled.tgz\"\n",
    "FILENAME = \"lfw-deepfunneled.tgz\"\n",
    "\n",
    "if not op.exists(FILENAME):\n",
    "    print('Downloading %s to %s...' % (URL, FILENAME))\n",
    "    urlretrieve(URL, FILENAME)\n",
    "\n",
    "if not op.exists(\"lfw\"):\n",
    "    print('Extracting image files...')\n",
    "    tar = tarfile.open(\"lfw-deepfunneled.tgz\")\n",
    "    tar.extractall(\"lfw\")\n",
    "    tar.close()"
   ]
  },
  {
   "cell_type": "code",
   "execution_count": null,
   "metadata": {
    "execution": {
     "iopub.execute_input": "2021-09-21T12:03:49.561783Z",
     "iopub.status.busy": "2021-09-21T12:03:49.561499Z",
     "iopub.status.idle": "2021-09-21T12:03:49.566066Z",
     "shell.execute_reply": "2021-09-21T12:03:49.565115Z",
     "shell.execute_reply.started": "2021-09-21T12:03:49.561756Z"
    },
    "id": "jtFwuCt4iSgy"
   },
   "outputs": [],
   "source": [
    "PATH = \"lfw/lfw-deepfunneled/\""
   ]
  },
  {
   "cell_type": "code",
   "execution_count": null,
   "metadata": {
    "execution": {
     "iopub.execute_input": "2021-09-21T12:03:49.567304Z",
     "iopub.status.busy": "2021-09-21T12:03:49.566959Z",
     "iopub.status.idle": "2021-09-21T12:06:10.656905Z",
     "shell.execute_reply": "2021-09-21T12:06:10.656178Z",
     "shell.execute_reply.started": "2021-09-21T12:03:49.567275Z"
    },
    "id": "pW3OOgQXOLa-",
    "outputId": "8cb4ccff-40ca-44aa-b9f0-3e7244731cfe"
   },
   "outputs": [],
   "source": [
    "tic = perf_counter()\n",
    "df_init, all_imgs = create_dataframe()\n",
    "toc = perf_counter()\n",
    "print(f\"DataFrame creation: {((toc - tic)/60):.1f} min\")"
   ]
  },
  {
   "cell_type": "code",
   "execution_count": null,
   "metadata": {
    "execution": {
     "iopub.execute_input": "2021-09-21T12:06:10.658633Z",
     "iopub.status.busy": "2021-09-21T12:06:10.658168Z",
     "iopub.status.idle": "2021-09-21T12:06:21.888034Z",
     "shell.execute_reply": "2021-09-21T12:06:21.887107Z",
     "shell.execute_reply.started": "2021-09-21T12:06:10.658598Z"
    }
   },
   "outputs": [],
   "source": [
    "tic = perf_counter()\n",
    "df = extend_dataframe(df_init)\n",
    "toc = perf_counter()\n",
    "print(f\"DataFrame extention: {((toc - tic)/60):.1f} min\")"
   ]
  },
  {
   "cell_type": "code",
   "execution_count": null,
   "metadata": {
    "execution": {
     "iopub.execute_input": "2021-09-21T12:06:21.889814Z",
     "iopub.status.busy": "2021-09-21T12:06:21.889447Z",
     "iopub.status.idle": "2021-09-21T12:06:21.942121Z",
     "shell.execute_reply": "2021-09-21T12:06:21.941051Z",
     "shell.execute_reply.started": "2021-09-21T12:06:21.889773Z"
    },
    "id": "dp7BpxhC59iH",
    "outputId": "f95eb82d-666f-47b1-d66f-f00eae613114"
   },
   "outputs": [],
   "source": [
    "df"
   ]
  },
  {
   "cell_type": "code",
   "execution_count": null,
   "metadata": {
    "execution": {
     "iopub.execute_input": "2021-09-21T12:06:21.943838Z",
     "iopub.status.busy": "2021-09-21T12:06:21.943463Z",
     "iopub.status.idle": "2021-09-21T12:06:22.136111Z",
     "shell.execute_reply": "2021-09-21T12:06:22.135028Z",
     "shell.execute_reply.started": "2021-09-21T12:06:21.943798Z"
    }
   },
   "outputs": [],
   "source": [
    "df.describe()"
   ]
  },
  {
   "cell_type": "code",
   "execution_count": null,
   "metadata": {
    "execution": {
     "iopub.execute_input": "2021-09-21T12:06:22.138037Z",
     "iopub.status.busy": "2021-09-21T12:06:22.137634Z",
     "iopub.status.idle": "2021-09-21T12:06:22.144709Z",
     "shell.execute_reply": "2021-09-21T12:06:22.143784Z",
     "shell.execute_reply.started": "2021-09-21T12:06:22.137976Z"
    }
   },
   "outputs": [],
   "source": [
    "df.columns"
   ]
  },
  {
   "cell_type": "markdown",
   "metadata": {
    "id": "gjPcX2sdTQz4"
   },
   "source": [
    "### Build sets, generators and network"
   ]
  },
  {
   "cell_type": "code",
   "execution_count": null,
   "metadata": {
    "execution": {
     "iopub.execute_input": "2021-09-21T12:06:22.146152Z",
     "iopub.status.busy": "2021-09-21T12:06:22.145853Z",
     "iopub.status.idle": "2021-09-21T12:06:22.158445Z",
     "shell.execute_reply": "2021-09-21T12:06:22.157338Z",
     "shell.execute_reply.started": "2021-09-21T12:06:22.146125Z"
    },
    "id": "9YhsU5iYDx0c",
    "outputId": "fe319f34-b66f-4601-d05c-25dabcaa1656"
   },
   "outputs": [],
   "source": [
    "num_classes = len(df.Classid.unique())\n",
    "print(\"Number of individuals: \", num_classes)"
   ]
  },
  {
   "cell_type": "code",
   "execution_count": null,
   "metadata": {
    "execution": {
     "iopub.execute_input": "2021-09-21T12:06:22.160277Z",
     "iopub.status.busy": "2021-09-21T12:06:22.159931Z",
     "iopub.status.idle": "2021-09-21T12:06:22.169604Z",
     "shell.execute_reply": "2021-09-21T12:06:22.168377Z",
     "shell.execute_reply.started": "2021-09-21T12:06:22.160235Z"
    },
    "id": "SX80fCGkn702"
   },
   "outputs": [],
   "source": [
    "indiv_min = df.Classid.min()\n",
    "split_train_valid = int(num_classes * 0.75)\n",
    "split_train_test = int(num_classes * 0.8)\n",
    "indiv_max = df.Classid.max()"
   ]
  },
  {
   "cell_type": "code",
   "execution_count": null,
   "metadata": {
    "execution": {
     "iopub.execute_input": "2021-09-21T12:06:22.171166Z",
     "iopub.status.busy": "2021-09-21T12:06:22.170832Z",
     "iopub.status.idle": "2021-09-21T12:06:22.182833Z",
     "shell.execute_reply": "2021-09-21T12:06:22.181698Z",
     "shell.execute_reply.started": "2021-09-21T12:06:22.171135Z"
    },
    "id": "1rHLE3kHcCyp",
    "outputId": "5291153a-b4d0-4bf5-d690-25979aafaeee"
   },
   "outputs": [],
   "source": [
    "print(f\"Train set from indiv {indiv_min} to {split_train_valid-1}\")\n",
    "print(f\"Valid set from indiv {split_train_valid} to {split_train_test-1}\")\n",
    "print(f\"Test set from indiv {split_train_test} to {indiv_max}\")"
   ]
  },
  {
   "cell_type": "code",
   "execution_count": null,
   "metadata": {
    "execution": {
     "iopub.execute_input": "2021-09-21T12:06:22.184378Z",
     "iopub.status.busy": "2021-09-21T12:06:22.184095Z",
     "iopub.status.idle": "2021-09-21T12:06:22.21955Z",
     "shell.execute_reply": "2021-09-21T12:06:22.218461Z",
     "shell.execute_reply.started": "2021-09-21T12:06:22.184351Z"
    },
    "id": "P0vpXVlscwOA"
   },
   "outputs": [],
   "source": [
    "df_train = df[df.Classid<split_train_valid]\n",
    "df_valid = df[(df.Classid>=split_train_valid)&(df.Classid<split_train_test)]\n",
    "df_test = df[df.Classid>=split_train_test]"
   ]
  },
  {
   "cell_type": "code",
   "execution_count": null,
   "metadata": {
    "execution": {
     "iopub.execute_input": "2021-09-21T12:06:22.221258Z",
     "iopub.status.busy": "2021-09-21T12:06:22.220818Z",
     "iopub.status.idle": "2021-09-21T12:06:22.230143Z",
     "shell.execute_reply": "2021-09-21T12:06:22.229056Z",
     "shell.execute_reply.started": "2021-09-21T12:06:22.221224Z"
    },
    "id": "6y6Lmu7UTQz6",
    "outputId": "28af2b3b-e25e-4e31-d548-10f4f98de50e"
   },
   "outputs": [],
   "source": [
    "print(\"Number of training images: \", len(df_train))\n",
    "print(\"Number of validation images: \", len(df_valid))\n",
    "print(\"Number of testing images: \", len(df_test))\n",
    "print(\"Number of total images: \", len(df_train)+len(df_valid)+len(df_test))\n",
    "print(\"len original: \", len(df))"
   ]
  },
  {
   "cell_type": "code",
   "execution_count": null,
   "metadata": {
    "execution": {
     "iopub.execute_input": "2021-09-21T12:06:22.231922Z",
     "iopub.status.busy": "2021-09-21T12:06:22.231638Z",
     "iopub.status.idle": "2021-09-21T12:06:22.245693Z",
     "shell.execute_reply": "2021-09-21T12:06:22.244803Z",
     "shell.execute_reply.started": "2021-09-21T12:06:22.231895Z"
    },
    "id": "LeMZhCJtTQz6",
    "outputId": "a253f6dc-6c2e-4ae6-d2f3-5be83a67603d"
   },
   "outputs": [],
   "source": [
    "print(\"Number of individuals in the training set: \", len(df_train.Classid.unique()))\n",
    "print(\"Number of individuals in the validation set: \", len(df_valid.Classid.unique()))\n",
    "print(\"Number of individuals in the testing set: \", len(df_test.Classid.unique()))"
   ]
  },
  {
   "cell_type": "code",
   "execution_count": null,
   "metadata": {
    "execution": {
     "iopub.execute_input": "2021-09-21T12:06:22.247432Z",
     "iopub.status.busy": "2021-09-21T12:06:22.246968Z",
     "iopub.status.idle": "2021-09-21T12:06:22.266297Z",
     "shell.execute_reply": "2021-09-21T12:06:22.265235Z",
     "shell.execute_reply.started": "2021-09-21T12:06:22.247398Z"
    },
    "id": "44sct3lGTQz7",
    "outputId": "f430af11-01cd-4696-eedf-f9e66aca0a4e"
   },
   "outputs": [],
   "source": [
    "value_count = df_train.Classid.value_counts()\n",
    "print(\"Number of individuals with more than one image in the training set: \", len(value_count[value_count.values>1]))\n",
    "value_count = df_valid.Classid.value_counts()\n",
    "print(\"Number of individuals with more than one image in the validation set: \", len(value_count[value_count.values>1]))\n",
    "value_count = df_test.Classid.value_counts()\n",
    "print(\"Number of individuals with more than one image in the testing set: \", len(value_count[value_count.values>1]))"
   ]
  },
  {
   "cell_type": "code",
   "execution_count": null,
   "metadata": {
    "execution": {
     "iopub.execute_input": "2021-09-21T12:06:22.271269Z",
     "iopub.status.busy": "2021-09-21T12:06:22.270834Z",
     "iopub.status.idle": "2021-09-21T12:06:22.275787Z",
     "shell.execute_reply": "2021-09-21T12:06:22.275054Z",
     "shell.execute_reply.started": "2021-09-21T12:06:22.271233Z"
    },
    "id": "otF4YNywkl2O"
   },
   "outputs": [],
   "source": [
    "BATCH_SIZE = 128 # 128\n",
    "BATCH_VALID_SIZE = 128 #128 #8\n",
    "BATCH_TEST_SIZE = 128 #128 #32"
   ]
  },
  {
   "cell_type": "code",
   "execution_count": null,
   "metadata": {
    "execution": {
     "iopub.execute_input": "2021-09-21T12:06:22.278493Z",
     "iopub.status.busy": "2021-09-21T12:06:22.278097Z",
     "iopub.status.idle": "2021-09-21T12:06:22.344363Z",
     "shell.execute_reply": "2021-09-21T12:06:22.343566Z",
     "shell.execute_reply.started": "2021-09-21T12:06:22.278464Z"
    },
    "id": "IhO6Pj2q3tnM"
   },
   "outputs": [],
   "source": [
    "device = torch.device(\"cuda:0\" if torch.cuda.is_available() else \"cpu\")\n",
    "\n",
    "model = TripletLearner(base_channels=32, dropout=0)\n",
    "model.to(device)\n",
    "\n",
    "lr = 1e-3/2 # 1e-3/2\n",
    "optimizer = optim.Adam(model.parameters(), lr=lr)\n",
    "scheduler = optim.lr_scheduler.MultiStepLR(optimizer, milestones=[300,400,500,600,700,800,900], gamma=0.5)\n",
    "\n",
    "margin = 0.2\n",
    "criterion = TripletLoss(margin)\n",
    "criterion_test = TripletLossRaw(margin)\n",
    "\n",
    "epochs = 1000"
   ]
  },
  {
   "cell_type": "code",
   "execution_count": null,
   "metadata": {
    "execution": {
     "iopub.execute_input": "2021-09-21T12:06:22.345893Z",
     "iopub.status.busy": "2021-09-21T12:06:22.345483Z",
     "iopub.status.idle": "2021-09-21T12:06:22.359277Z",
     "shell.execute_reply": "2021-09-21T12:06:22.358132Z",
     "shell.execute_reply.started": "2021-09-21T12:06:22.345864Z"
    },
    "id": "GTlnqfzSHdcs",
    "outputId": "62c14507-108e-4259-c5af-7477431e189b"
   },
   "outputs": [],
   "source": [
    "gen_train = TripletGenerator(df_train, all_imgs, BATCH_SIZE, device, model, margin, transform = True)\n",
    "train_loader = DataLoader(gen_train, batch_size=None, shuffle=True)\n",
    "\n",
    "gen_valid = TripletGenerator(df_valid, all_imgs, BATCH_VALID_SIZE, device, model, margin)\n",
    "valid_loader = DataLoader(gen_valid, batch_size=None, shuffle=True)\n",
    "\n",
    "gen_test = TripletGenerator(df_test, all_imgs, BATCH_TEST_SIZE, device, model, margin)\n",
    "test_loader = DataLoader(gen_test, batch_size=None, shuffle=True)"
   ]
  },
  {
   "cell_type": "markdown",
   "metadata": {},
   "source": [
    "### Verify shapes"
   ]
  },
  {
   "cell_type": "code",
   "execution_count": null,
   "metadata": {
    "execution": {
     "iopub.execute_input": "2021-09-21T12:06:22.360924Z",
     "iopub.status.busy": "2021-09-21T12:06:22.360635Z",
     "iopub.status.idle": "2021-09-21T12:06:22.945169Z",
     "shell.execute_reply": "2021-09-21T12:06:22.944395Z",
     "shell.execute_reply.started": "2021-09-21T12:06:22.360894Z"
    }
   },
   "outputs": [],
   "source": [
    "# Shape of the generator\n",
    "\n",
    "print(len(gen_train))\n",
    "print(len(gen_train[0]))\n",
    "print(gen_train[0][0].shape)"
   ]
  },
  {
   "cell_type": "code",
   "execution_count": null,
   "metadata": {
    "execution": {
     "iopub.execute_input": "2021-09-21T12:06:22.946556Z",
     "iopub.status.busy": "2021-09-21T12:06:22.946156Z",
     "iopub.status.idle": "2021-09-21T12:06:22.951464Z",
     "shell.execute_reply": "2021-09-21T12:06:22.950385Z",
     "shell.execute_reply.started": "2021-09-21T12:06:22.946525Z"
    }
   },
   "outputs": [],
   "source": [
    "# Shape of the loader\n",
    "\n",
    "print(len(train_loader))\n",
    "print(train_loader)"
   ]
  },
  {
   "cell_type": "markdown",
   "metadata": {},
   "source": [
    "## Test printing functions"
   ]
  },
  {
   "cell_type": "markdown",
   "metadata": {},
   "source": [
    "### Basic test prints"
   ]
  },
  {
   "cell_type": "code",
   "execution_count": null,
   "metadata": {
    "execution": {
     "iopub.execute_input": "2021-09-21T12:06:22.953028Z",
     "iopub.status.busy": "2021-09-21T12:06:22.952673Z",
     "iopub.status.idle": "2021-09-21T12:06:23.082327Z",
     "shell.execute_reply": "2021-09-21T12:06:23.080294Z",
     "shell.execute_reply.started": "2021-09-21T12:06:22.952969Z"
    }
   },
   "outputs": [],
   "source": [
    "# Print an image from its path\n",
    "\n",
    "print_img_from_path(df.iloc[0].Path)"
   ]
  },
  {
   "cell_type": "code",
   "execution_count": null,
   "metadata": {
    "execution": {
     "iopub.execute_input": "2021-09-21T12:06:23.085155Z",
     "iopub.status.busy": "2021-09-21T12:06:23.084284Z",
     "iopub.status.idle": "2021-09-21T12:06:23.289015Z",
     "shell.execute_reply": "2021-09-21T12:06:23.288013Z",
     "shell.execute_reply.started": "2021-09-21T12:06:23.085099Z"
    }
   },
   "outputs": [],
   "source": [
    "# Print an image from a certain identity\n",
    "\n",
    "print_img_from_classid(df,7)"
   ]
  },
  {
   "cell_type": "code",
   "execution_count": null,
   "metadata": {
    "execution": {
     "iopub.execute_input": "2021-09-21T12:06:23.290974Z",
     "iopub.status.busy": "2021-09-21T12:06:23.290443Z",
     "iopub.status.idle": "2021-09-21T12:06:24.287943Z",
     "shell.execute_reply": "2021-09-21T12:06:24.287231Z",
     "shell.execute_reply.started": "2021-09-21T12:06:23.290929Z"
    }
   },
   "outputs": [],
   "source": [
    "# Print a few images from the train generator\n",
    "\n",
    "print_from_gen(gen_train,0)"
   ]
  },
  {
   "cell_type": "code",
   "execution_count": null,
   "metadata": {
    "execution": {
     "iopub.execute_input": "2021-09-21T12:06:24.289427Z",
     "iopub.status.busy": "2021-09-21T12:06:24.289011Z",
     "iopub.status.idle": "2021-09-21T12:06:25.389158Z",
     "shell.execute_reply": "2021-09-21T12:06:25.388265Z",
     "shell.execute_reply.started": "2021-09-21T12:06:24.289391Z"
    }
   },
   "outputs": [],
   "source": [
    "# Print a few images from the test generator\n",
    "\n",
    "print_from_gen(gen_test,0)"
   ]
  },
  {
   "cell_type": "code",
   "execution_count": null,
   "metadata": {
    "execution": {
     "iopub.execute_input": "2021-09-21T12:06:25.390828Z",
     "iopub.status.busy": "2021-09-21T12:06:25.390369Z",
     "iopub.status.idle": "2021-09-21T12:06:25.393906Z",
     "shell.execute_reply": "2021-09-21T12:06:25.393069Z",
     "shell.execute_reply.started": "2021-09-21T12:06:25.390784Z"
    }
   },
   "outputs": [],
   "source": [
    "# Print all the images of a batch from the train generator (warning: will print a lot of images)\n",
    "\n",
    "# print_from_gen2(gen_valid)"
   ]
  },
  {
   "cell_type": "markdown",
   "metadata": {
    "id": "NgTtooFDyslx"
   },
   "source": [
    "### Test Augmentation"
   ]
  },
  {
   "cell_type": "code",
   "execution_count": null,
   "metadata": {
    "execution": {
     "iopub.execute_input": "2021-09-21T12:06:25.395494Z",
     "iopub.status.busy": "2021-09-21T12:06:25.395052Z",
     "iopub.status.idle": "2021-09-21T12:06:25.501415Z",
     "shell.execute_reply": "2021-09-21T12:06:25.500426Z",
     "shell.execute_reply.started": "2021-09-21T12:06:25.395459Z"
    }
   },
   "outputs": [],
   "source": [
    "xa,xp,xn = gen_test[0]"
   ]
  },
  {
   "cell_type": "code",
   "execution_count": null,
   "metadata": {
    "execution": {
     "iopub.execute_input": "2021-09-21T12:06:25.504158Z",
     "iopub.status.busy": "2021-09-21T12:06:25.503648Z",
     "iopub.status.idle": "2021-09-21T12:06:25.623144Z",
     "shell.execute_reply": "2021-09-21T12:06:25.622196Z",
     "shell.execute_reply.started": "2021-09-21T12:06:25.504109Z"
    },
    "id": "1d3YIkWdF1Wi"
   },
   "outputs": [],
   "source": [
    "x = gen_train.apply_augmentation(xa[0])\n",
    "print_img(from_tensor_to_numpy(xa[0])/255)\n",
    "print_img(from_tensor_to_numpy(x)/255)"
   ]
  },
  {
   "cell_type": "code",
   "execution_count": null,
   "metadata": {
    "execution": {
     "iopub.execute_input": "2021-09-21T12:06:25.625828Z",
     "iopub.status.busy": "2021-09-21T12:06:25.625528Z",
     "iopub.status.idle": "2021-09-21T12:06:25.631775Z",
     "shell.execute_reply": "2021-09-21T12:06:25.630437Z",
     "shell.execute_reply.started": "2021-09-21T12:06:25.625787Z"
    }
   },
   "outputs": [],
   "source": [
    "apply_augmentation = transforms.Compose(\n",
    "    [\n",
    "        transforms.RandomHorizontalFlip(p=0.5),\n",
    "        transforms.RandomApply([\n",
    "            transforms.RandomRotation((-5,5))],\n",
    "        p=0.95),\n",
    "        transforms.RandomApply([\n",
    "            transforms.RandomResizedCrop(size=60, scale=(0.7,0.7), ratio=(1.,1.))],\n",
    "        p=0.95),\n",
    "        # transforms.ColorJitter(brightness=0.25, contrast=0.25, saturation=0.25),\n",
    "    ]\n",
    ")"
   ]
  },
  {
   "cell_type": "code",
   "execution_count": null,
   "metadata": {
    "execution": {
     "iopub.execute_input": "2021-09-21T12:06:25.63316Z",
     "iopub.status.busy": "2021-09-21T12:06:25.632842Z",
     "iopub.status.idle": "2021-09-21T12:06:25.754103Z",
     "shell.execute_reply": "2021-09-21T12:06:25.753157Z",
     "shell.execute_reply.started": "2021-09-21T12:06:25.633133Z"
    }
   },
   "outputs": [],
   "source": [
    "x = apply_augmentation(xa[0])\n",
    "print_img(from_tensor_to_numpy(xa[0])/255)\n",
    "print_img(from_tensor_to_numpy(x)/255)"
   ]
  },
  {
   "cell_type": "code",
   "execution_count": null,
   "metadata": {
    "execution": {
     "iopub.execute_input": "2021-09-21T12:06:25.755482Z",
     "iopub.status.busy": "2021-09-21T12:06:25.75524Z",
     "iopub.status.idle": "2021-09-21T12:06:25.873194Z",
     "shell.execute_reply": "2021-09-21T12:06:25.872192Z",
     "shell.execute_reply.started": "2021-09-21T12:06:25.755457Z"
    }
   },
   "outputs": [],
   "source": [
    "apply_augmentation = transforms.Compose([transforms.RandomRotation((-5,-5))])\n",
    "\n",
    "x = apply_augmentation(xa[0])\n",
    "print_img(from_tensor_to_numpy(xa[0])/255)\n",
    "print_img(from_tensor_to_numpy(x)/255)"
   ]
  },
  {
   "cell_type": "code",
   "execution_count": null,
   "metadata": {
    "execution": {
     "iopub.execute_input": "2021-09-21T12:06:25.874924Z",
     "iopub.status.busy": "2021-09-21T12:06:25.874621Z",
     "iopub.status.idle": "2021-09-21T12:06:25.996748Z",
     "shell.execute_reply": "2021-09-21T12:06:25.995805Z",
     "shell.execute_reply.started": "2021-09-21T12:06:25.87489Z"
    }
   },
   "outputs": [],
   "source": [
    "apply_augmentation = transforms.Compose([transforms.RandomHorizontalFlip(p=1)])\n",
    "\n",
    "x = apply_augmentation(xa[0])\n",
    "print_img(from_tensor_to_numpy(xa[0])/255)\n",
    "print_img(from_tensor_to_numpy(x)/255)"
   ]
  },
  {
   "cell_type": "code",
   "execution_count": null,
   "metadata": {
    "execution": {
     "iopub.execute_input": "2021-09-21T12:06:25.998201Z",
     "iopub.status.busy": "2021-09-21T12:06:25.997904Z",
     "iopub.status.idle": "2021-09-21T12:06:26.119051Z",
     "shell.execute_reply": "2021-09-21T12:06:26.118044Z",
     "shell.execute_reply.started": "2021-09-21T12:06:25.998165Z"
    }
   },
   "outputs": [],
   "source": [
    "apply_augmentation = transforms.Compose([transforms.RandomResizedCrop(size=60, scale=(0.8,1.1), ratio=(1.,1.))])\n",
    "\n",
    "x = apply_augmentation(xa[0])\n",
    "print_img(from_tensor_to_numpy(xa[0])/255)\n",
    "print_img(from_tensor_to_numpy(x)/255)"
   ]
  },
  {
   "cell_type": "code",
   "execution_count": null,
   "metadata": {
    "execution": {
     "iopub.execute_input": "2021-09-21T12:06:26.120557Z",
     "iopub.status.busy": "2021-09-21T12:06:26.120287Z",
     "iopub.status.idle": "2021-09-21T12:06:26.242801Z",
     "shell.execute_reply": "2021-09-21T12:06:26.241917Z",
     "shell.execute_reply.started": "2021-09-21T12:06:26.120529Z"
    }
   },
   "outputs": [],
   "source": [
    "apply_augmentation = transforms.Compose([transforms.RandomResizedCrop(size=60, scale=(0.8,0.8))])\n",
    "\n",
    "x = apply_augmentation(xa[0])\n",
    "print_img(from_tensor_to_numpy(xa[0])/255)\n",
    "print_img(from_tensor_to_numpy(x)/255)"
   ]
  },
  {
   "cell_type": "code",
   "execution_count": null,
   "metadata": {
    "execution": {
     "iopub.execute_input": "2021-09-21T12:06:26.244707Z",
     "iopub.status.busy": "2021-09-21T12:06:26.244327Z",
     "iopub.status.idle": "2021-09-21T12:06:26.359647Z",
     "shell.execute_reply": "2021-09-21T12:06:26.358972Z",
     "shell.execute_reply.started": "2021-09-21T12:06:26.244667Z"
    }
   },
   "outputs": [],
   "source": [
    "apply_augmentation = transforms.Compose([transforms.ColorJitter(brightness=0.25, contrast=0.25, saturation=0.25)])\n",
    "\n",
    "x = apply_augmentation(xa[0])\n",
    "print_img(from_tensor_to_numpy(xa[0])/255)\n",
    "print_img(from_tensor_to_numpy(x)/255)"
   ]
  },
  {
   "cell_type": "code",
   "execution_count": null,
   "metadata": {
    "execution": {
     "iopub.execute_input": "2021-09-21T12:06:26.361143Z",
     "iopub.status.busy": "2021-09-21T12:06:26.360749Z",
     "iopub.status.idle": "2021-09-21T12:06:26.535822Z",
     "shell.execute_reply": "2021-09-21T12:06:26.535168Z",
     "shell.execute_reply.started": "2021-09-21T12:06:26.361111Z"
    }
   },
   "outputs": [],
   "source": [
    "apply_augmentation = transforms.Compose([transforms.Normalize(mean=[0,0,0],std=[255,255,255])])\n",
    "\n",
    "x = apply_augmentation(xa[0])\n",
    "print(f'Original image: between {xa[0].min()} and {xa[0].max()}')\n",
    "print_img(from_tensor_to_numpy(xa[0])/255)\n",
    "print(f'Normalized image: between {x.min()} and {x.max()}')\n",
    "print_img(from_tensor_to_numpy(x))\n",
    "\n",
    "apply_augmentation_inverse = transforms.Compose([transforms.Normalize(mean=[0,0,0],std=[1/255,1/255,1/255])])\n",
    "\n",
    "y = apply_augmentation_inverse(x)\n",
    "print(f'Back to original image: between {y.min()} and {y.max()}')\n",
    "print_img(from_tensor_to_numpy(y)/255)"
   ]
  },
  {
   "cell_type": "code",
   "execution_count": null,
   "metadata": {
    "execution": {
     "iopub.execute_input": "2021-09-21T12:06:26.53688Z",
     "iopub.status.busy": "2021-09-21T12:06:26.536649Z",
     "iopub.status.idle": "2021-09-21T12:06:26.855001Z",
     "shell.execute_reply": "2021-09-21T12:06:26.854019Z",
     "shell.execute_reply.started": "2021-09-21T12:06:26.536856Z"
    }
   },
   "outputs": [],
   "source": [
    "apply_augmentation = transforms.Compose([\n",
    "    transforms.Normalize(mean=[0,0,0],std=[255,255,255]),\n",
    "    transforms.ColorJitter(brightness=0.25, contrast=0.25, saturation=0.25),\n",
    "    transforms.Normalize(mean=[0,0,0],std=[1/255,1/255,1/255])\n",
    "])\n",
    "\n",
    "x = apply_augmentation(xa[0])\n",
    "print_img(from_tensor_to_numpy(xa[0])/255)\n",
    "print_img(from_tensor_to_numpy(x)/255)"
   ]
  },
  {
   "cell_type": "code",
   "execution_count": null,
   "metadata": {
    "execution": {
     "iopub.execute_input": "2021-09-21T12:06:26.856841Z",
     "iopub.status.busy": "2021-09-21T12:06:26.856422Z",
     "iopub.status.idle": "2021-09-21T12:06:26.982001Z",
     "shell.execute_reply": "2021-09-21T12:06:26.981101Z",
     "shell.execute_reply.started": "2021-09-21T12:06:26.85679Z"
    }
   },
   "outputs": [],
   "source": [
    "apply_augmentation = transforms.Compose([\n",
    "    transforms.RandomHorizontalFlip(p=0.5),\n",
    "    transforms.RandomApply([\n",
    "        transforms.RandomResizedCrop(size=60, scale=(0.8,1.), ratio=(0.95,1.05))],\n",
    "    p=0.9),\n",
    "    transforms.RandomApply([\n",
    "        transforms.Compose([\n",
    "            transforms.Normalize(mean=[0,0,0],std=[255,255,255]),\n",
    "            transforms.ColorJitter(brightness=0.1, contrast=0.1, saturation=0.1),\n",
    "            transforms.Normalize(mean=[0,0,0],std=[1/255,1/255,1/255])\n",
    "        ]),],\n",
    "    p=0.1),\n",
    "    transforms.RandomApply([\n",
    "        transforms.RandomRotation((-5,5))],\n",
    "    p=0.7),\n",
    "])\n",
    "\n",
    "x = apply_augmentation(xa[0])\n",
    "print_img(from_tensor_to_numpy(xa[0])/255)\n",
    "print_img(from_tensor_to_numpy(x)/255)"
   ]
  },
  {
   "cell_type": "markdown",
   "metadata": {},
   "source": [
    "### Test Categories"
   ]
  },
  {
   "cell_type": "markdown",
   "metadata": {},
   "source": [
    "#### Supposed race"
   ]
  },
  {
   "cell_type": "code",
   "execution_count": null,
   "metadata": {
    "execution": {
     "iopub.execute_input": "2021-09-21T12:06:26.983557Z",
     "iopub.status.busy": "2021-09-21T12:06:26.983234Z",
     "iopub.status.idle": "2021-09-21T12:06:27.674795Z",
     "shell.execute_reply": "2021-09-21T12:06:27.673896Z",
     "shell.execute_reply.started": "2021-09-21T12:06:26.983528Z"
    }
   },
   "outputs": [],
   "source": [
    "print_img_category(all_imgs, df, 'White')"
   ]
  },
  {
   "cell_type": "code",
   "execution_count": null,
   "metadata": {
    "execution": {
     "iopub.execute_input": "2021-09-21T12:06:27.676325Z",
     "iopub.status.busy": "2021-09-21T12:06:27.676065Z",
     "iopub.status.idle": "2021-09-21T12:06:28.364823Z",
     "shell.execute_reply": "2021-09-21T12:06:28.363927Z",
     "shell.execute_reply.started": "2021-09-21T12:06:27.6763Z"
    }
   },
   "outputs": [],
   "source": [
    "print_img_category(all_imgs, df, 'White', inverse=True)"
   ]
  },
  {
   "cell_type": "code",
   "execution_count": null,
   "metadata": {
    "execution": {
     "iopub.execute_input": "2021-09-21T12:06:28.366665Z",
     "iopub.status.busy": "2021-09-21T12:06:28.366259Z",
     "iopub.status.idle": "2021-09-21T12:06:29.246036Z",
     "shell.execute_reply": "2021-09-21T12:06:29.245136Z",
     "shell.execute_reply.started": "2021-09-21T12:06:28.366612Z"
    }
   },
   "outputs": [],
   "source": [
    "print_img_category(all_imgs, df, 'Black')"
   ]
  },
  {
   "cell_type": "code",
   "execution_count": null,
   "metadata": {
    "execution": {
     "iopub.execute_input": "2021-09-21T12:06:29.24757Z",
     "iopub.status.busy": "2021-09-21T12:06:29.24718Z",
     "iopub.status.idle": "2021-09-21T12:06:29.932335Z",
     "shell.execute_reply": "2021-09-21T12:06:29.93131Z",
     "shell.execute_reply.started": "2021-09-21T12:06:29.247524Z"
    }
   },
   "outputs": [],
   "source": [
    "print_img_category(all_imgs, df, 'Asian')"
   ]
  },
  {
   "cell_type": "code",
   "execution_count": null,
   "metadata": {
    "execution": {
     "iopub.execute_input": "2021-09-21T12:06:29.934195Z",
     "iopub.status.busy": "2021-09-21T12:06:29.933793Z",
     "iopub.status.idle": "2021-09-21T12:06:30.799931Z",
     "shell.execute_reply": "2021-09-21T12:06:30.798828Z",
     "shell.execute_reply.started": "2021-09-21T12:06:29.934148Z"
    }
   },
   "outputs": [],
   "source": [
    "print_img_category(all_imgs, df, 'Indian')"
   ]
  },
  {
   "cell_type": "markdown",
   "metadata": {},
   "source": [
    "#### Supposed gender"
   ]
  },
  {
   "cell_type": "code",
   "execution_count": null,
   "metadata": {
    "execution": {
     "iopub.execute_input": "2021-09-21T12:06:30.801691Z",
     "iopub.status.busy": "2021-09-21T12:06:30.801312Z",
     "iopub.status.idle": "2021-09-21T12:06:31.509577Z",
     "shell.execute_reply": "2021-09-21T12:06:31.508778Z",
     "shell.execute_reply.started": "2021-09-21T12:06:30.801652Z"
    }
   },
   "outputs": [],
   "source": [
    "print_img_category(all_imgs, df, 'Male')"
   ]
  },
  {
   "cell_type": "code",
   "execution_count": null,
   "metadata": {
    "execution": {
     "iopub.execute_input": "2021-09-21T12:06:31.510727Z",
     "iopub.status.busy": "2021-09-21T12:06:31.510482Z",
     "iopub.status.idle": "2021-09-21T12:06:32.193522Z",
     "shell.execute_reply": "2021-09-21T12:06:32.192539Z",
     "shell.execute_reply.started": "2021-09-21T12:06:31.510693Z"
    }
   },
   "outputs": [],
   "source": [
    "print_img_category(all_imgs, df, 'Male', inverse=True)"
   ]
  },
  {
   "cell_type": "markdown",
   "metadata": {},
   "source": [
    "#### Supposed age category"
   ]
  },
  {
   "cell_type": "code",
   "execution_count": null,
   "metadata": {
    "execution": {
     "iopub.execute_input": "2021-09-21T12:06:32.195069Z",
     "iopub.status.busy": "2021-09-21T12:06:32.194758Z",
     "iopub.status.idle": "2021-09-21T12:06:33.097268Z",
     "shell.execute_reply": "2021-09-21T12:06:33.096313Z",
     "shell.execute_reply.started": "2021-09-21T12:06:32.195039Z"
    }
   },
   "outputs": [],
   "source": [
    "print_img_category(all_imgs, df, 'Baby')"
   ]
  },
  {
   "cell_type": "code",
   "execution_count": null,
   "metadata": {
    "execution": {
     "iopub.execute_input": "2021-09-21T12:06:33.098781Z",
     "iopub.status.busy": "2021-09-21T12:06:33.098513Z",
     "iopub.status.idle": "2021-09-21T12:06:33.805156Z",
     "shell.execute_reply": "2021-09-21T12:06:33.804239Z",
     "shell.execute_reply.started": "2021-09-21T12:06:33.098754Z"
    }
   },
   "outputs": [],
   "source": [
    "print_img_category(all_imgs, df, 'Baby', inverse=True)"
   ]
  },
  {
   "cell_type": "code",
   "execution_count": null,
   "metadata": {
    "execution": {
     "iopub.execute_input": "2021-09-21T12:06:33.806642Z",
     "iopub.status.busy": "2021-09-21T12:06:33.806358Z",
     "iopub.status.idle": "2021-09-21T12:06:34.499847Z",
     "shell.execute_reply": "2021-09-21T12:06:34.498966Z",
     "shell.execute_reply.started": "2021-09-21T12:06:33.806613Z"
    }
   },
   "outputs": [],
   "source": [
    "print_img_category(all_imgs, df, 'Child')"
   ]
  },
  {
   "cell_type": "code",
   "execution_count": null,
   "metadata": {
    "execution": {
     "iopub.execute_input": "2021-09-21T12:06:34.501316Z",
     "iopub.status.busy": "2021-09-21T12:06:34.500974Z",
     "iopub.status.idle": "2021-09-21T12:06:35.377489Z",
     "shell.execute_reply": "2021-09-21T12:06:35.376533Z",
     "shell.execute_reply.started": "2021-09-21T12:06:34.50128Z"
    }
   },
   "outputs": [],
   "source": [
    "print_img_category(all_imgs, df, 'Youth')"
   ]
  },
  {
   "cell_type": "code",
   "execution_count": null,
   "metadata": {
    "execution": {
     "iopub.execute_input": "2021-09-21T12:06:35.37942Z",
     "iopub.status.busy": "2021-09-21T12:06:35.379018Z",
     "iopub.status.idle": "2021-09-21T12:06:36.047436Z",
     "shell.execute_reply": "2021-09-21T12:06:36.046574Z",
     "shell.execute_reply.started": "2021-09-21T12:06:35.37938Z"
    }
   },
   "outputs": [],
   "source": [
    "print_img_category(all_imgs, df, 'Middle Aged')"
   ]
  },
  {
   "cell_type": "code",
   "execution_count": null,
   "metadata": {
    "execution": {
     "iopub.execute_input": "2021-09-21T12:06:36.048876Z",
     "iopub.status.busy": "2021-09-21T12:06:36.04862Z",
     "iopub.status.idle": "2021-09-21T12:06:36.801036Z",
     "shell.execute_reply": "2021-09-21T12:06:36.800075Z",
     "shell.execute_reply.started": "2021-09-21T12:06:36.04885Z"
    }
   },
   "outputs": [],
   "source": [
    "print_img_category(all_imgs, df, 'Senior')"
   ]
  },
  {
   "cell_type": "markdown",
   "metadata": {},
   "source": [
    "#### Accessories"
   ]
  },
  {
   "cell_type": "code",
   "execution_count": null,
   "metadata": {
    "execution": {
     "iopub.execute_input": "2021-09-21T12:06:36.802697Z",
     "iopub.status.busy": "2021-09-21T12:06:36.802348Z",
     "iopub.status.idle": "2021-09-21T12:06:37.690122Z",
     "shell.execute_reply": "2021-09-21T12:06:37.689382Z",
     "shell.execute_reply.started": "2021-09-21T12:06:36.802658Z"
    }
   },
   "outputs": [],
   "source": [
    "print_img_category(all_imgs, df, 'Wearing Hat')"
   ]
  },
  {
   "cell_type": "code",
   "execution_count": null,
   "metadata": {
    "execution": {
     "iopub.execute_input": "2021-09-21T12:06:37.69174Z",
     "iopub.status.busy": "2021-09-21T12:06:37.69128Z",
     "iopub.status.idle": "2021-09-21T12:06:38.390877Z",
     "shell.execute_reply": "2021-09-21T12:06:38.389871Z",
     "shell.execute_reply.started": "2021-09-21T12:06:37.691709Z"
    }
   },
   "outputs": [],
   "source": [
    "print_img_category(all_imgs, df, 'Eyeglasses')"
   ]
  },
  {
   "cell_type": "code",
   "execution_count": null,
   "metadata": {
    "execution": {
     "iopub.execute_input": "2021-09-21T12:06:38.392452Z",
     "iopub.status.busy": "2021-09-21T12:06:38.392162Z",
     "iopub.status.idle": "2021-09-21T12:06:39.268029Z",
     "shell.execute_reply": "2021-09-21T12:06:39.267076Z",
     "shell.execute_reply.started": "2021-09-21T12:06:38.392423Z"
    }
   },
   "outputs": [],
   "source": [
    "print_img_category(all_imgs, df, 'Sunglasses')"
   ]
  },
  {
   "cell_type": "code",
   "execution_count": null,
   "metadata": {
    "execution": {
     "iopub.execute_input": "2021-09-21T12:06:39.26984Z",
     "iopub.status.busy": "2021-09-21T12:06:39.269489Z",
     "iopub.status.idle": "2021-09-21T12:06:39.964699Z",
     "shell.execute_reply": "2021-09-21T12:06:39.96405Z",
     "shell.execute_reply.started": "2021-09-21T12:06:39.269805Z"
    }
   },
   "outputs": [],
   "source": [
    "print_img_category(all_imgs, df, 'Sunglasses', inverse=True)"
   ]
  },
  {
   "cell_type": "markdown",
   "metadata": {},
   "source": [
    "#### Hair(s)"
   ]
  },
  {
   "cell_type": "code",
   "execution_count": null,
   "metadata": {
    "execution": {
     "iopub.execute_input": "2021-09-21T12:06:39.965937Z",
     "iopub.status.busy": "2021-09-21T12:06:39.965587Z",
     "iopub.status.idle": "2021-09-21T12:06:40.646867Z",
     "shell.execute_reply": "2021-09-21T12:06:40.646257Z",
     "shell.execute_reply.started": "2021-09-21T12:06:39.96591Z"
    }
   },
   "outputs": [],
   "source": [
    "print_img_category(all_imgs, df, 'No Beard')"
   ]
  },
  {
   "cell_type": "code",
   "execution_count": null,
   "metadata": {
    "execution": {
     "iopub.execute_input": "2021-09-21T12:06:40.648109Z",
     "iopub.status.busy": "2021-09-21T12:06:40.647751Z",
     "iopub.status.idle": "2021-09-21T12:06:41.529933Z",
     "shell.execute_reply": "2021-09-21T12:06:41.529321Z",
     "shell.execute_reply.started": "2021-09-21T12:06:40.648082Z"
    }
   },
   "outputs": [],
   "source": [
    "print_img_category(all_imgs, df, 'No Beard', inverse=True)"
   ]
  },
  {
   "cell_type": "code",
   "execution_count": null,
   "metadata": {
    "execution": {
     "iopub.execute_input": "2021-09-21T12:06:41.531107Z",
     "iopub.status.busy": "2021-09-21T12:06:41.530847Z",
     "iopub.status.idle": "2021-09-21T12:06:42.222561Z",
     "shell.execute_reply": "2021-09-21T12:06:42.221585Z",
     "shell.execute_reply.started": "2021-09-21T12:06:41.531082Z"
    }
   },
   "outputs": [],
   "source": [
    "print_img_category(all_imgs, df, 'Mustache')"
   ]
  },
  {
   "cell_type": "markdown",
   "metadata": {},
   "source": [
    "## Other tests"
   ]
  },
  {
   "cell_type": "markdown",
   "metadata": {},
   "source": [
    "### Explore df"
   ]
  },
  {
   "cell_type": "code",
   "execution_count": null,
   "metadata": {
    "execution": {
     "iopub.execute_input": "2021-09-21T12:06:42.224311Z",
     "iopub.status.busy": "2021-09-21T12:06:42.22394Z",
     "iopub.status.idle": "2021-09-21T12:06:42.406572Z",
     "shell.execute_reply": "2021-09-21T12:06:42.405613Z",
     "shell.execute_reply.started": "2021-09-21T12:06:42.224272Z"
    }
   },
   "outputs": [],
   "source": [
    "df.describe()"
   ]
  },
  {
   "cell_type": "code",
   "execution_count": null,
   "metadata": {
    "execution": {
     "iopub.execute_input": "2021-09-21T12:06:42.408001Z",
     "iopub.status.busy": "2021-09-21T12:06:42.407743Z",
     "iopub.status.idle": "2021-09-21T12:06:42.417852Z",
     "shell.execute_reply": "2021-09-21T12:06:42.417046Z",
     "shell.execute_reply.started": "2021-09-21T12:06:42.407963Z"
    }
   },
   "outputs": [],
   "source": [
    "value_count = df.Classid.value_counts()\n",
    "value_count"
   ]
  },
  {
   "cell_type": "code",
   "execution_count": null,
   "metadata": {
    "execution": {
     "iopub.execute_input": "2021-09-21T12:06:42.419514Z",
     "iopub.status.busy": "2021-09-21T12:06:42.419137Z",
     "iopub.status.idle": "2021-09-21T12:06:42.427422Z",
     "shell.execute_reply": "2021-09-21T12:06:42.426782Z",
     "shell.execute_reply.started": "2021-09-21T12:06:42.419475Z"
    }
   },
   "outputs": [],
   "source": [
    "df.loc[1871]"
   ]
  },
  {
   "cell_type": "code",
   "execution_count": null,
   "metadata": {
    "execution": {
     "iopub.execute_input": "2021-09-21T12:06:42.434197Z",
     "iopub.status.busy": "2021-09-21T12:06:42.433772Z",
     "iopub.status.idle": "2021-09-21T12:06:42.495277Z",
     "shell.execute_reply": "2021-09-21T12:06:42.494366Z",
     "shell.execute_reply.started": "2021-09-21T12:06:42.434147Z"
    }
   },
   "outputs": [],
   "source": [
    "print_img(from_tensor_to_numpy(all_imgs[1871])/255)"
   ]
  },
  {
   "cell_type": "markdown",
   "metadata": {},
   "source": [
    "### Test the valid loader"
   ]
  },
  {
   "cell_type": "code",
   "execution_count": null,
   "metadata": {
    "execution": {
     "iopub.execute_input": "2021-09-21T12:06:42.497688Z",
     "iopub.status.busy": "2021-09-21T12:06:42.497373Z",
     "iopub.status.idle": "2021-09-21T12:06:42.688366Z",
     "shell.execute_reply": "2021-09-21T12:06:42.687371Z",
     "shell.execute_reply.started": "2021-09-21T12:06:42.497649Z"
    }
   },
   "outputs": [],
   "source": [
    "valid_list = list(valid_loader)\n",
    "for _ in range(2):\n",
    "    new_valid = list(valid_loader)\n",
    "    valid_list[0][0] = torch.cat((valid_list[0][0],new_valid[0][0]), axis=0)\n",
    "    valid_list[0][1] = torch.cat((valid_list[0][1],new_valid[0][1]), axis=0)\n",
    "    valid_list[0][2] = torch.cat((valid_list[0][2],new_valid[0][2]), axis=0)"
   ]
  },
  {
   "cell_type": "code",
   "execution_count": null,
   "metadata": {
    "execution": {
     "iopub.execute_input": "2021-09-21T12:06:42.689947Z",
     "iopub.status.busy": "2021-09-21T12:06:42.689652Z",
     "iopub.status.idle": "2021-09-21T12:06:42.856873Z",
     "shell.execute_reply": "2021-09-21T12:06:42.856232Z",
     "shell.execute_reply.started": "2021-09-21T12:06:42.689918Z"
    }
   },
   "outputs": [],
   "source": [
    "print_img(from_tensor_to_numpy(valid_list[0][0][78])/255)\n",
    "print_img(from_tensor_to_numpy(valid_list[0][1][78])/255)\n",
    "print_img(from_tensor_to_numpy(valid_list[0][2][78])/255)"
   ]
  },
  {
   "cell_type": "code",
   "execution_count": null,
   "metadata": {
    "execution": {
     "iopub.execute_input": "2021-09-21T12:06:42.858151Z",
     "iopub.status.busy": "2021-09-21T12:06:42.857782Z",
     "iopub.status.idle": "2021-09-21T12:06:43.024661Z",
     "shell.execute_reply": "2021-09-21T12:06:43.02386Z",
     "shell.execute_reply.started": "2021-09-21T12:06:42.858124Z"
    }
   },
   "outputs": [],
   "source": [
    "print_img(from_tensor_to_numpy(valid_list[0][0][79])/255)\n",
    "print_img(from_tensor_to_numpy(valid_list[0][1][79])/255)\n",
    "print_img(from_tensor_to_numpy(valid_list[0][2][79])/255)"
   ]
  },
  {
   "cell_type": "markdown",
   "metadata": {},
   "source": [
    "### Print the histogram inductive bias"
   ]
  },
  {
   "cell_type": "code",
   "execution_count": null,
   "metadata": {
    "execution": {
     "iopub.execute_input": "2021-09-21T12:06:43.026019Z",
     "iopub.status.busy": "2021-09-21T12:06:43.025635Z",
     "iopub.status.idle": "2021-09-21T12:06:43.069554Z",
     "shell.execute_reply": "2021-09-21T12:06:43.068656Z",
     "shell.execute_reply.started": "2021-09-21T12:06:43.025977Z"
    }
   },
   "outputs": [],
   "source": [
    "model = TripletLearner(base_channels=32)\n",
    "model.eval()"
   ]
  },
  {
   "cell_type": "code",
   "execution_count": null,
   "metadata": {
    "execution": {
     "iopub.execute_input": "2021-09-21T12:06:43.071022Z",
     "iopub.status.busy": "2021-09-21T12:06:43.070735Z",
     "iopub.status.idle": "2021-09-21T12:07:00.298333Z",
     "shell.execute_reply": "2021-09-21T12:07:00.297368Z",
     "shell.execute_reply.started": "2021-09-21T12:06:43.070993Z"
    }
   },
   "outputs": [],
   "source": [
    "device = torch.device('cpu')\n",
    "\n",
    "gen = TripletGenerator(df_train, all_imgs, BATCH_SIZE, device, model, margin)\n",
    "loader = DataLoader(gen, batch_size=None, shuffle=True)\n",
    "\n",
    "pos_dist, neg_dist, _ = compute_distances(loader, device, model)"
   ]
  },
  {
   "cell_type": "code",
   "execution_count": null,
   "metadata": {
    "execution": {
     "iopub.execute_input": "2021-09-21T12:07:00.300204Z",
     "iopub.status.busy": "2021-09-21T12:07:00.299608Z",
     "iopub.status.idle": "2021-09-21T12:07:00.776816Z",
     "shell.execute_reply": "2021-09-21T12:07:00.775811Z",
     "shell.execute_reply.started": "2021-09-21T12:07:00.30016Z"
    }
   },
   "outputs": [],
   "source": [
    "print_hist_dist_zoom(pos_dist,neg_dist,zoom=3e-3)"
   ]
  },
  {
   "cell_type": "markdown",
   "metadata": {},
   "source": [
    "### Print the histogram of initial loss"
   ]
  },
  {
   "cell_type": "code",
   "execution_count": null,
   "metadata": {
    "execution": {
     "iopub.execute_input": "2021-09-21T12:07:00.778688Z",
     "iopub.status.busy": "2021-09-21T12:07:00.778286Z",
     "iopub.status.idle": "2021-09-21T12:07:00.828071Z",
     "shell.execute_reply": "2021-09-21T12:07:00.827075Z",
     "shell.execute_reply.started": "2021-09-21T12:07:00.778644Z"
    }
   },
   "outputs": [],
   "source": [
    "model = TripletLearner(base_channels=32)\n",
    "model.eval()"
   ]
  },
  {
   "cell_type": "code",
   "execution_count": null,
   "metadata": {
    "execution": {
     "iopub.execute_input": "2021-09-21T12:07:00.829792Z",
     "iopub.status.busy": "2021-09-21T12:07:00.829445Z",
     "iopub.status.idle": "2021-09-21T12:07:18.707659Z",
     "shell.execute_reply": "2021-09-21T12:07:18.706708Z",
     "shell.execute_reply.started": "2021-09-21T12:07:00.829755Z"
    }
   },
   "outputs": [],
   "source": [
    "loss = testing(train_loader, device, model, criterion_test)"
   ]
  },
  {
   "cell_type": "code",
   "execution_count": null,
   "metadata": {
    "execution": {
     "iopub.execute_input": "2021-09-21T12:07:18.709297Z",
     "iopub.status.busy": "2021-09-21T12:07:18.709021Z",
     "iopub.status.idle": "2021-09-21T12:07:18.948235Z",
     "shell.execute_reply": "2021-09-21T12:07:18.947381Z",
     "shell.execute_reply.started": "2021-09-21T12:07:18.709268Z"
    }
   },
   "outputs": [],
   "source": [
    "print_hist_loss(loss)"
   ]
  },
  {
   "cell_type": "markdown",
   "metadata": {},
   "source": [
    "### Print the learning rate schedule"
   ]
  },
  {
   "cell_type": "code",
   "execution_count": null,
   "metadata": {
    "execution": {
     "iopub.execute_input": "2021-09-21T12:07:18.949783Z",
     "iopub.status.busy": "2021-09-21T12:07:18.949511Z",
     "iopub.status.idle": "2021-09-21T12:07:19.051287Z",
     "shell.execute_reply": "2021-09-21T12:07:19.050504Z",
     "shell.execute_reply.started": "2021-09-21T12:07:18.949756Z"
    }
   },
   "outputs": [],
   "source": [
    "lrs = []\n",
    "\n",
    "for epoch in range(1000):\n",
    "    optimizer.step()\n",
    "    lrs.append(optimizer.param_groups[0][\"lr\"])\n",
    "    scheduler.step()"
   ]
  },
  {
   "cell_type": "code",
   "execution_count": null,
   "metadata": {
    "execution": {
     "iopub.execute_input": "2021-09-21T12:07:19.052593Z",
     "iopub.status.busy": "2021-09-21T12:07:19.052241Z",
     "iopub.status.idle": "2021-09-21T12:07:19.174695Z",
     "shell.execute_reply": "2021-09-21T12:07:19.17405Z",
     "shell.execute_reply.started": "2021-09-21T12:07:19.052566Z"
    }
   },
   "outputs": [],
   "source": [
    "plt.figure()\n",
    "plt.plot(range(1000),lrs, color='red')\n",
    "plt.xlabel('Number of epochs')\n",
    "plt.ylabel('Learning rate value')\n",
    "plt.show()"
   ]
  },
  {
   "cell_type": "markdown",
   "metadata": {},
   "source": [
    "## Test Classification"
   ]
  },
  {
   "cell_type": "code",
   "execution_count": null,
   "metadata": {
    "execution": {
     "iopub.execute_input": "2021-09-21T12:07:19.175945Z",
     "iopub.status.busy": "2021-09-21T12:07:19.175595Z",
     "iopub.status.idle": "2021-09-21T12:07:19.363059Z",
     "shell.execute_reply": "2021-09-21T12:07:19.361856Z",
     "shell.execute_reply.started": "2021-09-21T12:07:19.175917Z"
    }
   },
   "outputs": [],
   "source": [
    "model = TripletLearner(base_channels=32)\n",
    "model.load_state_dict(torch.load(\"../models/without_jitter_and_p.pth\",map_location=torch.device('cpu')))\n",
    "model = model.to(device)\n",
    "model.eval()"
   ]
  },
  {
   "cell_type": "code",
   "execution_count": null,
   "metadata": {
    "execution": {
     "iopub.status.busy": "2021-09-21T12:07:19.363878Z",
     "iopub.status.idle": "2021-09-21T12:07:19.364351Z"
    }
   },
   "outputs": [],
   "source": [
    "# Build THRESHOLD (for details, see the notebook \"determine_threshold\")\n",
    "\n",
    "gen = TripletGenerator(df_valid, all_imgs, BATCH_VALID_SIZE, device, model, margin)\n",
    "loader = DataLoader(gen, batch_size=None, shuffle=True)\n",
    "\n",
    "list_loader = []\n",
    "for _ in range(10):\n",
    "    list_loader.extend(list(loader))\n",
    "\n",
    "pos_dist, neg_dist, _ = compute_distances(list_loader, device, model) #loader\n",
    "\n",
    "y_pos = [1 for _ in range(len(pos_dist))]\n",
    "y_neg = [0 for _ in range(len(neg_dist))]\n",
    "\n",
    "y = y_pos + y_neg\n",
    "X = pos_dist + neg_dist\n",
    "Xmoins = np.array(X)*(-1)\n",
    "Xlogistic = np.array(Xmoins).reshape(-1,1)\n",
    "\n",
    "clf = LogisticRegression(random_state=0).fit(Xlogistic, y)\n",
    "\n",
    "THRESHOLD = (clf.intercept_/clf.coef_)[0,0]\n",
    "print(\"THRESHOLD with logistic regression:\", THRESHOLD)"
   ]
  },
  {
   "cell_type": "markdown",
   "metadata": {},
   "source": [
    "### Test random pairs"
   ]
  },
  {
   "cell_type": "code",
   "execution_count": null,
   "metadata": {
    "execution": {
     "iopub.status.busy": "2021-09-21T12:07:19.36515Z",
     "iopub.status.idle": "2021-09-21T12:07:19.365624Z"
    }
   },
   "outputs": [],
   "source": [
    "# Print a random pair classified as \"different\"\n",
    "\n",
    "print(\"ARE SUPPOSED TO BE ALWAYS DIFFERENT\")\n",
    "\n",
    "Xa, Xp, Xn = next(iter(loader))\n",
    "\n",
    "rdm = random.randint(0,len(Xa)-1)\n",
    "\n",
    "bin = authentification_img(Xa[rdm], Xn[rdm], device, model, THRESHOLD, verbose = True)\n",
    "\n",
    "print_pair(Xa[rdm], Xn[rdm])\n",
    "\n",
    "if bin==1 :\n",
    "    print(\"Same person\")\n",
    "else :\n",
    "    print(\"Different people\")"
   ]
  },
  {
   "cell_type": "code",
   "execution_count": null,
   "metadata": {
    "execution": {
     "iopub.status.busy": "2021-09-21T12:07:19.366337Z",
     "iopub.status.idle": "2021-09-21T12:07:19.366797Z"
    }
   },
   "outputs": [],
   "source": [
    "# Print a random pair classified as \"same\"\n",
    "\n",
    "print(\"ARE SUPPOSED TO BE ALWAYS THE SAME\")\n",
    "\n",
    "Xa, Xp, Xn = next(iter(loader))\n",
    "\n",
    "rdm = random.randint(0,len(Xa)-1)\n",
    "\n",
    "bin = authentification_img(Xa[rdm], Xp[rdm], device, model, THRESHOLD, verbose = True)\n",
    "\n",
    "print_pair(Xa[rdm], Xp[rdm])\n",
    "\n",
    "if bin==1 :\n",
    "    print(\"Prediction: Same person\")\n",
    "else :\n",
    "    print(\"Prediction: Different people\")"
   ]
  },
  {
   "cell_type": "markdown",
   "metadata": {},
   "source": [
    "### Print extremes errors"
   ]
  },
  {
   "cell_type": "code",
   "execution_count": null,
   "metadata": {
    "execution": {
     "iopub.status.busy": "2021-09-21T12:07:19.367608Z",
     "iopub.status.idle": "2021-09-21T12:07:19.368156Z"
    }
   },
   "outputs": [],
   "source": [
    "len(list_loader), len(list_loader[0]), list_loader[0][0].shape"
   ]
  },
  {
   "cell_type": "code",
   "execution_count": null,
   "metadata": {
    "execution": {
     "iopub.status.busy": "2021-09-21T12:07:19.36896Z",
     "iopub.status.idle": "2021-09-21T12:07:19.369516Z"
    }
   },
   "outputs": [],
   "source": [
    "# Reorganize images to fetch them more easily\n",
    "\n",
    "img_classif = []\n",
    "for i in range(3):\n",
    "    img_classif.append(torch.cat([list_loader[j][i] for j in range(len(list_loader))], 0))"
   ]
  },
  {
   "cell_type": "code",
   "execution_count": null,
   "metadata": {
    "execution": {
     "iopub.status.busy": "2021-09-21T12:07:19.370339Z",
     "iopub.status.idle": "2021-09-21T12:07:19.370863Z"
    }
   },
   "outputs": [],
   "source": [
    "len(img_classif), img_classif[0].shape"
   ]
  },
  {
   "cell_type": "code",
   "execution_count": null,
   "metadata": {
    "execution": {
     "iopub.status.busy": "2021-09-21T12:07:19.37167Z",
     "iopub.status.idle": "2021-09-21T12:07:19.372203Z"
    }
   },
   "outputs": [],
   "source": [
    "print(len(img_classif))\n",
    "print(img_classif[0].shape)"
   ]
  },
  {
   "cell_type": "code",
   "execution_count": null,
   "metadata": {
    "execution": {
     "iopub.status.busy": "2021-09-21T12:07:19.373043Z",
     "iopub.status.idle": "2021-09-21T12:07:19.37357Z"
    }
   },
   "outputs": [],
   "source": [
    "# Positive pair with hight and low distance\n",
    "\n",
    "pos_dist2 = pos_dist.copy()\n",
    "pos_dist3 = pos_dist.copy()\n",
    "\n",
    "dist_max_list, id_max_list = [], []\n",
    "dist_min_list, id_min_list = [], []\n",
    "\n",
    "for _ in range(5) :\n",
    "    \n",
    "    dist_max, id_max = max(pos_dist2), np.argmax(np.array(pos_dist2))\n",
    "    dist_max_list.append(dist_max)\n",
    "    id_max_list.append(id_max)\n",
    "    pos_dist2.pop(id_max)\n",
    "    \n",
    "    dist_min, id_min = min(pos_dist3), np.argmin(np.array(pos_dist3))\n",
    "    dist_min_list.append(dist_min)\n",
    "    id_min_list.append(id_min)\n",
    "    pos_dist3.pop(id_min)"
   ]
  },
  {
   "cell_type": "code",
   "execution_count": null,
   "metadata": {
    "execution": {
     "iopub.status.busy": "2021-09-21T12:07:19.374387Z",
     "iopub.status.idle": "2021-09-21T12:07:19.374903Z"
    }
   },
   "outputs": [],
   "source": [
    "print(\"SAME IDENTITY WITH HIGH DISTANCES\")\n",
    "print(\"MORE LIKELY TO BE FALSE NEGATIVES\")\n",
    "#  TRUE SAME ID WITH HIGH PREDICTED DISTANCES\n",
    "\n",
    "for dist,id_img in zip(dist_max_list,id_max_list):\n",
    "    print(\"Distance:\", dist)\n",
    "    anchor = img_classif[0][id_img]\n",
    "    positive = img_classif[1][id_img]\n",
    "    print_pair(anchor, positive)"
   ]
  },
  {
   "cell_type": "code",
   "execution_count": null,
   "metadata": {
    "execution": {
     "iopub.status.busy": "2021-09-21T12:07:19.375742Z",
     "iopub.status.idle": "2021-09-21T12:07:19.376269Z"
    }
   },
   "outputs": [],
   "source": [
    "print(\"SAME IDENTITY WITH LOW DISTANCES\")\n",
    "print(\"MORE LIKELY TO BE TRUE POSITIVES\")\n",
    "\n",
    "for dist,id_img in zip(dist_min_list,id_min_list):\n",
    "    print(\"Distance:\", dist)\n",
    "    anchor = img_classif[0][id_img]\n",
    "    positive = img_classif[1][id_img]\n",
    "    print_pair(anchor, positive)"
   ]
  },
  {
   "cell_type": "code",
   "execution_count": null,
   "metadata": {
    "execution": {
     "iopub.status.busy": "2021-09-21T12:07:19.377099Z",
     "iopub.status.idle": "2021-09-21T12:07:19.377622Z"
    }
   },
   "outputs": [],
   "source": [
    "# Negative pair with hight and low distance\n",
    "\n",
    "neg_dist2 = neg_dist.copy()\n",
    "neg_dist3 = neg_dist.copy()\n",
    "\n",
    "dist_max_list, id_max_list = [], []\n",
    "dist_min_list, id_min_list = [], []\n",
    "\n",
    "for _ in range(5) :\n",
    "    \n",
    "    dist_max, id_max = max(neg_dist2), np.argmax(np.array(neg_dist2))\n",
    "    dist_max_list.append(dist_max)\n",
    "    id_max_list.append(id_max)\n",
    "    neg_dist2.pop(id_max)\n",
    "    \n",
    "    dist_min, id_min = min(neg_dist3), np.argmin(np.array(neg_dist3))\n",
    "    dist_min_list.append(dist_min)\n",
    "    id_min_list.append(id_min)\n",
    "    neg_dist3.pop(id_min)"
   ]
  },
  {
   "cell_type": "code",
   "execution_count": null,
   "metadata": {
    "execution": {
     "iopub.status.busy": "2021-09-21T12:07:19.378421Z",
     "iopub.status.idle": "2021-09-21T12:07:19.378956Z"
    }
   },
   "outputs": [],
   "source": [
    "print(\"DIFFERENT IDENTITIES WITH LOW DISTANCES\")\n",
    "print(\"MORE LIKELY TO BE FALSE POSITIVES\")\n",
    "\n",
    "for dist,id_img in zip(dist_min_list,id_min_list):\n",
    "    print(\"Distance:\", dist)\n",
    "    anchor = img_classif[0][id_img]\n",
    "    negative = img_classif[2][id_img]\n",
    "    print_pair(anchor, negative)"
   ]
  },
  {
   "cell_type": "code",
   "execution_count": null,
   "metadata": {
    "execution": {
     "iopub.status.busy": "2021-09-21T12:07:19.379767Z",
     "iopub.status.idle": "2021-09-21T12:07:19.380298Z"
    }
   },
   "outputs": [],
   "source": [
    "print(\"DIFFERENT IDENTITIES WITH HIGH DISTANCES\")\n",
    "print(\"MORE LIKELY TO BE TRUE NEGATIVES\")\n",
    "\n",
    "for dist,id_img in zip(dist_max_list,id_max_list):\n",
    "    print(\"Distance:\", dist)\n",
    "    anchor = img_classif[0][id_img]\n",
    "    negative = img_classif[2][id_img]\n",
    "    print_pair(anchor, negative)"
   ]
  },
  {
   "cell_type": "markdown",
   "metadata": {},
   "source": [
    "### Fairness"
   ]
  },
  {
   "cell_type": "code",
   "execution_count": null,
   "metadata": {
    "execution": {
     "iopub.status.busy": "2021-09-21T12:07:19.381118Z",
     "iopub.status.idle": "2021-09-21T12:07:19.381648Z"
    }
   },
   "outputs": [],
   "source": [
    "# Build THRESHOLD (for details, see the notebook \"determine_threshold\")\n",
    "\n",
    "gen = TripletGenerator(df_valid, all_imgs, BATCH_VALID_SIZE, device, model, margin)\n",
    "loader = DataLoader(gen, batch_size=None, shuffle=True)\n",
    "\n",
    "list_loader = []\n",
    "for _ in range(10):\n",
    "    list_loader.extend(list(loader))\n",
    "\n",
    "pos_dist, neg_dist, _ = compute_distances(list_loader, device, model) #loader\n",
    "\n",
    "y_pos = [1 for _ in range(len(pos_dist))]\n",
    "y_neg = [0 for _ in range(len(neg_dist))]\n",
    "\n",
    "y = y_pos + y_neg\n",
    "X = pos_dist + neg_dist\n",
    "Xmoins = np.array(X)*(-1)\n",
    "Xlogistic = np.array(Xmoins).reshape(-1,1)\n",
    "\n",
    "clf = LogisticRegression(random_state=0).fit(Xlogistic, y)\n",
    "\n",
    "THRESHOLD = (clf.intercept_/clf.coef_)[0,0]\n",
    "print(\"THRESHOLD with logistic regression:\", THRESHOLD)"
   ]
  },
  {
   "cell_type": "code",
   "execution_count": null,
   "metadata": {
    "execution": {
     "iopub.status.busy": "2021-09-21T12:07:19.382452Z",
     "iopub.status.idle": "2021-09-21T12:07:19.382962Z"
    }
   },
   "outputs": [],
   "source": [
    "gen = TripletGenerator(df_test, all_imgs, BATCH_TEST_SIZE, device, model, margin, return_id=True)\n",
    "tic = perf_counter()\n",
    "df_fairness = build_df_fairness(all_imgs, df_test, gen, 20, device, model, THRESHOLD)\n",
    "toc = perf_counter()\n",
    "print(f\"DataFrame creation: {((toc - tic)/60):.1f} min\")"
   ]
  },
  {
   "cell_type": "code",
   "execution_count": null,
   "metadata": {},
   "outputs": [],
   "source": [
    "my_img = all_imgs[df_fairness[df_fairness.A_Male==0].id_A.iloc[3]]"
   ]
  },
  {
   "cell_type": "code",
   "execution_count": null,
   "metadata": {},
   "outputs": [],
   "source": [
    "print_img(from_tensor_to_numpy(my_img)/255)"
   ]
  },
  {
   "cell_type": "code",
   "execution_count": null,
   "metadata": {},
   "outputs": [],
   "source": [
    "my_img = all_imgs[list(df_fairness[df_fairness.A_Male==0].id_A)]"
   ]
  },
  {
   "cell_type": "code",
   "execution_count": null,
   "metadata": {},
   "outputs": [],
   "source": [
    "for k in range(10):\n",
    "    print_img(from_tensor_to_numpy(my_img[k])/255)"
   ]
  },
  {
   "cell_type": "markdown",
   "metadata": {},
   "source": [
    "## My images"
   ]
  },
  {
   "cell_type": "code",
   "execution_count": null,
   "metadata": {
    "execution": {
     "iopub.status.busy": "2021-09-21T12:07:19.383802Z",
     "iopub.status.idle": "2021-09-21T12:07:19.384329Z"
    }
   },
   "outputs": [],
   "source": [
    "device = torch.device(\"cuda:0\" if torch.cuda.is_available() else \"cpu\")\n",
    "\n",
    "model = TripletLearner(base_channels=32, dropout=0)\n",
    "model.to(device)\n",
    "\n",
    "lr = 1e-3/2 # 1e-3/2\n",
    "optimizer = optim.Adam(model.parameters(), lr=lr)\n",
    "scheduler = optim.lr_scheduler.MultiStepLR(optimizer, milestones=[300,400,500,600,700,800,900], gamma=0.5)\n",
    "\n",
    "margin = 0.2\n",
    "criterion = TripletLoss(margin)\n",
    "criterion_test = TripletLossRaw(margin)\n",
    "\n",
    "epochs = 1000"
   ]
  },
  {
   "cell_type": "code",
   "execution_count": null,
   "metadata": {
    "execution": {
     "iopub.status.busy": "2021-09-21T12:07:19.385153Z",
     "iopub.status.idle": "2021-09-21T12:07:19.385681Z"
    }
   },
   "outputs": [],
   "source": [
    "model = TripletLearner(base_channels=32)\n",
    "model.load_state_dict(torch.load(\"./models/without_jitter_and_p.pth\",map_location=torch.device('cpu')))\n",
    "model = model.to(device)\n",
    "model.eval()"
   ]
  },
  {
   "cell_type": "code",
   "execution_count": null,
   "metadata": {
    "execution": {
     "iopub.status.busy": "2021-09-21T12:07:19.386482Z",
     "iopub.status.idle": "2021-09-21T12:07:19.387014Z"
    }
   },
   "outputs": [],
   "source": [
    "MY_IMGS_PATH = '../my_imgs/'"
   ]
  },
  {
   "cell_type": "code",
   "execution_count": null,
   "metadata": {
    "execution": {
     "iopub.status.busy": "2021-09-21T12:07:19.387814Z",
     "iopub.status.idle": "2021-09-21T12:07:19.388343Z"
    }
   },
   "outputs": [],
   "source": [
    "df_my_imgs, all_my_imgs = create_dataframe(MY_IMGS_PATH)"
   ]
  },
  {
   "cell_type": "code",
   "execution_count": null,
   "metadata": {
    "execution": {
     "iopub.status.busy": "2021-09-21T12:07:19.38916Z",
     "iopub.status.idle": "2021-09-21T12:07:19.389694Z"
    }
   },
   "outputs": [],
   "source": [
    "print_img(from_tensor_to_numpy(all_my_imgs[0])/255)"
   ]
  },
  {
   "cell_type": "code",
   "execution_count": null,
   "metadata": {
    "execution": {
     "iopub.status.busy": "2021-09-21T12:07:19.390493Z",
     "iopub.status.idle": "2021-09-21T12:07:19.391045Z"
    }
   },
   "outputs": [],
   "source": [
    "# for i in range(len(all_my_imgs)):\n",
    "#     print_img(from_tensor_to_numpy(all_my_imgs[i])/255)"
   ]
  },
  {
   "cell_type": "code",
   "execution_count": null,
   "metadata": {
    "execution": {
     "iopub.status.busy": "2021-09-21T12:07:19.608184Z",
     "iopub.status.idle": "2021-09-21T12:07:19.608978Z"
    }
   },
   "outputs": [],
   "source": [
    "df_my_imgs"
   ]
  },
  {
   "cell_type": "code",
   "execution_count": null,
   "metadata": {
    "execution": {
     "iopub.status.busy": "2021-09-21T12:07:19.610049Z",
     "iopub.status.idle": "2021-09-21T12:07:19.610608Z"
    }
   },
   "outputs": [],
   "source": [
    "print_img(from_tensor_to_numpy(all_my_imgs[19]/255))"
   ]
  },
  {
   "cell_type": "code",
   "execution_count": null,
   "metadata": {
    "execution": {
     "iopub.status.busy": "2021-09-21T12:07:19.611439Z",
     "iopub.status.idle": "2021-09-21T12:07:19.611978Z"
    }
   },
   "outputs": [],
   "source": [
    "gen = TripletGenerator(df_my_imgs, all_my_imgs, 128, device, model, margin)\n",
    "loader = DataLoader(gen, batch_size=None, shuffle=True)"
   ]
  },
  {
   "cell_type": "code",
   "execution_count": null,
   "metadata": {
    "execution": {
     "iopub.status.busy": "2021-09-21T12:07:19.612781Z",
     "iopub.status.idle": "2021-09-21T12:07:19.61332Z"
    }
   },
   "outputs": [],
   "source": [
    "Xa, Xp, Xn = next(iter(loader))\n",
    "\n",
    "rdm = random.randint(0,len(Xa)-1)\n",
    "\n",
    "bin = authentification_img(Xa[rdm], Xp[rdm], device, model, THRESHOLD, verbose = True)\n",
    "\n",
    "if bin==1 :\n",
    "    print(\"Prediction: Same person\")\n",
    "else :\n",
    "    print(\"Prediction: Different people\")\n",
    "    \n",
    "print_pair(Xa[rdm], Xp[rdm])"
   ]
  },
  {
   "cell_type": "code",
   "execution_count": null,
   "metadata": {
    "execution": {
     "iopub.status.busy": "2021-09-21T12:07:19.614142Z",
     "iopub.status.idle": "2021-09-21T12:07:19.614673Z"
    }
   },
   "outputs": [],
   "source": [
    "Xa, Xp, Xn = next(iter(loader))\n",
    "\n",
    "rdm = random.randint(0,len(Xa)-1)\n",
    "\n",
    "bin = authentification_img(Xa[rdm], Xn[rdm], device, model, THRESHOLD, verbose = True)\n",
    "\n",
    "if bin==1 :\n",
    "    print(\"Prediction: Same person\")\n",
    "else :\n",
    "    print(\"Prediction: Different people\")\n",
    "    \n",
    "print_pair(Xa[rdm], Xn[rdm])"
   ]
  },
  {
   "cell_type": "code",
   "execution_count": null,
   "metadata": {
    "execution": {
     "iopub.status.busy": "2021-09-21T12:07:19.615481Z",
     "iopub.status.idle": "2021-09-21T12:07:19.616032Z"
    }
   },
   "outputs": [],
   "source": [
    "def print_all_pairs_with_distances(df, all_imgs):\n",
    "    list_paths = list(df.index)\n",
    "    pos_pairs = list(itertools.combinations(list_paths,2))\n",
    "    random.shuffle(pos_pairs)\n",
    "    \n",
    "    for pair in range(len(list_paths)):\n",
    "        i,j = pos_pairs[pair]\n",
    "        img1 = all_imgs[i]\n",
    "        img2 = all_imgs[j]\n",
    "        bin = authentification_img(img1, img2, device, model, THRESHOLD, verbose = True)\n",
    "\n",
    "        if bin==1 :\n",
    "            print(\"Prediction: Same person\")\n",
    "        else :\n",
    "            print(\"Prediction: Different people\")\n",
    "            \n",
    "        print_pair(img1, img2)"
   ]
  },
  {
   "cell_type": "code",
   "execution_count": null,
   "metadata": {
    "execution": {
     "iopub.status.busy": "2021-09-21T12:07:19.616848Z",
     "iopub.status.idle": "2021-09-21T12:07:19.617412Z"
    }
   },
   "outputs": [],
   "source": [
    "print_all_pairs_with_distances(df_my_imgs[df_my_imgs.Classid==0], all_my_imgs)"
   ]
  },
  {
   "cell_type": "code",
   "execution_count": null,
   "metadata": {
    "execution": {
     "iopub.status.busy": "2021-09-21T12:07:19.618218Z",
     "iopub.status.idle": "2021-09-21T12:07:19.618751Z"
    }
   },
   "outputs": [],
   "source": [
    "print_all_pairs_with_distances(df_my_imgs[df_my_imgs.Classid==1], all_my_imgs)"
   ]
  },
  {
   "cell_type": "code",
   "execution_count": null,
   "metadata": {
    "execution": {
     "iopub.status.busy": "2021-09-21T12:07:19.619563Z",
     "iopub.status.idle": "2021-09-21T12:07:19.6201Z"
    }
   },
   "outputs": [],
   "source": [
    "print_all_pairs_with_distances(df_my_imgs[df_my_imgs.Classid==2], all_my_imgs)"
   ]
  },
  {
   "cell_type": "markdown",
   "metadata": {},
   "source": [
    "### Precision with my images"
   ]
  },
  {
   "cell_type": "code",
   "execution_count": null,
   "metadata": {
    "execution": {
     "iopub.status.busy": "2021-09-21T12:07:19.620876Z",
     "iopub.status.idle": "2021-09-21T12:07:19.621429Z"
    }
   },
   "outputs": [],
   "source": [
    "list_loader = []\n",
    "for _ in range(50):\n",
    "    list_loader.extend(list(loader))"
   ]
  },
  {
   "cell_type": "code",
   "execution_count": null,
   "metadata": {
    "execution": {
     "iopub.status.busy": "2021-09-21T12:07:19.622241Z",
     "iopub.status.idle": "2021-09-21T12:07:19.622774Z"
    }
   },
   "outputs": [],
   "source": [
    "pos_dist, neg_dist, _ = compute_distances(list_loader, device, model) #loader"
   ]
  },
  {
   "cell_type": "code",
   "execution_count": null,
   "metadata": {
    "execution": {
     "iopub.status.busy": "2021-09-21T12:07:19.623562Z",
     "iopub.status.idle": "2021-09-21T12:07:19.624096Z"
    }
   },
   "outputs": [],
   "source": [
    "print_hist_dist_zoom(pos_dist,neg_dist)"
   ]
  },
  {
   "cell_type": "code",
   "execution_count": null,
   "metadata": {
    "execution": {
     "iopub.status.busy": "2021-09-21T12:07:19.624875Z",
     "iopub.status.idle": "2021-09-21T12:07:19.625412Z"
    }
   },
   "outputs": [],
   "source": [
    "y_pos = [1 for _ in range(len(pos_dist))]\n",
    "y_neg = [0 for _ in range(len(neg_dist))]\n",
    "\n",
    "y = y_pos + y_neg\n",
    "X = pos_dist + neg_dist\n",
    "\n",
    "Xmoins = np.array(X)*(-1)\n",
    "\n",
    "fpr_dist, tpr_dist, thresholds_dist = roc_curve(y, Xmoins)\n",
    "roc_auc_dist = auc(fpr_dist,tpr_dist)\n",
    "\n",
    "precision_dist, recall_dist, thresholds_recall_dist = precision_recall_curve(y, Xmoins)\n",
    "auc_s_dist = auc(recall_dist, precision_dist)"
   ]
  },
  {
   "cell_type": "code",
   "execution_count": null,
   "metadata": {
    "execution": {
     "iopub.status.busy": "2021-09-21T12:07:19.626211Z",
     "iopub.status.idle": "2021-09-21T12:07:19.626742Z"
    }
   },
   "outputs": [],
   "source": [
    "print_roc(fpr_dist, tpr_dist, roc_auc_dist)\n",
    "print_prec_recall(precision_dist, recall_dist, auc_s_dist)"
   ]
  },
  {
   "cell_type": "code",
   "execution_count": null,
   "metadata": {
    "execution": {
     "iopub.status.busy": "2021-09-21T12:07:19.627537Z",
     "iopub.status.idle": "2021-09-21T12:07:19.628072Z"
    }
   },
   "outputs": [],
   "source": [
    "# Predict classification from THRESHOLD\n",
    "\n",
    "y_pred_pos_bins, y_pred_neg_bins = predict(list_loader, device, model, THRESHOLD) #loader\n",
    "y_pred_bins = y_pred_pos_bins + y_pred_neg_bins\n",
    "triplet_accuracy = triplet_acc(list_loader, device, model)\n",
    "\n",
    "print(\"Confusion Matrix Total\")\n",
    "print(confusion_matrix(y, y_pred_bins))\n",
    "print(\"\\n\")\n",
    "print(\"Accuracy score:\",accuracy_score(y, y_pred_bins))\n",
    "print(\"Triplets where d(A,P) < d(A,N): \",round(100*triplet_accuracy,1),\"%\")"
   ]
  },
  {
   "cell_type": "markdown",
   "metadata": {},
   "source": [
    "### Precision with test images"
   ]
  },
  {
   "cell_type": "code",
   "execution_count": null,
   "metadata": {
    "execution": {
     "iopub.status.busy": "2021-09-21T12:07:19.628853Z",
     "iopub.status.idle": "2021-09-21T12:07:19.6294Z"
    }
   },
   "outputs": [],
   "source": [
    "gen = TripletGenerator(df_test, all_imgs, BATCH_TEST_SIZE, device, model, margin)\n",
    "loader = DataLoader(gen, batch_size=None, shuffle=True)\n",
    "\n",
    "list_loader = []\n",
    "for _ in range(10):\n",
    "    list_loader.extend(list(loader))\n",
    "\n",
    "pos_dist, neg_dist, _ = compute_distances(list_loader, device, model) #loader\n",
    "\n",
    "y_pos = [1 for _ in range(len(pos_dist))]\n",
    "y_neg = [0 for _ in range(len(neg_dist))]\n",
    "\n",
    "y = y_pos + y_neg\n",
    "X = pos_dist + neg_dist\n",
    "Xmoins = np.array(X)*(-1)\n",
    "\n",
    "fpr_dist, tpr_dist, thresholds_dist = roc_curve(y, Xmoins)\n",
    "roc_auc_dist = auc(fpr_dist,tpr_dist)\n",
    "\n",
    "precision_dist, recall_dist, thresholds_recall_dist = precision_recall_curve(y, Xmoins)\n",
    "auc_s_dist = auc(recall_dist, precision_dist)"
   ]
  },
  {
   "cell_type": "code",
   "execution_count": null,
   "metadata": {
    "execution": {
     "iopub.status.busy": "2021-09-21T12:07:19.630195Z",
     "iopub.status.idle": "2021-09-21T12:07:19.630719Z"
    }
   },
   "outputs": [],
   "source": [
    "print_hist_dist_zoom(pos_dist,neg_dist)"
   ]
  },
  {
   "cell_type": "code",
   "execution_count": null,
   "metadata": {
    "execution": {
     "iopub.status.busy": "2021-09-21T12:07:19.631509Z",
     "iopub.status.idle": "2021-09-21T12:07:19.632045Z"
    }
   },
   "outputs": [],
   "source": [
    "print_roc(fpr_dist, tpr_dist, roc_auc_dist)\n",
    "print_prec_recall(precision_dist, recall_dist, auc_s_dist)"
   ]
  },
  {
   "cell_type": "code",
   "execution_count": null,
   "metadata": {
    "execution": {
     "iopub.status.busy": "2021-09-21T12:07:19.632821Z",
     "iopub.status.idle": "2021-09-21T12:07:19.633352Z"
    }
   },
   "outputs": [],
   "source": [
    "# Predict classification from THRESHOLD\n",
    "\n",
    "y_pred_pos_bins, y_pred_neg_bins = predict(list_loader, device, model, THRESHOLD) #loader\n",
    "y_pred_bins = y_pred_pos_bins + y_pred_neg_bins\n",
    "triplet_accuracy = triplet_acc(list_loader, device, model)\n",
    "\n",
    "print(\"Confusion Matrix Total\")\n",
    "print(confusion_matrix(y, y_pred_bins))\n",
    "print(\"\\n\")\n",
    "print(\"Accuracy score:\",accuracy_score(y, y_pred_bins))\n",
    "print(\"Triplets where d(A,P) < d(A,N): \",round(100*triplet_accuracy,1),\"%\")"
   ]
  },
  {
   "cell_type": "code",
   "execution_count": null,
   "metadata": {},
   "outputs": [],
   "source": []
  },
  {
   "cell_type": "code",
   "execution_count": null,
   "metadata": {},
   "outputs": [],
   "source": []
  }
 ],
 "metadata": {
  "kernelspec": {
   "display_name": "Python 3 (ipykernel)",
   "language": "python",
   "name": "python3"
  },
  "language_info": {
   "codemirror_mode": {
    "name": "ipython",
    "version": 3
   },
   "file_extension": ".py",
   "mimetype": "text/x-python",
   "name": "python",
   "nbconvert_exporter": "python",
   "pygments_lexer": "ipython3",
   "version": "3.9.12"
  }
 },
 "nbformat": 4,
 "nbformat_minor": 4
}
